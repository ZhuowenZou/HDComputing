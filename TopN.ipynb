{
 "cells": [
  {
   "cell_type": "markdown",
   "metadata": {},
   "source": [
    "# TopN model + mask generation:\n",
    "## Purpose: \n",
    "## 1. validate that baseline non-linear model has very good topN accuracy\n",
    "## 2. create masking algorithm for distinguishing specificly top 2 classes \n",
    "### a. one mask for each pair - O(nClasses^2) masks\n",
    "### b. one mask for each class - nClasses masks"
   ]
  },
  {
   "cell_type": "code",
   "execution_count": 1,
   "metadata": {},
   "outputs": [],
   "source": [
    "%load_ext autoreload\n",
    "%autoreload 2"
   ]
  },
  {
   "cell_type": "code",
   "execution_count": 2,
   "metadata": {},
   "outputs": [],
   "source": [
    "import sklearn\n",
    "from sklearn.discriminant_analysis import LinearDiscriminantAnalysis\n",
    "from sklearn.decomposition import PCA\n",
    "import time\n",
    "import sys\n",
    "import math\n",
    "import numpy as np\n",
    "import random\n",
    "import joblib\n",
    "from scipy import stats\n",
    "from tqdm import tqdm_notebook\n",
    "import matplotlib.pyplot as plt\n",
    "import copy\n",
    "\n",
    "import Config\n",
    "from Config import *\n",
    "import Dataloader as DL\n",
    "import HD_basis as HDB\n",
    "import HD_encoder as HDE\n",
    "import HD_classifier as HDC\n"
   ]
  },
  {
   "cell_type": "code",
   "execution_count": 3,
   "metadata": {},
   "outputs": [],
   "source": [
    "# train data. with retrain\n",
    "def train(hdc, traindata, trainlabels, testdata, testlabels, param = Config.config):\n",
    "    train_accs = []\n",
    "    test_accs = []\n",
    "    for _ in tqdm_notebook(range(param[\"epochs\"]), desc='epochs'):\n",
    "        train_accs.append(hdc.fit(traindata, trainlabels, param))\n",
    "        test_accs.append(hdc.test(testdata, testlabels, param[\"kernel\"]))\n",
    "        if len(train_accs) % 5 == 1:\n",
    "            print(\"Train: %f \\t \\t Test: %f\"%(train_accs[-1], test_accs[-1]))\n",
    "        if train_accs[-1] == 1:\n",
    "            print(\"Train: %f \\t \\t Test: %f\"%(train_accs[-1], test_accs[-1]))\n",
    "            break\n",
    "    return np.asarray(train_accs), np.asarray(test_accs)"
   ]
  },
  {
   "cell_type": "code",
   "execution_count": 4,
   "metadata": {},
   "outputs": [],
   "source": [
    "# train data. with retrain\n",
    "def train_masks(hdc, traindata, trainlabels, testdata, testlabels, param = Config.config):\n",
    "    train_accs = []\n",
    "    test_accs = []\n",
    "    \n",
    "    for _ in range(5):\n",
    "        train_accs.append(hdc.fit(traindata, trainlabels, param))\n",
    "        test_accs.append(hdc.test(testdata, testlabels, param[\"kernel\"]))\n",
    "        if len(train_accs) % 5 == 1:\n",
    "            print(\"Train: %f \\t \\t Test: %f\"%(train_accs[-1], test_accs[-1]))\n",
    "        if train_accs[-1] == 1:\n",
    "            print(\"Train: %f \\t \\t Test: %f\"%(train_accs[-1], test_accs[-1]))\n",
    "            break\n",
    "    \n",
    "    \n",
    "    print(\"Train memasks\")\n",
    "    for _ in tqdm_notebook(range(param[\"epochs\"]), desc='epochs'):\n",
    "        train_accs.append(hdc.fit_mask(traindata, trainlabels, param))\n",
    "        test_accs.append(hdc.test(testdata, testlabels, param[\"kernel\"]))\n",
    "        if len(train_accs) % 5 == 1:\n",
    "            print(\"Train: %f \\t \\t Test: %f\"%(train_accs[-1], test_accs[-1]))\n",
    "        if train_accs[-1] == 1:\n",
    "            print(\"Train: %f \\t \\t Test: %f\"%(train_accs[-1], test_accs[-1]))\n",
    "            break\n",
    "    return np.asarray(train_accs), np.asarray(test_accs)"
   ]
  },
  {
   "cell_type": "code",
   "execution_count": 5,
   "metadata": {},
   "outputs": [
    {
     "name": "stderr",
     "output_type": "stream",
     "text": [
      "Loading dataset UCIHAR from UCIHAR\n",
      "Loading train data... train data of shape (6213, 561) loaded\n",
      "Loading test data...  test  data of shape (1554, 561) loaded\n",
      "Data Loaded. Num of features = 561 Num of Classes = 12"
     ]
    }
   ],
   "source": [
    "dl = DL.Dataloader()\n",
    "nFeatures, nClasses, traindata, trainlabels, testdata, testlabels = dl.getParam()\n"
   ]
  },
  {
   "cell_type": "code",
   "execution_count": 6,
   "metadata": {},
   "outputs": [],
   "source": [
    "#Data shuffling \n",
    "shuf_train = np.random.permutation(len(traindata))\n",
    "traindata = traindata[shuf_train]\n",
    "trainlabels = trainlabels[shuf_train]\n",
    "\n",
    "shuf_test = np.random.permutation(len(testdata))\n",
    "testdata = testdata[shuf_test]\n",
    "testlabels = testlabels[shuf_test]"
   ]
  },
  {
   "cell_type": "code",
   "execution_count": 7,
   "metadata": {},
   "outputs": [],
   "source": [
    "traindata = traindata[:10000]\n",
    "testdata = testdata[:5000]"
   ]
  },
  {
   "cell_type": "code",
   "execution_count": 8,
   "metadata": {},
   "outputs": [
    {
     "name": "stdout",
     "output_type": "stream",
     "text": [
      "{'data_location': '../dataset/', 'directory': 'UCIHAR', 'dataset': 'UCIHAR', 'D': 100, 'vector': 'Gaussian', 'mu': 0, 'sigma': 1, 'binarize': 0, 'lr': 1, 'sparse': 0, 's': 0.1, 'binaryModel': 0, 'checkpoints': False, 'kernel': <Kernel_T.COS: 1>, 'width': None, 'height': None, 'nLayers': 5, 'uniform_dim': 1, 'uniform_ker': 1, 'dArr': None, 'k': 3, 'kArr': None, 'one_shot': 0, 'data_percentages': [1.0, 0.01, 0.02, 0.05, 0.1, 0.2, 0.5], 'train_percent': 1, 'dropout': 0, 'drop_percentages': [0, 0.1, 0.2, 0.5], 'dropout_rate': 0, 'update_type': <Update_T.FULL: 1>, 'iter_per_trial': 3, 'iter_per_encoding': 5, 'epochs': 80, 'nFeatures': 561, 'nClasses': 12}\n"
     ]
    }
   ],
   "source": [
    "param = Config.config\n",
    "param[\"nFeatures\"] = nFeatures\n",
    "param[\"nClasses\"] = nClasses\n",
    "print(param)"
   ]
  },
  {
   "cell_type": "markdown",
   "metadata": {},
   "source": [
    "# Sample code to train a model"
   ]
  },
  {
   "cell_type": "code",
   "execution_count": 15,
   "metadata": {},
   "outputs": [
    {
     "name": "stderr",
     "output_type": "stream",
     "text": [
      "Generating vanilla HD basis of shape... "
     ]
    },
    {
     "data": {
      "application/vnd.jupyter.widget-view+json": {
       "model_id": "87b2ef7a80b44773ad7a331e2364f9d9",
       "version_major": 2,
       "version_minor": 0
      },
      "text/plain": [
       "HBox(children=(IntProgress(value=0, description='vectors', max=200, style=ProgressStyle(description_width='ini…"
      ]
     },
     "metadata": {},
     "output_type": "display_data"
    },
    {
     "name": "stdout",
     "output_type": "stream",
     "text": [
      "\n",
      "9238\n"
     ]
    },
    {
     "name": "stderr",
     "output_type": "stream",
     "text": [
      "(200, 561)\n",
      "Encoding time: 0.02689337730407715 \n"
     ]
    }
   ],
   "source": [
    "################# VANILLA #################\n",
    "hdb = HDB.HD_basis(Config.Generator_T.Vanilla, param)\n",
    "basis = hdb.getBasis()\n",
    "bid = hdb.getParam()[\"id\"]\n",
    "# Update param with bid\n",
    "param = hdb.getParam()\n",
    "print(bid)"
   ]
  },
  {
   "cell_type": "code",
   "execution_count": 16,
   "metadata": {},
   "outputs": [],
   "source": [
    "# Retrieve info upto basis generator, given correct bid\n",
    "#bid = 6679\n",
    "#basis, param = HDB.loadBasis(\"base_%d.pkl\"%bid)"
   ]
  },
  {
   "cell_type": "code",
   "execution_count": 17,
   "metadata": {},
   "outputs": [
    {
     "name": "stderr",
     "output_type": "stream",
     "text": [
      "Encoding data of shape (6213, 561)\n"
     ]
    },
    {
     "data": {
      "application/vnd.jupyter.widget-view+json": {
       "model_id": "0a833cdea0514f61a6d2bf1d8425b549",
       "version_major": 2,
       "version_minor": 0
      },
      "text/plain": [
       "HBox(children=(IntProgress(value=0, description='samples encoded', max=6213, style=ProgressStyle(description_w…"
      ]
     },
     "metadata": {},
     "output_type": "display_data"
    },
    {
     "name": "stdout",
     "output_type": "stream",
     "text": [
      "\n"
     ]
    },
    {
     "name": "stderr",
     "output_type": "stream",
     "text": [
      "Time spent: 0 sec\n",
      "Encoding data of shape (1554, 561)\n"
     ]
    },
    {
     "data": {
      "application/vnd.jupyter.widget-view+json": {
       "model_id": "066e267b007845e4b81763867eef847a",
       "version_major": 2,
       "version_minor": 0
      },
      "text/plain": [
       "HBox(children=(IntProgress(value=0, description='samples encoded', max=1554, style=ProgressStyle(description_w…"
      ]
     },
     "metadata": {},
     "output_type": "display_data"
    },
    {
     "name": "stdout",
     "output_type": "stream",
     "text": [
      "\n"
     ]
    },
    {
     "name": "stderr",
     "output_type": "stream",
     "text": [
      "Time spent: 0 sec\n"
     ]
    }
   ],
   "source": [
    "hde = HDE.HD_encoder(basis)\n",
    "\n",
    "trainencoded = hde.encodeData(traindata)\n",
    "#HDE.saveEncoded(trainencoded, trainlabels, bid, \"train\")\n",
    "\n",
    "testencoded = hde.encodeData(testdata)\n",
    "#HDE.saveEncoded(testencoded, testlabels, bid, \"test\")"
   ]
  },
  {
   "cell_type": "code",
   "execution_count": 18,
   "metadata": {},
   "outputs": [],
   "source": [
    "# Retrieve info upto encoder, given correct bid\n",
    "#bid = 6679\n",
    "#basis, param = HDB.loadBasis(\"base_%d.pkl\"%bid)\n",
    "#trainencoded, trainlabels = HDE.loadEncoded(\"encoded_%d_train.pkl\"%bid)\n",
    "#testencoded, testlabels = HDE.loadEncoded(\"encoded_%d_test.pkl\"%bid)"
   ]
  },
  {
   "cell_type": "code",
   "execution_count": 19,
   "metadata": {},
   "outputs": [
    {
     "name": "stderr",
     "output_type": "stream",
     "text": [
      "c:\\program files (x86)\\microsoft visual studio\\shared\\python37_64\\lib\\site-packages\\ipykernel_launcher.py:5: TqdmDeprecationWarning: This function will be removed in tqdm==5.0.0\n",
      "Please use `tqdm.notebook.tqdm` instead of `tqdm.tqdm_notebook`\n",
      "  \"\"\"\n"
     ]
    },
    {
     "data": {
      "application/vnd.jupyter.widget-view+json": {
       "model_id": "64bb295deefe412f9c29404e568d5539",
       "version_major": 2,
       "version_minor": 0
      },
      "text/plain": [
       "HBox(children=(IntProgress(value=0, description='epochs', max=80, style=ProgressStyle(description_width='initi…"
      ]
     },
     "metadata": {},
     "output_type": "display_data"
    },
    {
     "name": "stderr",
     "output_type": "stream",
     "text": [
      "Fitting with configuration: [('one_shot', 0), ('dropout', 0), ('lr', 1), ('kernel', <Kernel_T.COS: 1>)] \n"
     ]
    },
    {
     "name": "stdout",
     "output_type": "stream",
     "text": [
      "Train: 0.721552 \t \t Test: 0.428571\n",
      "Train: 0.878320 \t \t Test: 0.822394\n",
      "Train: 0.908418 \t \t Test: 0.922780\n",
      "Train: 0.920650 \t \t Test: 0.945946\n",
      "Train: 0.935458 \t \t Test: 0.938867\n",
      "Train: 0.940286 \t \t Test: 0.920849\n",
      "Train: 0.950427 \t \t Test: 0.923423\n",
      "Train: 0.954772 \t \t Test: 0.940798\n",
      "Train: 0.951392 \t \t Test: 0.948520\n",
      "Train: 0.956704 \t \t Test: 0.953668\n",
      "Train: 0.959440 \t \t Test: 0.951737\n",
      "Train: 0.961532 \t \t Test: 0.922136\n",
      "Train: 0.961532 \t \t Test: 0.941441\n",
      "Train: 0.961532 \t \t Test: 0.958172\n",
      "Train: 0.958796 \t \t Test: 0.957529\n",
      "Train: 0.968453 \t \t Test: 0.957529\n",
      "\n"
     ]
    }
   ],
   "source": [
    "hdc = HDC.HD_classifier(param[\"D\"], param[\"nClasses\"], bid)\n",
    "train_acc, test_acc = train(hdc, trainencoded, trainlabels, testencoded, testlabels, param)"
   ]
  },
  {
   "cell_type": "markdown",
   "metadata": {},
   "source": [
    "# Top n accuracy"
   ]
  },
  {
   "cell_type": "code",
   "execution_count": 9,
   "metadata": {},
   "outputs": [],
   "source": [
    "def topn_suit(traindata, trainlabels, testdata, testlabels, param):\n",
    "    hdb = HDB.HD_basis(Config.Generator_T.Vanilla, param)\n",
    "    basis = hdb.getBasis()\n",
    "    bid = hdb.getParam()[\"id\"]\n",
    "    param = hdb.getParam()\n",
    "    \n",
    "    hde = HDE.HD_encoder(basis)\n",
    "    trainencoded = hde.encodeData(traindata)\n",
    "    testencoded = hde.encodeData(testdata)\n",
    "    \n",
    "    hdc = HDC.HD_classifier(param[\"D\"], param[\"nClasses\"], bid)\n",
    "    train_acc, test_acc = train(hdc, trainencoded, trainlabels, testencoded, testlabels, param)\n",
    "    accs = []\n",
    "    cmps = []\n",
    "    for k in range(5):\n",
    "        accs.append(hdc.test_topn(testencoded, testlabels, k+1))\n",
    "        cmps.append(hdc.predict_topn(testencoded, k+1))\n",
    "        print(\"Top %d accuracy: \"%(k+1), accs[-1])\n",
    "    return accs, cmps"
   ]
  },
  {
   "cell_type": "code",
   "execution_count": 10,
   "metadata": {},
   "outputs": [
    {
     "name": "stderr",
     "output_type": "stream",
     "text": [
      "Generating vanilla HD basis of shape... "
     ]
    },
    {
     "data": {
      "application/vnd.jupyter.widget-view+json": {
       "model_id": "25fb926ec0984ec09faa293fd2998fa8",
       "version_major": 2,
       "version_minor": 0
      },
      "text/plain": [
       "HBox(children=(IntProgress(value=0, description='vectors', max=200, style=ProgressStyle(description_width='ini…"
      ]
     },
     "metadata": {},
     "output_type": "display_data"
    },
    {
     "name": "stdout",
     "output_type": "stream",
     "text": [
      "\n"
     ]
    },
    {
     "name": "stderr",
     "output_type": "stream",
     "text": [
      "(200, 561)\n",
      "Encoding time: 0.029904842376708984 \n",
      "Encoding data of shape (6213, 561)\n"
     ]
    },
    {
     "data": {
      "application/vnd.jupyter.widget-view+json": {
       "model_id": "3e19439d18394d04b859e5b175f21a36",
       "version_major": 2,
       "version_minor": 0
      },
      "text/plain": [
       "HBox(children=(IntProgress(value=0, description='samples encoded', max=6213, style=ProgressStyle(description_w…"
      ]
     },
     "metadata": {},
     "output_type": "display_data"
    },
    {
     "name": "stdout",
     "output_type": "stream",
     "text": [
      "\n"
     ]
    },
    {
     "name": "stderr",
     "output_type": "stream",
     "text": [
      "Time spent: 0 sec\n",
      "Encoding data of shape (1554, 561)\n"
     ]
    },
    {
     "data": {
      "application/vnd.jupyter.widget-view+json": {
       "model_id": "0bfcfaf3f98a4dddbc8a365f7cce88b4",
       "version_major": 2,
       "version_minor": 0
      },
      "text/plain": [
       "HBox(children=(IntProgress(value=0, description='samples encoded', max=1554, style=ProgressStyle(description_w…"
      ]
     },
     "metadata": {},
     "output_type": "display_data"
    },
    {
     "name": "stdout",
     "output_type": "stream",
     "text": [
      "\n"
     ]
    },
    {
     "name": "stderr",
     "output_type": "stream",
     "text": [
      "Time spent: 0 sec\n",
      "c:\\program files (x86)\\microsoft visual studio\\shared\\python37_64\\lib\\site-packages\\ipykernel_launcher.py:5: TqdmDeprecationWarning: This function will be removed in tqdm==5.0.0\n",
      "Please use `tqdm.notebook.tqdm` instead of `tqdm.tqdm_notebook`\n",
      "  \"\"\"\n"
     ]
    },
    {
     "data": {
      "application/vnd.jupyter.widget-view+json": {
       "model_id": "5669556370b6492e9ab29a4cee09e28f",
       "version_major": 2,
       "version_minor": 0
      },
      "text/plain": [
       "HBox(children=(IntProgress(value=0, description='epochs', max=80, style=ProgressStyle(description_width='initi…"
      ]
     },
     "metadata": {},
     "output_type": "display_data"
    },
    {
     "name": "stderr",
     "output_type": "stream",
     "text": [
      "Fitting with configuration: [('one_shot', 0), ('dropout', 0), ('lr', 1), ('kernel', <Kernel_T.DOT: 0>)] \n"
     ]
    },
    {
     "name": "stdout",
     "output_type": "stream",
     "text": [
      "Train: 0.713021 \t \t Test: 0.850064\n",
      "Train: 0.894254 \t \t Test: 0.862934\n",
      "Train: 0.912442 \t \t Test: 0.911840\n",
      "Train: 0.920650 \t \t Test: 0.907979\n",
      "\n"
     ]
    },
    {
     "ename": "KeyboardInterrupt",
     "evalue": "",
     "output_type": "error",
     "traceback": [
      "\u001b[1;31m---------------------------------------------------------------------------\u001b[0m",
      "\u001b[1;31mKeyboardInterrupt\u001b[0m                         Traceback (most recent call last)",
      "\u001b[1;32m<ipython-input-10-51de00e077a7>\u001b[0m in \u001b[0;36m<module>\u001b[1;34m\u001b[0m\n\u001b[0;32m      4\u001b[0m \u001b[1;32mfor\u001b[0m \u001b[0mD\u001b[0m \u001b[1;32min\u001b[0m \u001b[0mDs\u001b[0m\u001b[1;33m:\u001b[0m\u001b[1;33m\u001b[0m\u001b[1;33m\u001b[0m\u001b[0m\n\u001b[0;32m      5\u001b[0m     \u001b[0mparam\u001b[0m\u001b[1;33m[\u001b[0m\u001b[1;34m\"D\"\u001b[0m\u001b[1;33m]\u001b[0m \u001b[1;33m=\u001b[0m \u001b[0mD\u001b[0m\u001b[1;33m\u001b[0m\u001b[1;33m\u001b[0m\u001b[0m\n\u001b[1;32m----> 6\u001b[1;33m     \u001b[0maccs_D\u001b[0m\u001b[1;33m[\u001b[0m\u001b[0mD\u001b[0m\u001b[1;33m]\u001b[0m\u001b[1;33m,\u001b[0m \u001b[0mcmps_D\u001b[0m\u001b[1;33m[\u001b[0m\u001b[0mD\u001b[0m\u001b[1;33m]\u001b[0m \u001b[1;33m=\u001b[0m \u001b[0mtopn_suit\u001b[0m\u001b[1;33m(\u001b[0m\u001b[0mtraindata\u001b[0m\u001b[1;33m,\u001b[0m \u001b[0mtrainlabels\u001b[0m\u001b[1;33m,\u001b[0m \u001b[0mtestdata\u001b[0m\u001b[1;33m,\u001b[0m \u001b[0mtestlabels\u001b[0m\u001b[1;33m,\u001b[0m \u001b[0mparam\u001b[0m\u001b[1;33m)\u001b[0m\u001b[1;33m\u001b[0m\u001b[1;33m\u001b[0m\u001b[0m\n\u001b[0m\u001b[0;32m      7\u001b[0m \u001b[0mparam\u001b[0m\u001b[1;33m[\u001b[0m\u001b[1;34m\"D\"\u001b[0m\u001b[1;33m]\u001b[0m \u001b[1;33m=\u001b[0m \u001b[0mConfig\u001b[0m\u001b[1;33m.\u001b[0m\u001b[0mconfig\u001b[0m\u001b[1;33m[\u001b[0m\u001b[1;34m\"D\"\u001b[0m\u001b[1;33m]\u001b[0m\u001b[1;33m\u001b[0m\u001b[1;33m\u001b[0m\u001b[0m\n",
      "\u001b[1;32m<ipython-input-9-3acb9c0cf3d9>\u001b[0m in \u001b[0;36mtopn_suit\u001b[1;34m(traindata, trainlabels, testdata, testlabels, param)\u001b[0m\n\u001b[0;32m     10\u001b[0m \u001b[1;33m\u001b[0m\u001b[0m\n\u001b[0;32m     11\u001b[0m     \u001b[0mhdc\u001b[0m \u001b[1;33m=\u001b[0m \u001b[0mHDC\u001b[0m\u001b[1;33m.\u001b[0m\u001b[0mHD_classifier\u001b[0m\u001b[1;33m(\u001b[0m\u001b[0mparam\u001b[0m\u001b[1;33m[\u001b[0m\u001b[1;34m\"D\"\u001b[0m\u001b[1;33m]\u001b[0m\u001b[1;33m,\u001b[0m \u001b[0mparam\u001b[0m\u001b[1;33m[\u001b[0m\u001b[1;34m\"nClasses\"\u001b[0m\u001b[1;33m]\u001b[0m\u001b[1;33m,\u001b[0m \u001b[0mbid\u001b[0m\u001b[1;33m)\u001b[0m\u001b[1;33m\u001b[0m\u001b[1;33m\u001b[0m\u001b[0m\n\u001b[1;32m---> 12\u001b[1;33m     \u001b[0mtrain_acc\u001b[0m\u001b[1;33m,\u001b[0m \u001b[0mtest_acc\u001b[0m \u001b[1;33m=\u001b[0m \u001b[0mtrain\u001b[0m\u001b[1;33m(\u001b[0m\u001b[0mhdc\u001b[0m\u001b[1;33m,\u001b[0m \u001b[0mtrainencoded\u001b[0m\u001b[1;33m,\u001b[0m \u001b[0mtrainlabels\u001b[0m\u001b[1;33m,\u001b[0m \u001b[0mtestencoded\u001b[0m\u001b[1;33m,\u001b[0m \u001b[0mtestlabels\u001b[0m\u001b[1;33m,\u001b[0m \u001b[0mparam\u001b[0m\u001b[1;33m)\u001b[0m\u001b[1;33m\u001b[0m\u001b[1;33m\u001b[0m\u001b[0m\n\u001b[0m\u001b[0;32m     13\u001b[0m     \u001b[0maccs\u001b[0m \u001b[1;33m=\u001b[0m \u001b[1;33m[\u001b[0m\u001b[1;33m]\u001b[0m\u001b[1;33m\u001b[0m\u001b[1;33m\u001b[0m\u001b[0m\n\u001b[0;32m     14\u001b[0m     \u001b[0mcmps\u001b[0m \u001b[1;33m=\u001b[0m \u001b[1;33m[\u001b[0m\u001b[1;33m]\u001b[0m\u001b[1;33m\u001b[0m\u001b[1;33m\u001b[0m\u001b[0m\n",
      "\u001b[1;32m<ipython-input-3-5c632db046b4>\u001b[0m in \u001b[0;36mtrain\u001b[1;34m(hdc, traindata, trainlabels, testdata, testlabels, param)\u001b[0m\n\u001b[0;32m      4\u001b[0m     \u001b[0mtest_accs\u001b[0m \u001b[1;33m=\u001b[0m \u001b[1;33m[\u001b[0m\u001b[1;33m]\u001b[0m\u001b[1;33m\u001b[0m\u001b[1;33m\u001b[0m\u001b[0m\n\u001b[0;32m      5\u001b[0m     \u001b[1;32mfor\u001b[0m \u001b[0m_\u001b[0m \u001b[1;32min\u001b[0m \u001b[0mtqdm_notebook\u001b[0m\u001b[1;33m(\u001b[0m\u001b[0mrange\u001b[0m\u001b[1;33m(\u001b[0m\u001b[0mparam\u001b[0m\u001b[1;33m[\u001b[0m\u001b[1;34m\"epochs\"\u001b[0m\u001b[1;33m]\u001b[0m\u001b[1;33m)\u001b[0m\u001b[1;33m,\u001b[0m \u001b[0mdesc\u001b[0m\u001b[1;33m=\u001b[0m\u001b[1;34m'epochs'\u001b[0m\u001b[1;33m)\u001b[0m\u001b[1;33m:\u001b[0m\u001b[1;33m\u001b[0m\u001b[1;33m\u001b[0m\u001b[0m\n\u001b[1;32m----> 6\u001b[1;33m         \u001b[0mtrain_accs\u001b[0m\u001b[1;33m.\u001b[0m\u001b[0mappend\u001b[0m\u001b[1;33m(\u001b[0m\u001b[0mhdc\u001b[0m\u001b[1;33m.\u001b[0m\u001b[0mfit\u001b[0m\u001b[1;33m(\u001b[0m\u001b[0mtraindata\u001b[0m\u001b[1;33m,\u001b[0m \u001b[0mtrainlabels\u001b[0m\u001b[1;33m,\u001b[0m \u001b[0mparam\u001b[0m\u001b[1;33m)\u001b[0m\u001b[1;33m)\u001b[0m\u001b[1;33m\u001b[0m\u001b[1;33m\u001b[0m\u001b[0m\n\u001b[0m\u001b[0;32m      7\u001b[0m         \u001b[0mtest_accs\u001b[0m\u001b[1;33m.\u001b[0m\u001b[0mappend\u001b[0m\u001b[1;33m(\u001b[0m\u001b[0mhdc\u001b[0m\u001b[1;33m.\u001b[0m\u001b[0mtest\u001b[0m\u001b[1;33m(\u001b[0m\u001b[0mtestdata\u001b[0m\u001b[1;33m,\u001b[0m \u001b[0mtestlabels\u001b[0m\u001b[1;33m,\u001b[0m \u001b[0mparam\u001b[0m\u001b[1;33m[\u001b[0m\u001b[1;34m\"kernel\"\u001b[0m\u001b[1;33m]\u001b[0m\u001b[1;33m)\u001b[0m\u001b[1;33m)\u001b[0m\u001b[1;33m\u001b[0m\u001b[1;33m\u001b[0m\u001b[0m\n\u001b[0;32m      8\u001b[0m         \u001b[1;32mif\u001b[0m \u001b[0mlen\u001b[0m\u001b[1;33m(\u001b[0m\u001b[0mtrain_accs\u001b[0m\u001b[1;33m)\u001b[0m \u001b[1;33m%\u001b[0m \u001b[1;36m5\u001b[0m \u001b[1;33m==\u001b[0m \u001b[1;36m1\u001b[0m\u001b[1;33m:\u001b[0m\u001b[1;33m\u001b[0m\u001b[1;33m\u001b[0m\u001b[0m\n",
      "\u001b[1;32mC:\\HDComputing\\TopnHD\\HD_classifier.py\u001b[0m in \u001b[0;36mfit\u001b[1;34m(self, data, label, param)\u001b[0m\n\u001b[0;32m    287\u001b[0m             \u001b[1;31m#        guess = m\u001b[0m\u001b[1;33m\u001b[0m\u001b[1;33m\u001b[0m\u001b[1;33m\u001b[0m\u001b[0m\n\u001b[0;32m    288\u001b[0m             \u001b[0mvals\u001b[0m \u001b[1;33m=\u001b[0m \u001b[0mbatch_kernel\u001b[0m\u001b[1;33m(\u001b[0m\u001b[0mself\u001b[0m\u001b[1;33m.\u001b[0m\u001b[0mclasses\u001b[0m\u001b[1;33m,\u001b[0m \u001b[0msample\u001b[0m\u001b[1;33m,\u001b[0m \u001b[0mparam\u001b[0m\u001b[1;33m[\u001b[0m\u001b[1;34m\"kernel\"\u001b[0m\u001b[1;33m]\u001b[0m\u001b[1;33m)\u001b[0m\u001b[1;33m\u001b[0m\u001b[1;33m\u001b[0m\u001b[0m\n\u001b[1;32m--> 289\u001b[1;33m             \u001b[0mguess\u001b[0m \u001b[1;33m=\u001b[0m \u001b[0mnp\u001b[0m\u001b[1;33m.\u001b[0m\u001b[0margmax\u001b[0m\u001b[1;33m(\u001b[0m\u001b[0mvals\u001b[0m\u001b[1;33m)\u001b[0m\u001b[1;33m\u001b[0m\u001b[1;33m\u001b[0m\u001b[0m\n\u001b[0m\u001b[0;32m    290\u001b[0m \u001b[1;33m\u001b[0m\u001b[0m\n\u001b[0;32m    291\u001b[0m             \u001b[1;32mif\u001b[0m \u001b[0mguess\u001b[0m \u001b[1;33m!=\u001b[0m \u001b[0manswer\u001b[0m\u001b[1;33m:\u001b[0m\u001b[1;33m\u001b[0m\u001b[1;33m\u001b[0m\u001b[0m\n",
      "\u001b[1;32mc:\\program files (x86)\\microsoft visual studio\\shared\\python37_64\\lib\\site-packages\\numpy\\core\\fromnumeric.py\u001b[0m in \u001b[0;36margmax\u001b[1;34m(a, axis, out)\u001b[0m\n\u001b[0;32m   1101\u001b[0m \u001b[1;33m\u001b[0m\u001b[0m\n\u001b[0;32m   1102\u001b[0m     \"\"\"\n\u001b[1;32m-> 1103\u001b[1;33m     \u001b[1;32mreturn\u001b[0m \u001b[0m_wrapfunc\u001b[0m\u001b[1;33m(\u001b[0m\u001b[0ma\u001b[0m\u001b[1;33m,\u001b[0m \u001b[1;34m'argmax'\u001b[0m\u001b[1;33m,\u001b[0m \u001b[0maxis\u001b[0m\u001b[1;33m=\u001b[0m\u001b[0maxis\u001b[0m\u001b[1;33m,\u001b[0m \u001b[0mout\u001b[0m\u001b[1;33m=\u001b[0m\u001b[0mout\u001b[0m\u001b[1;33m)\u001b[0m\u001b[1;33m\u001b[0m\u001b[1;33m\u001b[0m\u001b[0m\n\u001b[0m\u001b[0;32m   1104\u001b[0m \u001b[1;33m\u001b[0m\u001b[0m\n\u001b[0;32m   1105\u001b[0m \u001b[1;33m\u001b[0m\u001b[0m\n",
      "\u001b[1;32mc:\\program files (x86)\\microsoft visual studio\\shared\\python37_64\\lib\\site-packages\\numpy\\core\\fromnumeric.py\u001b[0m in \u001b[0;36m_wrapfunc\u001b[1;34m(obj, method, *args, **kwds)\u001b[0m\n\u001b[0;32m     54\u001b[0m \u001b[1;32mdef\u001b[0m \u001b[0m_wrapfunc\u001b[0m\u001b[1;33m(\u001b[0m\u001b[0mobj\u001b[0m\u001b[1;33m,\u001b[0m \u001b[0mmethod\u001b[0m\u001b[1;33m,\u001b[0m \u001b[1;33m*\u001b[0m\u001b[0margs\u001b[0m\u001b[1;33m,\u001b[0m \u001b[1;33m**\u001b[0m\u001b[0mkwds\u001b[0m\u001b[1;33m)\u001b[0m\u001b[1;33m:\u001b[0m\u001b[1;33m\u001b[0m\u001b[1;33m\u001b[0m\u001b[0m\n\u001b[0;32m     55\u001b[0m     \u001b[1;32mtry\u001b[0m\u001b[1;33m:\u001b[0m\u001b[1;33m\u001b[0m\u001b[1;33m\u001b[0m\u001b[0m\n\u001b[1;32m---> 56\u001b[1;33m         \u001b[1;32mreturn\u001b[0m \u001b[0mgetattr\u001b[0m\u001b[1;33m(\u001b[0m\u001b[0mobj\u001b[0m\u001b[1;33m,\u001b[0m \u001b[0mmethod\u001b[0m\u001b[1;33m)\u001b[0m\u001b[1;33m(\u001b[0m\u001b[1;33m*\u001b[0m\u001b[0margs\u001b[0m\u001b[1;33m,\u001b[0m \u001b[1;33m**\u001b[0m\u001b[0mkwds\u001b[0m\u001b[1;33m)\u001b[0m\u001b[1;33m\u001b[0m\u001b[1;33m\u001b[0m\u001b[0m\n\u001b[0m\u001b[0;32m     57\u001b[0m \u001b[1;33m\u001b[0m\u001b[0m\n\u001b[0;32m     58\u001b[0m     \u001b[1;31m# An AttributeError occurs if the object does not have\u001b[0m\u001b[1;33m\u001b[0m\u001b[1;33m\u001b[0m\u001b[1;33m\u001b[0m\u001b[0m\n",
      "\u001b[1;31mKeyboardInterrupt\u001b[0m: "
     ]
    }
   ],
   "source": [
    "Ds = [200, 500, 1000]\n",
    "accs_D = dict()\n",
    "cmps_D = dict()\n",
    "for D in Ds:\n",
    "    param[\"D\"] = D\n",
    "    accs_D[D], cmps_D[D] = topn_suit(traindata, trainlabels, testdata, testlabels, param)\n",
    "param[\"D\"] = Config.config[\"D\"]"
   ]
  },
  {
   "cell_type": "code",
   "execution_count": null,
   "metadata": {},
   "outputs": [],
   "source": [
    "for D in accs_D.keys():\n",
    "    print(D)\n",
    "    for i in range(len(accs_D[D])):\n",
    "        print(\"Top %d Accuracy:\"%(i+1), accs_D[D][i])"
   ]
  },
  {
   "cell_type": "markdown",
   "metadata": {},
   "source": [
    "# Mask generation: 2d masks"
   ]
  },
  {
   "cell_type": "code",
   "execution_count": 9,
   "metadata": {},
   "outputs": [
    {
     "name": "stderr",
     "output_type": "stream",
     "text": [
      "Generating vanilla HD basis of shape... "
     ]
    },
    {
     "data": {
      "application/vnd.jupyter.widget-view+json": {
       "model_id": "1809aa86b4af40de9697ecf56c514e01",
       "version_major": 2,
       "version_minor": 0
      },
      "text/plain": [
       "HBox(children=(IntProgress(value=0, description='vectors', style=ProgressStyle(description_width='initial')), …"
      ]
     },
     "metadata": {},
     "output_type": "display_data"
    },
    {
     "name": "stdout",
     "output_type": "stream",
     "text": [
      "\n"
     ]
    },
    {
     "name": "stderr",
     "output_type": "stream",
     "text": [
      "(100, 561)\n",
      "Encoding time: 0.025930404663085938 \n",
      "Encoding data of shape (6213, 561)\n"
     ]
    },
    {
     "data": {
      "application/vnd.jupyter.widget-view+json": {
       "model_id": "a0609d705d744657bf60d3b13d15fd51",
       "version_major": 2,
       "version_minor": 0
      },
      "text/plain": [
       "HBox(children=(IntProgress(value=0, description='samples encoded', max=6213, style=ProgressStyle(description_w…"
      ]
     },
     "metadata": {},
     "output_type": "display_data"
    },
    {
     "name": "stdout",
     "output_type": "stream",
     "text": [
      "\n"
     ]
    },
    {
     "name": "stderr",
     "output_type": "stream",
     "text": [
      "Time spent: 0 sec\n",
      "Encoding data of shape (1554, 561)\n"
     ]
    },
    {
     "data": {
      "application/vnd.jupyter.widget-view+json": {
       "model_id": "2d60e3e95f8d4f97b23f8e87c92c7e05",
       "version_major": 2,
       "version_minor": 0
      },
      "text/plain": [
       "HBox(children=(IntProgress(value=0, description='samples encoded', max=1554, style=ProgressStyle(description_w…"
      ]
     },
     "metadata": {},
     "output_type": "display_data"
    },
    {
     "name": "stdout",
     "output_type": "stream",
     "text": [
      "\n"
     ]
    },
    {
     "name": "stderr",
     "output_type": "stream",
     "text": [
      "Time spent: 0 sec\n",
      "c:\\program files (x86)\\microsoft visual studio\\shared\\python37_64\\lib\\site-packages\\ipykernel_launcher.py:5: TqdmDeprecationWarning: This function will be removed in tqdm==5.0.0\n",
      "Please use `tqdm.notebook.tqdm` instead of `tqdm.tqdm_notebook`\n",
      "  \"\"\"\n"
     ]
    },
    {
     "data": {
      "application/vnd.jupyter.widget-view+json": {
       "model_id": "49acfdc3d3384d4299f2be77231c92da",
       "version_major": 2,
       "version_minor": 0
      },
      "text/plain": [
       "HBox(children=(IntProgress(value=0, description='epochs', max=80, style=ProgressStyle(description_width='initi…"
      ]
     },
     "metadata": {},
     "output_type": "display_data"
    },
    {
     "name": "stderr",
     "output_type": "stream",
     "text": [
      "Fitting with configuration: [('one_shot', 0), ('dropout', 0), ('lr', 1), ('kernel', <Kernel_T.COS: 1>)] \n"
     ]
    },
    {
     "name": "stdout",
     "output_type": "stream",
     "text": [
      "Train: 0.683728 \t \t Test: 0.798584\n",
      "Train: 0.849509 \t \t Test: 0.875161\n",
      "Train: 0.883309 \t \t Test: 0.890605\n",
      "Train: 0.886689 \t \t Test: 0.893179\n",
      "Train: 0.894093 \t \t Test: 0.906692\n",
      "Train: 0.904072 \t \t Test: 0.916345\n",
      "Train: 0.917431 \t \t Test: 0.931145\n",
      "Train: 0.918558 \t \t Test: 0.879665\n",
      "Train: 0.922421 \t \t Test: 0.916345\n",
      "Train: 0.921455 \t \t Test: 0.916345\n",
      "Train: 0.916787 \t \t Test: 0.925997\n",
      "Train: 0.926445 \t \t Test: 0.931145\n",
      "Train: 0.922743 \t \t Test: 0.911197\n",
      "Train: 0.931112 \t \t Test: 0.911840\n",
      "Train: 0.931756 \t \t Test: 0.875804\n",
      "Train: 0.924352 \t \t Test: 0.922780\n",
      "\n"
     ]
    }
   ],
   "source": [
    "hdb = HDB.HD_basis(Config.Generator_T.Vanilla, param)\n",
    "basis = hdb.getBasis()\n",
    "bid = hdb.getParam()[\"id\"]\n",
    "param = hdb.getParam()\n",
    "\n",
    "hde = HDE.HD_encoder(basis)\n",
    "trainencoded = hde.encodeData(traindata)\n",
    "testencoded = hde.encodeData(testdata)\n",
    "\n",
    "hdc = HDC.HD_classifier(param[\"D\"], param[\"nClasses\"], bid)\n",
    "train_acc, test_acc = train(hdc, trainencoded, trainlabels, testencoded, testlabels, param)\n"
   ]
  },
  {
   "cell_type": "code",
   "execution_count": 10,
   "metadata": {},
   "outputs": [
    {
     "name": "stdout",
     "output_type": "stream",
     "text": [
      "5759 454\n",
      "4651\n"
     ]
    }
   ],
   "source": [
    "fst_r, snd_r = hdc.analyze(trainencoded, trainlabels)\n",
    "#fst_r, snd_r = hdc.analyze(testencoded, testlabels)\n",
    "\n",
    "print(len(fst_r), len(snd_r))\n",
    "beta = max(snd_r)\n",
    "fst_r = fst_r[fst_r <= beta]\n",
    "print(len(fst_r))\n"
   ]
  },
  {
   "cell_type": "code",
   "execution_count": 11,
   "metadata": {},
   "outputs": [
    {
     "data": {
      "text/plain": [
       "<matplotlib.legend.Legend at 0x20f41403b08>"
      ]
     },
     "execution_count": 11,
     "metadata": {},
     "output_type": "execute_result"
    },
    {
     "data": {
      "image/png": "[encoded data removed]",
      "text/plain": [
       "<Figure size 1440x1440 with 1 Axes>"
      ]
     },
     "metadata": {
      "needs_background": "light"
     },
     "output_type": "display_data"
    }
   ],
   "source": [
    "plt.figure(figsize = (20, 20))\n",
    "# No more overlap\n",
    "plt.hist(np.append(fst_r,snd_r), bins = 100, label = \"fst\")\n",
    "plt.hist(snd_r, bins = 100, label = \"snd\")\n",
    "plt.legend()"
   ]
  },
  {
   "cell_type": "code",
   "execution_count": 23,
   "metadata": {},
   "outputs": [],
   "source": [
    "percent = 0.25\n",
    "dominance = 1.5\n",
    "mask_t = \"b\" # b for binary, o for original \n",
    "mask_d = 2"
   ]
  },
  {
   "cell_type": "code",
   "execution_count": 24,
   "metadata": {},
   "outputs": [],
   "source": [
    "hdc.make_mask(trainencoded, trainlabels, dominance)\n",
    "hdc.prep_mask(percent)"
   ]
  },
  {
   "cell_type": "code",
   "execution_count": 25,
   "metadata": {},
   "outputs": [
    {
     "name": "stdout",
     "output_type": "stream",
     "text": [
      "Analyzing score with mask type b 2\n"
     ]
    },
    {
     "name": "stderr",
     "output_type": "stream",
     "text": [
      "C:\\HDComputing\\TopnHD\\HD_classifier.py:695: RuntimeWarning: invalid value encountered in double_scalars\n",
      "  ratio = fst_sc/snd_sc\n"
     ]
    }
   ],
   "source": [
    "#fst_mr, snd_mr = hdc.analyze_topn(testencoded, testlabels, dominance, mask_t, mask_d)\n",
    "fst_mr, snd_mr, fst_scs, snd_scs = hdc.analyze_topn(trainencoded, trainlabels, dominance, mask_t, mask_d)"
   ]
  },
  {
   "cell_type": "code",
   "execution_count": 26,
   "metadata": {},
   "outputs": [
    {
     "name": "stdout",
     "output_type": "stream",
     "text": [
      "2940 427\n",
      "2940 427\n",
      "[-0.17554728 -1.12648134 -0.85837862 ... -0.13113994 -0.86899321\n",
      " -1.14957616]\n",
      "[ -0.91946269  -0.85428773  -7.41794852  -0.8601571   -1.06949366\n",
      "  -7.02840297  -0.87598926  -4.48908652  -0.74604467  -0.88675191\n",
      "  -0.86843311  -0.86169045  -0.80819737  -0.87888772  -0.86125952\n",
      "  -4.84052701  -0.95669848  -5.10476112  -0.94490342  -0.92735039\n",
      "  -1.11148649  -0.8839023   -1.30871418  -0.89273359  -0.85374258\n",
      "  -0.85903304  -0.8841337   -0.86630482  -0.86121806  -1.1333047\n",
      "  -0.89094701  -0.87398529  -0.91713072  -0.86460501  -3.87403596\n",
      "  -1.122603    -1.14891348  -3.68871948  -0.87583522  -0.8516264\n",
      "  -2.54888332  -2.34608862  -0.79392192  -0.8603488   -4.76668938\n",
      "  -0.87811388  -5.90758115  -1.14906567  -0.87706881  -0.89198849\n",
      "  -0.86475938  -7.96094391  -0.98751652  -0.87949611 -35.42619702\n",
      "  -2.40030629  -1.18488388  -0.86594518  -4.04570287  -0.86612312\n",
      "  -5.07916276  -0.86412376  -0.84256776  -0.86391158  -0.8781944\n",
      "  -0.86766956  -0.8881912   -0.87793463  -1.11568391  -0.83085549\n",
      "  -1.1754874   -0.88011943  -1.13538558 -13.01399645  -0.77969879\n",
      "  -0.87959787  -0.89259415  -0.89920466  -5.12239149  -6.23122878\n",
      "  -0.86929101  -0.87344371  -0.86706529  -0.87804488  -1.15328048\n",
      "  -0.86272812  -0.87671769  -0.87850956  -0.88858246  -4.61777278\n",
      "  -0.85581439  -1.01229359  -1.10918993  -0.88542407  -0.86150298\n",
      "  -7.29761149  -2.25037106  -0.88429679  -0.8837217   -1.091696\n",
      "  -0.85890754  -0.86756254  -0.88596451  -0.85861836  -0.87323103\n",
      "  -0.44858228  -2.26313317  -0.88297804  -1.14329107  -7.06426587\n",
      "  -0.86621994  -5.60486757  -0.84919274  -0.89609905  -6.58846342\n",
      "  -0.91423617  -1.13878674  -1.0070909   -5.13209165  -0.94047894\n",
      "  -5.34365137  -6.83405068  -0.85482623  -4.19564565  -1.03812755\n",
      "  -0.85578846  -2.31249493  -0.87901496  -5.16670939  -4.03936279\n",
      "  -0.8596517   -0.89363637  -3.67528416  -0.89995238  -1.08634745\n",
      "  -0.89007295  -1.06177336  -0.85880673  -1.06175224  -0.75891253\n",
      "  -7.77193519  -5.025795    -1.16246669  -1.10048386  -0.85256283\n",
      "  -1.14856552  -0.80019957  -2.07494647  -0.88982083  -1.09369736\n",
      "  -4.26696211  -0.86771736  -1.2229769   -5.32382783  -1.08772861\n",
      "  -6.85250821  -0.88026229  -0.87919862  -0.8557856   -0.87412169\n",
      "  -6.96832525  -0.86040725  -0.92727849  -0.8671896   -0.88332761\n",
      "  -0.84999949  -0.86806621  -0.86751316  -4.82317522  -0.85231953\n",
      "  -0.87602305  -1.13741295  -0.85908984  -0.8558735   -6.96974656\n",
      "  -1.14142525  -1.14503562  -1.07130413  -1.12019676  -0.85974309\n",
      "  -0.86355687  -0.8849209   -0.88963842  -1.08952788  -0.86517694\n",
      "  -8.40996219  -0.87366592  -0.85581067  -0.86658236  -2.13320781\n",
      "  -0.86148508  -0.87408136  -0.88061695  -0.86746784  -0.86807104\n",
      "  -0.86592358  -0.86781739  -1.15880456  -5.0849334   -0.9001646\n",
      "  -6.09062093  -0.89938772  -1.12731718  -8.45969724  -0.83822538\n",
      "  -1.1373413   -5.63043631  -1.11824298  -7.3645274   -1.66212713\n",
      "  -0.87521548  -0.87560049  -0.87629344  -5.1311794   -0.99097087\n",
      "  -0.7789942   -1.15079076  -0.90672688  -0.87607384  -0.89190605\n",
      "  -1.10237401  -3.60360883  -0.84663041  -0.85635903  -6.10278567\n",
      "  -0.99364172  -0.87224814  -0.86035457  -0.86633289  -0.8629305\n",
      "  -2.19109352  -4.02687564  -1.10112472  -5.01224734  -1.08763095\n",
      "  -0.84872862  -0.94098788  -2.13895443  -0.87695553 -17.30141236\n",
      "  -5.17228586  -0.86541239  -3.50924836  -0.88258647  -0.88407336\n",
      "  -2.45474163  -0.9018631   -5.33918662  -0.84855149  -0.85843989\n",
      "  -0.8926954   -7.66539749  -6.71251994  -0.9200456   -1.01997662\n",
      "  -1.13920161  -1.10516752  -1.05919945  -0.86233202  -1.06641886\n",
      "  -1.14812759  -6.84304308  -0.89210477  -8.13678223  -0.86202837\n",
      "  -4.96652628  -1.11809163  -7.86085525  -0.86815422  -5.04806869\n",
      "  -0.8804058   -0.87054889  -0.86497963  -0.81444682  -2.27056259\n",
      "  -0.85878117  -4.29648868  -3.44294617  -4.43879788  -0.86536312\n",
      "  -0.87586748  -0.86632173  -0.8558884   -1.13583386  -1.14468597\n",
      "  -1.06640416  -0.89244499  -0.91213188  -0.85527093  -1.12365566\n",
      "  -1.08653666  -1.14468716  -0.86387     -0.8918962   -0.83565922\n",
      "  -0.85721105  -5.20980153  -0.86993445  -1.11481923  -1.09811223\n",
      "  -0.88438195  -5.3800929   -0.86673654  -1.19555103  -1.10003671\n",
      "  -0.87204467  -1.10077208  -0.85785435  -0.86050039  -1.11372711\n",
      "  -1.06105706  -0.8636374   -0.86554945  -0.95752692  -0.87649538\n",
      "  -1.10574299  -5.11202652  -0.87046232  -0.9009462   -0.87899407\n",
      "  -0.87451104  -7.2022591   -0.88208778  -0.90223541  -0.84312991\n",
      "  -0.86616254  -4.9246412   -7.17640036  -4.18636138  -1.02778928\n",
      "  -5.08550645  -6.98983968  -1.08589676  -1.15161561  -1.05574189\n",
      "  -0.85447947  -0.91343304  -1.053416    -0.85779525  -0.85690571\n",
      "  -0.88459407  -0.86573949  -1.02327201  -2.10606168  -0.86985706\n",
      "  -0.77274797  -0.89049412  -1.13573088  -0.85569055  -0.86591259\n",
      "  -3.97816155  -1.24631398  -0.85972553  -0.86758343  -1.12588587\n",
      "  -0.88054077  -0.89861696  -0.88756641  -6.74554281  -1.15255391\n",
      "  -1.1222834   -0.85831234  -0.90998276  -1.16640713  -5.98378384\n",
      "  -0.84951618  -0.87381252  -0.92343259  -0.8923281   -0.88019366\n",
      "  -5.49631943  -0.88317493  -1.05289499  -0.97883934  -0.9691553\n",
      "  -1.08745463  -1.14020482  -0.87501135  -1.13817255  -0.88630235\n",
      "  -0.88270676  -0.89331287  -0.88334737  -0.87894243  -0.88912127\n",
      "  -6.83702141  -0.90097357  -6.2931554   -0.86432498  -7.83666702\n",
      "  -0.79223632  -1.1923238   -0.86552138  -4.86659125  -1.14551945\n",
      "  -0.86018813  -0.85665819  -0.865388    -0.89223795  -0.86916488\n",
      "  -6.86950212  -1.00332457  -1.09471355  -5.93705016  -7.33771451\n",
      "  -1.21416111  -8.40931202  -0.85237292  -1.08511108  -1.15907257\n",
      "  -4.65279721  -0.93887423  -7.57653883  -7.1828955   -4.455886\n",
      "  -0.84805682  -0.87218437  -0.86607749  -0.81587896  -1.12518079\n",
      "  -0.89979319  -0.89283574  -2.38779699  -0.86005851  -7.10289691\n",
      "  -0.87782766  -1.12553771]\n",
      "[1572.47820878 5348.0790559  3256.05722174 ... 1453.493522   5586.37632761\n",
      " 5554.11864641]\n",
      "[ 781.17581548 5624.35316064 1486.39035387 5296.22676164 1320.31907116\n",
      " 1431.69591707 5560.72864306 1408.80240001 1240.5754365  5431.97046049\n",
      " 5585.29891626 5555.00659475  860.73128792 5690.08690506 5398.28982733\n",
      " 1032.09144237 1279.89096315 1679.7101715  1170.36140691 1254.83083\n",
      " 5526.66081179 5612.48606076 1889.22576381 5297.0353637  5395.96399879\n",
      "  875.73536503 5630.90349297 5642.36385193 5575.5684669  5259.39495658\n",
      " 5436.77681328 5497.63158669  872.75012078 5313.17247817 1493.42118103\n",
      " 3890.15098721 5536.67294331 1585.82679461 5460.52086613 5501.31698174\n",
      "  644.3525426  1712.79391964  855.5482354  5555.88952788 1653.70102256\n",
      " 5412.82441841 1572.23375296 5589.51845219 5281.3460225  5641.22923578\n",
      " 5666.76771872 1373.72086347 1336.55201321 5584.82427407 1382.18004815\n",
      " 1697.92655287 3414.1495715  5593.14554973 1607.95278683 5619.91091792\n",
      " 1543.31320291 5570.84836763 5527.45405894 5583.32733983 5442.03459588\n",
      " 5618.96470153 5529.73224022 5586.97538865 5469.15412043  786.21714934\n",
      " 3435.11021146 5611.76818162 5544.02706149 1279.79375252 1259.59820857\n",
      " 5280.60109419  898.45100868 1327.33455457 1687.55256653 1541.15347431\n",
      " 5493.91364086 5621.94404526 5636.49717987 5521.31976681 5435.11325393\n",
      " 5526.12033939 5617.13965998 5654.97146278 5674.99856557 1661.74063647\n",
      " 5504.4093255  1302.10109406 3711.1326683  5462.45262407 5425.90654178\n",
      " 1491.31273735 1685.40611095 5273.25748352 5478.19859879 5636.27348526\n",
      " 5456.39786434 5437.99439555 5465.45683447 5570.29332064 5640.6166132\n",
      "  388.14943302 1654.66102517 5631.98405587 5607.30064547 1470.9519547\n",
      " 5618.05978631 1572.98503625 5487.76512979 5408.58586573 1557.86210466\n",
      "  773.79688803 5408.2865497  1382.5749815  1509.39264041 1442.10646593\n",
      " 1539.66860891 1486.83111632 5443.23529997 1714.88278138 1404.4011835\n",
      " 5444.89857653  657.91403276 5450.83029537 1443.35750538 1392.69853176\n",
      " 5569.26761733 1253.7611593  1674.46066338 1312.650839   3673.74263301\n",
      " 5582.60263116 1408.49231797 5437.64937371 3553.90762658  851.75932801\n",
      " 1460.59294259 1274.95935546 5505.97669066 1267.73892092 1345.91446916\n",
      " 5497.82931001 1250.85513539  684.77839827 5246.90158221 3684.57170313\n",
      " 1534.17631597 5487.68982913 3560.58760653 1591.01415268 1367.61564224\n",
      " 1486.94935563 5477.42894581 5447.70970845 5567.61860527 5544.92762779\n",
      " 1388.0948356  5542.64002718 1133.30349777 5642.00386037 5531.35362686\n",
      " 5571.96907287 5561.80870425 5665.99069229 1616.40512741 5598.14927077\n",
      " 5628.72034352 1333.60543507 5429.42661124 5499.0887178  1478.05447017\n",
      " 5638.74650289 5496.2172711  3776.92077546 5360.96910814 5547.73524122\n",
      " 5608.76875001 5334.90634544 5196.67827985 3773.45987216 5617.89667294\n",
      " 1440.48173879 5669.74294292 5484.2394198  5445.99175745 1702.59770116\n",
      " 5641.30617381 5611.87939939 5397.62037487 5661.5282031  5652.21635341\n",
      " 5507.09017902 5628.13567763 5544.03685044 1730.22530138 5175.79956469\n",
      " 1381.12266469 1223.81486303 3685.03374266 1438.6040931   893.79567967\n",
      " 5643.13940732 1598.67389116 5290.14434102 1487.51710033  729.03989631\n",
      " 5690.94827307 5471.22389447 5463.03579356  946.58433195 1398.419472\n",
      " 1221.15925076 5423.20685148 1426.77891719 5518.79005271 5298.79643466\n",
      " 3623.09255303 1459.09449804 5480.58537895 5532.90232142 1572.24706263\n",
      " 1223.45411683 5375.12199294 5643.78835289 5510.44176726 5214.21093527\n",
      " 1600.7135027  1626.15195349  833.70301685 1704.7631644  1313.03866998\n",
      " 3466.87425448 1412.91501316 1557.33406678 5509.48914513 1485.42591484\n",
      " 1591.2631692  1241.51620238 1440.22884455 5327.58530521 5363.39612433\n",
      " 1615.2601864  5429.32222575 1712.8974559  5463.76475366 5415.24035435\n",
      " 5322.50566352 1454.59507005 1534.22352838 1353.60437444 1435.81889251\n",
      " 5376.79560306 3700.80585636 3585.31956206 5646.69014415 1336.71938138\n",
      "  843.44966767 1425.9784834  5584.60207809 1308.2793632  5648.25688956\n",
      " 1424.77733651 1390.470588   1426.16269806 5562.17902135 1565.22040119\n",
      " 5502.70607759 5367.39729643 5673.07620452  853.61208991 1661.02871431\n",
      " 5580.92207079 1667.92132718 1499.40160931 1634.89217075 5516.84375107\n",
      " 5532.90842029 5578.36934441 5572.9165266  1383.394212   5436.82671869\n",
      " 1413.98079409 5692.07589643  874.16498836 5517.41768271 1285.33154754\n",
      " 1407.09922447 5476.83124967 5409.00373823 5568.70798857 3322.52091067\n",
      " 5557.37705295 1672.98294179 5500.58243226 3617.92242959 3832.5687337\n",
      " 5380.99528292 1592.88198144 5548.02179543 3433.77599284 3693.51275558\n",
      " 5690.33309688 3662.8427587  5615.95039929 5588.90665614 5668.81843267\n",
      " 3665.57692623 5526.71450755 5481.69179729  839.48699015 5545.16318565\n",
      " 3729.86675348 1728.88231084 5549.49361615  784.12430579 5715.27600814\n",
      " 5567.22338416 1448.04550482 5430.2190201  5527.3774305  1229.88447778\n",
      " 5274.1625835  1515.48092658 1479.0131305  1681.89937563 1414.48807224\n",
      " 1702.23861864 1480.69377204 1301.8131389  5437.14574261  907.5662255\n",
      " 5440.34604371 5056.39702742 1319.40872893 5572.34282138 5534.59751992\n",
      " 5408.63238232 5384.90171314 1313.18277504 1438.15702698 5699.58148421\n",
      "  832.32821191 5228.53644906 3628.40082092 5584.01199444 5592.04073417\n",
      " 1415.46496175 1336.53116716 5367.1907176  5613.31206912 5526.25542837\n",
      " 5417.72609434 5224.26818571 5362.90193148 1441.81326397 5594.76651573\n",
      " 1469.08259644 5618.84334495 5287.7564348  5453.62018238 1505.82608089\n",
      " 5526.28859092 5520.8790009  3695.45152779 5596.23202885 5592.0481224\n",
      " 1588.66469215 5590.44698143 1376.02462044 1273.09256949 1344.55723316\n",
      " 5262.64399629 5549.13740095 5522.8794809  5556.33184222 5438.96135777\n",
      " 5737.1010775  5454.50734021 5418.98480693 5414.84821015 1209.65689331\n",
      " 1446.23363366 5177.07017725 1546.42808046 5486.03553714 1481.50673726\n",
      "  932.00822811 3479.68492729 5511.61179916 1662.74936526 3571.76725444\n",
      " 5607.98515293 5503.35745657 5534.23737463 5348.72867399 5708.214207\n",
      " 1494.83069239 1347.70405533 3703.95649246 1514.91238327 1438.60767659\n",
      " 3462.68092214 1372.5539156  3474.51598893 3700.96436526 5300.41663766\n",
      " 1584.05543313 1327.17704175 1400.92884684 1333.00477853 1617.2289508\n",
      " 5537.53017165 5571.24343544 5596.5615539  1265.94385287 3644.8407112\n",
      " 5522.22611768 5565.99632159  668.3546872  5584.30873226 1439.99363311\n",
      " 5540.38601264 3698.50226382]\n"
     ]
    }
   ],
   "source": [
    "print(len(fst_mr), len(snd_mr))\n",
    "print(len(fst_scs), len(snd_scs))\n",
    "print(fst_mr)\n",
    "print(snd_mr)\n",
    "print(fst_scs)\n",
    "print(snd_scs)\n",
    "#fst_abs = len(fst_mr[fst_mr == 100000000000000])\n",
    "#snd_abs = len(snd_mr[snd_mr == 100000000000000])\n",
    "#fst_mr = fst_mr[fst_mr < 100000000000000]\n",
    "#snd_mr = snd_mr[snd_mr < 100000000000000]\n",
    "#print(fst_abs, snd_abs)"
   ]
  },
  {
   "cell_type": "code",
   "execution_count": 28,
   "metadata": {},
   "outputs": [
    {
     "data": {
      "text/plain": [
       "<matplotlib.legend.Legend at 0x20f64565988>"
      ]
     },
     "execution_count": 28,
     "metadata": {},
     "output_type": "execute_result"
    },
    {
     "data": {
      "image/png": "[encoded data removed]",
      "text/plain": [
       "<Figure size 7200x1440 with 1 Axes>"
      ]
     },
     "metadata": {
      "needs_background": "light"
     },
     "output_type": "display_data"
    }
   ],
   "source": [
    "plt.figure(figsize = (100, 20))\n",
    "plt.hist(np.append(fst_mr,snd_mr), bins = 1000, label = \"fst\")\n",
    "plt.hist(snd_mr, bins = 100, label = \"snd\")\n",
    "plt.legend()"
   ]
  },
  {
   "cell_type": "code",
   "execution_count": 22,
   "metadata": {},
   "outputs": [
    {
     "data": {
      "text/plain": [
       "<matplotlib.legend.Legend at 0x20f62d86f88>"
      ]
     },
     "execution_count": 22,
     "metadata": {},
     "output_type": "execute_result"
    },
    {
     "data": {
      "image/png": "[encoded data removed]",
      "text/plain": [
       "<Figure size 1440x1440 with 1 Axes>"
      ]
     },
     "metadata": {
      "needs_background": "light"
     },
     "output_type": "display_data"
    }
   ],
   "source": [
    "plt.figure(figsize = (20, 20))\n",
    "plt.hist(np.append(fst_scs,snd_scs), bins = 100, label = \"fst\")\n",
    "plt.hist(snd_scs, bins = 100, label = \"snd\")\n",
    "plt.legend()"
   ]
  },
  {
   "cell_type": "code",
   "execution_count": 18,
   "metadata": {},
   "outputs": [],
   "source": [
    "threshold = 1"
   ]
  },
  {
   "cell_type": "code",
   "execution_count": 19,
   "metadata": {},
   "outputs": [
    {
     "name": "stdout",
     "output_type": "stream",
     "text": [
      "Wrongly selected the first:\n",
      "4 3\n",
      "1918.2517445355202\n",
      "Wrongly selected the first:\n",
      "0 2\n",
      "1042.6329691254236\n",
      "Wrongly selected the first:\n",
      "0 2\n",
      "963.9830578962737\n",
      "Wrongly selected the first:\n",
      "3 4\n",
      "1952.167039807035\n",
      "Wrongly selected the first:\n",
      "4 3\n",
      "1.4924473490108487\n",
      "Wrongly selected the first:\n",
      "1 2\n",
      "983.6712719565974\n",
      "Wrongly selected the first:\n",
      "0 1\n",
      "1.470787472807764\n",
      "Wrongly selected the first:\n",
      "3 4\n",
      "1.5033946868613772\n",
      "Wrongly selected the first:\n",
      "3 4\n",
      "1909.16061057148\n",
      "Wrongly selected the first:\n",
      "3 4\n",
      "1865.0039546177654\n",
      "Wrongly selected the first:\n",
      "3 4\n",
      "1.6249916215837927\n",
      "Found untrained mask (4, 5) during testing\n",
      "Their submasks starts with:\n",
      "[0. 0. 0. 0. 0. 0. 0. 0. 0. 0.] [0. 0. 0. 0. 0. 0. 0. 0. 0. 0.]\n",
      "Selecting fst by default\n",
      "Wrongly selected the first:\n",
      "3 4\n",
      "1918.8169334976449\n",
      "Wrongly selected the first:\n",
      "4 6\n",
      "562.6057822076596\n",
      "Wrongly selected the first:\n",
      "9 11\n",
      "1.696956759484879\n",
      "Wrongly selected the first:\n",
      "10 8\n",
      "526.8375684432592\n",
      "Wrongly selected the first:\n",
      "3 4\n",
      "1919.4206407661213\n",
      "Wrongly selected the first:\n",
      "5 3\n",
      "1076.2964123234187\n",
      "Wrongly selected the first:\n",
      "8 10\n",
      "591.8875407037766\n",
      "Wrongly selected the first:\n",
      "9 11\n",
      "1.5005473635986493\n",
      "Wrongly selected the first:\n",
      "9 11\n",
      "1.4018471593062731\n",
      "Wrongly selected the first:\n",
      "6 1\n",
      "672.8317666544223\n",
      "Wrongly selected the first:\n",
      "3 4\n",
      "1960.2570953539703\n",
      "Wrongly selected the first:\n",
      "0 1\n",
      "934.7377527595199\n",
      "Wrongly selected the first:\n",
      "0 1\n",
      "927.556414020791\n",
      "Wrongly selected the first:\n",
      "3 4\n",
      "2002.0773342430543\n",
      "Wrongly selected the first:\n",
      "3 4\n",
      "1957.0461042808279\n",
      "Wrongly selected the first:\n",
      "3 4\n",
      "2013.876586222379\n",
      "Wrongly selected the first:\n",
      "10 8\n",
      "563.160765717723\n",
      "Wrongly selected the first:\n",
      "4 3\n",
      "1889.7732868623098\n",
      "Wrongly selected the first:\n",
      "9 11\n",
      "215.57092086779954\n",
      "Wrongly selected the first:\n",
      "3 4\n",
      "1923.3108908650038\n",
      "Wrongly selected the first:\n",
      "4 3\n",
      "1892.8088146400296\n",
      "Wrongly selected the first:\n",
      "4 3\n",
      "1921.3876831218474\n",
      "Wrongly selected the first:\n",
      "4 3\n",
      "1956.489306232765\n",
      "Wrongly selected the first:\n",
      "0 1\n",
      "2.365081577228664\n",
      "Wrongly selected the first:\n",
      "4 3\n",
      "1862.6549139192332\n",
      "Wrongly selected the first:\n",
      "4 3\n",
      "1906.3502073390284\n",
      "Wrongly selected the first:\n",
      "4 3\n",
      "1969.0345751174123\n",
      "Wrongly selected the first:\n",
      "6 7\n",
      "147.38158989948067\n",
      "Wrongly selected the first:\n",
      "1 0\n",
      "918.250387417041\n",
      "Wrongly selected the first:\n",
      "2 0\n",
      "1042.4471109690976\n",
      "Wrongly selected the first:\n",
      "0 1\n",
      "1.667104676005271\n",
      "Wrongly selected the first:\n",
      "3 4\n",
      "1977.0825190198125\n",
      "Wrongly selected the first:\n",
      "0 2\n",
      "1095.0518730690478\n",
      "Wrongly selected the first:\n",
      "11 9\n",
      "212.70985095152201\n",
      "Wrongly selected the first:\n",
      "3 4\n",
      "1937.5608835899588\n",
      "Found untrained mask (5, 8) during testing\n",
      "Their submasks starts with:\n",
      "[0. 0. 0. 0. 0. 0. 0. 0. 0. 0.] [0. 0. 0. 0. 0. 0. 0. 0. 0. 0.]\n",
      "Selecting fst by default\n",
      "Wrongly selected the first:\n",
      "9 8\n",
      "1.5664519741427225\n",
      "Wrongly selected the first:\n",
      "0 1\n",
      "876.1032953628958\n",
      "Wrongly selected the first:\n",
      "4 3\n",
      "1925.6081166507768\n",
      "Wrongly selected the first:\n",
      "3 4\n",
      "1908.9323090238945\n",
      "Wrongly selected the first:\n",
      "5 3\n",
      "1102.8469110611\n",
      "Wrongly selected the first:\n",
      "0 1\n",
      "876.5732190704534\n",
      "Wrongly selected the first:\n",
      "8 10\n",
      "558.4183380019534\n",
      "Wrongly selected the first:\n",
      "4 3\n",
      "1928.8689868627657\n",
      "Wrongly selected the first:\n",
      "0 1\n",
      "897.201351243191\n",
      "Wrongly selected the first:\n",
      "3 4\n",
      "1943.5872092981542\n",
      "Wrongly selected the first:\n",
      "3 4\n",
      "1877.8199622056272\n",
      "Wrongly selected the first:\n",
      "3 4\n",
      "1.4305143396641404\n",
      "Wrongly selected the first:\n",
      "3 4\n",
      "1954.2528397934595\n",
      "Wrongly selected the first:\n",
      "0 1\n",
      "809.6561283792269\n",
      "Wrongly selected the first:\n",
      "10 8\n",
      "565.2284970210997\n",
      "Wrongly selected the first:\n",
      "2 1\n",
      "952.7897863437828\n",
      "Wrongly selected the first:\n",
      "9 11\n",
      "2.6121590552983736\n",
      "Wrongly selected the first:\n",
      "3 4\n",
      "1939.774518044583\n",
      "Wrongly selected the first:\n",
      "9 7\n",
      "145.93193262430825\n",
      "Wrongly selected the first:\n",
      "0 2\n",
      "996.9330711331379\n",
      "Wrongly selected the first:\n",
      "3 4\n",
      "1910.1060795298713\n",
      "Wrongly selected the first:\n",
      "9 1\n",
      "309.3399623671316\n",
      "Wrongly selected the first:\n",
      "3 4\n",
      "1957.4679382752945\n",
      "Wrongly selected the first:\n",
      "3 4\n",
      "1906.5539484573924\n",
      "Wrongly selected the first:\n",
      "3 4\n",
      "1.4303611401534586\n",
      "Wrongly selected the first:\n",
      "9 11\n",
      "1.4462208840170876\n",
      "Wrongly selected the first:\n",
      "5 9\n",
      "459.98185728063197\n",
      "Wrongly selected the first:\n",
      "10 8\n",
      "574.4943766317699\n",
      "Wrongly selected the first:\n",
      "4 3\n",
      "1852.9940653259737\n",
      "Wrongly selected the first:\n",
      "4 3\n",
      "1915.8632149398195\n",
      "Wrongly selected the first:\n",
      "9 11\n",
      "218.59924991186352\n",
      "Wrongly selected the first:\n",
      "1 2\n",
      "963.0311841436891\n",
      "Wrongly selected the first:\n",
      "9 1\n",
      "311.78051312057687\n",
      "Wrongly selected the first:\n",
      "4 3\n",
      "2.439968948494135\n",
      "Wrongly selected the first:\n",
      "3 4\n",
      "1929.1950117250462\n",
      "Found untrained mask (3, 10) during testing\n",
      "Their submasks starts with:\n",
      "[0. 0. 0. 0. 0. 0. 0. 0. 0. 0.] [0. 0. 0. 0. 0. 0. 0. 0. 0. 0.]\n",
      "Selecting fst by default\n",
      "Wrongly selected the first:\n",
      "4 3\n",
      "1982.0281362065707\n"
     ]
    }
   ],
   "source": [
    "\n",
    "correct, c_1, c_2, c_r, w_1, w_2, w_3, count, mat =hdc.test_mask(testencoded, testlabels, threshold, dominance, mask_t, mask_d)"
   ]
  },
  {
   "cell_type": "code",
   "execution_count": 20,
   "metadata": {},
   "outputs": [
    {
     "name": "stdout",
     "output_type": "stream",
     "text": [
      "Correct:  1490\n",
      "First is Correct:  1490\n",
      "Wrong second is selected:  0\n",
      "Second is Correct:  54\n",
      "Correct Second is selected:  0\n",
      "Wrong first is selected:  54\n",
      "Out of top 2:  3\n",
      "Net increase in correct cases and accuracy:  0 0.0\n",
      "Potential increase in correct cases and accuracy:  54 0.03490627020038785\n",
      "Total cases: 1547\n",
      "Matrix:\n",
      " [[ 0.  0.  0.  0.  0.  0.  0.  0.  0.  0.  0.  0.]\n",
      " [ 3.  0.  0.  0.  0.  0.  0.  0.  0.  0.  0.  0.]\n",
      " [ 0.  2.  0.  0.  0.  0.  0.  0.  0.  0.  0.  0.]\n",
      " [ 0.  0.  0.  0. 29.  1.  0.  0.  0.  0.  0.  0.]\n",
      " [ 0.  0.  0.  4.  0.  0.  0.  0.  0.  0.  0.  0.]\n",
      " [ 0.  0.  0.  0.  0.  0.  0.  0.  0.  0.  0.  0.]\n",
      " [ 0.  0.  0.  0.  1.  0.  0.  0.  0.  0.  0.  0.]\n",
      " [ 0.  0.  0.  0.  0.  0.  0.  0.  0.  0.  0.  0.]\n",
      " [ 0.  0.  0.  0.  0.  0.  1.  0.  0.  0.  2.  0.]\n",
      " [ 0.  0.  0.  0.  0.  0.  0.  0.  0.  0.  0.  0.]\n",
      " [ 0.  0.  0.  0.  0.  1.  1.  0.  2.  0.  0.  0.]\n",
      " [ 0.  0.  0.  0.  0.  0.  0.  0.  0.  7.  0.  0.]]\n"
     ]
    }
   ],
   "source": [
    "print(\"Correct: \",correct)\n",
    "print(\"First is Correct: \", c_1)\n",
    "print(\"Wrong second is selected: \", w_1)\n",
    "print(\"Second is Correct: \", c_2)\n",
    "print(\"Correct Second is selected: \", c_r)\n",
    "print(\"Wrong first is selected: \", w_2)\n",
    "print(\"Out of top 2: \", w_3)\n",
    "print(\"Net increase in correct cases and accuracy: \", c_r-w_1, (c_r-w_1)/count)\n",
    "print(\"Potential increase in correct cases and accuracy: \", c_2, c_2/count)\n",
    "print(\"Total cases:\", count)\n",
    "print(\"Matrix:\\n\", mat)"
   ]
  },
  {
   "cell_type": "code",
   "execution_count": 22,
   "metadata": {
    "scrolled": false
   },
   "outputs": [
    {
     "name": "stdout",
     "output_type": "stream",
     "text": [
      "1463 91\n",
      "1463\n",
      "Analyzing score with mask type o 2\n",
      "289 68\n",
      "289 68\n"
     ]
    },
    {
     "data": {
      "text/plain": [
       "<matplotlib.legend.Legend at 0x1e08b2261c8>"
      ]
     },
     "execution_count": 22,
     "metadata": {},
     "output_type": "execute_result"
    },
    {
     "data": {
      "image/png": "[encoded data removed]",
      "text/plain": [
       "<Figure size 1440x1440 with 1 Axes>"
      ]
     },
     "metadata": {
      "needs_background": "light"
     },
     "output_type": "display_data"
    },
    {
     "data": {
      "image/png": "[encoded data removed]",
      "text/plain": [
       "<Figure size 1440x1440 with 1 Axes>"
      ]
     },
     "metadata": {
      "needs_background": "light"
     },
     "output_type": "display_data"
    }
   ],
   "source": [
    "fst_r, snd_r = hdc.analyze(testencoded, testlabels)\n",
    "\n",
    "print(len(fst_r), len(snd_r))\n",
    "#beta = max(snd_r)\n",
    "#fst_r = fst_r[fst_r <= beta]\n",
    "print(len(fst_r))\n",
    "\n",
    "\n",
    "\n",
    "fst_mr, snd_mr, fst_scs, snd_scs = hdc.analyze_topn(testencoded, testlabels, dominance, mask_t, mask_d)\n",
    "\n",
    "print(len(fst_mr), len(snd_mr))\n",
    "print(len(fst_scs), len(snd_scs))\n",
    "#print(fst_mr)\n",
    "#print(snd_mr)\n",
    "#print(fst_scs)\n",
    "#print(snd_scs)\n",
    "\n",
    "\n",
    "plt.figure(figsize = (20, 20))\n",
    "plt.hist(np.append(fst_mr,snd_mr), bins = 100, label = \"fst\")\n",
    "plt.hist(snd_mr, bins = 100, label = \"snd\")\n",
    "plt.legend()\n",
    "\n",
    "plt.figure(figsize = (20, 20))\n",
    "plt.hist(np.append(fst_scs,snd_scs), bins = 100, label = \"fst\")\n",
    "plt.hist(snd_scs, bins = 100, label = \"snd\")\n",
    "plt.legend()"
   ]
  },
  {
   "cell_type": "code",
   "execution_count": 22,
   "metadata": {},
   "outputs": [],
   "source": [
    "np.set_printoptions(threshold=sys.maxsize)"
   ]
  },
  {
   "cell_type": "code",
   "execution_count": null,
   "metadata": {},
   "outputs": [],
   "source": []
  }
 ],
 "metadata": {
  "kernelspec": {
   "display_name": "Python 3",
   "language": "python",
   "name": "python3"
  },
  "language_info": {
   "codemirror_mode": {
    "name": "ipython",
    "version": 3
   },
   "file_extension": ".py",
   "mimetype": "text/x-python",
   "name": "python",
   "nbconvert_exporter": "python",
   "pygments_lexer": "ipython3",
   "version": "3.7.4"
  }
 },
 "nbformat": 4,
 "nbformat_minor": 1
}
