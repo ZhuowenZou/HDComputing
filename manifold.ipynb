{
 "cells": [
  {
   "cell_type": "code",
   "execution_count": 1,
   "metadata": {},
   "outputs": [],
   "source": [
    "%load_ext autoreload\n",
    "%autoreload 2"
   ]
  },
  {
   "cell_type": "code",
   "execution_count": 2,
   "metadata": {},
   "outputs": [],
   "source": [
    "import sklearn\n",
    "from sklearn.discriminant_analysis import LinearDiscriminantAnalysis\n",
    "from sklearn.decomposition import PCA\n",
    "import time\n",
    "import sys\n",
    "import math\n",
    "import numpy as np\n",
    "import random\n",
    "import joblib\n",
    "from tqdm import tqdm_notebook\n",
    "\n",
    "import Config\n",
    "import Dataloader as DL\n",
    "import HD_basis as HDB\n",
    "import HD_encoder as HDE\n",
    "import HD_classifier as HDC\n",
    "\n",
    "import sklearn.manifold as skm \n",
    "import sklearn.utils.random as skr # for random sampling \n"
   ]
  },
  {
   "cell_type": "code",
   "execution_count": 3,
   "metadata": {},
   "outputs": [],
   "source": [
    "# train data \n",
    "def train(hdc, traindata, trainlabels, testdata, testlabels, param = Config.config):\n",
    "    train_acc = []\n",
    "    test_acc = []\n",
    "    # Early stopping \n",
    "    epsilon = 0.001\n",
    "    counter = 0\n",
    "    for _ in tqdm_notebook(range(param[\"epochs\"]), desc='epochs'):\n",
    "        train_acc.append(hdc.fit(traindata, trainlabels, param))\n",
    "        test_acc.append(hdc.test(testdata, testlabels))\n",
    "        if len(train_acc) % 5 == 0:\n",
    "            print(\"Train: %f \\t \\t Test: %f\"%(train_acc[-1], test_acc[-1]))\n",
    "        if train_acc[-1] == 1:\n",
    "            print(\"Train: %f \\t \\t Test: %f\"%(train_acc[-1], test_acc[-1]))\n",
    "            break\n",
    "        if max(test_acc) - test_acc[-1] >= epsilon:\n",
    "            counter += 1\n",
    "            #if counter >= 20:\n",
    "            #    sys.stderr.write(\"Early stopping initiated\")\n",
    "            #    print(\"Train: %f \\t \\t Test: %f\"%(train_acc[-1], test_acc[-1]))\n",
    "            #    break\n",
    "        else:\n",
    "            counter = 0\n",
    "    return np.asarray(train_acc), np.asarray(test_acc)"
   ]
  },
  {
   "cell_type": "code",
   "execution_count": 4,
   "metadata": {},
   "outputs": [],
   "source": [
    "def dump_log(param, train_acc, test_acc, filename):\n",
    "    joblib.dump((param, train_acc, test_acc), open(filename+\".pkl\", \"wb\"), compress=True)\n",
    "    file = open(filename+\".txt\", \"a\")\n",
    "    msg = str(100*max(train_acc)) + \" \" + str(100*max(test_acc)) + \" \" +\\\n",
    "        str(len(train_acc)) + \" \" + str(np.argmax(test_acc) + 1) + \"\\n\"\n",
    "    file.write(msg)\n",
    "    file.close()"
   ]
  },
  {
   "cell_type": "code",
   "execution_count": 5,
   "metadata": {},
   "outputs": [],
   "source": [
    "############### ISOMAP ########################\n",
    "# Everyone uses a neighborhood size of 8-12.\n",
    "# If your manifold is more than 2-3 dimensional, then Isomap probably won't work, \n",
    "# you would need to have a neighborhood size that is larger (more points!) so that \n",
    "# you have reasonable options to estimate your geodesic path with links to nearby neighbors.\n",
    "def iso_wrapper(n_neighbors, n_components):\n",
    "    \n",
    "    start = time.time()\n",
    "    isomap = skm.Isomap(n_neighbors, n_components)\n",
    "    isomap.fit(manifolddata)\n",
    "    end = time.time()\n",
    "    # Preparation time \n",
    "    prep_time = int(end - start) \n",
    "    print( \"Prep time: \", prep_time ) \n",
    "    \n",
    "    start = time.time()\n",
    "    trainiso = isomap.transform(traindata)\n",
    "    testiso = isomap.transform(testdata)\n",
    "    end = time.time() \n",
    "    # Transformation time\n",
    "    trans_time = int(end-start)\n",
    "    print( \"Transform time: \", trans_time )\n",
    "\n",
    "    filename = \"./dumper/isomap_data_\"+str(n_neighbors)+\"_\"+str(n_components)+\".pkl\"\n",
    "    joblib.dump((trainiso, trainlabels, testiso, testlabels), open(filename, \"wb\"), compress=True)\n",
    "    \n",
    "    return trainiso, testiso, prep_time, trans_time"
   ]
  },
  {
   "cell_type": "code",
   "execution_count": 6,
   "metadata": {},
   "outputs": [],
   "source": [
    "############### Modified/Hessian Locally Linear Embedding , more ########################\n",
    "\n",
    "def lle_wrapper(n_neighbors, n_components, lle_type = \"modified\"):\n",
    "    \n",
    "    start = time.time()\n",
    "    lle = skm.LocallyLinearEmbedding(n_neighbors, n_components, method = lle_type)\n",
    "    lle.fit(manifolddata)\n",
    "    end = time.time()\n",
    "    prep_time = int(end - start) \n",
    "    print( prep_time ) \n",
    "\n",
    "    start = time.time()\n",
    "    trainlle = lle.transform(traindata)\n",
    "    testlle = lle.transform(testdata)\n",
    "    end = time.time()\n",
    "    trans_time = int(end-start)\n",
    "    print( trans_time )\n",
    "\n",
    "    filename = \"./dumper/\"+lle_type+\"_data_\"+str(n_neighbors)+\"_\"+str(n_components)+\".pkl\"\n",
    "    joblib.dump((trainlle, trainlabels, testlle, testlabels), open(filename, \"wb\"), compress=True)\n",
    "\n",
    "    return trainlle, testlle, prep_time, trans_time"
   ]
  },
  {
   "cell_type": "code",
   "execution_count": 7,
   "metadata": {},
   "outputs": [],
   "source": [
    "############### Spectral Embedding ########################\n",
    "############### Multi-dimensional Scaling ########################\n",
    "############### t-distributed Stochastic Neighbor Embedding #######\n",
    "# No online learning version; has to input full data"
   ]
  },
  {
   "cell_type": "code",
   "execution_count": null,
   "metadata": {},
   "outputs": [],
   "source": []
  },
  {
   "cell_type": "code",
   "execution_count": 8,
   "metadata": {},
   "outputs": [
    {
     "name": "stderr",
     "output_type": "stream",
     "text": [
      "Loading dataset UCIHAR from UCIHAR\n",
      "Loading train data... train data of shape (6213, 561) loaded\n",
      "Loading test data...  test  data of shape (1554, 561) loaded\n",
      "Data Loaded. Num of features = 561 Num of Classes = 12"
     ]
    }
   ],
   "source": [
    "dl = DL.Dataloader()\n",
    "nFeatures, nClasses, traindata, trainlabels, testdata, testlabels = dl.getParam()"
   ]
  },
  {
   "cell_type": "code",
   "execution_count": 9,
   "metadata": {},
   "outputs": [],
   "source": [
    "# data cropping\n",
    "traindata = traindata[:25000]\n",
    "testdata = testdata[:5000]"
   ]
  },
  {
   "cell_type": "code",
   "execution_count": 10,
   "metadata": {},
   "outputs": [
    {
     "name": "stdout",
     "output_type": "stream",
     "text": [
      "[5 4 4 ... 4 5 5]\n"
     ]
    }
   ],
   "source": [
    "print(trainlabels)"
   ]
  },
  {
   "cell_type": "code",
   "execution_count": 11,
   "metadata": {},
   "outputs": [
    {
     "name": "stdout",
     "output_type": "stream",
     "text": [
      "{'data_location': '../dataset/', 'directory': 'UCIHAR', 'dataset': 'UCIHAR', 'D': 2500, 'vector': 'Gaussian', 'mu': 0, 'sigma': 1, 'binarize': 0, 'lr': 0.037, 'sparse': 0, 's': 0.1, 'binaryModel': 0, 'width': None, 'height': None, 'nLayers': 5, 'uniform_dim': 1, 'uniform_ker': 1, 'dArr': None, 'k': 5, 'kArr': None, 'one_shot': 0, 'data_percentages': [1.0, 0.01, 0.02, 0.05, 0.1, 0.2, 0.5], 'train_percent': 1, 'dropout': 0, 'drop_percentages': [0, 0.1, 0.2, 0.5], 'dropout_rate': 0, 'update_type': <Update_T.FULL: 1>, 'iter_per_trial': 3, 'iter_per_encoding': 5, 'epochs': 250, 'nFeatures': 561, 'nClasses': 12}\n"
     ]
    }
   ],
   "source": [
    "param = Config.config\n",
    "param[\"nFeatures\"] = nFeatures\n",
    "param[\"nClasses\"] = nClasses\n",
    "print(param)"
   ]
  },
  {
   "cell_type": "code",
   "execution_count": 12,
   "metadata": {},
   "outputs": [],
   "source": [
    "# Sample code for running manifolding learning data\n",
    "# Random sampling for manifold \n",
    "\n",
    "# manifoldlist = skr.sample_without_replacement(len(traindata), 2000)\n",
    "# manifolddata = np.asfarray(traindata[np.asarray(manifoldlist)])\n",
    "# n_neighbors = 200\n",
    "# n_components  = 25\n",
    "# param[\"nFeatures\"] = n_components\n",
    "# param[\"manifold\"] = \"modified\"\n",
    "# traintrans, testtrans, prep_time, trans_time = mlle_wrapper(n_neighbors, n_components)"
   ]
  },
  {
   "cell_type": "code",
   "execution_count": 13,
   "metadata": {},
   "outputs": [],
   "source": [
    "# Sample code for running basiline data \n",
    "# param[\"nFeatures\"] = nFeatures\n",
    "# param[\"manifold\"] = \"baseline\"\n",
    "# traintrans, testtrans = traindata, testdata"
   ]
  },
  {
   "cell_type": "code",
   "execution_count": 14,
   "metadata": {},
   "outputs": [],
   "source": [
    "################# VANILLA #################\n",
    "def vanilla_train(param):\n",
    "    hdb = HDB.HD_basis(HDB.Generator.Vanilla, param)\n",
    "    basis = hdb.getBasis()\n",
    "    bid = hdb.getParam()[\"id\"]\n",
    "    # Update param with bid\n",
    "    param = hdb.getParam()\n",
    "    print(bid)\n",
    "\n",
    "    hde = HDE.HD_encoder(basis)\n",
    "    trainencoded = hde.encodeData(traintrans)\n",
    "    #trainencoded = hde.encodeData(traindata)\n",
    "    HDE.saveEncoded(trainencoded, trainlabels, bid, \"train\")\n",
    "    testencoded = hde.encodeData(testtrans)\n",
    "    #testencoded = hde.encodeData(testdata)\n",
    "    HDE.saveEncoded(testencoded, testlabels, bid, \"test\")\n",
    "\n",
    "    train_accs = []\n",
    "    test_accs = []\n",
    "    # Should have 95%\n",
    "    for i in range(param[\"iter_per_encoding\"]):\n",
    "        hdc = HDC.HD_classifier(param[\"D\"], param[\"nClasses\"], bid)\n",
    "        train_acc, test_acc = train(hdc, trainencoded, trainlabels, testencoded, testlabels, param)\n",
    "        train_accs.append(train_acc)\n",
    "        test_accs.append(test_acc)\n",
    "    \n",
    "    return train_accs, test_accs\n"
   ]
  },
  {
   "cell_type": "code",
   "execution_count": 15,
   "metadata": {
    "scrolled": true
   },
   "outputs": [
    {
     "name": "stderr",
     "output_type": "stream",
     "text": [
      "Generating vanilla HD basis of shape... "
     ]
    },
    {
     "data": {
      "application/vnd.jupyter.widget-view+json": {
       "model_id": "5354a6356d72460d8a0e3c007c65e827",
       "version_major": 2,
       "version_minor": 0
      },
      "text/plain": [
       "HBox(children=(IntProgress(value=0, description='vectors', style=ProgressStyle(description_width='initial')), …"
      ]
     },
     "metadata": {},
     "output_type": "display_data"
    },
    {
     "name": "stdout",
     "output_type": "stream",
     "text": [
      "\n",
      "6036\n"
     ]
    },
    {
     "name": "stderr",
     "output_type": "stream",
     "text": [
      "(100, 561)\n",
      "Encoding time: 0.027463436126708984 \n",
      "Dumping basis into file: base_6036.pkl \n",
      "Encoding data of shape (6213, 561)\n"
     ]
    },
    {
     "data": {
      "application/vnd.jupyter.widget-view+json": {
       "model_id": "bf8dbe439a42475a9e32a422012809ac",
       "version_major": 2,
       "version_minor": 0
      },
      "text/plain": [
       "HBox(children=(IntProgress(value=0, description='samples encoded', max=6213, style=ProgressStyle(description_w…"
      ]
     },
     "metadata": {},
     "output_type": "display_data"
    },
    {
     "name": "stdout",
     "output_type": "stream",
     "text": [
      "\n"
     ]
    },
    {
     "name": "stderr",
     "output_type": "stream",
     "text": [
      "Time spent: 3 sec\n",
      "Dumping data into encoded_6036_train.pkl \n",
      "Encoding data of shape (1554, 561)\n"
     ]
    },
    {
     "data": {
      "application/vnd.jupyter.widget-view+json": {
       "model_id": "9b224b4708334e39a8089a4c59f73575",
       "version_major": 2,
       "version_minor": 0
      },
      "text/plain": [
       "HBox(children=(IntProgress(value=0, description='samples encoded', max=1554, style=ProgressStyle(description_w…"
      ]
     },
     "metadata": {},
     "output_type": "display_data"
    },
    {
     "name": "stdout",
     "output_type": "stream",
     "text": [
      "\n"
     ]
    },
    {
     "name": "stderr",
     "output_type": "stream",
     "text": [
      "Time spent: 0 sec\n",
      "Dumping data into encoded_6036_test.pkl \n",
      "c:\\program files (x86)\\microsoft visual studio\\shared\\python37_64\\lib\\site-packages\\ipykernel_launcher.py:8: TqdmDeprecationWarning: This function will be removed in tqdm==5.0.0\n",
      "Please use `tqdm.notebook.tqdm` instead of `tqdm.tqdm_notebook`\n",
      "  \n"
     ]
    },
    {
     "data": {
      "application/vnd.jupyter.widget-view+json": {
       "model_id": "bc28072416374d1d98610b457000d592",
       "version_major": 2,
       "version_minor": 0
      },
      "text/plain": [
       "HBox(children=(IntProgress(value=0, description='epochs', max=250, style=ProgressStyle(description_width='init…"
      ]
     },
     "metadata": {},
     "output_type": "display_data"
    },
    {
     "name": "stderr",
     "output_type": "stream",
     "text": [
      "Fitting with configuration: [('one_shot', 0), ('dropout', 0), ('lr', 0.037)] \n"
     ]
    },
    {
     "name": "stdout",
     "output_type": "stream",
     "text": [
      "Train: 0.882343 \t \t Test: 0.900257\n",
      "Train: 0.906486 \t \t Test: 0.890605\n",
      "Train: 0.911315 \t \t Test: 0.909910\n",
      "Train: 0.916626 \t \t Test: 0.909266\n",
      "Train: 0.923386 \t \t Test: 0.916988\n",
      "Train: 0.923708 \t \t Test: 0.846847\n",
      "Train: 0.923225 \t \t Test: 0.916988\n",
      "Train: 0.929020 \t \t Test: 0.917632\n",
      "Train: 0.928054 \t \t Test: 0.918275\n",
      "Train: 0.933044 \t \t Test: 0.918275\n",
      "Train: 0.929181 \t \t Test: 0.914414\n",
      "Train: 0.928054 \t \t Test: 0.909910\n",
      "Train: 0.929503 \t \t Test: 0.915058\n",
      "Train: 0.935458 \t \t Test: 0.919562\n",
      "Train: 0.931756 \t \t Test: 0.916345\n",
      "Train: 0.936263 \t \t Test: 0.918919\n",
      "Train: 0.930790 \t \t Test: 0.900901\n",
      "Train: 0.937389 \t \t Test: 0.918275\n",
      "Train: 0.936746 \t \t Test: 0.898327\n",
      "Train: 0.931917 \t \t Test: 0.870656\n",
      "Train: 0.938999 \t \t Test: 0.908623\n",
      "Train: 0.936906 \t \t Test: 0.908623\n",
      "Train: 0.939804 \t \t Test: 0.911197\n",
      "Train: 0.938516 \t \t Test: 0.872587\n",
      "Train: 0.943506 \t \t Test: 0.915701\n",
      "Train: 0.941735 \t \t Test: 0.907336\n",
      "Train: 0.942218 \t \t Test: 0.902831\n",
      "Train: 0.941574 \t \t Test: 0.918275\n",
      "Train: 0.941252 \t \t Test: 0.918275\n",
      "Train: 0.939160 \t \t Test: 0.911197\n",
      "Train: 0.940930 \t \t Test: 0.915701\n",
      "Train: 0.939804 \t \t Test: 0.839125\n",
      "Train: 0.934331 \t \t Test: 0.918275\n",
      "Train: 0.939965 \t \t Test: 0.911197\n",
      "Train: 0.937872 \t \t Test: 0.914414\n",
      "Train: 0.940608 \t \t Test: 0.918919\n",
      "Train: 0.939643 \t \t Test: 0.917632\n",
      "Train: 0.940447 \t \t Test: 0.918919\n",
      "Train: 0.943827 \t \t Test: 0.905405\n",
      "Train: 0.940930 \t \t Test: 0.907979\n",
      "Train: 0.942057 \t \t Test: 0.918275\n",
      "Train: 0.939804 \t \t Test: 0.910553\n",
      "Train: 0.935619 \t \t Test: 0.864221\n",
      "Train: 0.939643 \t \t Test: 0.918275\n",
      "Train: 0.939643 \t \t Test: 0.877091\n",
      "Train: 0.940769 \t \t Test: 0.900901\n",
      "Train: 0.942218 \t \t Test: 0.872587\n",
      "Train: 0.941896 \t \t Test: 0.908623\n",
      "Train: 0.942218 \t \t Test: 0.917632\n",
      "Train: 0.942057 \t \t Test: 0.918919\n",
      "\n"
     ]
    },
    {
     "data": {
      "application/vnd.jupyter.widget-view+json": {
       "model_id": "fe104a9645aa47fd9ea1038c8d08b519",
       "version_major": 2,
       "version_minor": 0
      },
      "text/plain": [
       "HBox(children=(IntProgress(value=0, description='epochs', max=250, style=ProgressStyle(description_width='init…"
      ]
     },
     "metadata": {},
     "output_type": "display_data"
    },
    {
     "name": "stderr",
     "output_type": "stream",
     "text": [
      "Fitting with configuration: [('one_shot', 0), ('dropout', 0), ('lr', 0.037)] \n"
     ]
    },
    {
     "name": "stdout",
     "output_type": "stream",
     "text": [
      "Train: 0.880251 \t \t Test: 0.823037\n",
      "Train: 0.901497 \t \t Test: 0.916345\n",
      "Train: 0.905199 \t \t Test: 0.915058\n",
      "Train: 0.914212 \t \t Test: 0.912484\n",
      "Train: 0.920811 \t \t Test: 0.901544\n",
      "Train: 0.925962 \t \t Test: 0.888674\n",
      "Train: 0.924352 \t \t Test: 0.916988\n",
      "Train: 0.922421 \t \t Test: 0.903475\n",
      "Train: 0.927410 \t \t Test: 0.913127\n",
      "Train: 0.929986 \t \t Test: 0.888674\n",
      "Train: 0.926927 \t \t Test: 0.910553\n",
      "Train: 0.929181 \t \t Test: 0.888674\n",
      "Train: 0.935458 \t \t Test: 0.901544\n",
      "Train: 0.934653 \t \t Test: 0.914414\n",
      "Train: 0.935780 \t \t Test: 0.906692\n",
      "Train: 0.938355 \t \t Test: 0.850708\n",
      "Train: 0.935297 \t \t Test: 0.902831\n",
      "Train: 0.937067 \t \t Test: 0.913771\n",
      "Train: 0.932883 \t \t Test: 0.909910\n",
      "Train: 0.935941 \t \t Test: 0.904762\n",
      "Train: 0.932239 \t \t Test: 0.915058\n",
      "Train: 0.934331 \t \t Test: 0.917632\n",
      "Train: 0.941735 \t \t Test: 0.919562\n",
      "Train: 0.936424 \t \t Test: 0.910553\n",
      "Train: 0.938999 \t \t Test: 0.908623\n",
      "Train: 0.941091 \t \t Test: 0.906692\n",
      "Train: 0.934331 \t \t Test: 0.922780\n",
      "Train: 0.940447 \t \t Test: 0.901544\n",
      "Train: 0.938033 \t \t Test: 0.913127\n",
      "Train: 0.940126 \t \t Test: 0.911197\n",
      "Train: 0.938677 \t \t Test: 0.915701\n",
      "Train: 0.938355 \t \t Test: 0.859073\n",
      "Train: 0.943023 \t \t Test: 0.916345\n",
      "Train: 0.938194 \t \t Test: 0.918919\n",
      "Train: 0.942057 \t \t Test: 0.914414\n",
      "Train: 0.937711 \t \t Test: 0.890605\n",
      "Train: 0.940447 \t \t Test: 0.913771\n",
      "Train: 0.941735 \t \t Test: 0.898970\n",
      "Train: 0.942379 \t \t Test: 0.911840\n",
      "Train: 0.945920 \t \t Test: 0.908623\n",
      "Train: 0.937711 \t \t Test: 0.915058\n",
      "Train: 0.941413 \t \t Test: 0.897040\n",
      "Train: 0.942379 \t \t Test: 0.909910\n",
      "Train: 0.939804 \t \t Test: 0.917632\n",
      "Train: 0.941252 \t \t Test: 0.916345\n",
      "Train: 0.942701 \t \t Test: 0.916345\n",
      "Train: 0.945437 \t \t Test: 0.870013\n",
      "Train: 0.939321 \t \t Test: 0.904762\n",
      "Train: 0.945437 \t \t Test: 0.875161\n",
      "Train: 0.941252 \t \t Test: 0.907979\n",
      "\n"
     ]
    },
    {
     "data": {
      "application/vnd.jupyter.widget-view+json": {
       "model_id": "7763ecb7364d418ea551d184b577f8e9",
       "version_major": 2,
       "version_minor": 0
      },
      "text/plain": [
       "HBox(children=(IntProgress(value=0, description='epochs', max=250, style=ProgressStyle(description_width='init…"
      ]
     },
     "metadata": {},
     "output_type": "display_data"
    },
    {
     "name": "stderr",
     "output_type": "stream",
     "text": [
      "Fitting with configuration: [('one_shot', 0), ('dropout', 0), ('lr', 0.037)] \n"
     ]
    },
    {
     "name": "stdout",
     "output_type": "stream",
     "text": [
      "Train: 0.880573 \t \t Test: 0.886744\n",
      "Train: 0.897151 \t \t Test: 0.873230\n",
      "Train: 0.912925 \t \t Test: 0.895753\n",
      "Train: 0.906808 \t \t Test: 0.912484\n",
      "Train: 0.920328 \t \t Test: 0.920206\n",
      "Train: 0.921294 \t \t Test: 0.907979\n",
      "Train: 0.925479 \t \t Test: 0.909910\n",
      "Train: 0.922743 \t \t Test: 0.875161\n",
      "Train: 0.929342 \t \t Test: 0.918919\n",
      "Train: 0.930790 \t \t Test: 0.904118\n",
      "Train: 0.930468 \t \t Test: 0.912484\n",
      "Train: 0.931273 \t \t Test: 0.898327\n",
      "Train: 0.935619 \t \t Test: 0.922780\n",
      "Train: 0.930307 \t \t Test: 0.918275\n",
      "Train: 0.933687 \t \t Test: 0.890605\n",
      "Train: 0.932883 \t \t Test: 0.919562\n",
      "Train: 0.935780 \t \t Test: 0.911840\n",
      "Train: 0.936263 \t \t Test: 0.915058\n",
      "Train: 0.932239 \t \t Test: 0.884813\n",
      "Train: 0.939482 \t \t Test: 0.919562\n",
      "Train: 0.933044 \t \t Test: 0.876448\n",
      "Train: 0.937711 \t \t Test: 0.853282\n",
      "Train: 0.937550 \t \t Test: 0.920849\n",
      "Train: 0.941252 \t \t Test: 0.916345\n",
      "Train: 0.936906 \t \t Test: 0.917632\n",
      "Train: 0.939321 \t \t Test: 0.913127\n",
      "Train: 0.933366 \t \t Test: 0.915058\n",
      "Train: 0.941735 \t \t Test: 0.911197\n",
      "Train: 0.942218 \t \t Test: 0.920206\n",
      "Train: 0.940608 \t \t Test: 0.907979\n",
      "Train: 0.943988 \t \t Test: 0.869369\n",
      "Train: 0.940769 \t \t Test: 0.909910\n",
      "Train: 0.938194 \t \t Test: 0.896396\n",
      "Train: 0.939643 \t \t Test: 0.907336\n",
      "Train: 0.942862 \t \t Test: 0.859073\n",
      "Train: 0.940769 \t \t Test: 0.902831\n",
      "Train: 0.938033 \t \t Test: 0.919562\n",
      "Train: 0.941896 \t \t Test: 0.904118\n",
      "Train: 0.946242 \t \t Test: 0.922780\n",
      "Train: 0.939965 \t \t Test: 0.917632\n",
      "Train: 0.940447 \t \t Test: 0.884170\n",
      "Train: 0.942540 \t \t Test: 0.915058\n",
      "Train: 0.942701 \t \t Test: 0.915058\n",
      "Train: 0.939321 \t \t Test: 0.903475\n",
      "Train: 0.942701 \t \t Test: 0.907979\n",
      "Train: 0.939482 \t \t Test: 0.917632\n",
      "Train: 0.945115 \t \t Test: 0.901544\n",
      "Train: 0.941735 \t \t Test: 0.919562\n",
      "Train: 0.941574 \t \t Test: 0.914414\n",
      "Train: 0.942701 \t \t Test: 0.911197\n",
      "\n"
     ]
    },
    {
     "data": {
      "application/vnd.jupyter.widget-view+json": {
       "model_id": "8df05ad1f1eb47759a82c582a018ef46",
       "version_major": 2,
       "version_minor": 0
      },
      "text/plain": [
       "HBox(children=(IntProgress(value=0, description='epochs', max=250, style=ProgressStyle(description_width='init…"
      ]
     },
     "metadata": {},
     "output_type": "display_data"
    },
    {
     "name": "stderr",
     "output_type": "stream",
     "text": [
      "Fitting with configuration: [('one_shot', 0), ('dropout', 0), ('lr', 0.037)] \n"
     ]
    },
    {
     "name": "stdout",
     "output_type": "stream",
     "text": [
      "Train: 0.884919 \t \t Test: 0.850708\n",
      "Train: 0.898600 \t \t Test: 0.916345\n",
      "Train: 0.908740 \t \t Test: 0.912484\n",
      "Train: 0.912925 \t \t Test: 0.897683\n",
      "Train: 0.923065 \t \t Test: 0.917632\n",
      "Train: 0.923869 \t \t Test: 0.898327\n",
      "Train: 0.930307 \t \t Test: 0.913127\n",
      "Train: 0.925962 \t \t Test: 0.918919\n",
      "Train: 0.934331 \t \t Test: 0.899614\n",
      "Train: 0.932239 \t \t Test: 0.898970\n",
      "Train: 0.928054 \t \t Test: 0.922780\n",
      "Train: 0.932722 \t \t Test: 0.904762\n",
      "Train: 0.935780 \t \t Test: 0.883526\n",
      "Train: 0.935297 \t \t Test: 0.902831\n",
      "Train: 0.934331 \t \t Test: 0.917632\n",
      "Train: 0.933687 \t \t Test: 0.895109\n",
      "Train: 0.932722 \t \t Test: 0.906049\n",
      "Train: 0.938033 \t \t Test: 0.917632\n",
      "Train: 0.942862 \t \t Test: 0.897040\n",
      "Train: 0.931112 \t \t Test: 0.917632\n",
      "Train: 0.935458 \t \t Test: 0.901544\n",
      "Train: 0.938194 \t \t Test: 0.893179\n",
      "Train: 0.935136 \t \t Test: 0.912484\n",
      "Train: 0.939160 \t \t Test: 0.875161\n",
      "Train: 0.938516 \t \t Test: 0.914414\n",
      "Train: 0.937067 \t \t Test: 0.900257\n",
      "Train: 0.937389 \t \t Test: 0.918919\n",
      "Train: 0.941413 \t \t Test: 0.914414\n",
      "Train: 0.938838 \t \t Test: 0.915701\n",
      "Train: 0.942540 \t \t Test: 0.902831\n",
      "Train: 0.935780 \t \t Test: 0.864865\n",
      "Train: 0.936424 \t \t Test: 0.907336\n",
      "Train: 0.940447 \t \t Test: 0.922136\n",
      "Train: 0.939643 \t \t Test: 0.893179\n",
      "Train: 0.938999 \t \t Test: 0.907979\n",
      "Train: 0.939804 \t \t Test: 0.920206\n",
      "Train: 0.942701 \t \t Test: 0.918275\n",
      "Train: 0.941091 \t \t Test: 0.909910\n",
      "Train: 0.941896 \t \t Test: 0.915701\n",
      "Train: 0.940286 \t \t Test: 0.913771\n",
      "Train: 0.944310 \t \t Test: 0.911197\n",
      "Train: 0.941574 \t \t Test: 0.922136\n",
      "Train: 0.940608 \t \t Test: 0.915701\n",
      "Train: 0.938516 \t \t Test: 0.917632\n",
      "Train: 0.940126 \t \t Test: 0.918275\n",
      "Train: 0.943827 \t \t Test: 0.908623\n",
      "Train: 0.943667 \t \t Test: 0.910553\n",
      "Train: 0.938677 \t \t Test: 0.884813\n",
      "Train: 0.939160 \t \t Test: 0.910553\n",
      "Train: 0.939482 \t \t Test: 0.918275\n",
      "\n"
     ]
    },
    {
     "data": {
      "application/vnd.jupyter.widget-view+json": {
       "model_id": "e68254a5e7574b5b86e5bccdaf54e0c7",
       "version_major": 2,
       "version_minor": 0
      },
      "text/plain": [
       "HBox(children=(IntProgress(value=0, description='epochs', max=250, style=ProgressStyle(description_width='init…"
      ]
     },
     "metadata": {},
     "output_type": "display_data"
    },
    {
     "name": "stderr",
     "output_type": "stream",
     "text": [
      "Fitting with configuration: [('one_shot', 0), ('dropout', 0), ('lr', 0.037)] \n"
     ]
    },
    {
     "name": "stdout",
     "output_type": "stream",
     "text": [
      "Train: 0.879768 \t \t Test: 0.915058\n",
      "Train: 0.905199 \t \t Test: 0.889318\n",
      "Train: 0.909384 \t \t Test: 0.862291\n",
      "Train: 0.918880 \t \t Test: 0.907336\n",
      "Train: 0.916948 \t \t Test: 0.879022\n",
      "Train: 0.924513 \t \t Test: 0.912484\n",
      "Train: 0.920167 \t \t Test: 0.913771\n",
      "Train: 0.923547 \t \t Test: 0.924710\n",
      "Train: 0.923869 \t \t Test: 0.919562\n",
      "Train: 0.933526 \t \t Test: 0.909266\n",
      "Train: 0.929664 \t \t Test: 0.849421\n",
      "Train: 0.932400 \t \t Test: 0.918275\n",
      "Train: 0.932078 \t \t Test: 0.922136\n",
      "Train: 0.934009 \t \t Test: 0.864221\n",
      "Train: 0.937711 \t \t Test: 0.871943\n",
      "Train: 0.933848 \t \t Test: 0.918275\n",
      "Train: 0.936424 \t \t Test: 0.909266\n",
      "Train: 0.931434 \t \t Test: 0.898970\n",
      "Train: 0.938033 \t \t Test: 0.913127\n",
      "Train: 0.938677 \t \t Test: 0.904118\n",
      "Train: 0.940447 \t \t Test: 0.907336\n",
      "Train: 0.940447 \t \t Test: 0.911840\n",
      "Train: 0.937067 \t \t Test: 0.912484\n",
      "Train: 0.938516 \t \t Test: 0.918919\n",
      "Train: 0.934653 \t \t Test: 0.915701\n",
      "Train: 0.938033 \t \t Test: 0.924710\n",
      "Train: 0.941896 \t \t Test: 0.917632\n",
      "Train: 0.936102 \t \t Test: 0.913771\n",
      "Train: 0.938999 \t \t Test: 0.894466\n",
      "Train: 0.939482 \t \t Test: 0.913771\n",
      "Train: 0.938838 \t \t Test: 0.915701\n",
      "Train: 0.942057 \t \t Test: 0.912484\n",
      "Train: 0.936102 \t \t Test: 0.919562\n",
      "Train: 0.940930 \t \t Test: 0.916988\n",
      "Train: 0.935619 \t \t Test: 0.919562\n",
      "Train: 0.944149 \t \t Test: 0.919562\n",
      "Train: 0.942379 \t \t Test: 0.911840\n",
      "Train: 0.937711 \t \t Test: 0.898327\n",
      "Train: 0.946886 \t \t Test: 0.888031\n",
      "Train: 0.943667 \t \t Test: 0.917632\n",
      "Train: 0.945276 \t \t Test: 0.916345\n",
      "Train: 0.939804 \t \t Test: 0.916345\n",
      "Train: 0.940769 \t \t Test: 0.913127\n",
      "Train: 0.939321 \t \t Test: 0.910553\n",
      "Train: 0.943827 \t \t Test: 0.914414\n",
      "Train: 0.943345 \t \t Test: 0.915701\n",
      "Train: 0.943988 \t \t Test: 0.916988\n",
      "Train: 0.945759 \t \t Test: 0.919562\n",
      "Train: 0.940930 \t \t Test: 0.923423\n",
      "Train: 0.943667 \t \t Test: 0.918275\n",
      "\n"
     ]
    },
    {
     "name": "stderr",
     "output_type": "stream",
     "text": [
      "Generating vanilla HD basis of shape... "
     ]
    },
    {
     "data": {
      "application/vnd.jupyter.widget-view+json": {
       "model_id": "09ab8096ab114cc3beeb9d011735b6b8",
       "version_major": 2,
       "version_minor": 0
      },
      "text/plain": [
       "HBox(children=(IntProgress(value=0, description='vectors', max=200, style=ProgressStyle(description_width='ini…"
      ]
     },
     "metadata": {},
     "output_type": "display_data"
    },
    {
     "name": "stdout",
     "output_type": "stream",
     "text": [
      "\n",
      "6253\n"
     ]
    },
    {
     "name": "stderr",
     "output_type": "stream",
     "text": [
      "(200, 561)\n",
      "Encoding time: 0.03202199935913086 \n",
      "Dumping basis into file: base_6253.pkl \n",
      "Encoding data of shape (6213, 561)\n"
     ]
    },
    {
     "data": {
      "application/vnd.jupyter.widget-view+json": {
       "model_id": "964f978de84a427786481ba0871b0086",
       "version_major": 2,
       "version_minor": 0
      },
      "text/plain": [
       "HBox(children=(IntProgress(value=0, description='samples encoded', max=6213, style=ProgressStyle(description_w…"
      ]
     },
     "metadata": {},
     "output_type": "display_data"
    },
    {
     "name": "stdout",
     "output_type": "stream",
     "text": [
      "\n"
     ]
    },
    {
     "name": "stderr",
     "output_type": "stream",
     "text": [
      "Time spent: 7 sec\n",
      "Dumping data into encoded_6253_train.pkl \n",
      "Encoding data of shape (1554, 561)\n"
     ]
    },
    {
     "data": {
      "application/vnd.jupyter.widget-view+json": {
       "model_id": "1e504d7fefd8452389fa0c35c69b156a",
       "version_major": 2,
       "version_minor": 0
      },
      "text/plain": [
       "HBox(children=(IntProgress(value=0, description='samples encoded', max=1554, style=ProgressStyle(description_w…"
      ]
     },
     "metadata": {},
     "output_type": "display_data"
    },
    {
     "name": "stdout",
     "output_type": "stream",
     "text": [
      "\n"
     ]
    },
    {
     "name": "stderr",
     "output_type": "stream",
     "text": [
      "Time spent: 1 sec\n",
      "Dumping data into encoded_6253_test.pkl \n"
     ]
    },
    {
     "data": {
      "application/vnd.jupyter.widget-view+json": {
       "model_id": "ec0103971b684897bf84fe651344b072",
       "version_major": 2,
       "version_minor": 0
      },
      "text/plain": [
       "HBox(children=(IntProgress(value=0, description='epochs', max=250, style=ProgressStyle(description_width='init…"
      ]
     },
     "metadata": {},
     "output_type": "display_data"
    },
    {
     "name": "stderr",
     "output_type": "stream",
     "text": [
      "Fitting with configuration: [('one_shot', 0), ('dropout', 0), ('lr', 0.037)] \n"
     ]
    },
    {
     "name": "stdout",
     "output_type": "stream",
     "text": [
      "Train: 0.917914 \t \t Test: 0.918275\n",
      "Train: 0.941091 \t \t Test: 0.913127\n",
      "Train: 0.946403 \t \t Test: 0.946589\n",
      "Train: 0.958796 \t \t Test: 0.955598\n",
      "Train: 0.958152 \t \t Test: 0.950450\n",
      "Train: 0.963142 \t \t Test: 0.939511\n",
      "Train: 0.961854 \t \t Test: 0.956885\n",
      "Train: 0.967809 \t \t Test: 0.949807\n",
      "Train: 0.972960 \t \t Test: 0.958816\n",
      "Train: 0.970868 \t \t Test: 0.913127\n",
      "Train: 0.968131 \t \t Test: 0.958172\n",
      "Train: 0.969419 \t \t Test: 0.962677\n",
      "Train: 0.974569 \t \t Test: 0.950450\n",
      "Train: 0.975213 \t \t Test: 0.944659\n",
      "Train: 0.970707 \t \t Test: 0.940798\n",
      "Train: 0.971511 \t \t Test: 0.929215\n",
      "Train: 0.975696 \t \t Test: 0.954311\n",
      "Train: 0.975857 \t \t Test: 0.954311\n",
      "Train: 0.977306 \t \t Test: 0.956242\n",
      "Train: 0.978915 \t \t Test: 0.965251\n",
      "Train: 0.975052 \t \t Test: 0.945302\n",
      "Train: 0.975535 \t \t Test: 0.963320\n",
      "Train: 0.976984 \t \t Test: 0.952381\n",
      "Train: 0.976501 \t \t Test: 0.962677\n",
      "Train: 0.974891 \t \t Test: 0.959459\n",
      "Train: 0.976662 \t \t Test: 0.965251\n",
      "Train: 0.981651 \t \t Test: 0.961390\n",
      "Train: 0.976984 \t \t Test: 0.965251\n",
      "Train: 0.975374 \t \t Test: 0.936293\n",
      "Train: 0.976662 \t \t Test: 0.963320\n",
      "Train: 0.975857 \t \t Test: 0.960746\n",
      "Train: 0.978432 \t \t Test: 0.965251\n",
      "Train: 0.979237 \t \t Test: 0.958816\n",
      "Train: 0.978271 \t \t Test: 0.943372\n",
      "Train: 0.979720 \t \t Test: 0.958816\n",
      "Train: 0.981812 \t \t Test: 0.962033\n",
      "Train: 0.982617 \t \t Test: 0.952381\n",
      "Train: 0.979881 \t \t Test: 0.952381\n",
      "Train: 0.978432 \t \t Test: 0.953668\n",
      "Train: 0.978110 \t \t Test: 0.960746\n",
      "Train: 0.979559 \t \t Test: 0.955598\n",
      "Train: 0.976340 \t \t Test: 0.958172\n",
      "Train: 0.982778 \t \t Test: 0.943372\n",
      "Train: 0.981329 \t \t Test: 0.963320\n",
      "Train: 0.981169 \t \t Test: 0.951737\n",
      "Train: 0.982617 \t \t Test: 0.952381\n",
      "Train: 0.981651 \t \t Test: 0.936937\n",
      "Train: 0.979398 \t \t Test: 0.956885\n",
      "Train: 0.985192 \t \t Test: 0.926641\n",
      "Train: 0.981008 \t \t Test: 0.960746\n",
      "\n"
     ]
    },
    {
     "data": {
      "application/vnd.jupyter.widget-view+json": {
       "model_id": "1164bf6eef8a4d588bd0cb588906a5ba",
       "version_major": 2,
       "version_minor": 0
      },
      "text/plain": [
       "HBox(children=(IntProgress(value=0, description='epochs', max=250, style=ProgressStyle(description_width='init…"
      ]
     },
     "metadata": {},
     "output_type": "display_data"
    },
    {
     "name": "stderr",
     "output_type": "stream",
     "text": [
      "Fitting with configuration: [('one_shot', 0), ('dropout', 0), ('lr', 0.037)] \n"
     ]
    },
    {
     "name": "stdout",
     "output_type": "stream",
     "text": [
      "Train: 0.920811 \t \t Test: 0.931145\n",
      "Train: 0.936585 \t \t Test: 0.947233\n",
      "Train: 0.953163 \t \t Test: 0.942728\n",
      "Train: 0.956543 \t \t Test: 0.935650\n",
      "Train: 0.959118 \t \t Test: 0.945946\n",
      "Train: 0.963142 \t \t Test: 0.940154\n",
      "Train: 0.963625 \t \t Test: 0.917632\n",
      "Train: 0.969902 \t \t Test: 0.948520\n",
      "Train: 0.969419 \t \t Test: 0.954311\n",
      "Train: 0.967488 \t \t Test: 0.965251\n",
      "Train: 0.970385 \t \t Test: 0.931789\n",
      "Train: 0.970707 \t \t Test: 0.962677\n",
      "Train: 0.975213 \t \t Test: 0.959459\n",
      "Train: 0.975052 \t \t Test: 0.962677\n",
      "Train: 0.975535 \t \t Test: 0.956242\n",
      "Train: 0.974248 \t \t Test: 0.936293\n",
      "Train: 0.978432 \t \t Test: 0.955598\n",
      "Train: 0.976823 \t \t Test: 0.961390\n",
      "Train: 0.976179 \t \t Test: 0.960746\n",
      "Train: 0.978432 \t \t Test: 0.958172\n",
      "Train: 0.975696 \t \t Test: 0.942085\n",
      "Train: 0.976179 \t \t Test: 0.963320\n",
      "Train: 0.976823 \t \t Test: 0.962677\n",
      "Train: 0.979559 \t \t Test: 0.961390\n",
      "Train: 0.977789 \t \t Test: 0.963320\n",
      "Train: 0.977145 \t \t Test: 0.927284\n",
      "Train: 0.978754 \t \t Test: 0.962033\n",
      "Train: 0.978593 \t \t Test: 0.960746\n",
      "Train: 0.979881 \t \t Test: 0.963320\n",
      "Train: 0.977628 \t \t Test: 0.960103\n",
      "Train: 0.978754 \t \t Test: 0.962677\n",
      "Train: 0.977949 \t \t Test: 0.959459\n",
      "Train: 0.980686 \t \t Test: 0.945946\n",
      "Train: 0.978110 \t \t Test: 0.963320\n",
      "Train: 0.979881 \t \t Test: 0.953024\n",
      "Train: 0.980203 \t \t Test: 0.956242\n",
      "Train: 0.978432 \t \t Test: 0.954311\n",
      "Train: 0.979559 \t \t Test: 0.963320\n",
      "Train: 0.977789 \t \t Test: 0.938224\n",
      "Train: 0.980525 \t \t Test: 0.944659\n",
      "Train: 0.978432 \t \t Test: 0.963320\n",
      "Train: 0.979559 \t \t Test: 0.964607\n",
      "Train: 0.983583 \t \t Test: 0.965251\n",
      "Train: 0.980042 \t \t Test: 0.957529\n",
      "Train: 0.981973 \t \t Test: 0.954311\n",
      "Train: 0.979720 \t \t Test: 0.955598\n",
      "Train: 0.980203 \t \t Test: 0.944659\n",
      "Train: 0.981490 \t \t Test: 0.963320\n",
      "Train: 0.977145 \t \t Test: 0.962677\n",
      "Train: 0.980525 \t \t Test: 0.954311\n",
      "\n"
     ]
    },
    {
     "data": {
      "application/vnd.jupyter.widget-view+json": {
       "model_id": "36052a181e6c4c2f81faaa8cca78161d",
       "version_major": 2,
       "version_minor": 0
      },
      "text/plain": [
       "HBox(children=(IntProgress(value=0, description='epochs', max=250, style=ProgressStyle(description_width='init…"
      ]
     },
     "metadata": {},
     "output_type": "display_data"
    },
    {
     "name": "stderr",
     "output_type": "stream",
     "text": [
      "Fitting with configuration: [('one_shot', 0), ('dropout', 0), ('lr', 0.037)] \n"
     ]
    },
    {
     "name": "stdout",
     "output_type": "stream",
     "text": [
      "Train: 0.920972 \t \t Test: 0.923423\n",
      "Train: 0.935941 \t \t Test: 0.942728\n",
      "Train: 0.951875 \t \t Test: 0.904118\n",
      "Train: 0.952358 \t \t Test: 0.935006\n",
      "Train: 0.961693 \t \t Test: 0.951094\n",
      "Train: 0.964268 \t \t Test: 0.952381\n",
      "Train: 0.967488 \t \t Test: 0.953024\n",
      "Train: 0.971028 \t \t Test: 0.960746\n",
      "Train: 0.971350 \t \t Test: 0.949807\n",
      "Train: 0.967327 \t \t Test: 0.957529\n",
      "Train: 0.970063 \t \t Test: 0.953024\n",
      "Train: 0.973926 \t \t Test: 0.947876\n",
      "Train: 0.974569 \t \t Test: 0.946589\n",
      "Train: 0.974569 \t \t Test: 0.963964\n",
      "Train: 0.971189 \t \t Test: 0.963320\n",
      "Train: 0.974730 \t \t Test: 0.961390\n",
      "Train: 0.975213 \t \t Test: 0.936293\n",
      "Train: 0.971511 \t \t Test: 0.954955\n",
      "Train: 0.978754 \t \t Test: 0.955598\n",
      "Train: 0.973765 \t \t Test: 0.956885\n",
      "Train: 0.974891 \t \t Test: 0.955598\n",
      "Train: 0.975857 \t \t Test: 0.944659\n",
      "Train: 0.979881 \t \t Test: 0.936937\n",
      "Train: 0.974408 \t \t Test: 0.921493\n",
      "Train: 0.981651 \t \t Test: 0.961390\n",
      "Train: 0.979076 \t \t Test: 0.958172\n",
      "Train: 0.978110 \t \t Test: 0.962677\n",
      "Train: 0.976340 \t \t Test: 0.960746\n",
      "Train: 0.977145 \t \t Test: 0.939511\n",
      "Train: 0.980203 \t \t Test: 0.959459\n",
      "Train: 0.982778 \t \t Test: 0.960103\n",
      "Train: 0.978432 \t \t Test: 0.927928\n",
      "Train: 0.979559 \t \t Test: 0.961390\n",
      "Train: 0.979720 \t \t Test: 0.961390\n",
      "Train: 0.981651 \t \t Test: 0.965894\n",
      "Train: 0.980364 \t \t Test: 0.965251\n",
      "Train: 0.978271 \t \t Test: 0.945946\n",
      "Train: 0.979559 \t \t Test: 0.965894\n",
      "Train: 0.977949 \t \t Test: 0.961390\n",
      "Train: 0.979237 \t \t Test: 0.960103\n",
      "Train: 0.976340 \t \t Test: 0.964607\n",
      "Train: 0.978915 \t \t Test: 0.962033\n",
      "Train: 0.982939 \t \t Test: 0.964607\n",
      "Train: 0.978915 \t \t Test: 0.963320\n",
      "Train: 0.980042 \t \t Test: 0.950450\n",
      "Train: 0.982617 \t \t Test: 0.960103\n",
      "Train: 0.981973 \t \t Test: 0.954955\n",
      "Train: 0.979237 \t \t Test: 0.958816\n",
      "Train: 0.982456 \t \t Test: 0.961390\n",
      "Train: 0.979720 \t \t Test: 0.959459\n",
      "\n"
     ]
    },
    {
     "data": {
      "application/vnd.jupyter.widget-view+json": {
       "model_id": "4563b326b0aa4241adb179540619e9fd",
       "version_major": 2,
       "version_minor": 0
      },
      "text/plain": [
       "HBox(children=(IntProgress(value=0, description='epochs', max=250, style=ProgressStyle(description_width='init…"
      ]
     },
     "metadata": {},
     "output_type": "display_data"
    },
    {
     "name": "stderr",
     "output_type": "stream",
     "text": [
      "Fitting with configuration: [('one_shot', 0), ('dropout', 0), ('lr', 0.037)] \n"
     ]
    },
    {
     "name": "stdout",
     "output_type": "stream",
     "text": [
      "Train: 0.913890 \t \t Test: 0.914414\n",
      "Train: 0.937067 \t \t Test: 0.922136\n",
      "Train: 0.952519 \t \t Test: 0.943372\n",
      "Train: 0.955899 \t \t Test: 0.946589\n",
      "Train: 0.960567 \t \t Test: 0.949163\n",
      "Train: 0.965717 \t \t Test: 0.956242\n",
      "Train: 0.965556 \t \t Test: 0.959459\n",
      "Train: 0.968131 \t \t Test: 0.956885\n",
      "Train: 0.966844 \t \t Test: 0.954955\n",
      "Train: 0.968131 \t \t Test: 0.931145\n",
      "Train: 0.971833 \t \t Test: 0.958816\n",
      "Train: 0.970868 \t \t Test: 0.962677\n",
      "Train: 0.975696 \t \t Test: 0.958816\n",
      "Train: 0.968775 \t \t Test: 0.962033\n",
      "Train: 0.974730 \t \t Test: 0.953668\n",
      "Train: 0.975857 \t \t Test: 0.936293\n",
      "Train: 0.976018 \t \t Test: 0.964607\n",
      "Train: 0.977145 \t \t Test: 0.958172\n",
      "Train: 0.979237 \t \t Test: 0.953668\n",
      "Train: 0.976179 \t \t Test: 0.962677\n",
      "Train: 0.975213 \t \t Test: 0.964607\n",
      "Train: 0.973121 \t \t Test: 0.906049\n",
      "Train: 0.977628 \t \t Test: 0.924710\n",
      "Train: 0.978271 \t \t Test: 0.954311\n",
      "Train: 0.979398 \t \t Test: 0.957529\n",
      "Train: 0.976179 \t \t Test: 0.963964\n",
      "Train: 0.977306 \t \t Test: 0.966538\n",
      "Train: 0.977949 \t \t Test: 0.949807\n",
      "Train: 0.977949 \t \t Test: 0.962033\n"
     ]
    },
    {
     "ename": "KeyboardInterrupt",
     "evalue": "",
     "output_type": "error",
     "traceback": [
      "\u001b[1;31m---------------------------------------------------------------------------\u001b[0m",
      "\u001b[1;31mKeyboardInterrupt\u001b[0m                         Traceback (most recent call last)",
      "\u001b[1;32m<ipython-input-15-926be8a9fcde>\u001b[0m in \u001b[0;36m<module>\u001b[1;34m\u001b[0m\n\u001b[0;32m     23\u001b[0m     \u001b[1;32mfor\u001b[0m \u001b[0mdim\u001b[0m \u001b[1;32min\u001b[0m \u001b[1;33m[\u001b[0m\u001b[1;36m100\u001b[0m\u001b[1;33m,\u001b[0m \u001b[1;36m200\u001b[0m\u001b[1;33m,\u001b[0m \u001b[1;36m300\u001b[0m\u001b[1;33m,\u001b[0m \u001b[1;36m400\u001b[0m\u001b[1;33m]\u001b[0m\u001b[1;33m:\u001b[0m\u001b[1;33m\u001b[0m\u001b[1;33m\u001b[0m\u001b[0m\n\u001b[0;32m     24\u001b[0m         \u001b[0mparam\u001b[0m\u001b[1;33m[\u001b[0m\u001b[1;34m\"D\"\u001b[0m\u001b[1;33m]\u001b[0m \u001b[1;33m=\u001b[0m \u001b[0mdim\u001b[0m\u001b[1;33m\u001b[0m\u001b[1;33m\u001b[0m\u001b[0m\n\u001b[1;32m---> 25\u001b[1;33m         \u001b[0mtrain_accs\u001b[0m\u001b[1;33m,\u001b[0m \u001b[0mtest_accs\u001b[0m \u001b[1;33m=\u001b[0m \u001b[0mvanilla_train\u001b[0m\u001b[1;33m(\u001b[0m\u001b[0mparam\u001b[0m\u001b[1;33m)\u001b[0m\u001b[1;33m\u001b[0m\u001b[1;33m\u001b[0m\u001b[0m\n\u001b[0m\u001b[0;32m     26\u001b[0m         \u001b[1;31m#filename = \"./logfile/\" + param[\"manifold\"] + \"_\" +str(param[\"D\"])+\"_\"+str(param[\"id\"])\u001b[0m\u001b[1;33m\u001b[0m\u001b[1;33m\u001b[0m\u001b[1;33m\u001b[0m\u001b[0m\n\u001b[0;32m     27\u001b[0m         \u001b[0mfilename\u001b[0m \u001b[1;33m=\u001b[0m \u001b[1;34m\"./logfile/\"\u001b[0m \u001b[1;33m+\u001b[0m \u001b[0mparam\u001b[0m\u001b[1;33m[\u001b[0m\u001b[1;34m\"manifold\"\u001b[0m\u001b[1;33m]\u001b[0m \u001b[1;33m+\u001b[0m \u001b[1;34m\"_\"\u001b[0m \u001b[1;33m+\u001b[0m\u001b[0mstr\u001b[0m\u001b[1;33m(\u001b[0m\u001b[0mparam\u001b[0m\u001b[1;33m[\u001b[0m\u001b[1;34m\"D\"\u001b[0m\u001b[1;33m]\u001b[0m\u001b[1;33m)\u001b[0m\u001b[1;33m+\u001b[0m\u001b[1;34m\"_\"\u001b[0m\u001b[1;33m+\u001b[0m\u001b[0;31m \u001b[0m\u001b[0;31m\\\u001b[0m\u001b[1;33m\u001b[0m\u001b[1;33m\u001b[0m\u001b[0m\n",
      "\u001b[1;32m<ipython-input-14-653241246cae>\u001b[0m in \u001b[0;36mvanilla_train\u001b[1;34m(param)\u001b[0m\n\u001b[0;32m     21\u001b[0m     \u001b[1;32mfor\u001b[0m \u001b[0mi\u001b[0m \u001b[1;32min\u001b[0m \u001b[0mrange\u001b[0m\u001b[1;33m(\u001b[0m\u001b[0mparam\u001b[0m\u001b[1;33m[\u001b[0m\u001b[1;34m\"iter_per_encoding\"\u001b[0m\u001b[1;33m]\u001b[0m\u001b[1;33m)\u001b[0m\u001b[1;33m:\u001b[0m\u001b[1;33m\u001b[0m\u001b[1;33m\u001b[0m\u001b[0m\n\u001b[0;32m     22\u001b[0m         \u001b[0mhdc\u001b[0m \u001b[1;33m=\u001b[0m \u001b[0mHDC\u001b[0m\u001b[1;33m.\u001b[0m\u001b[0mHD_classifier\u001b[0m\u001b[1;33m(\u001b[0m\u001b[0mparam\u001b[0m\u001b[1;33m[\u001b[0m\u001b[1;34m\"D\"\u001b[0m\u001b[1;33m]\u001b[0m\u001b[1;33m,\u001b[0m \u001b[0mparam\u001b[0m\u001b[1;33m[\u001b[0m\u001b[1;34m\"nClasses\"\u001b[0m\u001b[1;33m]\u001b[0m\u001b[1;33m,\u001b[0m \u001b[0mbid\u001b[0m\u001b[1;33m)\u001b[0m\u001b[1;33m\u001b[0m\u001b[1;33m\u001b[0m\u001b[0m\n\u001b[1;32m---> 23\u001b[1;33m         \u001b[0mtrain_acc\u001b[0m\u001b[1;33m,\u001b[0m \u001b[0mtest_acc\u001b[0m \u001b[1;33m=\u001b[0m \u001b[0mtrain\u001b[0m\u001b[1;33m(\u001b[0m\u001b[0mhdc\u001b[0m\u001b[1;33m,\u001b[0m \u001b[0mtrainencoded\u001b[0m\u001b[1;33m,\u001b[0m \u001b[0mtrainlabels\u001b[0m\u001b[1;33m,\u001b[0m \u001b[0mtestencoded\u001b[0m\u001b[1;33m,\u001b[0m \u001b[0mtestlabels\u001b[0m\u001b[1;33m,\u001b[0m \u001b[0mparam\u001b[0m\u001b[1;33m)\u001b[0m\u001b[1;33m\u001b[0m\u001b[1;33m\u001b[0m\u001b[0m\n\u001b[0m\u001b[0;32m     24\u001b[0m         \u001b[0mtrain_accs\u001b[0m\u001b[1;33m.\u001b[0m\u001b[0mappend\u001b[0m\u001b[1;33m(\u001b[0m\u001b[0mtrain_acc\u001b[0m\u001b[1;33m)\u001b[0m\u001b[1;33m\u001b[0m\u001b[1;33m\u001b[0m\u001b[0m\n\u001b[0;32m     25\u001b[0m         \u001b[0mtest_accs\u001b[0m\u001b[1;33m.\u001b[0m\u001b[0mappend\u001b[0m\u001b[1;33m(\u001b[0m\u001b[0mtest_acc\u001b[0m\u001b[1;33m)\u001b[0m\u001b[1;33m\u001b[0m\u001b[1;33m\u001b[0m\u001b[0m\n",
      "\u001b[1;32m<ipython-input-3-b50e9caf8c3f>\u001b[0m in \u001b[0;36mtrain\u001b[1;34m(hdc, traindata, trainlabels, testdata, testlabels, param)\u001b[0m\n\u001b[0;32m      8\u001b[0m     \u001b[1;32mfor\u001b[0m \u001b[0m_\u001b[0m \u001b[1;32min\u001b[0m \u001b[0mtqdm_notebook\u001b[0m\u001b[1;33m(\u001b[0m\u001b[0mrange\u001b[0m\u001b[1;33m(\u001b[0m\u001b[0mparam\u001b[0m\u001b[1;33m[\u001b[0m\u001b[1;34m\"epochs\"\u001b[0m\u001b[1;33m]\u001b[0m\u001b[1;33m)\u001b[0m\u001b[1;33m,\u001b[0m \u001b[0mdesc\u001b[0m\u001b[1;33m=\u001b[0m\u001b[1;34m'epochs'\u001b[0m\u001b[1;33m)\u001b[0m\u001b[1;33m:\u001b[0m\u001b[1;33m\u001b[0m\u001b[1;33m\u001b[0m\u001b[0m\n\u001b[0;32m      9\u001b[0m         \u001b[0mtrain_acc\u001b[0m\u001b[1;33m.\u001b[0m\u001b[0mappend\u001b[0m\u001b[1;33m(\u001b[0m\u001b[0mhdc\u001b[0m\u001b[1;33m.\u001b[0m\u001b[0mfit\u001b[0m\u001b[1;33m(\u001b[0m\u001b[0mtraindata\u001b[0m\u001b[1;33m,\u001b[0m \u001b[0mtrainlabels\u001b[0m\u001b[1;33m,\u001b[0m \u001b[0mparam\u001b[0m\u001b[1;33m)\u001b[0m\u001b[1;33m)\u001b[0m\u001b[1;33m\u001b[0m\u001b[1;33m\u001b[0m\u001b[0m\n\u001b[1;32m---> 10\u001b[1;33m         \u001b[0mtest_acc\u001b[0m\u001b[1;33m.\u001b[0m\u001b[0mappend\u001b[0m\u001b[1;33m(\u001b[0m\u001b[0mhdc\u001b[0m\u001b[1;33m.\u001b[0m\u001b[0mtest\u001b[0m\u001b[1;33m(\u001b[0m\u001b[0mtestdata\u001b[0m\u001b[1;33m,\u001b[0m \u001b[0mtestlabels\u001b[0m\u001b[1;33m)\u001b[0m\u001b[1;33m)\u001b[0m\u001b[1;33m\u001b[0m\u001b[1;33m\u001b[0m\u001b[0m\n\u001b[0m\u001b[0;32m     11\u001b[0m         \u001b[1;32mif\u001b[0m \u001b[0mlen\u001b[0m\u001b[1;33m(\u001b[0m\u001b[0mtrain_acc\u001b[0m\u001b[1;33m)\u001b[0m \u001b[1;33m%\u001b[0m \u001b[1;36m5\u001b[0m \u001b[1;33m==\u001b[0m \u001b[1;36m0\u001b[0m\u001b[1;33m:\u001b[0m\u001b[1;33m\u001b[0m\u001b[1;33m\u001b[0m\u001b[0m\n\u001b[0;32m     12\u001b[0m             \u001b[0mprint\u001b[0m\u001b[1;33m(\u001b[0m\u001b[1;34m\"Train: %f \\t \\t Test: %f\"\u001b[0m\u001b[1;33m%\u001b[0m\u001b[1;33m(\u001b[0m\u001b[0mtrain_acc\u001b[0m\u001b[1;33m[\u001b[0m\u001b[1;33m-\u001b[0m\u001b[1;36m1\u001b[0m\u001b[1;33m]\u001b[0m\u001b[1;33m,\u001b[0m \u001b[0mtest_acc\u001b[0m\u001b[1;33m[\u001b[0m\u001b[1;33m-\u001b[0m\u001b[1;36m1\u001b[0m\u001b[1;33m]\u001b[0m\u001b[1;33m)\u001b[0m\u001b[1;33m)\u001b[0m\u001b[1;33m\u001b[0m\u001b[1;33m\u001b[0m\u001b[0m\n",
      "\u001b[1;32mC:\\HDComputing\\ManifoldHD\\HD_classifier.py\u001b[0m in \u001b[0;36mtest\u001b[1;34m(self, data, label)\u001b[0m\n\u001b[0;32m    171\u001b[0m             \u001b[0mguess\u001b[0m \u001b[1;33m=\u001b[0m \u001b[1;33m-\u001b[0m\u001b[1;36m1\u001b[0m\u001b[1;33m\u001b[0m\u001b[1;33m\u001b[0m\u001b[0m\n\u001b[0;32m    172\u001b[0m             \u001b[1;32mfor\u001b[0m \u001b[0mm\u001b[0m \u001b[1;32min\u001b[0m \u001b[0mrange\u001b[0m\u001b[1;33m(\u001b[0m\u001b[0mself\u001b[0m\u001b[1;33m.\u001b[0m\u001b[0mnClasses\u001b[0m\u001b[1;33m)\u001b[0m\u001b[1;33m:\u001b[0m\u001b[1;33m\u001b[0m\u001b[1;33m\u001b[0m\u001b[0m\n\u001b[1;32m--> 173\u001b[1;33m                 \u001b[0mval\u001b[0m \u001b[1;33m=\u001b[0m \u001b[0mkernel\u001b[0m\u001b[1;33m(\u001b[0m\u001b[0mself\u001b[0m\u001b[1;33m.\u001b[0m\u001b[0mclasses\u001b[0m\u001b[1;33m[\u001b[0m\u001b[0mm\u001b[0m\u001b[1;33m]\u001b[0m\u001b[1;33m,\u001b[0m \u001b[0mdata\u001b[0m\u001b[1;33m[\u001b[0m\u001b[0mi\u001b[0m\u001b[1;33m]\u001b[0m\u001b[1;33m)\u001b[0m\u001b[1;33m\u001b[0m\u001b[1;33m\u001b[0m\u001b[0m\n\u001b[0m\u001b[0;32m    174\u001b[0m                 \u001b[1;32mif\u001b[0m \u001b[0mval\u001b[0m \u001b[1;33m>\u001b[0m \u001b[0mmaxVal\u001b[0m\u001b[1;33m:\u001b[0m\u001b[1;33m\u001b[0m\u001b[1;33m\u001b[0m\u001b[0m\n\u001b[0;32m    175\u001b[0m                     \u001b[0mmaxVal\u001b[0m \u001b[1;33m=\u001b[0m \u001b[0mval\u001b[0m\u001b[1;33m\u001b[0m\u001b[1;33m\u001b[0m\u001b[0m\n",
      "\u001b[1;32mC:\\HDComputing\\ManifoldHD\\HD_classifier.py\u001b[0m in \u001b[0;36mkernel\u001b[1;34m(x, y)\u001b[0m\n\u001b[0;32m     34\u001b[0m   \u001b[0mk\u001b[0m \u001b[1;33m=\u001b[0m \u001b[0mdotKernel\u001b[0m\u001b[1;33m\u001b[0m\u001b[1;33m\u001b[0m\u001b[0m\n\u001b[0;32m     35\u001b[0m   \u001b[1;31m#k = cosKernel\u001b[0m\u001b[1;33m\u001b[0m\u001b[1;33m\u001b[0m\u001b[1;33m\u001b[0m\u001b[0m\n\u001b[1;32m---> 36\u001b[1;33m   \u001b[1;32mreturn\u001b[0m \u001b[0mk\u001b[0m\u001b[1;33m(\u001b[0m\u001b[0mx\u001b[0m\u001b[1;33m,\u001b[0m\u001b[0my\u001b[0m\u001b[1;33m)\u001b[0m\u001b[1;33m\u001b[0m\u001b[1;33m\u001b[0m\u001b[0m\n\u001b[0m\u001b[0;32m     37\u001b[0m \u001b[1;33m\u001b[0m\u001b[0m\n\u001b[0;32m     38\u001b[0m \u001b[1;32mclass\u001b[0m \u001b[0mHD_classifier\u001b[0m\u001b[1;33m:\u001b[0m\u001b[1;33m\u001b[0m\u001b[1;33m\u001b[0m\u001b[0m\n",
      "\u001b[1;31mKeyboardInterrupt\u001b[0m: "
     ]
    }
   ],
   "source": [
    "## Pamam needed to be specified: D, nFeatures, n_neighbors, n_components, \"manifold\"\n",
    "\n",
    "# Best MLLE param for arbitrary D on MNIST is currently (100,30)\n",
    "n_neighbors = 125\n",
    "n_components  = 40\n",
    "maniset_size = 200   # Size of the manifold set\n",
    "\n",
    "for n_neighbors  in [125]:\n",
    "\n",
    "    # Random sampling for manifold \n",
    "    manifoldlist = skr.sample_without_replacement(len(traindata), maniset_size)\n",
    "    manifolddata = np.asfarray(traindata[np.asarray(manifoldlist)])\n",
    "\n",
    "    param[\"nFeatures\"] = nFeatures\n",
    "    #param[\"nFeatures\"] = n_components\n",
    "    \n",
    "    param[\"manifold\"] = \"baseline\"\n",
    "    #param[\"manifold\"] = \"modified\"\n",
    "      \n",
    "    traintrans, testtrans, prep_time, trans_time = traindata, testdata, 0, 0\n",
    "    #traintrans, testtrans, prep_time, trans_time = lle_wrapper(n_neighbors, n_components, \"modified\")\n",
    "\n",
    "    for dim in [100, 200, 300, 400]:\n",
    "        param[\"D\"] = dim\n",
    "        train_accs, test_accs = vanilla_train(param)\n",
    "        #filename = \"./logfile/\" + param[\"manifold\"] + \"_\" +str(param[\"D\"])+\"_\"+str(param[\"id\"])\n",
    "        filename = \"./logfile/\" + param[\"manifold\"] + \"_\" +str(param[\"D\"])+\"_\"+ \\\n",
    "            str(n_neighbors) + \"_\" + \\\n",
    "            str(n_components) + \"_\" + \\\n",
    "            str(param[\"id\"])\n",
    "        file = open(filename+\"_time.txt\",\"w\")\n",
    "        file.write(\"Preparation time: \"+str(prep_time)+\" Transform time: \"+str(trans_time)+\"\\n\")\n",
    "        file.close()\n",
    "\n",
    "        for i in range(len(train_accs)):\n",
    "            dump_log(param, train_accs[i], test_accs[i], filename)\n"
   ]
  },
  {
   "cell_type": "code",
   "execution_count": null,
   "metadata": {},
   "outputs": [],
   "source": []
  },
  {
   "cell_type": "code",
   "execution_count": null,
   "metadata": {},
   "outputs": [],
   "source": []
  },
  {
   "cell_type": "code",
   "execution_count": null,
   "metadata": {},
   "outputs": [],
   "source": []
  },
  {
   "cell_type": "code",
   "execution_count": null,
   "metadata": {},
   "outputs": [],
   "source": []
  }
 ],
 "metadata": {
  "kernelspec": {
   "display_name": "Python 3",
   "language": "python",
   "name": "python3"
  },
  "language_info": {
   "codemirror_mode": {
    "name": "ipython",
    "version": 3
   },
   "file_extension": ".py",
   "mimetype": "text/x-python",
   "name": "python",
   "nbconvert_exporter": "python",
   "pygments_lexer": "ipython3",
   "version": "3.7.4"
  }
 },
 "nbformat": 4,
 "nbformat_minor": 1
}
