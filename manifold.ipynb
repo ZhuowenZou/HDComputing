{
 "cells": [
  {
   "cell_type": "code",
   "execution_count": 1,
   "metadata": {},
   "outputs": [],
   "source": [
    "%load_ext autoreload\n",
    "%autoreload 2"
   ]
  },
  {
   "cell_type": "code",
   "execution_count": 2,
   "metadata": {},
   "outputs": [],
   "source": [
    "import sklearn\n",
    "from sklearn.discriminant_analysis import LinearDiscriminantAnalysis\n",
    "from sklearn.decomposition import PCA\n",
    "import time\n",
    "import sys\n",
    "import math\n",
    "import numpy as np\n",
    "import random\n",
    "import joblib\n",
    "from tqdm import tqdm_notebook\n",
    "\n",
    "import Config\n",
    "import Dataloader as DL\n",
    "import HD_basis as HDB\n",
    "import HD_encoder as HDE\n",
    "import HD_classifier as HDC\n",
    "\n",
    "import sklearn.manifold as skm \n",
    "import sklearn.utils.random as skr # for random sampling \n"
   ]
  },
  {
   "cell_type": "code",
   "execution_count": 3,
   "metadata": {},
   "outputs": [],
   "source": [
    "# train data \n",
    "def train(hdc, traindata, trainlabels, testdata, testlabels, param = Config.config):\n",
    "    train_acc = []\n",
    "    test_acc = []\n",
    "    # Early stopping \n",
    "    epsilon = 0.001\n",
    "    counter = 0\n",
    "    for _ in tqdm_notebook(range(param[\"epochs\"]), desc='epochs'):\n",
    "        train_acc.append(hdc.fit(traindata, trainlabels, param))\n",
    "        test_acc.append(hdc.test(testdata, testlabels))\n",
    "        if len(train_acc) % 5 == 0:\n",
    "            print(\"Train: %f \\t \\t Test: %f\"%(train_acc[-1], test_acc[-1]))\n",
    "        if train_acc[-1] == 1:\n",
    "            print(\"Train: %f \\t \\t Test: %f\"%(train_acc[-1], test_acc[-1]))\n",
    "            break\n",
    "        if max(test_acc) - test_acc[-1] >= epsilon:\n",
    "            counter += 1\n",
    "            #if counter >= 20:\n",
    "            #    sys.stderr.write(\"Early stopping initiated\")\n",
    "            #    print(\"Train: %f \\t \\t Test: %f\"%(train_acc[-1], test_acc[-1]))\n",
    "            #    break\n",
    "        else:\n",
    "            counter = 0\n",
    "    return np.asarray(train_acc), np.asarray(test_acc)"
   ]
  },
  {
   "cell_type": "code",
   "execution_count": 4,
   "metadata": {},
   "outputs": [],
   "source": [
    "def dump_log(param, train_acc, test_acc, filename):\n",
    "    joblib.dump((param, train_acc, test_acc), open(filename+\".pkl\", \"wb\"), compress=True)\n",
    "    file = open(filename+\".txt\", \"a\")\n",
    "    msg = str(100*max(train_acc)) + \" \" + str(100*max(test_acc)) + \" \" +\\\n",
    "        str(len(train_acc)) + \" \" + str(np.argmax(test_acc) + 1) + \"\\n\"\n",
    "    file.write(msg)\n",
    "    file.close()"
   ]
  },
  {
   "cell_type": "code",
   "execution_count": 5,
   "metadata": {},
   "outputs": [],
   "source": [
    "############### ISOMAP ########################\n",
    "# Everyone uses a neighborhood size of 8-12.\n",
    "# If your manifold is more than 2-3 dimensional, then Isomap probably won't work, \n",
    "# you would need to have a neighborhood size that is larger (more points!) so that \n",
    "# you have reasonable options to estimate your geodesic path with links to nearby neighbors.\n",
    "def iso_wrapper(n_neighbors, n_components):\n",
    "    \n",
    "    start = time.time()\n",
    "    isomap = skm.Isomap(n_neighbors, n_components)\n",
    "    isomap.fit(manifolddata)\n",
    "    end = time.time()\n",
    "    # Preparation time \n",
    "    prep_time = int(end - start) \n",
    "    print( \"Prep time: \", prep_time ) \n",
    "    \n",
    "    start = time.time()\n",
    "    trainiso = isomap.transform(traindata)\n",
    "    testiso = isomap.transform(testdata)\n",
    "    end = time.time() \n",
    "    # Transformation time\n",
    "    trans_time = int(end-start)\n",
    "    print( \"Transform time: \", trans_time )\n",
    "\n",
    "    filename = \"./dumper/isomap_data_\"+str(n_neighbors)+\"_\"+str(n_components)+\".pkl\"\n",
    "    joblib.dump((trainiso, trainlabels, testiso, testlabels), open(filename, \"wb\"), compress=True)\n",
    "    \n",
    "    return trainiso, testiso, prep_time, trans_time"
   ]
  },
  {
   "cell_type": "code",
   "execution_count": 6,
   "metadata": {},
   "outputs": [],
   "source": [
    "############### Modified/Hessian Locally Linear Embedding , more ########################\n",
    "\n",
    "def lle_wrapper(n_neighbors, n_components, lle_type = \"modified\"):\n",
    "    \n",
    "    start = time.time()\n",
    "    lle = skm.LocallyLinearEmbedding(n_neighbors, n_components, method = lle_type)\n",
    "    lle.fit(manifolddata)\n",
    "    end = time.time()\n",
    "    prep_time = int(end - start) \n",
    "    print( prep_time ) \n",
    "\n",
    "    start = time.time()\n",
    "    trainlle = lle.transform(traindata)\n",
    "    testlle = lle.transform(testdata)\n",
    "    end = time.time()\n",
    "    trans_time = int(end-start)\n",
    "    print( trans_time )\n",
    "\n",
    "    filename = \"./dumper/\"+lle_type+\"_data_\"+str(n_neighbors)+\"_\"+str(n_components)+\".pkl\"\n",
    "    joblib.dump((trainlle, trainlabels, testlle, testlabels), open(filename, \"wb\"), compress=True)\n",
    "\n",
    "    return trainlle, testlle, prep_time, trans_time"
   ]
  },
  {
   "cell_type": "code",
   "execution_count": 7,
   "metadata": {},
   "outputs": [],
   "source": [
    "############### Spectral Embedding ########################\n",
    "############### Multi-dimensional Scaling ########################\n",
    "############### t-distributed Stochastic Neighbor Embedding #######\n",
    "# No online learning version; has to input full data"
   ]
  },
  {
   "cell_type": "code",
   "execution_count": null,
   "metadata": {},
   "outputs": [],
   "source": []
  },
  {
   "cell_type": "code",
   "execution_count": 8,
   "metadata": {},
   "outputs": [
    {
     "name": "stderr",
     "output_type": "stream",
     "text": [
      "Loading dataset MNIST from MNIST\n",
      "Loading train data... train data of shape (60000, 784) loaded\n",
      "Loading test data...  test  data of shape (10000, 784) loaded\n",
      "Data Loaded. Num of features = 784 Num of Classes = 10"
     ]
    }
   ],
   "source": [
    "dl = DL.Dataloader()\n",
    "nFeatures, nClasses, traindata, trainlabels, testdata, testlabels = dl.getParam()"
   ]
  },
  {
   "cell_type": "code",
   "execution_count": 9,
   "metadata": {},
   "outputs": [],
   "source": [
    "# data cropping\n",
    "traindata = traindata[:20000]\n",
    "testdata = testdata[:5000]"
   ]
  },
  {
   "cell_type": "code",
   "execution_count": 10,
   "metadata": {},
   "outputs": [
    {
     "name": "stdout",
     "output_type": "stream",
     "text": [
      "{'data_location': '../dataset/', 'directory': 'MNIST', 'dataset': 'MNIST', 'D': 2500, 'vector': 'Gaussian', 'mu': 0, 'sigma': 1, 'binarize': 0, 'lr': 0.037, 'sparse': 0, 's': 0.1, 'binaryModel': 0, 'width': None, 'height': None, 'nLayers': 5, 'uniform_dim': 1, 'uniform_ker': 1, 'dArr': None, 'k': 5, 'kArr': None, 'one_shot': 0, 'data_percentages': [1.0, 0.01, 0.02, 0.05, 0.1, 0.2, 0.5], 'train_percent': 1, 'dropout': 0, 'drop_percentages': [0, 0.1, 0.2, 0.5], 'dropout_rate': 0, 'update_type': <Update_T.FULL: 1>, 'iter_per_trial': 3, 'iter_per_encoding': 5, 'epochs': 250, 'nFeatures': 784, 'nClasses': 10}\n"
     ]
    }
   ],
   "source": [
    "param = Config.config\n",
    "param[\"nFeatures\"] = nFeatures\n",
    "param[\"nClasses\"] = nClasses\n",
    "print(param)"
   ]
  },
  {
   "cell_type": "code",
   "execution_count": 11,
   "metadata": {},
   "outputs": [],
   "source": [
    "# Run manifolding learning data\n",
    "# Random sampling for manifold \n",
    "\n",
    "#manifoldlist = skr.sample_without_replacement(len(traindata), 2000)\n",
    "#manifolddata = np.asfarray(traindata[np.asarray(manifoldlist)])\n",
    "#n_neighbors = 200\n",
    "#n_components  = 25\n",
    "#param[\"nFeatures\"] = n_components\n",
    "#traintrans, testtrans, prep_time, trans_time = iso_wrapper(n_neighbors, n_components)"
   ]
  },
  {
   "cell_type": "code",
   "execution_count": 12,
   "metadata": {},
   "outputs": [],
   "source": [
    "# Run basiline data \n",
    "# param[\"nFeatures\"] = nFeatures\n",
    "# param[\"manifold\"] = \"baseline\"\n",
    "# traintrans, testtrans = traindata, testdata"
   ]
  },
  {
   "cell_type": "code",
   "execution_count": 13,
   "metadata": {},
   "outputs": [],
   "source": [
    "################# VANILLA #################\n",
    "def vanilla_train(param):\n",
    "    hdb = HDB.HD_basis(HDB.Generator.Vanilla, param)\n",
    "    basis = hdb.getBasis()\n",
    "    bid = hdb.getParam()[\"id\"]\n",
    "    # Update param with bid\n",
    "    param = hdb.getParam()\n",
    "    print(bid)\n",
    "\n",
    "    hde = HDE.HD_encoder(basis)\n",
    "    trainencoded = hde.encodeData(traintrans)\n",
    "    #trainencoded = hde.encodeData(traindata)\n",
    "    HDE.saveEncoded(trainencoded, trainlabels, bid, \"train\")\n",
    "    testencoded = hde.encodeData(testtrans)\n",
    "    #testencoded = hde.encodeData(testdata)\n",
    "    HDE.saveEncoded(testencoded, testlabels, bid, \"test\")\n",
    "\n",
    "    train_accs = []\n",
    "    test_accs = []\n",
    "    # Should have 95%\n",
    "    for i in range(param[\"iter_per_encoding\"]):\n",
    "        hdc = HDC.HD_classifier(param[\"D\"], param[\"nClasses\"], bid)\n",
    "        train_acc, test_acc = train(hdc, trainencoded, trainlabels, testencoded, testlabels, param)\n",
    "        train_accs.append(train_acc)\n",
    "        test_accs.append(test_acc)\n",
    "    \n",
    "    return train_accs, test_accs\n"
   ]
  },
  {
   "cell_type": "code",
   "execution_count": 14,
   "metadata": {},
   "outputs": [],
   "source": [
    "# Dimension tuning \n",
    "param[\"D\"] = 2500"
   ]
  },
  {
   "cell_type": "code",
   "execution_count": null,
   "metadata": {
    "scrolled": false
   },
   "outputs": [
    {
     "name": "stdout",
     "output_type": "stream",
     "text": [
      "22\n",
      "218\n"
     ]
    },
    {
     "name": "stderr",
     "output_type": "stream",
     "text": [
      "Generating vanilla HD basis of shape... "
     ]
    },
    {
     "data": {
      "application/vnd.jupyter.widget-view+json": {
       "model_id": "e36b78caf95044faaf80d20a0a060382",
       "version_major": 2,
       "version_minor": 0
      },
      "text/plain": [
       "HBox(children=(IntProgress(value=0, description='vectors', style=ProgressStyle(description_width='initial')), …"
      ]
     },
     "metadata": {},
     "output_type": "display_data"
    },
    {
     "name": "stdout",
     "output_type": "stream",
     "text": [
      "\n",
      "2083\n"
     ]
    },
    {
     "name": "stderr",
     "output_type": "stream",
     "text": [
      "(100, 30)\n",
      "Encoding time: 1.6007304191589355 \n",
      "Dumping basis into file: base_2083.pkl \n",
      "Encoding data of shape (20000, 30)\n"
     ]
    },
    {
     "data": {
      "application/vnd.jupyter.widget-view+json": {
       "model_id": "09c8b10744ba45a084147799d1934e47",
       "version_major": 2,
       "version_minor": 0
      },
      "text/plain": [
       "HBox(children=(IntProgress(value=0, description='samples encoded', max=20000, style=ProgressStyle(description_…"
      ]
     },
     "metadata": {},
     "output_type": "display_data"
    },
    {
     "name": "stdout",
     "output_type": "stream",
     "text": [
      "\n"
     ]
    },
    {
     "name": "stderr",
     "output_type": "stream",
     "text": [
      "Time spent: 11 sec\n",
      "Dumping data into encoded_2083_train.pkl \n",
      "Encoding data of shape (5000, 30)\n"
     ]
    },
    {
     "data": {
      "application/vnd.jupyter.widget-view+json": {
       "model_id": "42f7ec67e7b64954bd3c781ade6fe470",
       "version_major": 2,
       "version_minor": 0
      },
      "text/plain": [
       "HBox(children=(IntProgress(value=0, description='samples encoded', max=5000, style=ProgressStyle(description_w…"
      ]
     },
     "metadata": {},
     "output_type": "display_data"
    },
    {
     "name": "stdout",
     "output_type": "stream",
     "text": [
      "\n"
     ]
    },
    {
     "name": "stderr",
     "output_type": "stream",
     "text": [
      "Time spent: 2 sec\n",
      "Dumping data into encoded_2083_test.pkl \n",
      "c:\\program files (x86)\\microsoft visual studio\\shared\\python37_64\\lib\\site-packages\\ipykernel_launcher.py:8: TqdmDeprecationWarning: This function will be removed in tqdm==5.0.0\n",
      "Please use `tqdm.notebook.tqdm` instead of `tqdm.tqdm_notebook`\n",
      "  \n"
     ]
    },
    {
     "data": {
      "application/vnd.jupyter.widget-view+json": {
       "model_id": "1e53f8ff53bc4ff3b75e09968876b1fd",
       "version_major": 2,
       "version_minor": 0
      },
      "text/plain": [
       "HBox(children=(IntProgress(value=0, description='epochs', max=250, style=ProgressStyle(description_width='init…"
      ]
     },
     "metadata": {},
     "output_type": "display_data"
    },
    {
     "name": "stderr",
     "output_type": "stream",
     "text": [
      "Fitting with configuration: [('one_shot', 0), ('dropout', 0), ('lr', 0.037)] \n"
     ]
    },
    {
     "name": "stdout",
     "output_type": "stream",
     "text": [
      "Train: 0.869300 \t \t Test: 0.834600\n",
      "Train: 0.881050 \t \t Test: 0.864200\n",
      "Train: 0.882100 \t \t Test: 0.860000\n",
      "Train: 0.890800 \t \t Test: 0.848600\n",
      "Train: 0.890000 \t \t Test: 0.855800\n",
      "Train: 0.888850 \t \t Test: 0.872000\n",
      "Train: 0.894350 \t \t Test: 0.871000\n",
      "Train: 0.893400 \t \t Test: 0.868000\n",
      "Train: 0.894050 \t \t Test: 0.870800\n",
      "Train: 0.896500 \t \t Test: 0.870400\n",
      "Train: 0.896350 \t \t Test: 0.873400\n",
      "Train: 0.897750 \t \t Test: 0.863400\n",
      "Train: 0.897350 \t \t Test: 0.858600\n",
      "Train: 0.900650 \t \t Test: 0.848200\n",
      "Train: 0.901000 \t \t Test: 0.840600\n",
      "Train: 0.898800 \t \t Test: 0.878800\n",
      "Train: 0.897800 \t \t Test: 0.875400\n",
      "Train: 0.900500 \t \t Test: 0.876800\n",
      "Train: 0.899800 \t \t Test: 0.872400\n",
      "Train: 0.902400 \t \t Test: 0.875800\n",
      "Train: 0.901050 \t \t Test: 0.879000\n",
      "Train: 0.900550 \t \t Test: 0.881000\n",
      "Train: 0.902250 \t \t Test: 0.861000\n",
      "Train: 0.901150 \t \t Test: 0.886200\n",
      "Train: 0.900900 \t \t Test: 0.885200\n",
      "Train: 0.903750 \t \t Test: 0.867400\n",
      "Train: 0.902900 \t \t Test: 0.860400\n",
      "Train: 0.903550 \t \t Test: 0.885000\n",
      "Train: 0.901450 \t \t Test: 0.875800\n",
      "Train: 0.902450 \t \t Test: 0.883600\n",
      "Train: 0.900900 \t \t Test: 0.876000\n",
      "Train: 0.904500 \t \t Test: 0.877400\n",
      "Train: 0.903850 \t \t Test: 0.863400\n",
      "Train: 0.901050 \t \t Test: 0.860400\n",
      "Train: 0.902200 \t \t Test: 0.870600\n",
      "Train: 0.904000 \t \t Test: 0.866800\n",
      "Train: 0.904400 \t \t Test: 0.891600\n",
      "Train: 0.903950 \t \t Test: 0.874200\n",
      "Train: 0.901600 \t \t Test: 0.877200\n",
      "Train: 0.901450 \t \t Test: 0.890400\n",
      "Train: 0.904050 \t \t Test: 0.875400\n",
      "Train: 0.903700 \t \t Test: 0.876400\n",
      "Train: 0.903750 \t \t Test: 0.880400\n",
      "Train: 0.902600 \t \t Test: 0.878600\n",
      "Train: 0.904700 \t \t Test: 0.878600\n",
      "Train: 0.904250 \t \t Test: 0.877000\n",
      "Train: 0.904200 \t \t Test: 0.881400\n",
      "Train: 0.904250 \t \t Test: 0.877400\n",
      "Train: 0.905550 \t \t Test: 0.875800\n",
      "Train: 0.904500 \t \t Test: 0.865400\n",
      "\n"
     ]
    },
    {
     "data": {
      "application/vnd.jupyter.widget-view+json": {
       "model_id": "52287fd7e4884bd1aea9bdf945f4edad",
       "version_major": 2,
       "version_minor": 0
      },
      "text/plain": [
       "HBox(children=(IntProgress(value=0, description='epochs', max=250, style=ProgressStyle(description_width='init…"
      ]
     },
     "metadata": {},
     "output_type": "display_data"
    },
    {
     "name": "stderr",
     "output_type": "stream",
     "text": [
      "Fitting with configuration: [('one_shot', 0), ('dropout', 0), ('lr', 0.037)] \n"
     ]
    },
    {
     "name": "stdout",
     "output_type": "stream",
     "text": [
      "Train: 0.872500 \t \t Test: 0.860200\n",
      "Train: 0.878650 \t \t Test: 0.857600\n",
      "Train: 0.884700 \t \t Test: 0.848600\n",
      "Train: 0.888850 \t \t Test: 0.873200\n",
      "Train: 0.887800 \t \t Test: 0.849200\n",
      "Train: 0.892350 \t \t Test: 0.858200\n",
      "Train: 0.894850 \t \t Test: 0.862800\n",
      "Train: 0.893200 \t \t Test: 0.869400\n",
      "Train: 0.892300 \t \t Test: 0.885600\n",
      "Train: 0.896750 \t \t Test: 0.838400\n",
      "Train: 0.895100 \t \t Test: 0.858800\n",
      "Train: 0.894300 \t \t Test: 0.871000\n",
      "Train: 0.897400 \t \t Test: 0.872400\n",
      "Train: 0.900600 \t \t Test: 0.877600\n",
      "Train: 0.899000 \t \t Test: 0.864200\n",
      "Train: 0.899000 \t \t Test: 0.869400\n",
      "Train: 0.901400 \t \t Test: 0.869200\n",
      "Train: 0.902350 \t \t Test: 0.884400\n",
      "Train: 0.902250 \t \t Test: 0.885200\n",
      "Train: 0.901400 \t \t Test: 0.856400\n",
      "Train: 0.900050 \t \t Test: 0.864400\n",
      "Train: 0.898700 \t \t Test: 0.875800\n",
      "Train: 0.900400 \t \t Test: 0.879600\n",
      "Train: 0.902250 \t \t Test: 0.878200\n",
      "Train: 0.900850 \t \t Test: 0.876400\n",
      "Train: 0.904050 \t \t Test: 0.878200\n",
      "Train: 0.902100 \t \t Test: 0.870000\n",
      "Train: 0.902900 \t \t Test: 0.874400\n",
      "Train: 0.902350 \t \t Test: 0.881000\n",
      "Train: 0.902350 \t \t Test: 0.872200\n",
      "Train: 0.904200 \t \t Test: 0.869800\n",
      "Train: 0.902050 \t \t Test: 0.873200\n",
      "Train: 0.903450 \t \t Test: 0.885000\n",
      "Train: 0.902900 \t \t Test: 0.873200\n",
      "Train: 0.900900 \t \t Test: 0.880600\n",
      "Train: 0.904900 \t \t Test: 0.883000\n",
      "Train: 0.904400 \t \t Test: 0.880400\n",
      "Train: 0.905050 \t \t Test: 0.883400\n",
      "Train: 0.903900 \t \t Test: 0.885400\n",
      "Train: 0.902950 \t \t Test: 0.877000\n",
      "Train: 0.903550 \t \t Test: 0.881200\n",
      "Train: 0.905300 \t \t Test: 0.887400\n",
      "Train: 0.902750 \t \t Test: 0.878800\n",
      "Train: 0.901700 \t \t Test: 0.887800\n",
      "Train: 0.903900 \t \t Test: 0.878000\n",
      "Train: 0.903950 \t \t Test: 0.879000\n",
      "Train: 0.905600 \t \t Test: 0.883000\n",
      "Train: 0.905250 \t \t Test: 0.868000\n",
      "Train: 0.903050 \t \t Test: 0.883600\n",
      "Train: 0.906200 \t \t Test: 0.871000\n",
      "\n"
     ]
    },
    {
     "data": {
      "application/vnd.jupyter.widget-view+json": {
       "model_id": "99b9d20a0bf94e51a68ec8f0dca31bdf",
       "version_major": 2,
       "version_minor": 0
      },
      "text/plain": [
       "HBox(children=(IntProgress(value=0, description='epochs', max=250, style=ProgressStyle(description_width='init…"
      ]
     },
     "metadata": {},
     "output_type": "display_data"
    },
    {
     "name": "stderr",
     "output_type": "stream",
     "text": [
      "Fitting with configuration: [('one_shot', 0), ('dropout', 0), ('lr', 0.037)] \n"
     ]
    },
    {
     "name": "stdout",
     "output_type": "stream",
     "text": [
      "Train: 0.869350 \t \t Test: 0.815400\n",
      "Train: 0.878450 \t \t Test: 0.829200\n",
      "Train: 0.883050 \t \t Test: 0.857000\n",
      "Train: 0.885750 \t \t Test: 0.869000\n",
      "Train: 0.890150 \t \t Test: 0.856400\n",
      "Train: 0.891500 \t \t Test: 0.864000\n",
      "Train: 0.892000 \t \t Test: 0.854800\n",
      "Train: 0.892050 \t \t Test: 0.866400\n",
      "Train: 0.898500 \t \t Test: 0.858400\n",
      "Train: 0.896900 \t \t Test: 0.875200\n",
      "Train: 0.898450 \t \t Test: 0.866600\n",
      "Train: 0.898000 \t \t Test: 0.866000\n",
      "Train: 0.898950 \t \t Test: 0.880000\n",
      "Train: 0.901700 \t \t Test: 0.863400\n",
      "Train: 0.899900 \t \t Test: 0.877200\n",
      "Train: 0.899900 \t \t Test: 0.863400\n",
      "Train: 0.899500 \t \t Test: 0.868400\n",
      "Train: 0.899750 \t \t Test: 0.863200\n",
      "Train: 0.899800 \t \t Test: 0.892400\n",
      "Train: 0.900100 \t \t Test: 0.855400\n",
      "Train: 0.900950 \t \t Test: 0.873000\n",
      "Train: 0.900450 \t \t Test: 0.885000\n",
      "Train: 0.902050 \t \t Test: 0.871200\n",
      "Train: 0.901650 \t \t Test: 0.882600\n",
      "Train: 0.902350 \t \t Test: 0.890800\n",
      "Train: 0.903200 \t \t Test: 0.868000\n",
      "Train: 0.901450 \t \t Test: 0.879000\n",
      "Train: 0.901650 \t \t Test: 0.857200\n",
      "Train: 0.903550 \t \t Test: 0.867000\n",
      "Train: 0.903300 \t \t Test: 0.884800\n",
      "Train: 0.902150 \t \t Test: 0.865000\n",
      "Train: 0.904350 \t \t Test: 0.873000\n",
      "Train: 0.905100 \t \t Test: 0.879200\n",
      "Train: 0.903100 \t \t Test: 0.871600\n",
      "Train: 0.902750 \t \t Test: 0.879000\n",
      "Train: 0.903300 \t \t Test: 0.868400\n",
      "Train: 0.903600 \t \t Test: 0.883600\n",
      "Train: 0.905000 \t \t Test: 0.866600\n",
      "Train: 0.903300 \t \t Test: 0.881200\n",
      "Train: 0.903250 \t \t Test: 0.886200\n",
      "Train: 0.904150 \t \t Test: 0.876800\n",
      "Train: 0.906150 \t \t Test: 0.891000\n",
      "Train: 0.905050 \t \t Test: 0.889600\n",
      "Train: 0.905300 \t \t Test: 0.880200\n",
      "Train: 0.904050 \t \t Test: 0.866600\n",
      "Train: 0.904050 \t \t Test: 0.876800\n",
      "Train: 0.906250 \t \t Test: 0.882800\n",
      "Train: 0.906600 \t \t Test: 0.854600\n",
      "Train: 0.905300 \t \t Test: 0.875200\n",
      "Train: 0.905700 \t \t Test: 0.893000\n",
      "\n"
     ]
    },
    {
     "data": {
      "application/vnd.jupyter.widget-view+json": {
       "model_id": "b19db7f64a544c3a96b2c77635be0619",
       "version_major": 2,
       "version_minor": 0
      },
      "text/plain": [
       "HBox(children=(IntProgress(value=0, description='epochs', max=250, style=ProgressStyle(description_width='init…"
      ]
     },
     "metadata": {},
     "output_type": "display_data"
    },
    {
     "name": "stderr",
     "output_type": "stream",
     "text": [
      "Fitting with configuration: [('one_shot', 0), ('dropout', 0), ('lr', 0.037)] \n"
     ]
    },
    {
     "name": "stdout",
     "output_type": "stream",
     "text": [
      "Train: 0.870100 \t \t Test: 0.840800\n",
      "Train: 0.877650 \t \t Test: 0.854400\n",
      "Train: 0.884650 \t \t Test: 0.839400\n",
      "Train: 0.885850 \t \t Test: 0.849600\n",
      "Train: 0.888550 \t \t Test: 0.871000\n",
      "Train: 0.890500 \t \t Test: 0.859600\n",
      "Train: 0.894350 \t \t Test: 0.852600\n",
      "Train: 0.893250 \t \t Test: 0.873400\n",
      "Train: 0.894450 \t \t Test: 0.859000\n",
      "Train: 0.895100 \t \t Test: 0.872400\n",
      "Train: 0.899250 \t \t Test: 0.872000\n",
      "Train: 0.896500 \t \t Test: 0.861000\n",
      "Train: 0.898500 \t \t Test: 0.875400\n",
      "Train: 0.899850 \t \t Test: 0.881600\n",
      "Train: 0.898600 \t \t Test: 0.874000\n",
      "Train: 0.900100 \t \t Test: 0.880600\n",
      "Train: 0.900300 \t \t Test: 0.862600\n",
      "Train: 0.899450 \t \t Test: 0.871400\n",
      "Train: 0.898200 \t \t Test: 0.883000\n",
      "Train: 0.898600 \t \t Test: 0.878400\n",
      "Train: 0.899750 \t \t Test: 0.855600\n",
      "Train: 0.903000 \t \t Test: 0.881000\n",
      "Train: 0.903400 \t \t Test: 0.870600\n",
      "Train: 0.902300 \t \t Test: 0.881600\n",
      "Train: 0.903900 \t \t Test: 0.884200\n",
      "Train: 0.902250 \t \t Test: 0.891200\n",
      "Train: 0.901700 \t \t Test: 0.866600\n",
      "Train: 0.902100 \t \t Test: 0.883400\n",
      "Train: 0.901650 \t \t Test: 0.879600\n",
      "Train: 0.902400 \t \t Test: 0.882800\n",
      "Train: 0.904450 \t \t Test: 0.881200\n",
      "Train: 0.902400 \t \t Test: 0.875600\n",
      "Train: 0.903600 \t \t Test: 0.877200\n",
      "Train: 0.902800 \t \t Test: 0.860800\n",
      "Train: 0.903850 \t \t Test: 0.884000\n",
      "Train: 0.903350 \t \t Test: 0.854600\n",
      "Train: 0.903250 \t \t Test: 0.864600\n",
      "Train: 0.905350 \t \t Test: 0.867600\n",
      "Train: 0.903200 \t \t Test: 0.874800\n",
      "Train: 0.901300 \t \t Test: 0.868600\n",
      "Train: 0.903250 \t \t Test: 0.889200\n",
      "Train: 0.902650 \t \t Test: 0.876400\n",
      "Train: 0.903550 \t \t Test: 0.870600\n",
      "Train: 0.902150 \t \t Test: 0.884600\n",
      "Train: 0.903350 \t \t Test: 0.885800\n",
      "Train: 0.901900 \t \t Test: 0.900000\n",
      "Train: 0.905350 \t \t Test: 0.886600\n",
      "Train: 0.900500 \t \t Test: 0.880800\n",
      "Train: 0.903650 \t \t Test: 0.871000\n",
      "Train: 0.903600 \t \t Test: 0.884600\n",
      "\n"
     ]
    },
    {
     "data": {
      "application/vnd.jupyter.widget-view+json": {
       "model_id": "1a8b776808c04ffa97732d7e900ccd77",
       "version_major": 2,
       "version_minor": 0
      },
      "text/plain": [
       "HBox(children=(IntProgress(value=0, description='epochs', max=250, style=ProgressStyle(description_width='init…"
      ]
     },
     "metadata": {},
     "output_type": "display_data"
    },
    {
     "name": "stderr",
     "output_type": "stream",
     "text": [
      "Fitting with configuration: [('one_shot', 0), ('dropout', 0), ('lr', 0.037)] \n"
     ]
    },
    {
     "name": "stdout",
     "output_type": "stream",
     "text": [
      "Train: 0.869350 \t \t Test: 0.839200\n",
      "Train: 0.878050 \t \t Test: 0.844400\n",
      "Train: 0.883600 \t \t Test: 0.860800\n",
      "Train: 0.885700 \t \t Test: 0.864800\n",
      "Train: 0.889000 \t \t Test: 0.845200\n",
      "Train: 0.888650 \t \t Test: 0.869000\n",
      "Train: 0.893300 \t \t Test: 0.871000\n",
      "Train: 0.895200 \t \t Test: 0.860600\n",
      "Train: 0.894700 \t \t Test: 0.860200\n",
      "Train: 0.895200 \t \t Test: 0.876600\n",
      "Train: 0.898200 \t \t Test: 0.855000\n",
      "Train: 0.898900 \t \t Test: 0.876000\n",
      "Train: 0.897950 \t \t Test: 0.875200\n",
      "Train: 0.897400 \t \t Test: 0.878600\n",
      "Train: 0.899850 \t \t Test: 0.868000\n",
      "Train: 0.901450 \t \t Test: 0.854800\n",
      "Train: 0.900350 \t \t Test: 0.862400\n",
      "Train: 0.900000 \t \t Test: 0.859000\n",
      "Train: 0.897250 \t \t Test: 0.874400\n",
      "Train: 0.901550 \t \t Test: 0.869000\n",
      "Train: 0.901050 \t \t Test: 0.852800\n",
      "Train: 0.900550 \t \t Test: 0.873800\n",
      "Train: 0.902550 \t \t Test: 0.883800\n",
      "Train: 0.899850 \t \t Test: 0.867000\n",
      "Train: 0.904550 \t \t Test: 0.880200\n",
      "Train: 0.902600 \t \t Test: 0.869400\n",
      "Train: 0.902650 \t \t Test: 0.874400\n",
      "Train: 0.900650 \t \t Test: 0.882600\n",
      "Train: 0.902900 \t \t Test: 0.884400\n",
      "Train: 0.902900 \t \t Test: 0.867400\n",
      "Train: 0.903550 \t \t Test: 0.880800\n",
      "Train: 0.902350 \t \t Test: 0.881200\n",
      "Train: 0.905850 \t \t Test: 0.881600\n",
      "Train: 0.902650 \t \t Test: 0.883400\n",
      "Train: 0.905750 \t \t Test: 0.870800\n",
      "Train: 0.902950 \t \t Test: 0.887400\n",
      "Train: 0.903050 \t \t Test: 0.881600\n",
      "Train: 0.904350 \t \t Test: 0.883400\n",
      "Train: 0.904000 \t \t Test: 0.888000\n",
      "Train: 0.904850 \t \t Test: 0.872400\n",
      "Train: 0.902250 \t \t Test: 0.880000\n",
      "Train: 0.904050 \t \t Test: 0.872400\n",
      "Train: 0.906300 \t \t Test: 0.863800\n",
      "Train: 0.903650 \t \t Test: 0.885600\n",
      "Train: 0.905550 \t \t Test: 0.874800\n",
      "Train: 0.905900 \t \t Test: 0.874000\n",
      "Train: 0.905050 \t \t Test: 0.874000\n",
      "Train: 0.905450 \t \t Test: 0.879200\n",
      "Train: 0.907200 \t \t Test: 0.878200\n",
      "Train: 0.904350 \t \t Test: 0.878600\n",
      "\n"
     ]
    },
    {
     "name": "stderr",
     "output_type": "stream",
     "text": [
      "Generating vanilla HD basis of shape... "
     ]
    },
    {
     "data": {
      "application/vnd.jupyter.widget-view+json": {
       "model_id": "d763cac128264d718f8d4f858e2b86fa",
       "version_major": 2,
       "version_minor": 0
      },
      "text/plain": [
       "HBox(children=(IntProgress(value=0, description='vectors', max=200, style=ProgressStyle(description_width='ini…"
      ]
     },
     "metadata": {},
     "output_type": "display_data"
    },
    {
     "name": "stdout",
     "output_type": "stream",
     "text": [
      "\n",
      "2646\n"
     ]
    },
    {
     "name": "stderr",
     "output_type": "stream",
     "text": [
      "(200, 30)\n",
      "Encoding time: 0.025835752487182617 \n",
      "Dumping basis into file: base_2646.pkl \n",
      "Encoding data of shape (20000, 30)\n"
     ]
    },
    {
     "data": {
      "application/vnd.jupyter.widget-view+json": {
       "model_id": "ae8d226021a0462ea08f7a0a2eb04bba",
       "version_major": 2,
       "version_minor": 0
      },
      "text/plain": [
       "HBox(children=(IntProgress(value=0, description='samples encoded', max=20000, style=ProgressStyle(description_…"
      ]
     },
     "metadata": {},
     "output_type": "display_data"
    },
    {
     "name": "stdout",
     "output_type": "stream",
     "text": [
      "\n"
     ]
    },
    {
     "name": "stderr",
     "output_type": "stream",
     "text": [
      "Time spent: 21 sec\n",
      "Dumping data into encoded_2646_train.pkl \n",
      "Encoding data of shape (5000, 30)\n"
     ]
    },
    {
     "data": {
      "application/vnd.jupyter.widget-view+json": {
       "model_id": "c7fa64840ccd4b54ac2384cc4d54d80c",
       "version_major": 2,
       "version_minor": 0
      },
      "text/plain": [
       "HBox(children=(IntProgress(value=0, description='samples encoded', max=5000, style=ProgressStyle(description_w…"
      ]
     },
     "metadata": {},
     "output_type": "display_data"
    },
    {
     "name": "stdout",
     "output_type": "stream",
     "text": [
      "\n"
     ]
    },
    {
     "name": "stderr",
     "output_type": "stream",
     "text": [
      "Time spent: 5 sec\n",
      "Dumping data into encoded_2646_test.pkl \n"
     ]
    },
    {
     "data": {
      "application/vnd.jupyter.widget-view+json": {
       "model_id": "4e0140b9647c4522af916df8c0c59c7f",
       "version_major": 2,
       "version_minor": 0
      },
      "text/plain": [
       "HBox(children=(IntProgress(value=0, description='epochs', max=250, style=ProgressStyle(description_width='init…"
      ]
     },
     "metadata": {},
     "output_type": "display_data"
    },
    {
     "name": "stderr",
     "output_type": "stream",
     "text": [
      "Fitting with configuration: [('one_shot', 0), ('dropout', 0), ('lr', 0.037)] \n"
     ]
    },
    {
     "name": "stdout",
     "output_type": "stream",
     "text": [
      "Train: 0.879150 \t \t Test: 0.864200\n",
      "Train: 0.891800 \t \t Test: 0.868600\n",
      "Train: 0.896550 \t \t Test: 0.880000\n",
      "Train: 0.903000 \t \t Test: 0.883200\n",
      "Train: 0.905600 \t \t Test: 0.883800\n",
      "Train: 0.905150 \t \t Test: 0.876600\n",
      "Train: 0.912350 \t \t Test: 0.886400\n",
      "Train: 0.913600 \t \t Test: 0.887400\n",
      "Train: 0.915100 \t \t Test: 0.894000\n",
      "Train: 0.917000 \t \t Test: 0.899600\n",
      "Train: 0.916200 \t \t Test: 0.881200\n",
      "Train: 0.918150 \t \t Test: 0.899600\n",
      "Train: 0.920100 \t \t Test: 0.884400\n",
      "Train: 0.924400 \t \t Test: 0.891000\n",
      "Train: 0.921400 \t \t Test: 0.883800\n",
      "Train: 0.923800 \t \t Test: 0.895000\n",
      "Train: 0.922600 \t \t Test: 0.891400\n",
      "Train: 0.922200 \t \t Test: 0.894800\n",
      "Train: 0.925400 \t \t Test: 0.899800\n",
      "Train: 0.923400 \t \t Test: 0.892600\n",
      "Train: 0.927100 \t \t Test: 0.903000\n",
      "Train: 0.924800 \t \t Test: 0.893400\n",
      "Train: 0.927250 \t \t Test: 0.900600\n",
      "Train: 0.927400 \t \t Test: 0.890400\n",
      "Train: 0.928300 \t \t Test: 0.895000\n",
      "Train: 0.930150 \t \t Test: 0.891200\n",
      "Train: 0.930100 \t \t Test: 0.906200\n",
      "Train: 0.927600 \t \t Test: 0.909000\n",
      "Train: 0.927250 \t \t Test: 0.901600\n",
      "Train: 0.930450 \t \t Test: 0.892200\n",
      "Train: 0.932100 \t \t Test: 0.895200\n",
      "Train: 0.929800 \t \t Test: 0.903800\n",
      "Train: 0.929650 \t \t Test: 0.906600\n",
      "Train: 0.930700 \t \t Test: 0.901200\n",
      "Train: 0.932350 \t \t Test: 0.904800\n",
      "Train: 0.931850 \t \t Test: 0.906000\n",
      "Train: 0.931050 \t \t Test: 0.903800\n",
      "Train: 0.933600 \t \t Test: 0.904000\n",
      "Train: 0.933400 \t \t Test: 0.909400\n",
      "Train: 0.934100 \t \t Test: 0.893400\n",
      "Train: 0.933300 \t \t Test: 0.902000\n",
      "Train: 0.934150 \t \t Test: 0.900400\n",
      "Train: 0.933450 \t \t Test: 0.896000\n",
      "Train: 0.933700 \t \t Test: 0.915600\n",
      "Train: 0.933100 \t \t Test: 0.888800\n",
      "Train: 0.934200 \t \t Test: 0.910000\n",
      "Train: 0.933850 \t \t Test: 0.911800\n",
      "Train: 0.935850 \t \t Test: 0.909000\n",
      "Train: 0.935950 \t \t Test: 0.905600\n",
      "Train: 0.934500 \t \t Test: 0.913000\n",
      "\n"
     ]
    },
    {
     "data": {
      "application/vnd.jupyter.widget-view+json": {
       "model_id": "22379fd903b84755bae230ecf4faaba6",
       "version_major": 2,
       "version_minor": 0
      },
      "text/plain": [
       "HBox(children=(IntProgress(value=0, description='epochs', max=250, style=ProgressStyle(description_width='init…"
      ]
     },
     "metadata": {},
     "output_type": "display_data"
    },
    {
     "name": "stderr",
     "output_type": "stream",
     "text": [
      "Fitting with configuration: [('one_shot', 0), ('dropout', 0), ('lr', 0.037)] \n"
     ]
    },
    {
     "name": "stdout",
     "output_type": "stream",
     "text": [
      "Train: 0.879300 \t \t Test: 0.860400\n",
      "Train: 0.890900 \t \t Test: 0.862600\n",
      "Train: 0.897750 \t \t Test: 0.869800\n",
      "Train: 0.902000 \t \t Test: 0.885400\n",
      "Train: 0.907200 \t \t Test: 0.877400\n",
      "Train: 0.910400 \t \t Test: 0.896400\n",
      "Train: 0.909650 \t \t Test: 0.886000\n",
      "Train: 0.912500 \t \t Test: 0.864600\n",
      "Train: 0.915400 \t \t Test: 0.879800\n",
      "Train: 0.915950 \t \t Test: 0.890600\n",
      "Train: 0.915450 \t \t Test: 0.870800\n",
      "Train: 0.918850 \t \t Test: 0.901000\n",
      "Train: 0.920300 \t \t Test: 0.892600\n",
      "Train: 0.919800 \t \t Test: 0.903200\n",
      "Train: 0.924050 \t \t Test: 0.909200\n",
      "Train: 0.922350 \t \t Test: 0.895000\n",
      "Train: 0.923100 \t \t Test: 0.903200\n",
      "Train: 0.924350 \t \t Test: 0.890200\n",
      "Train: 0.927050 \t \t Test: 0.893200\n",
      "Train: 0.923950 \t \t Test: 0.904800\n",
      "Train: 0.928100 \t \t Test: 0.903800\n",
      "Train: 0.925050 \t \t Test: 0.902800\n",
      "Train: 0.929000 \t \t Test: 0.893000\n",
      "Train: 0.925850 \t \t Test: 0.899600\n",
      "Train: 0.925800 \t \t Test: 0.903000\n",
      "Train: 0.928250 \t \t Test: 0.889600\n",
      "Train: 0.928450 \t \t Test: 0.895200\n",
      "Train: 0.929550 \t \t Test: 0.899600\n",
      "Train: 0.931350 \t \t Test: 0.904000\n",
      "Train: 0.931600 \t \t Test: 0.909400\n",
      "Train: 0.930200 \t \t Test: 0.900400\n",
      "Train: 0.930100 \t \t Test: 0.902400\n",
      "Train: 0.931600 \t \t Test: 0.902200\n",
      "Train: 0.932200 \t \t Test: 0.906800\n",
      "Train: 0.932650 \t \t Test: 0.898200\n",
      "Train: 0.930150 \t \t Test: 0.908400\n",
      "Train: 0.931500 \t \t Test: 0.907400\n",
      "Train: 0.932400 \t \t Test: 0.905400\n",
      "Train: 0.933900 \t \t Test: 0.905400\n",
      "Train: 0.935750 \t \t Test: 0.895000\n",
      "Train: 0.931450 \t \t Test: 0.899400\n",
      "Train: 0.931750 \t \t Test: 0.900400\n",
      "Train: 0.932350 \t \t Test: 0.897000\n",
      "Train: 0.934400 \t \t Test: 0.904200\n",
      "Train: 0.934050 \t \t Test: 0.909000\n",
      "Train: 0.934950 \t \t Test: 0.895600\n",
      "Train: 0.936150 \t \t Test: 0.905600\n",
      "Train: 0.934750 \t \t Test: 0.905000\n",
      "Train: 0.936600 \t \t Test: 0.900200\n",
      "Train: 0.937250 \t \t Test: 0.890200\n",
      "\n"
     ]
    },
    {
     "data": {
      "application/vnd.jupyter.widget-view+json": {
       "model_id": "12dd0108daca456681305e24c342912f",
       "version_major": 2,
       "version_minor": 0
      },
      "text/plain": [
       "HBox(children=(IntProgress(value=0, description='epochs', max=250, style=ProgressStyle(description_width='init…"
      ]
     },
     "metadata": {},
     "output_type": "display_data"
    },
    {
     "name": "stderr",
     "output_type": "stream",
     "text": [
      "Fitting with configuration: [('one_shot', 0), ('dropout', 0), ('lr', 0.037)] \n"
     ]
    },
    {
     "name": "stdout",
     "output_type": "stream",
     "text": [
      "Train: 0.878350 \t \t Test: 0.859400\n",
      "Train: 0.888800 \t \t Test: 0.865400\n",
      "Train: 0.898900 \t \t Test: 0.885800\n",
      "Train: 0.902100 \t \t Test: 0.855200\n",
      "Train: 0.907200 \t \t Test: 0.890800\n",
      "Train: 0.908750 \t \t Test: 0.885600\n",
      "Train: 0.911150 \t \t Test: 0.879600\n",
      "Train: 0.917500 \t \t Test: 0.885600\n",
      "Train: 0.913350 \t \t Test: 0.880600\n",
      "Train: 0.917700 \t \t Test: 0.891600\n",
      "Train: 0.918600 \t \t Test: 0.888600\n",
      "Train: 0.918800 \t \t Test: 0.899000\n",
      "Train: 0.922500 \t \t Test: 0.902200\n",
      "Train: 0.920100 \t \t Test: 0.900600\n",
      "Train: 0.920000 \t \t Test: 0.900400\n",
      "Train: 0.921050 \t \t Test: 0.893000\n",
      "Train: 0.922950 \t \t Test: 0.886800\n",
      "Train: 0.926000 \t \t Test: 0.900200\n",
      "Train: 0.923500 \t \t Test: 0.892800\n",
      "Train: 0.923750 \t \t Test: 0.891800\n",
      "Train: 0.926650 \t \t Test: 0.910600\n",
      "Train: 0.925850 \t \t Test: 0.898400\n",
      "Train: 0.926550 \t \t Test: 0.895800\n",
      "Train: 0.928850 \t \t Test: 0.898400\n",
      "Train: 0.928050 \t \t Test: 0.910400\n",
      "Train: 0.928800 \t \t Test: 0.890800\n",
      "Train: 0.927050 \t \t Test: 0.897200\n",
      "Train: 0.929600 \t \t Test: 0.891800\n",
      "Train: 0.928950 \t \t Test: 0.904200\n",
      "Train: 0.932050 \t \t Test: 0.904400\n",
      "Train: 0.931450 \t \t Test: 0.901800\n",
      "Train: 0.928950 \t \t Test: 0.898000\n",
      "Train: 0.931950 \t \t Test: 0.889400\n",
      "Train: 0.931650 \t \t Test: 0.904200\n",
      "Train: 0.933900 \t \t Test: 0.895200\n",
      "Train: 0.931400 \t \t Test: 0.902200\n",
      "Train: 0.934100 \t \t Test: 0.908800\n",
      "Train: 0.931900 \t \t Test: 0.905600\n",
      "Train: 0.935400 \t \t Test: 0.900600\n",
      "Train: 0.934400 \t \t Test: 0.901000\n",
      "Train: 0.934850 \t \t Test: 0.912400\n",
      "Train: 0.934450 \t \t Test: 0.901200\n",
      "Train: 0.933900 \t \t Test: 0.903000\n",
      "Train: 0.933850 \t \t Test: 0.907800\n",
      "Train: 0.933650 \t \t Test: 0.909200\n",
      "Train: 0.933350 \t \t Test: 0.906000\n",
      "Train: 0.933000 \t \t Test: 0.906600\n",
      "Train: 0.935350 \t \t Test: 0.904800\n",
      "Train: 0.935500 \t \t Test: 0.907400\n",
      "Train: 0.935700 \t \t Test: 0.912000\n",
      "\n"
     ]
    },
    {
     "data": {
      "application/vnd.jupyter.widget-view+json": {
       "model_id": "db1b05e174f949cca795333bdc3121a6",
       "version_major": 2,
       "version_minor": 0
      },
      "text/plain": [
       "HBox(children=(IntProgress(value=0, description='epochs', max=250, style=ProgressStyle(description_width='init…"
      ]
     },
     "metadata": {},
     "output_type": "display_data"
    },
    {
     "name": "stderr",
     "output_type": "stream",
     "text": [
      "Fitting with configuration: [('one_shot', 0), ('dropout', 0), ('lr', 0.037)] \n"
     ]
    },
    {
     "name": "stdout",
     "output_type": "stream",
     "text": [
      "Train: 0.876300 \t \t Test: 0.866200\n",
      "Train: 0.892550 \t \t Test: 0.879400\n",
      "Train: 0.896700 \t \t Test: 0.885400\n",
      "Train: 0.905400 \t \t Test: 0.883200\n",
      "Train: 0.907400 \t \t Test: 0.860200\n",
      "Train: 0.909750 \t \t Test: 0.886000\n",
      "Train: 0.912200 \t \t Test: 0.890400\n",
      "Train: 0.912400 \t \t Test: 0.896800\n",
      "Train: 0.914150 \t \t Test: 0.889600\n",
      "Train: 0.915050 \t \t Test: 0.874400\n",
      "Train: 0.917750 \t \t Test: 0.889000\n",
      "Train: 0.920300 \t \t Test: 0.881600\n",
      "Train: 0.922100 \t \t Test: 0.888200\n",
      "Train: 0.920050 \t \t Test: 0.886200\n",
      "Train: 0.920400 \t \t Test: 0.899000\n",
      "Train: 0.924100 \t \t Test: 0.898600\n",
      "Train: 0.921600 \t \t Test: 0.890400\n",
      "Train: 0.924350 \t \t Test: 0.891600\n",
      "Train: 0.924950 \t \t Test: 0.900000\n",
      "Train: 0.926900 \t \t Test: 0.895800\n",
      "Train: 0.925650 \t \t Test: 0.881800\n",
      "Train: 0.926900 \t \t Test: 0.904600\n",
      "Train: 0.927900 \t \t Test: 0.909000\n",
      "Train: 0.925850 \t \t Test: 0.887000\n",
      "Train: 0.929150 \t \t Test: 0.904600\n",
      "Train: 0.929400 \t \t Test: 0.902000\n",
      "Train: 0.928900 \t \t Test: 0.903600\n",
      "Train: 0.929000 \t \t Test: 0.886200\n",
      "Train: 0.929150 \t \t Test: 0.905400\n",
      "Train: 0.929350 \t \t Test: 0.902200\n",
      "Train: 0.931450 \t \t Test: 0.911400\n",
      "Train: 0.932800 \t \t Test: 0.896800\n",
      "Train: 0.930350 \t \t Test: 0.909200\n",
      "Train: 0.930650 \t \t Test: 0.903000\n",
      "Train: 0.932600 \t \t Test: 0.905400\n",
      "Train: 0.931900 \t \t Test: 0.901600\n",
      "Train: 0.930700 \t \t Test: 0.906600\n",
      "Train: 0.931950 \t \t Test: 0.904800\n",
      "Train: 0.932500 \t \t Test: 0.905200\n",
      "Train: 0.931900 \t \t Test: 0.906000\n",
      "Train: 0.933200 \t \t Test: 0.899400\n",
      "Train: 0.934200 \t \t Test: 0.912400\n",
      "Train: 0.933800 \t \t Test: 0.893800\n",
      "Train: 0.933800 \t \t Test: 0.910200\n",
      "Train: 0.934550 \t \t Test: 0.909800\n",
      "Train: 0.933500 \t \t Test: 0.891800\n",
      "Train: 0.936600 \t \t Test: 0.900000\n",
      "Train: 0.936200 \t \t Test: 0.914600\n",
      "Train: 0.936300 \t \t Test: 0.909400\n",
      "Train: 0.933800 \t \t Test: 0.908200\n",
      "\n"
     ]
    },
    {
     "data": {
      "application/vnd.jupyter.widget-view+json": {
       "model_id": "64f2e4d7a15149798584bbab68ffcbdc",
       "version_major": 2,
       "version_minor": 0
      },
      "text/plain": [
       "HBox(children=(IntProgress(value=0, description='epochs', max=250, style=ProgressStyle(description_width='init…"
      ]
     },
     "metadata": {},
     "output_type": "display_data"
    },
    {
     "name": "stderr",
     "output_type": "stream",
     "text": [
      "Fitting with configuration: [('one_shot', 0), ('dropout', 0), ('lr', 0.037)] \n"
     ]
    },
    {
     "name": "stdout",
     "output_type": "stream",
     "text": [
      "Train: 0.880800 \t \t Test: 0.856800\n",
      "Train: 0.890350 \t \t Test: 0.855200\n",
      "Train: 0.896800 \t \t Test: 0.879200\n",
      "Train: 0.900550 \t \t Test: 0.869800\n",
      "Train: 0.905500 \t \t Test: 0.880200\n",
      "Train: 0.909900 \t \t Test: 0.884600\n",
      "Train: 0.910100 \t \t Test: 0.901000\n",
      "Train: 0.913550 \t \t Test: 0.875800\n",
      "Train: 0.915000 \t \t Test: 0.893600\n",
      "Train: 0.917050 \t \t Test: 0.893600\n",
      "Train: 0.916150 \t \t Test: 0.892000\n",
      "Train: 0.917400 \t \t Test: 0.880400\n",
      "Train: 0.919500 \t \t Test: 0.892600\n",
      "Train: 0.921100 \t \t Test: 0.897200\n",
      "Train: 0.922200 \t \t Test: 0.897600\n",
      "Train: 0.919950 \t \t Test: 0.904600\n",
      "Train: 0.925850 \t \t Test: 0.887600\n",
      "Train: 0.925100 \t \t Test: 0.910400\n",
      "Train: 0.925650 \t \t Test: 0.900600\n",
      "Train: 0.926450 \t \t Test: 0.892800\n",
      "Train: 0.924700 \t \t Test: 0.906600\n",
      "Train: 0.926000 \t \t Test: 0.890000\n",
      "Train: 0.927250 \t \t Test: 0.904600\n",
      "Train: 0.926600 \t \t Test: 0.895200\n",
      "Train: 0.926900 \t \t Test: 0.903800\n",
      "Train: 0.929000 \t \t Test: 0.901000\n",
      "Train: 0.928600 \t \t Test: 0.903800\n",
      "Train: 0.929750 \t \t Test: 0.911200\n",
      "Train: 0.930450 \t \t Test: 0.907800\n",
      "Train: 0.929400 \t \t Test: 0.910800\n",
      "Train: 0.930100 \t \t Test: 0.898200\n",
      "Train: 0.932100 \t \t Test: 0.895200\n",
      "Train: 0.931450 \t \t Test: 0.898800\n",
      "Train: 0.930250 \t \t Test: 0.901200\n",
      "Train: 0.931600 \t \t Test: 0.907400\n",
      "Train: 0.930750 \t \t Test: 0.915000\n",
      "Train: 0.932850 \t \t Test: 0.894000\n",
      "Train: 0.932550 \t \t Test: 0.897200\n",
      "Train: 0.934700 \t \t Test: 0.903600\n",
      "Train: 0.935050 \t \t Test: 0.882400\n",
      "Train: 0.934250 \t \t Test: 0.895200\n",
      "Train: 0.934200 \t \t Test: 0.902600\n",
      "Train: 0.931550 \t \t Test: 0.918800\n",
      "Train: 0.935450 \t \t Test: 0.905000\n",
      "Train: 0.932400 \t \t Test: 0.908400\n",
      "Train: 0.932100 \t \t Test: 0.908400\n",
      "Train: 0.934000 \t \t Test: 0.907200\n",
      "Train: 0.936200 \t \t Test: 0.902400\n",
      "Train: 0.935050 \t \t Test: 0.909800\n",
      "Train: 0.934650 \t \t Test: 0.896400\n",
      "\n"
     ]
    },
    {
     "name": "stderr",
     "output_type": "stream",
     "text": [
      "Generating vanilla HD basis of shape... "
     ]
    },
    {
     "data": {
      "application/vnd.jupyter.widget-view+json": {
       "model_id": "4fa6fe0f4c6346c39fb84138d1890a6b",
       "version_major": 2,
       "version_minor": 0
      },
      "text/plain": [
       "HBox(children=(IntProgress(value=0, description='vectors', max=500, style=ProgressStyle(description_width='ini…"
      ]
     },
     "metadata": {},
     "output_type": "display_data"
    },
    {
     "name": "stdout",
     "output_type": "stream",
     "text": [
      "\n",
      "3241\n"
     ]
    },
    {
     "name": "stderr",
     "output_type": "stream",
     "text": [
      "(500, 30)\n",
      "Encoding time: 0.1216728687286377 \n",
      "Dumping basis into file: base_3241.pkl \n",
      "Encoding data of shape (20000, 30)\n"
     ]
    },
    {
     "data": {
      "application/vnd.jupyter.widget-view+json": {
       "model_id": "2655aa29d38549fdae51549f1f46f8b1",
       "version_major": 2,
       "version_minor": 0
      },
      "text/plain": [
       "HBox(children=(IntProgress(value=0, description='samples encoded', max=20000, style=ProgressStyle(description_…"
      ]
     },
     "metadata": {},
     "output_type": "display_data"
    },
    {
     "name": "stdout",
     "output_type": "stream",
     "text": [
      "\n"
     ]
    },
    {
     "name": "stderr",
     "output_type": "stream",
     "text": [
      "Time spent: 52 sec\n",
      "Dumping data into encoded_3241_train.pkl \n",
      "Encoding data of shape (5000, 30)\n"
     ]
    },
    {
     "data": {
      "application/vnd.jupyter.widget-view+json": {
       "model_id": "27c7f1fb3fc947348c6b110b9af8a3b4",
       "version_major": 2,
       "version_minor": 0
      },
      "text/plain": [
       "HBox(children=(IntProgress(value=0, description='samples encoded', max=5000, style=ProgressStyle(description_w…"
      ]
     },
     "metadata": {},
     "output_type": "display_data"
    },
    {
     "name": "stdout",
     "output_type": "stream",
     "text": [
      "\n"
     ]
    },
    {
     "name": "stderr",
     "output_type": "stream",
     "text": [
      "Time spent: 13 sec\n",
      "Dumping data into encoded_3241_test.pkl \n"
     ]
    },
    {
     "data": {
      "application/vnd.jupyter.widget-view+json": {
       "model_id": "9e30e300efa2487c9b96ac75c130672f",
       "version_major": 2,
       "version_minor": 0
      },
      "text/plain": [
       "HBox(children=(IntProgress(value=0, description='epochs', max=250, style=ProgressStyle(description_width='init…"
      ]
     },
     "metadata": {},
     "output_type": "display_data"
    },
    {
     "name": "stderr",
     "output_type": "stream",
     "text": [
      "Fitting with configuration: [('one_shot', 0), ('dropout', 0), ('lr', 0.037)] \n"
     ]
    },
    {
     "name": "stdout",
     "output_type": "stream",
     "text": [
      "Train: 0.886900 \t \t Test: 0.860000\n",
      "Train: 0.899150 \t \t Test: 0.874600\n",
      "Train: 0.907200 \t \t Test: 0.875400\n",
      "Train: 0.915450 \t \t Test: 0.881000\n",
      "Train: 0.919900 \t \t Test: 0.897800\n",
      "Train: 0.923000 \t \t Test: 0.906400\n",
      "Train: 0.926450 \t \t Test: 0.887200\n",
      "Train: 0.930700 \t \t Test: 0.895800\n",
      "Train: 0.932450 \t \t Test: 0.907800\n",
      "Train: 0.932100 \t \t Test: 0.895000\n",
      "Train: 0.935850 \t \t Test: 0.914000\n",
      "Train: 0.936600 \t \t Test: 0.916000\n",
      "Train: 0.939300 \t \t Test: 0.909600\n",
      "Train: 0.939000 \t \t Test: 0.913400\n",
      "Train: 0.938150 \t \t Test: 0.916800\n",
      "Train: 0.941450 \t \t Test: 0.915800\n",
      "Train: 0.943400 \t \t Test: 0.925200\n",
      "Train: 0.944400 \t \t Test: 0.914600\n",
      "Train: 0.945750 \t \t Test: 0.921600\n",
      "Train: 0.944400 \t \t Test: 0.922200\n",
      "Train: 0.945400 \t \t Test: 0.915800\n",
      "Train: 0.947550 \t \t Test: 0.902800\n",
      "Train: 0.947600 \t \t Test: 0.919000\n",
      "Train: 0.945200 \t \t Test: 0.924200\n",
      "Train: 0.948850 \t \t Test: 0.915600\n",
      "Train: 0.949900 \t \t Test: 0.918600\n",
      "Train: 0.949350 \t \t Test: 0.916800\n",
      "Train: 0.950000 \t \t Test: 0.917600\n",
      "Train: 0.948450 \t \t Test: 0.919800\n",
      "Train: 0.951950 \t \t Test: 0.910800\n",
      "Train: 0.952450 \t \t Test: 0.923000\n",
      "Train: 0.954150 \t \t Test: 0.919800\n",
      "Train: 0.951850 \t \t Test: 0.926800\n",
      "Train: 0.953350 \t \t Test: 0.926400\n",
      "Train: 0.955200 \t \t Test: 0.917800\n",
      "Train: 0.954300 \t \t Test: 0.924400\n",
      "Train: 0.954500 \t \t Test: 0.915400\n",
      "Train: 0.955550 \t \t Test: 0.928200\n",
      "Train: 0.953400 \t \t Test: 0.926200\n",
      "Train: 0.953500 \t \t Test: 0.929800\n",
      "Train: 0.954950 \t \t Test: 0.926600\n",
      "Train: 0.956650 \t \t Test: 0.919000\n",
      "Train: 0.955750 \t \t Test: 0.921000\n",
      "Train: 0.955550 \t \t Test: 0.924400\n",
      "Train: 0.956950 \t \t Test: 0.925000\n",
      "Train: 0.956650 \t \t Test: 0.924600\n",
      "Train: 0.957550 \t \t Test: 0.923800\n",
      "Train: 0.957550 \t \t Test: 0.925600\n",
      "Train: 0.959650 \t \t Test: 0.914600\n",
      "Train: 0.959700 \t \t Test: 0.923000\n",
      "\n"
     ]
    },
    {
     "data": {
      "application/vnd.jupyter.widget-view+json": {
       "model_id": "95a3d583b4914eafa50fa2dd01c505f3",
       "version_major": 2,
       "version_minor": 0
      },
      "text/plain": [
       "HBox(children=(IntProgress(value=0, description='epochs', max=250, style=ProgressStyle(description_width='init…"
      ]
     },
     "metadata": {},
     "output_type": "display_data"
    },
    {
     "name": "stderr",
     "output_type": "stream",
     "text": [
      "Fitting with configuration: [('one_shot', 0), ('dropout', 0), ('lr', 0.037)] \n"
     ]
    },
    {
     "name": "stdout",
     "output_type": "stream",
     "text": [
      "Train: 0.883550 \t \t Test: 0.864200\n",
      "Train: 0.899150 \t \t Test: 0.872800\n",
      "Train: 0.910400 \t \t Test: 0.902000\n",
      "Train: 0.913450 \t \t Test: 0.879000\n",
      "Train: 0.921000 \t \t Test: 0.884200\n",
      "Train: 0.926000 \t \t Test: 0.904600\n",
      "Train: 0.926750 \t \t Test: 0.906800\n",
      "Train: 0.931450 \t \t Test: 0.906800\n",
      "Train: 0.931300 \t \t Test: 0.896200\n",
      "Train: 0.933700 \t \t Test: 0.899200\n",
      "Train: 0.935100 \t \t Test: 0.899200\n",
      "Train: 0.935550 \t \t Test: 0.902000\n",
      "Train: 0.937200 \t \t Test: 0.922800\n",
      "Train: 0.940600 \t \t Test: 0.910800\n",
      "Train: 0.942050 \t \t Test: 0.917600\n",
      "Train: 0.941350 \t \t Test: 0.910000\n",
      "Train: 0.942100 \t \t Test: 0.898800\n",
      "Train: 0.946600 \t \t Test: 0.907800\n",
      "Train: 0.944100 \t \t Test: 0.913200\n",
      "Train: 0.945000 \t \t Test: 0.922400\n",
      "Train: 0.947600 \t \t Test: 0.906600\n",
      "Train: 0.948500 \t \t Test: 0.914600\n",
      "Train: 0.948850 \t \t Test: 0.923000\n",
      "Train: 0.948800 \t \t Test: 0.918600\n",
      "Train: 0.948000 \t \t Test: 0.921000\n",
      "Train: 0.950400 \t \t Test: 0.915200\n",
      "Train: 0.949400 \t \t Test: 0.920600\n",
      "Train: 0.952200 \t \t Test: 0.920200\n",
      "Train: 0.948700 \t \t Test: 0.925600\n",
      "Train: 0.950100 \t \t Test: 0.918400\n",
      "Train: 0.951350 \t \t Test: 0.910000\n",
      "Train: 0.951200 \t \t Test: 0.919200\n",
      "Train: 0.952750 \t \t Test: 0.918800\n",
      "Train: 0.952800 \t \t Test: 0.909400\n",
      "Train: 0.954450 \t \t Test: 0.927600\n",
      "Train: 0.953850 \t \t Test: 0.915400\n",
      "Train: 0.954800 \t \t Test: 0.920200\n",
      "Train: 0.953250 \t \t Test: 0.912000\n",
      "Train: 0.956250 \t \t Test: 0.917800\n",
      "Train: 0.954450 \t \t Test: 0.923800\n",
      "Train: 0.955400 \t \t Test: 0.928400\n",
      "Train: 0.956500 \t \t Test: 0.920000\n",
      "Train: 0.956000 \t \t Test: 0.924600\n",
      "Train: 0.959700 \t \t Test: 0.918800\n",
      "Train: 0.960000 \t \t Test: 0.928600\n",
      "Train: 0.958600 \t \t Test: 0.920600\n",
      "Train: 0.956650 \t \t Test: 0.923000\n",
      "Train: 0.957200 \t \t Test: 0.917400\n",
      "Train: 0.958500 \t \t Test: 0.924000\n",
      "Train: 0.956750 \t \t Test: 0.916200\n",
      "\n"
     ]
    },
    {
     "data": {
      "application/vnd.jupyter.widget-view+json": {
       "model_id": "8077440f6b5c44c5bdaa09231fe7ca73",
       "version_major": 2,
       "version_minor": 0
      },
      "text/plain": [
       "HBox(children=(IntProgress(value=0, description='epochs', max=250, style=ProgressStyle(description_width='init…"
      ]
     },
     "metadata": {},
     "output_type": "display_data"
    },
    {
     "name": "stderr",
     "output_type": "stream",
     "text": [
      "Fitting with configuration: [('one_shot', 0), ('dropout', 0), ('lr', 0.037)] \n"
     ]
    },
    {
     "name": "stdout",
     "output_type": "stream",
     "text": [
      "Train: 0.881550 \t \t Test: 0.869600\n",
      "Train: 0.902750 \t \t Test: 0.875400\n",
      "Train: 0.909900 \t \t Test: 0.891800\n",
      "Train: 0.916100 \t \t Test: 0.887000\n",
      "Train: 0.921200 \t \t Test: 0.895400\n",
      "Train: 0.926500 \t \t Test: 0.891000\n",
      "Train: 0.925800 \t \t Test: 0.906600\n",
      "Train: 0.931250 \t \t Test: 0.895400\n",
      "Train: 0.931000 \t \t Test: 0.896200\n",
      "Train: 0.931700 \t \t Test: 0.906200\n",
      "Train: 0.937400 \t \t Test: 0.910800\n",
      "Train: 0.938050 \t \t Test: 0.882600\n",
      "Train: 0.938150 \t \t Test: 0.913200\n",
      "Train: 0.937000 \t \t Test: 0.913000\n",
      "Train: 0.940850 \t \t Test: 0.912600\n",
      "Train: 0.941900 \t \t Test: 0.909800\n",
      "Train: 0.942800 \t \t Test: 0.919800\n",
      "Train: 0.942300 \t \t Test: 0.911800\n",
      "Train: 0.945150 \t \t Test: 0.914000\n",
      "Train: 0.945600 \t \t Test: 0.910200\n",
      "Train: 0.945800 \t \t Test: 0.919000\n",
      "Train: 0.947150 \t \t Test: 0.917400\n",
      "Train: 0.947500 \t \t Test: 0.915600\n",
      "Train: 0.946600 \t \t Test: 0.914600\n",
      "Train: 0.950950 \t \t Test: 0.911800\n",
      "Train: 0.951650 \t \t Test: 0.923000\n",
      "Train: 0.950050 \t \t Test: 0.923800\n",
      "Train: 0.951050 \t \t Test: 0.918200\n",
      "Train: 0.952050 \t \t Test: 0.925000\n",
      "Train: 0.950500 \t \t Test: 0.919200\n",
      "Train: 0.950950 \t \t Test: 0.917800\n",
      "Train: 0.952100 \t \t Test: 0.923000\n",
      "Train: 0.953050 \t \t Test: 0.922600\n",
      "Train: 0.952900 \t \t Test: 0.927000\n",
      "Train: 0.954750 \t \t Test: 0.926000\n",
      "Train: 0.954900 \t \t Test: 0.921400\n",
      "Train: 0.954050 \t \t Test: 0.925000\n",
      "Train: 0.956950 \t \t Test: 0.917600\n",
      "Train: 0.955450 \t \t Test: 0.916200\n",
      "Train: 0.956650 \t \t Test: 0.917400\n",
      "Train: 0.955550 \t \t Test: 0.926600\n",
      "Train: 0.955400 \t \t Test: 0.919800\n",
      "Train: 0.956350 \t \t Test: 0.929400\n",
      "Train: 0.955650 \t \t Test: 0.915600\n",
      "Train: 0.957900 \t \t Test: 0.912200\n",
      "Train: 0.959300 \t \t Test: 0.914400\n",
      "Train: 0.956400 \t \t Test: 0.926400\n",
      "Train: 0.959150 \t \t Test: 0.928000\n",
      "Train: 0.957750 \t \t Test: 0.926400\n",
      "Train: 0.959300 \t \t Test: 0.922200\n",
      "\n"
     ]
    },
    {
     "data": {
      "application/vnd.jupyter.widget-view+json": {
       "model_id": "05afaabafa12495eb6b05bb96f345dfe",
       "version_major": 2,
       "version_minor": 0
      },
      "text/plain": [
       "HBox(children=(IntProgress(value=0, description='epochs', max=250, style=ProgressStyle(description_width='init…"
      ]
     },
     "metadata": {},
     "output_type": "display_data"
    },
    {
     "name": "stderr",
     "output_type": "stream",
     "text": [
      "Fitting with configuration: [('one_shot', 0), ('dropout', 0), ('lr', 0.037)] \n"
     ]
    },
    {
     "name": "stdout",
     "output_type": "stream",
     "text": [
      "Train: 0.881250 \t \t Test: 0.847800\n",
      "Train: 0.902050 \t \t Test: 0.874200\n",
      "Train: 0.909600 \t \t Test: 0.869000\n",
      "Train: 0.914350 \t \t Test: 0.895800\n",
      "Train: 0.922450 \t \t Test: 0.884000\n",
      "Train: 0.925500 \t \t Test: 0.893200\n",
      "Train: 0.926400 \t \t Test: 0.889600\n",
      "Train: 0.930000 \t \t Test: 0.894800\n",
      "Train: 0.932000 \t \t Test: 0.903400\n",
      "Train: 0.932650 \t \t Test: 0.903800\n",
      "Train: 0.937500 \t \t Test: 0.911400\n",
      "Train: 0.940300 \t \t Test: 0.907000\n",
      "Train: 0.938100 \t \t Test: 0.907200\n",
      "Train: 0.939900 \t \t Test: 0.907000\n",
      "Train: 0.939100 \t \t Test: 0.920400\n",
      "Train: 0.941900 \t \t Test: 0.916200\n",
      "Train: 0.942200 \t \t Test: 0.898800\n",
      "Train: 0.944400 \t \t Test: 0.919200\n",
      "Train: 0.942650 \t \t Test: 0.914400\n",
      "Train: 0.946800 \t \t Test: 0.910200\n",
      "Train: 0.944000 \t \t Test: 0.908600\n",
      "Train: 0.945900 \t \t Test: 0.898200\n",
      "Train: 0.950000 \t \t Test: 0.926800\n",
      "Train: 0.949250 \t \t Test: 0.905200\n",
      "Train: 0.949950 \t \t Test: 0.916200\n",
      "Train: 0.949700 \t \t Test: 0.914000\n",
      "Train: 0.950300 \t \t Test: 0.907600\n",
      "Train: 0.949800 \t \t Test: 0.925800\n",
      "Train: 0.951200 \t \t Test: 0.917800\n",
      "Train: 0.950400 \t \t Test: 0.921800\n",
      "Train: 0.950100 \t \t Test: 0.917400\n",
      "Train: 0.951000 \t \t Test: 0.921800\n",
      "Train: 0.951750 \t \t Test: 0.918800\n",
      "Train: 0.953500 \t \t Test: 0.919200\n",
      "Train: 0.955500 \t \t Test: 0.913200\n",
      "Train: 0.953400 \t \t Test: 0.928800\n",
      "Train: 0.954100 \t \t Test: 0.920400\n",
      "Train: 0.953450 \t \t Test: 0.925000\n",
      "Train: 0.953250 \t \t Test: 0.920800\n",
      "Train: 0.956700 \t \t Test: 0.929200\n",
      "Train: 0.954050 \t \t Test: 0.921800\n",
      "Train: 0.955550 \t \t Test: 0.924000\n",
      "Train: 0.956050 \t \t Test: 0.924600\n",
      "Train: 0.956950 \t \t Test: 0.922600\n",
      "Train: 0.956700 \t \t Test: 0.926400\n",
      "Train: 0.958750 \t \t Test: 0.924200\n",
      "Train: 0.956550 \t \t Test: 0.927400\n",
      "Train: 0.959100 \t \t Test: 0.927000\n",
      "Train: 0.960450 \t \t Test: 0.917400\n",
      "Train: 0.958400 \t \t Test: 0.916200\n",
      "\n"
     ]
    },
    {
     "data": {
      "application/vnd.jupyter.widget-view+json": {
       "model_id": "a540014750dd4850b7e64a3ccbc7bbbe",
       "version_major": 2,
       "version_minor": 0
      },
      "text/plain": [
       "HBox(children=(IntProgress(value=0, description='epochs', max=250, style=ProgressStyle(description_width='init…"
      ]
     },
     "metadata": {},
     "output_type": "display_data"
    },
    {
     "name": "stderr",
     "output_type": "stream",
     "text": [
      "Fitting with configuration: [('one_shot', 0), ('dropout', 0), ('lr', 0.037)] \n"
     ]
    },
    {
     "name": "stdout",
     "output_type": "stream",
     "text": [
      "Train: 0.884450 \t \t Test: 0.862200\n",
      "Train: 0.900950 \t \t Test: 0.890600\n",
      "Train: 0.907650 \t \t Test: 0.892600\n",
      "Train: 0.917350 \t \t Test: 0.885000\n",
      "Train: 0.921700 \t \t Test: 0.905000\n",
      "Train: 0.923250 \t \t Test: 0.896200\n",
      "Train: 0.926450 \t \t Test: 0.909000\n",
      "Train: 0.929600 \t \t Test: 0.897200\n",
      "Train: 0.930100 \t \t Test: 0.906600\n",
      "Train: 0.934000 \t \t Test: 0.905600\n",
      "Train: 0.936850 \t \t Test: 0.898600\n",
      "Train: 0.935450 \t \t Test: 0.907800\n",
      "Train: 0.936700 \t \t Test: 0.918200\n",
      "Train: 0.940700 \t \t Test: 0.908200\n",
      "Train: 0.942250 \t \t Test: 0.913000\n",
      "Train: 0.943500 \t \t Test: 0.922600\n",
      "Train: 0.942400 \t \t Test: 0.921200\n",
      "Train: 0.944850 \t \t Test: 0.909000\n",
      "Train: 0.943100 \t \t Test: 0.910200\n",
      "Train: 0.944650 \t \t Test: 0.925800\n",
      "Train: 0.947200 \t \t Test: 0.908000\n",
      "Train: 0.945500 \t \t Test: 0.910400\n",
      "Train: 0.946900 \t \t Test: 0.910600\n",
      "Train: 0.946900 \t \t Test: 0.921400\n",
      "Train: 0.947550 \t \t Test: 0.916800\n",
      "Train: 0.949700 \t \t Test: 0.916400\n",
      "Train: 0.949200 \t \t Test: 0.913000\n",
      "Train: 0.951000 \t \t Test: 0.917800\n",
      "Train: 0.948700 \t \t Test: 0.917200\n",
      "Train: 0.951950 \t \t Test: 0.918600\n",
      "Train: 0.952100 \t \t Test: 0.918600\n",
      "Train: 0.950250 \t \t Test: 0.926400\n",
      "Train: 0.953700 \t \t Test: 0.918200\n",
      "Train: 0.954650 \t \t Test: 0.910600\n",
      "Train: 0.953800 \t \t Test: 0.927600\n",
      "Train: 0.952850 \t \t Test: 0.920800\n",
      "Train: 0.953350 \t \t Test: 0.921800\n",
      "Train: 0.954700 \t \t Test: 0.927000\n",
      "Train: 0.954650 \t \t Test: 0.920000\n",
      "Train: 0.954300 \t \t Test: 0.916000\n",
      "Train: 0.954550 \t \t Test: 0.920000\n",
      "Train: 0.954750 \t \t Test: 0.922200\n",
      "Train: 0.956800 \t \t Test: 0.927400\n",
      "Train: 0.956900 \t \t Test: 0.929600\n",
      "Train: 0.955750 \t \t Test: 0.927800\n",
      "Train: 0.956450 \t \t Test: 0.927400\n",
      "Train: 0.957650 \t \t Test: 0.927800\n",
      "Train: 0.957600 \t \t Test: 0.918400\n",
      "Train: 0.959500 \t \t Test: 0.921000\n",
      "Train: 0.958500 \t \t Test: 0.920000\n",
      "\n"
     ]
    },
    {
     "name": "stderr",
     "output_type": "stream",
     "text": [
      "Generating vanilla HD basis of shape... "
     ]
    },
    {
     "data": {
      "application/vnd.jupyter.widget-view+json": {
       "model_id": "da43649280df44e0bf65d0f480fee613",
       "version_major": 2,
       "version_minor": 0
      },
      "text/plain": [
       "HBox(children=(IntProgress(value=0, description='vectors', max=1000, style=ProgressStyle(description_width='in…"
      ]
     },
     "metadata": {},
     "output_type": "display_data"
    },
    {
     "name": "stdout",
     "output_type": "stream",
     "text": [
      "\n",
      "3886\n"
     ]
    },
    {
     "name": "stderr",
     "output_type": "stream",
     "text": [
      "(1000, 30)\n",
      "Encoding time: 0.0299072265625 \n",
      "Dumping basis into file: base_3886.pkl \n",
      "Encoding data of shape (20000, 30)\n"
     ]
    },
    {
     "data": {
      "application/vnd.jupyter.widget-view+json": {
       "model_id": "0fc98cd7458742d5af646cfed6accf93",
       "version_major": 2,
       "version_minor": 0
      },
      "text/plain": [
       "HBox(children=(IntProgress(value=0, description='samples encoded', max=20000, style=ProgressStyle(description_…"
      ]
     },
     "metadata": {},
     "output_type": "display_data"
    },
    {
     "name": "stdout",
     "output_type": "stream",
     "text": [
      "\n"
     ]
    },
    {
     "name": "stderr",
     "output_type": "stream",
     "text": [
      "Time spent: 103 sec\n",
      "Dumping data into encoded_3886_train.pkl \n",
      "Encoding data of shape (5000, 30)\n"
     ]
    },
    {
     "data": {
      "application/vnd.jupyter.widget-view+json": {
       "model_id": "3a51f6caeec9483ba45b9d883a98773e",
       "version_major": 2,
       "version_minor": 0
      },
      "text/plain": [
       "HBox(children=(IntProgress(value=0, description='samples encoded', max=5000, style=ProgressStyle(description_w…"
      ]
     },
     "metadata": {},
     "output_type": "display_data"
    },
    {
     "name": "stdout",
     "output_type": "stream",
     "text": [
      "\n"
     ]
    },
    {
     "name": "stderr",
     "output_type": "stream",
     "text": [
      "Time spent: 26 sec\n",
      "Dumping data into encoded_3886_test.pkl \n"
     ]
    },
    {
     "data": {
      "application/vnd.jupyter.widget-view+json": {
       "model_id": "362ac5e4bb674457b29718cb43ac02f3",
       "version_major": 2,
       "version_minor": 0
      },
      "text/plain": [
       "HBox(children=(IntProgress(value=0, description='epochs', max=250, style=ProgressStyle(description_width='init…"
      ]
     },
     "metadata": {},
     "output_type": "display_data"
    },
    {
     "name": "stderr",
     "output_type": "stream",
     "text": [
      "Fitting with configuration: [('one_shot', 0), ('dropout', 0), ('lr', 0.037)] \n"
     ]
    },
    {
     "name": "stdout",
     "output_type": "stream",
     "text": [
      "Train: 0.888200 \t \t Test: 0.846400\n",
      "Train: 0.903800 \t \t Test: 0.883400\n",
      "Train: 0.913150 \t \t Test: 0.894800\n",
      "Train: 0.921450 \t \t Test: 0.897600\n",
      "Train: 0.924850 \t \t Test: 0.897200\n",
      "Train: 0.927150 \t \t Test: 0.910000\n",
      "Train: 0.934100 \t \t Test: 0.893400\n",
      "Train: 0.934700 \t \t Test: 0.910000\n",
      "Train: 0.934900 \t \t Test: 0.921600\n",
      "Train: 0.940800 \t \t Test: 0.910000\n",
      "Train: 0.942450 \t \t Test: 0.906600\n",
      "Train: 0.942850 \t \t Test: 0.899800\n",
      "Train: 0.946000 \t \t Test: 0.924000\n",
      "Train: 0.948400 \t \t Test: 0.908800\n",
      "Train: 0.948950 \t \t Test: 0.912600\n",
      "Train: 0.946750 \t \t Test: 0.914400\n",
      "Train: 0.947450 \t \t Test: 0.915200\n",
      "Train: 0.950550 \t \t Test: 0.923000\n",
      "Train: 0.951150 \t \t Test: 0.918600\n",
      "Train: 0.952950 \t \t Test: 0.924800\n",
      "Train: 0.952950 \t \t Test: 0.921200\n",
      "Train: 0.955700 \t \t Test: 0.933800\n",
      "Train: 0.953350 \t \t Test: 0.922200\n",
      "Train: 0.954750 \t \t Test: 0.928800\n",
      "Train: 0.954550 \t \t Test: 0.926200\n",
      "Train: 0.957750 \t \t Test: 0.918600\n",
      "Train: 0.956950 \t \t Test: 0.926800\n",
      "Train: 0.956800 \t \t Test: 0.920200\n",
      "Train: 0.957850 \t \t Test: 0.930000\n",
      "Train: 0.961500 \t \t Test: 0.930400\n",
      "Train: 0.958500 \t \t Test: 0.932600\n",
      "Train: 0.960650 \t \t Test: 0.933000\n",
      "Train: 0.960850 \t \t Test: 0.925200\n",
      "Train: 0.960200 \t \t Test: 0.934800\n",
      "Train: 0.961500 \t \t Test: 0.926000\n",
      "Train: 0.959500 \t \t Test: 0.935800\n",
      "Train: 0.963800 \t \t Test: 0.932000\n",
      "Train: 0.961050 \t \t Test: 0.932800\n",
      "Train: 0.962450 \t \t Test: 0.929000\n",
      "Train: 0.962350 \t \t Test: 0.923200\n",
      "Train: 0.963550 \t \t Test: 0.921000\n",
      "Train: 0.959900 \t \t Test: 0.932000\n",
      "Train: 0.965950 \t \t Test: 0.919000\n",
      "Train: 0.960800 \t \t Test: 0.933200\n",
      "Train: 0.964900 \t \t Test: 0.929200\n",
      "Train: 0.965600 \t \t Test: 0.930200\n",
      "Train: 0.965150 \t \t Test: 0.932000\n",
      "Train: 0.964550 \t \t Test: 0.936000\n",
      "Train: 0.966150 \t \t Test: 0.929000\n",
      "Train: 0.966600 \t \t Test: 0.921000\n",
      "\n"
     ]
    },
    {
     "data": {
      "application/vnd.jupyter.widget-view+json": {
       "model_id": "29e13fe75b974b8ba13a2d3b34ab4751",
       "version_major": 2,
       "version_minor": 0
      },
      "text/plain": [
       "HBox(children=(IntProgress(value=0, description='epochs', max=250, style=ProgressStyle(description_width='init…"
      ]
     },
     "metadata": {},
     "output_type": "display_data"
    },
    {
     "name": "stderr",
     "output_type": "stream",
     "text": [
      "Fitting with configuration: [('one_shot', 0), ('dropout', 0), ('lr', 0.037)] \n"
     ]
    },
    {
     "name": "stdout",
     "output_type": "stream",
     "text": [
      "Train: 0.885100 \t \t Test: 0.843000\n",
      "Train: 0.906650 \t \t Test: 0.880200\n",
      "Train: 0.914900 \t \t Test: 0.880000\n",
      "Train: 0.922350 \t \t Test: 0.899000\n",
      "Train: 0.925150 \t \t Test: 0.900600\n",
      "Train: 0.928500 \t \t Test: 0.909000\n",
      "Train: 0.932500 \t \t Test: 0.915200\n",
      "Train: 0.936650 \t \t Test: 0.914800\n",
      "Train: 0.939650 \t \t Test: 0.911400\n",
      "Train: 0.940400 \t \t Test: 0.913600\n",
      "Train: 0.941700 \t \t Test: 0.916200\n",
      "Train: 0.943150 \t \t Test: 0.912000\n",
      "Train: 0.945500 \t \t Test: 0.913800\n",
      "Train: 0.946450 \t \t Test: 0.912400\n",
      "Train: 0.945100 \t \t Test: 0.920800\n",
      "Train: 0.946550 \t \t Test: 0.918400\n",
      "Train: 0.949150 \t \t Test: 0.924400\n",
      "Train: 0.951850 \t \t Test: 0.919000\n",
      "Train: 0.951600 \t \t Test: 0.928600\n",
      "Train: 0.952850 \t \t Test: 0.924000\n",
      "Train: 0.953900 \t \t Test: 0.920600\n",
      "Train: 0.953500 \t \t Test: 0.919000\n",
      "Train: 0.954550 \t \t Test: 0.932400\n",
      "Train: 0.951850 \t \t Test: 0.927600\n",
      "Train: 0.954550 \t \t Test: 0.928000\n",
      "Train: 0.956750 \t \t Test: 0.923000\n",
      "Train: 0.956500 \t \t Test: 0.929400\n",
      "Train: 0.956250 \t \t Test: 0.926800\n",
      "Train: 0.959650 \t \t Test: 0.931400\n",
      "Train: 0.957900 \t \t Test: 0.930400\n",
      "Train: 0.959200 \t \t Test: 0.928600\n",
      "Train: 0.960150 \t \t Test: 0.920600\n",
      "Train: 0.959600 \t \t Test: 0.929000\n",
      "Train: 0.959250 \t \t Test: 0.933200\n",
      "Train: 0.961700 \t \t Test: 0.924600\n",
      "Train: 0.961100 \t \t Test: 0.926800\n",
      "Train: 0.959250 \t \t Test: 0.928600\n",
      "Train: 0.961900 \t \t Test: 0.924200\n",
      "Train: 0.961600 \t \t Test: 0.927000\n",
      "Train: 0.964850 \t \t Test: 0.938600\n",
      "Train: 0.962050 \t \t Test: 0.933600\n",
      "Train: 0.963950 \t \t Test: 0.931800\n",
      "Train: 0.964500 \t \t Test: 0.926600\n",
      "Train: 0.963650 \t \t Test: 0.924600\n",
      "Train: 0.962650 \t \t Test: 0.935400\n",
      "Train: 0.964250 \t \t Test: 0.936200\n",
      "Train: 0.966300 \t \t Test: 0.925000\n",
      "Train: 0.966300 \t \t Test: 0.935000\n",
      "Train: 0.964450 \t \t Test: 0.929600\n",
      "Train: 0.966700 \t \t Test: 0.933400\n",
      "\n"
     ]
    },
    {
     "data": {
      "application/vnd.jupyter.widget-view+json": {
       "model_id": "3c35fc84b3004c679d438ee50167c6d5",
       "version_major": 2,
       "version_minor": 0
      },
      "text/plain": [
       "HBox(children=(IntProgress(value=0, description='epochs', max=250, style=ProgressStyle(description_width='init…"
      ]
     },
     "metadata": {},
     "output_type": "display_data"
    },
    {
     "name": "stderr",
     "output_type": "stream",
     "text": [
      "Fitting with configuration: [('one_shot', 0), ('dropout', 0), ('lr', 0.037)] \n"
     ]
    },
    {
     "name": "stdout",
     "output_type": "stream",
     "text": [
      "Train: 0.886550 \t \t Test: 0.869600\n",
      "Train: 0.903700 \t \t Test: 0.891800\n",
      "Train: 0.915800 \t \t Test: 0.884600\n",
      "Train: 0.922800 \t \t Test: 0.901800\n",
      "Train: 0.925800 \t \t Test: 0.906400\n",
      "Train: 0.931600 \t \t Test: 0.907800\n",
      "Train: 0.932750 \t \t Test: 0.910800\n",
      "Train: 0.935650 \t \t Test: 0.908000\n",
      "Train: 0.940350 \t \t Test: 0.908400\n",
      "Train: 0.938050 \t \t Test: 0.919000\n",
      "Train: 0.941350 \t \t Test: 0.917200\n",
      "Train: 0.942850 \t \t Test: 0.922000\n",
      "Train: 0.943900 \t \t Test: 0.926000\n",
      "Train: 0.945400 \t \t Test: 0.924400\n",
      "Train: 0.947800 \t \t Test: 0.911200\n",
      "Train: 0.947300 \t \t Test: 0.922400\n",
      "Train: 0.949250 \t \t Test: 0.929600\n",
      "Train: 0.948850 \t \t Test: 0.925600\n",
      "Train: 0.952350 \t \t Test: 0.925400\n",
      "Train: 0.953400 \t \t Test: 0.919800\n",
      "Train: 0.954750 \t \t Test: 0.920200\n",
      "Train: 0.954500 \t \t Test: 0.930600\n",
      "Train: 0.954000 \t \t Test: 0.936000\n",
      "Train: 0.954400 \t \t Test: 0.932400\n",
      "Train: 0.957600 \t \t Test: 0.915200\n",
      "Train: 0.958350 \t \t Test: 0.922400\n",
      "Train: 0.956100 \t \t Test: 0.923200\n",
      "Train: 0.955150 \t \t Test: 0.918800\n",
      "Train: 0.958150 \t \t Test: 0.930800\n",
      "Train: 0.960700 \t \t Test: 0.923400\n",
      "Train: 0.959700 \t \t Test: 0.925400\n",
      "Train: 0.960650 \t \t Test: 0.920000\n",
      "Train: 0.960650 \t \t Test: 0.929600\n",
      "Train: 0.961000 \t \t Test: 0.930600\n",
      "Train: 0.960700 \t \t Test: 0.928200\n",
      "Train: 0.960500 \t \t Test: 0.931600\n",
      "Train: 0.962650 \t \t Test: 0.921200\n",
      "Train: 0.961350 \t \t Test: 0.933200\n",
      "Train: 0.962300 \t \t Test: 0.927600\n",
      "Train: 0.960850 \t \t Test: 0.932600\n",
      "Train: 0.963400 \t \t Test: 0.921400\n",
      "Train: 0.963750 \t \t Test: 0.934200\n",
      "Train: 0.964000 \t \t Test: 0.935000\n",
      "Train: 0.962700 \t \t Test: 0.931000\n",
      "Train: 0.962800 \t \t Test: 0.926800\n",
      "Train: 0.963400 \t \t Test: 0.929200\n",
      "Train: 0.965250 \t \t Test: 0.934000\n",
      "Train: 0.964150 \t \t Test: 0.933600\n",
      "Train: 0.967950 \t \t Test: 0.933200\n",
      "Train: 0.966350 \t \t Test: 0.933200\n",
      "\n"
     ]
    },
    {
     "data": {
      "application/vnd.jupyter.widget-view+json": {
       "model_id": "ed8cd6737d934f1885adde0861b62a81",
       "version_major": 2,
       "version_minor": 0
      },
      "text/plain": [
       "HBox(children=(IntProgress(value=0, description='epochs', max=250, style=ProgressStyle(description_width='init…"
      ]
     },
     "metadata": {},
     "output_type": "display_data"
    },
    {
     "name": "stderr",
     "output_type": "stream",
     "text": [
      "Fitting with configuration: [('one_shot', 0), ('dropout', 0), ('lr', 0.037)] \n"
     ]
    },
    {
     "name": "stdout",
     "output_type": "stream",
     "text": [
      "Train: 0.888200 \t \t Test: 0.850200\n",
      "Train: 0.904500 \t \t Test: 0.832000\n",
      "Train: 0.912700 \t \t Test: 0.891200\n",
      "Train: 0.922950 \t \t Test: 0.909800\n",
      "Train: 0.925350 \t \t Test: 0.902600\n",
      "Train: 0.927600 \t \t Test: 0.904800\n",
      "Train: 0.934300 \t \t Test: 0.916000\n",
      "Train: 0.939100 \t \t Test: 0.906600\n",
      "Train: 0.934850 \t \t Test: 0.910800\n",
      "Train: 0.941050 \t \t Test: 0.911200\n",
      "Train: 0.940850 \t \t Test: 0.917400\n",
      "Train: 0.945650 \t \t Test: 0.913800\n",
      "Train: 0.944100 \t \t Test: 0.911400\n",
      "Train: 0.945500 \t \t Test: 0.918800\n",
      "Train: 0.946950 \t \t Test: 0.914600\n",
      "Train: 0.949600 \t \t Test: 0.913200\n",
      "Train: 0.950300 \t \t Test: 0.915400\n",
      "Train: 0.951850 \t \t Test: 0.927400\n",
      "Train: 0.950450 \t \t Test: 0.913000\n",
      "Train: 0.952600 \t \t Test: 0.920800\n",
      "Train: 0.952550 \t \t Test: 0.928200\n",
      "Train: 0.955650 \t \t Test: 0.930200\n",
      "Train: 0.954400 \t \t Test: 0.919200\n",
      "Train: 0.953450 \t \t Test: 0.921800\n",
      "Train: 0.955750 \t \t Test: 0.922000\n",
      "Train: 0.955550 \t \t Test: 0.926400\n",
      "Train: 0.957450 \t \t Test: 0.929800\n",
      "Train: 0.957600 \t \t Test: 0.928800\n",
      "Train: 0.957600 \t \t Test: 0.927200\n",
      "Train: 0.959450 \t \t Test: 0.923200\n",
      "Train: 0.960500 \t \t Test: 0.929200\n",
      "Train: 0.958700 \t \t Test: 0.932800\n",
      "Train: 0.958500 \t \t Test: 0.928000\n",
      "Train: 0.960950 \t \t Test: 0.927200\n",
      "Train: 0.960800 \t \t Test: 0.929800\n",
      "Train: 0.962300 \t \t Test: 0.929400\n",
      "Train: 0.961000 \t \t Test: 0.922800\n",
      "Train: 0.960150 \t \t Test: 0.929800\n",
      "Train: 0.962400 \t \t Test: 0.932800\n",
      "Train: 0.962200 \t \t Test: 0.929600\n",
      "Train: 0.964450 \t \t Test: 0.928800\n",
      "Train: 0.964000 \t \t Test: 0.922800\n",
      "Train: 0.963750 \t \t Test: 0.923000\n",
      "Train: 0.964750 \t \t Test: 0.928800\n",
      "Train: 0.964800 \t \t Test: 0.932600\n",
      "Train: 0.965750 \t \t Test: 0.926200\n",
      "Train: 0.966300 \t \t Test: 0.930600\n",
      "Train: 0.965250 \t \t Test: 0.937400\n",
      "Train: 0.966700 \t \t Test: 0.922800\n",
      "Train: 0.965550 \t \t Test: 0.938400\n",
      "\n"
     ]
    },
    {
     "data": {
      "application/vnd.jupyter.widget-view+json": {
       "model_id": "fdd92e5bcdd14793a7fa33cbb98d2d30",
       "version_major": 2,
       "version_minor": 0
      },
      "text/plain": [
       "HBox(children=(IntProgress(value=0, description='epochs', max=250, style=ProgressStyle(description_width='init…"
      ]
     },
     "metadata": {},
     "output_type": "display_data"
    },
    {
     "name": "stderr",
     "output_type": "stream",
     "text": [
      "Fitting with configuration: [('one_shot', 0), ('dropout', 0), ('lr', 0.037)] \n"
     ]
    },
    {
     "name": "stdout",
     "output_type": "stream",
     "text": [
      "Train: 0.886050 \t \t Test: 0.875800\n",
      "Train: 0.904700 \t \t Test: 0.889600\n",
      "Train: 0.915900 \t \t Test: 0.901800\n",
      "Train: 0.920500 \t \t Test: 0.885600\n",
      "Train: 0.926100 \t \t Test: 0.901600\n",
      "Train: 0.932000 \t \t Test: 0.895600\n",
      "Train: 0.933150 \t \t Test: 0.901800\n",
      "Train: 0.938700 \t \t Test: 0.903000\n",
      "Train: 0.937950 \t \t Test: 0.895600\n",
      "Train: 0.943750 \t \t Test: 0.909400\n",
      "Train: 0.943100 \t \t Test: 0.905200\n",
      "Train: 0.942750 \t \t Test: 0.919000\n",
      "Train: 0.945500 \t \t Test: 0.901800\n",
      "Train: 0.945400 \t \t Test: 0.905600\n",
      "Train: 0.949650 \t \t Test: 0.913000\n",
      "Train: 0.947200 \t \t Test: 0.914800\n",
      "Train: 0.949250 \t \t Test: 0.913400\n",
      "Train: 0.949950 \t \t Test: 0.916800\n",
      "Train: 0.950200 \t \t Test: 0.922400\n",
      "Train: 0.951450 \t \t Test: 0.926600\n",
      "Train: 0.952150 \t \t Test: 0.923000\n",
      "Train: 0.954750 \t \t Test: 0.928800\n",
      "Train: 0.954250 \t \t Test: 0.924800\n",
      "Train: 0.954700 \t \t Test: 0.921600\n",
      "Train: 0.957350 \t \t Test: 0.921800\n",
      "Train: 0.954250 \t \t Test: 0.929600\n",
      "Train: 0.956000 \t \t Test: 0.919800\n",
      "Train: 0.956600 \t \t Test: 0.922800\n",
      "Train: 0.958800 \t \t Test: 0.927400\n",
      "Train: 0.958150 \t \t Test: 0.930800\n",
      "Train: 0.958800 \t \t Test: 0.928800\n",
      "Train: 0.957250 \t \t Test: 0.929000\n",
      "Train: 0.960550 \t \t Test: 0.930200\n",
      "Train: 0.959000 \t \t Test: 0.924600\n",
      "Train: 0.959550 \t \t Test: 0.920200\n",
      "Train: 0.962150 \t \t Test: 0.926400\n",
      "Train: 0.963050 \t \t Test: 0.925800\n",
      "Train: 0.961250 \t \t Test: 0.923000\n",
      "Train: 0.960400 \t \t Test: 0.922200\n",
      "Train: 0.963200 \t \t Test: 0.924000\n",
      "Train: 0.962500 \t \t Test: 0.929800\n",
      "Train: 0.964800 \t \t Test: 0.930600\n",
      "Train: 0.962550 \t \t Test: 0.935400\n",
      "Train: 0.964800 \t \t Test: 0.933000\n",
      "Train: 0.964400 \t \t Test: 0.933400\n",
      "Train: 0.963400 \t \t Test: 0.934200\n",
      "Train: 0.964400 \t \t Test: 0.931400\n",
      "Train: 0.968050 \t \t Test: 0.931600\n",
      "Train: 0.965400 \t \t Test: 0.931600\n",
      "Train: 0.966550 \t \t Test: 0.938800\n",
      "\n"
     ]
    },
    {
     "name": "stderr",
     "output_type": "stream",
     "text": [
      "Generating vanilla HD basis of shape... "
     ]
    },
    {
     "data": {
      "application/vnd.jupyter.widget-view+json": {
       "model_id": "9af76d22b27545348567297990289cf9",
       "version_major": 2,
       "version_minor": 0
      },
      "text/plain": [
       "HBox(children=(IntProgress(value=0, description='vectors', max=1500, style=ProgressStyle(description_width='in…"
      ]
     },
     "metadata": {},
     "output_type": "display_data"
    },
    {
     "name": "stdout",
     "output_type": "stream",
     "text": [
      "\n",
      "4665\n"
     ]
    },
    {
     "name": "stderr",
     "output_type": "stream",
     "text": [
      "(1500, 30)\n",
      "Encoding time: 0.03649306297302246 \n",
      "Dumping basis into file: base_4665.pkl \n",
      "Encoding data of shape (20000, 30)\n"
     ]
    },
    {
     "data": {
      "application/vnd.jupyter.widget-view+json": {
       "model_id": "82b5ce2125be4d2fbbdd6eb043c6c6e1",
       "version_major": 2,
       "version_minor": 0
      },
      "text/plain": [
       "HBox(children=(IntProgress(value=0, description='samples encoded', max=20000, style=ProgressStyle(description_…"
      ]
     },
     "metadata": {},
     "output_type": "display_data"
    },
    {
     "name": "stdout",
     "output_type": "stream",
     "text": [
      "\n"
     ]
    },
    {
     "name": "stderr",
     "output_type": "stream",
     "text": [
      "Time spent: 162 sec\n",
      "Dumping data into encoded_4665_train.pkl \n",
      "Encoding data of shape (5000, 30)\n"
     ]
    },
    {
     "data": {
      "application/vnd.jupyter.widget-view+json": {
       "model_id": "8d1d8df382c249b891f48550928dff90",
       "version_major": 2,
       "version_minor": 0
      },
      "text/plain": [
       "HBox(children=(IntProgress(value=0, description='samples encoded', max=5000, style=ProgressStyle(description_w…"
      ]
     },
     "metadata": {},
     "output_type": "display_data"
    },
    {
     "name": "stdout",
     "output_type": "stream",
     "text": [
      "\n"
     ]
    },
    {
     "name": "stderr",
     "output_type": "stream",
     "text": [
      "Time spent: 40 sec\n",
      "Dumping data into encoded_4665_test.pkl \n"
     ]
    },
    {
     "data": {
      "application/vnd.jupyter.widget-view+json": {
       "model_id": "108172d803b54a0382d983aadc125bf3",
       "version_major": 2,
       "version_minor": 0
      },
      "text/plain": [
       "HBox(children=(IntProgress(value=0, description='epochs', max=250, style=ProgressStyle(description_width='init…"
      ]
     },
     "metadata": {},
     "output_type": "display_data"
    },
    {
     "name": "stderr",
     "output_type": "stream",
     "text": [
      "Fitting with configuration: [('one_shot', 0), ('dropout', 0), ('lr', 0.037)] \n"
     ]
    },
    {
     "name": "stdout",
     "output_type": "stream",
     "text": [
      "Train: 0.885300 \t \t Test: 0.876200\n",
      "Train: 0.905400 \t \t Test: 0.860400\n",
      "Train: 0.915150 \t \t Test: 0.874000\n",
      "Train: 0.923100 \t \t Test: 0.893000\n",
      "Train: 0.927500 \t \t Test: 0.905000\n",
      "Train: 0.934750 \t \t Test: 0.904000\n",
      "Train: 0.937650 \t \t Test: 0.905800\n",
      "Train: 0.939250 \t \t Test: 0.893800\n",
      "Train: 0.939200 \t \t Test: 0.912400\n",
      "Train: 0.938950 \t \t Test: 0.904800\n",
      "Train: 0.942800 \t \t Test: 0.917600\n",
      "Train: 0.947500 \t \t Test: 0.913200\n",
      "Train: 0.946700 \t \t Test: 0.910000\n",
      "Train: 0.948150 \t \t Test: 0.910800\n",
      "Train: 0.949200 \t \t Test: 0.913400\n",
      "Train: 0.949850 \t \t Test: 0.923200\n",
      "Train: 0.950750 \t \t Test: 0.919800\n",
      "Train: 0.954900 \t \t Test: 0.925600\n",
      "Train: 0.953250 \t \t Test: 0.917000\n",
      "Train: 0.954850 \t \t Test: 0.921800\n",
      "Train: 0.957750 \t \t Test: 0.932200\n",
      "Train: 0.956100 \t \t Test: 0.918600\n",
      "Train: 0.956600 \t \t Test: 0.918800\n",
      "Train: 0.957700 \t \t Test: 0.935200\n",
      "Train: 0.957650 \t \t Test: 0.923600\n",
      "Train: 0.956300 \t \t Test: 0.920200\n",
      "Train: 0.958050 \t \t Test: 0.929200\n",
      "Train: 0.958600 \t \t Test: 0.927400\n",
      "Train: 0.960300 \t \t Test: 0.933200\n",
      "Train: 0.961100 \t \t Test: 0.929400\n",
      "Train: 0.959850 \t \t Test: 0.921400\n",
      "Train: 0.961550 \t \t Test: 0.935600\n",
      "Train: 0.961200 \t \t Test: 0.938600\n",
      "Train: 0.962450 \t \t Test: 0.933000\n",
      "Train: 0.963200 \t \t Test: 0.928600\n",
      "Train: 0.962300 \t \t Test: 0.937200\n",
      "Train: 0.963200 \t \t Test: 0.930000\n",
      "Train: 0.962650 \t \t Test: 0.926400\n",
      "Train: 0.963150 \t \t Test: 0.937200\n",
      "Train: 0.964650 \t \t Test: 0.928600\n",
      "Train: 0.965400 \t \t Test: 0.927600\n",
      "Train: 0.967150 \t \t Test: 0.922600\n",
      "Train: 0.967950 \t \t Test: 0.919800\n",
      "Train: 0.965250 \t \t Test: 0.930600\n",
      "Train: 0.966850 \t \t Test: 0.918400\n",
      "Train: 0.966400 \t \t Test: 0.934600\n",
      "Train: 0.966900 \t \t Test: 0.930600\n",
      "Train: 0.967850 \t \t Test: 0.936200\n",
      "Train: 0.966750 \t \t Test: 0.934800\n",
      "Train: 0.967650 \t \t Test: 0.936200\n",
      "\n"
     ]
    },
    {
     "data": {
      "application/vnd.jupyter.widget-view+json": {
       "model_id": "e7e05d4a495b4953b80e9a77424dd9ec",
       "version_major": 2,
       "version_minor": 0
      },
      "text/plain": [
       "HBox(children=(IntProgress(value=0, description='epochs', max=250, style=ProgressStyle(description_width='init…"
      ]
     },
     "metadata": {},
     "output_type": "display_data"
    },
    {
     "name": "stderr",
     "output_type": "stream",
     "text": [
      "Fitting with configuration: [('one_shot', 0), ('dropout', 0), ('lr', 0.037)] \n"
     ]
    },
    {
     "name": "stdout",
     "output_type": "stream",
     "text": [
      "Train: 0.885350 \t \t Test: 0.864400\n",
      "Train: 0.908650 \t \t Test: 0.867800\n",
      "Train: 0.917900 \t \t Test: 0.903600\n",
      "Train: 0.921150 \t \t Test: 0.897000\n",
      "Train: 0.928650 \t \t Test: 0.891800\n",
      "Train: 0.930150 \t \t Test: 0.905600\n",
      "Train: 0.933350 \t \t Test: 0.904800\n",
      "Train: 0.939050 \t \t Test: 0.899600\n",
      "Train: 0.938700 \t \t Test: 0.909600\n",
      "Train: 0.940900 \t \t Test: 0.918600\n",
      "Train: 0.943450 \t \t Test: 0.905400\n",
      "Train: 0.943950 \t \t Test: 0.922000\n",
      "Train: 0.948350 \t \t Test: 0.903400\n",
      "Train: 0.948750 \t \t Test: 0.918400\n",
      "Train: 0.949850 \t \t Test: 0.918600\n",
      "Train: 0.952550 \t \t Test: 0.922400\n",
      "Train: 0.951050 \t \t Test: 0.922600\n",
      "Train: 0.952400 \t \t Test: 0.923600\n",
      "Train: 0.955000 \t \t Test: 0.913400\n",
      "Train: 0.956000 \t \t Test: 0.921200\n",
      "Train: 0.955450 \t \t Test: 0.929600\n",
      "Train: 0.956350 \t \t Test: 0.924600\n",
      "Train: 0.957350 \t \t Test: 0.926200\n",
      "Train: 0.958000 \t \t Test: 0.921400\n",
      "Train: 0.957950 \t \t Test: 0.915400\n",
      "Train: 0.958600 \t \t Test: 0.925800\n",
      "Train: 0.959600 \t \t Test: 0.929800\n",
      "Train: 0.960000 \t \t Test: 0.927200\n",
      "Train: 0.959450 \t \t Test: 0.927800\n",
      "Train: 0.958450 \t \t Test: 0.924200\n",
      "Train: 0.959950 \t \t Test: 0.932200\n",
      "Train: 0.962350 \t \t Test: 0.916800\n",
      "Train: 0.963450 \t \t Test: 0.928400\n",
      "Train: 0.963950 \t \t Test: 0.926800\n",
      "Train: 0.963950 \t \t Test: 0.927600\n",
      "Train: 0.961550 \t \t Test: 0.932800\n",
      "Train: 0.964000 \t \t Test: 0.928600\n",
      "Train: 0.963850 \t \t Test: 0.931200\n",
      "Train: 0.963250 \t \t Test: 0.931000\n",
      "Train: 0.964950 \t \t Test: 0.931200\n",
      "Train: 0.965950 \t \t Test: 0.931800\n",
      "Train: 0.963900 \t \t Test: 0.938200\n",
      "Train: 0.964750 \t \t Test: 0.928600\n",
      "Train: 0.965500 \t \t Test: 0.932200\n",
      "Train: 0.967350 \t \t Test: 0.937800\n",
      "Train: 0.966900 \t \t Test: 0.932600\n",
      "Train: 0.966200 \t \t Test: 0.934400\n",
      "Train: 0.968100 \t \t Test: 0.924600\n",
      "Train: 0.968000 \t \t Test: 0.932400\n",
      "Train: 0.968450 \t \t Test: 0.932000\n",
      "\n"
     ]
    },
    {
     "data": {
      "application/vnd.jupyter.widget-view+json": {
       "model_id": "4ed4bf95e8ec41b38d526e63f0b722c1",
       "version_major": 2,
       "version_minor": 0
      },
      "text/plain": [
       "HBox(children=(IntProgress(value=0, description='epochs', max=250, style=ProgressStyle(description_width='init…"
      ]
     },
     "metadata": {},
     "output_type": "display_data"
    },
    {
     "name": "stderr",
     "output_type": "stream",
     "text": [
      "Fitting with configuration: [('one_shot', 0), ('dropout', 0), ('lr', 0.037)] \n"
     ]
    },
    {
     "name": "stdout",
     "output_type": "stream",
     "text": [
      "Train: 0.888100 \t \t Test: 0.851000\n",
      "Train: 0.906200 \t \t Test: 0.883400\n",
      "Train: 0.918150 \t \t Test: 0.906600\n",
      "Train: 0.922750 \t \t Test: 0.888600\n",
      "Train: 0.927050 \t \t Test: 0.898800\n",
      "Train: 0.931700 \t \t Test: 0.902200\n",
      "Train: 0.935850 \t \t Test: 0.901000\n",
      "Train: 0.937900 \t \t Test: 0.913800\n",
      "Train: 0.941950 \t \t Test: 0.914600\n",
      "Train: 0.941700 \t \t Test: 0.917800\n",
      "Train: 0.944500 \t \t Test: 0.919400\n",
      "Train: 0.943500 \t \t Test: 0.914600\n",
      "Train: 0.947350 \t \t Test: 0.915000\n",
      "Train: 0.947100 \t \t Test: 0.907600\n",
      "Train: 0.947650 \t \t Test: 0.922000\n",
      "Train: 0.950950 \t \t Test: 0.923200\n",
      "Train: 0.953200 \t \t Test: 0.921000\n",
      "Train: 0.955550 \t \t Test: 0.926400\n",
      "Train: 0.952400 \t \t Test: 0.896200\n",
      "Train: 0.952400 \t \t Test: 0.922800\n",
      "Train: 0.955550 \t \t Test: 0.931200\n",
      "Train: 0.953700 \t \t Test: 0.916200\n",
      "Train: 0.956050 \t \t Test: 0.919800\n",
      "Train: 0.956700 \t \t Test: 0.921800\n",
      "Train: 0.958300 \t \t Test: 0.929600\n",
      "Train: 0.960450 \t \t Test: 0.913600\n",
      "Train: 0.960150 \t \t Test: 0.931200\n",
      "Train: 0.959550 \t \t Test: 0.929800\n",
      "Train: 0.962450 \t \t Test: 0.930200\n",
      "Train: 0.960600 \t \t Test: 0.929600\n",
      "Train: 0.959350 \t \t Test: 0.926600\n",
      "Train: 0.960400 \t \t Test: 0.930600\n",
      "Train: 0.961450 \t \t Test: 0.928600\n",
      "Train: 0.964500 \t \t Test: 0.928000\n",
      "Train: 0.962600 \t \t Test: 0.920000\n",
      "Train: 0.962600 \t \t Test: 0.929000\n",
      "Train: 0.964800 \t \t Test: 0.926600\n",
      "Train: 0.963100 \t \t Test: 0.927000\n",
      "Train: 0.963850 \t \t Test: 0.936200\n",
      "Train: 0.966250 \t \t Test: 0.929200\n",
      "Train: 0.963100 \t \t Test: 0.928000\n",
      "Train: 0.964750 \t \t Test: 0.931000\n",
      "Train: 0.965950 \t \t Test: 0.935800\n",
      "Train: 0.965650 \t \t Test: 0.932200\n",
      "Train: 0.964950 \t \t Test: 0.933200\n",
      "Train: 0.968100 \t \t Test: 0.935600\n",
      "Train: 0.965700 \t \t Test: 0.934000\n",
      "Train: 0.967300 \t \t Test: 0.934400\n",
      "Train: 0.967950 \t \t Test: 0.934600\n",
      "Train: 0.968750 \t \t Test: 0.937000\n",
      "\n"
     ]
    },
    {
     "data": {
      "application/vnd.jupyter.widget-view+json": {
       "model_id": "f5cff954756f47b1a9e7062048ea115f",
       "version_major": 2,
       "version_minor": 0
      },
      "text/plain": [
       "HBox(children=(IntProgress(value=0, description='epochs', max=250, style=ProgressStyle(description_width='init…"
      ]
     },
     "metadata": {},
     "output_type": "display_data"
    },
    {
     "name": "stderr",
     "output_type": "stream",
     "text": [
      "Fitting with configuration: [('one_shot', 0), ('dropout', 0), ('lr', 0.037)] \n"
     ]
    },
    {
     "name": "stdout",
     "output_type": "stream",
     "text": [
      "Train: 0.887500 \t \t Test: 0.863400\n",
      "Train: 0.906150 \t \t Test: 0.867600\n",
      "Train: 0.918300 \t \t Test: 0.890600\n",
      "Train: 0.921900 \t \t Test: 0.893000\n",
      "Train: 0.929600 \t \t Test: 0.902200\n",
      "Train: 0.932700 \t \t Test: 0.883400\n",
      "Train: 0.935400 \t \t Test: 0.901800\n",
      "Train: 0.936850 \t \t Test: 0.899600\n",
      "Train: 0.938350 \t \t Test: 0.910600\n",
      "Train: 0.942450 \t \t Test: 0.906800\n",
      "Train: 0.942250 \t \t Test: 0.911600\n",
      "Train: 0.946350 \t \t Test: 0.911800\n",
      "Train: 0.947150 \t \t Test: 0.919600\n",
      "Train: 0.947550 \t \t Test: 0.909200\n",
      "Train: 0.950250 \t \t Test: 0.908200\n",
      "Train: 0.951300 \t \t Test: 0.923800\n",
      "Train: 0.951250 \t \t Test: 0.923000\n",
      "Train: 0.951150 \t \t Test: 0.917600\n",
      "Train: 0.954250 \t \t Test: 0.924000\n",
      "Train: 0.955150 \t \t Test: 0.924000\n",
      "Train: 0.955100 \t \t Test: 0.931000\n",
      "Train: 0.956350 \t \t Test: 0.925000\n",
      "Train: 0.953700 \t \t Test: 0.927800\n",
      "Train: 0.956000 \t \t Test: 0.933400\n",
      "Train: 0.955850 \t \t Test: 0.927200\n",
      "Train: 0.959700 \t \t Test: 0.934200\n",
      "Train: 0.960500 \t \t Test: 0.922600\n",
      "Train: 0.958850 \t \t Test: 0.928200\n",
      "Train: 0.959750 \t \t Test: 0.928600\n",
      "Train: 0.960100 \t \t Test: 0.929400\n",
      "Train: 0.961400 \t \t Test: 0.924400\n",
      "Train: 0.962050 \t \t Test: 0.942000\n",
      "Train: 0.961100 \t \t Test: 0.930000\n",
      "Train: 0.962950 \t \t Test: 0.926400\n",
      "Train: 0.964000 \t \t Test: 0.929400\n",
      "Train: 0.962350 \t \t Test: 0.925600\n",
      "Train: 0.963300 \t \t Test: 0.935000\n",
      "Train: 0.965050 \t \t Test: 0.924600\n",
      "Train: 0.964300 \t \t Test: 0.931000\n",
      "Train: 0.967000 \t \t Test: 0.932800\n",
      "Train: 0.964800 \t \t Test: 0.935800\n",
      "Train: 0.962900 \t \t Test: 0.928400\n",
      "Train: 0.964900 \t \t Test: 0.934400\n",
      "Train: 0.966100 \t \t Test: 0.921600\n",
      "Train: 0.965950 \t \t Test: 0.932000\n",
      "Train: 0.966200 \t \t Test: 0.936000\n",
      "Train: 0.968550 \t \t Test: 0.932600\n",
      "Train: 0.966350 \t \t Test: 0.932800\n",
      "Train: 0.967750 \t \t Test: 0.926200\n",
      "Train: 0.966650 \t \t Test: 0.932000\n",
      "\n"
     ]
    },
    {
     "data": {
      "application/vnd.jupyter.widget-view+json": {
       "model_id": "04c84315931d408d82632a9d17a7a913",
       "version_major": 2,
       "version_minor": 0
      },
      "text/plain": [
       "HBox(children=(IntProgress(value=0, description='epochs', max=250, style=ProgressStyle(description_width='init…"
      ]
     },
     "metadata": {},
     "output_type": "display_data"
    },
    {
     "name": "stderr",
     "output_type": "stream",
     "text": [
      "Fitting with configuration: [('one_shot', 0), ('dropout', 0), ('lr', 0.037)] \n"
     ]
    },
    {
     "name": "stdout",
     "output_type": "stream",
     "text": [
      "Train: 0.886900 \t \t Test: 0.871400\n",
      "Train: 0.909400 \t \t Test: 0.885000\n",
      "Train: 0.917800 \t \t Test: 0.894200\n",
      "Train: 0.922900 \t \t Test: 0.903200\n",
      "Train: 0.925150 \t \t Test: 0.900800\n",
      "Train: 0.932300 \t \t Test: 0.906400\n",
      "Train: 0.935850 \t \t Test: 0.899000\n",
      "Train: 0.935850 \t \t Test: 0.913600\n",
      "Train: 0.940900 \t \t Test: 0.921000\n",
      "Train: 0.941550 \t \t Test: 0.907400\n",
      "Train: 0.943500 \t \t Test: 0.921400\n",
      "Train: 0.944600 \t \t Test: 0.922800\n",
      "Train: 0.946350 \t \t Test: 0.916000\n",
      "Train: 0.946550 \t \t Test: 0.923400\n",
      "Train: 0.951200 \t \t Test: 0.920000\n",
      "Train: 0.950250 \t \t Test: 0.921600\n",
      "Train: 0.951400 \t \t Test: 0.920400\n",
      "Train: 0.954200 \t \t Test: 0.931000\n",
      "Train: 0.952650 \t \t Test: 0.923800\n",
      "Train: 0.954100 \t \t Test: 0.916200\n",
      "Train: 0.953500 \t \t Test: 0.919600\n",
      "Train: 0.958350 \t \t Test: 0.919400\n",
      "Train: 0.958050 \t \t Test: 0.929600\n",
      "Train: 0.957150 \t \t Test: 0.924200\n",
      "Train: 0.959150 \t \t Test: 0.923800\n",
      "Train: 0.955750 \t \t Test: 0.926600\n",
      "Train: 0.960100 \t \t Test: 0.930400\n",
      "Train: 0.961150 \t \t Test: 0.928800\n",
      "Train: 0.956650 \t \t Test: 0.932400\n",
      "Train: 0.959800 \t \t Test: 0.928800\n",
      "Train: 0.958350 \t \t Test: 0.928000\n",
      "Train: 0.961300 \t \t Test: 0.923600\n",
      "Train: 0.961400 \t \t Test: 0.926200\n",
      "Train: 0.962000 \t \t Test: 0.931400\n",
      "Train: 0.961700 \t \t Test: 0.926400\n",
      "Train: 0.962350 \t \t Test: 0.930800\n",
      "Train: 0.965200 \t \t Test: 0.937200\n",
      "Train: 0.964000 \t \t Test: 0.931000\n",
      "Train: 0.964700 \t \t Test: 0.927400\n",
      "Train: 0.963750 \t \t Test: 0.933200\n",
      "Train: 0.964850 \t \t Test: 0.931200\n",
      "Train: 0.965050 \t \t Test: 0.930200\n",
      "Train: 0.967350 \t \t Test: 0.931000\n",
      "Train: 0.964750 \t \t Test: 0.934800\n",
      "Train: 0.968450 \t \t Test: 0.934400\n",
      "Train: 0.967400 \t \t Test: 0.933200\n",
      "Train: 0.966600 \t \t Test: 0.931800\n",
      "Train: 0.967450 \t \t Test: 0.929200\n",
      "Train: 0.965550 \t \t Test: 0.936200\n",
      "Train: 0.966500 \t \t Test: 0.934600\n",
      "\n"
     ]
    },
    {
     "name": "stderr",
     "output_type": "stream",
     "text": [
      "Generating vanilla HD basis of shape... "
     ]
    },
    {
     "data": {
      "application/vnd.jupyter.widget-view+json": {
       "model_id": "112a6cb647a542cabb9e50076e5eaa8c",
       "version_major": 2,
       "version_minor": 0
      },
      "text/plain": [
       "HBox(children=(IntProgress(value=0, description='vectors', max=2000, style=ProgressStyle(description_width='in…"
      ]
     },
     "metadata": {},
     "output_type": "display_data"
    },
    {
     "name": "stdout",
     "output_type": "stream",
     "text": [
      "\n",
      "5603\n"
     ]
    },
    {
     "name": "stderr",
     "output_type": "stream",
     "text": [
      "(2000, 30)\n",
      "Encoding time: 0.03464245796203613 \n",
      "Dumping basis into file: base_5603.pkl \n",
      "Encoding data of shape (20000, 30)\n"
     ]
    },
    {
     "data": {
      "application/vnd.jupyter.widget-view+json": {
       "model_id": "d3a69aaab2454850b66ff41ad42fe7f1",
       "version_major": 2,
       "version_minor": 0
      },
      "text/plain": [
       "HBox(children=(IntProgress(value=0, description='samples encoded', max=20000, style=ProgressStyle(description_…"
      ]
     },
     "metadata": {},
     "output_type": "display_data"
    },
    {
     "name": "stdout",
     "output_type": "stream",
     "text": [
      "\n"
     ]
    },
    {
     "name": "stderr",
     "output_type": "stream",
     "text": [
      "Time spent: 218 sec\n",
      "Dumping data into encoded_5603_train.pkl \n",
      "Encoding data of shape (5000, 30)\n"
     ]
    },
    {
     "data": {
      "application/vnd.jupyter.widget-view+json": {
       "model_id": "e95da102ef09410fa3545484e6849c3f",
       "version_major": 2,
       "version_minor": 0
      },
      "text/plain": [
       "HBox(children=(IntProgress(value=0, description='samples encoded', max=5000, style=ProgressStyle(description_w…"
      ]
     },
     "metadata": {},
     "output_type": "display_data"
    },
    {
     "name": "stdout",
     "output_type": "stream",
     "text": [
      "\n"
     ]
    },
    {
     "name": "stderr",
     "output_type": "stream",
     "text": [
      "Time spent: 55 sec\n",
      "Dumping data into encoded_5603_test.pkl \n"
     ]
    },
    {
     "data": {
      "application/vnd.jupyter.widget-view+json": {
       "model_id": "b5985b20597a45fcaf7706863771462b",
       "version_major": 2,
       "version_minor": 0
      },
      "text/plain": [
       "HBox(children=(IntProgress(value=0, description='epochs', max=250, style=ProgressStyle(description_width='init…"
      ]
     },
     "metadata": {},
     "output_type": "display_data"
    },
    {
     "name": "stderr",
     "output_type": "stream",
     "text": [
      "Fitting with configuration: [('one_shot', 0), ('dropout', 0), ('lr', 0.037)] \n"
     ]
    },
    {
     "name": "stdout",
     "output_type": "stream",
     "text": [
      "Train: 0.887400 \t \t Test: 0.869600\n",
      "Train: 0.909200 \t \t Test: 0.873200\n",
      "Train: 0.918450 \t \t Test: 0.907600\n",
      "Train: 0.925500 \t \t Test: 0.882000\n",
      "Train: 0.932050 \t \t Test: 0.912200\n",
      "Train: 0.933150 \t \t Test: 0.908600\n",
      "Train: 0.935450 \t \t Test: 0.913000\n",
      "Train: 0.939100 \t \t Test: 0.923200\n",
      "Train: 0.942200 \t \t Test: 0.911800\n",
      "Train: 0.942500 \t \t Test: 0.907200\n",
      "Train: 0.944550 \t \t Test: 0.901000\n",
      "Train: 0.945800 \t \t Test: 0.915400\n",
      "Train: 0.949000 \t \t Test: 0.916600\n",
      "Train: 0.948750 \t \t Test: 0.920400\n",
      "Train: 0.950550 \t \t Test: 0.917800\n",
      "Train: 0.951050 \t \t Test: 0.927400\n",
      "Train: 0.952900 \t \t Test: 0.923600\n",
      "Train: 0.954900 \t \t Test: 0.935000\n",
      "Train: 0.954450 \t \t Test: 0.924200\n",
      "Train: 0.954950 \t \t Test: 0.916200\n",
      "Train: 0.956450 \t \t Test: 0.932200\n",
      "Train: 0.958100 \t \t Test: 0.923400\n",
      "Train: 0.958050 \t \t Test: 0.916000\n",
      "Train: 0.958650 \t \t Test: 0.923800\n",
      "Train: 0.957700 \t \t Test: 0.927200\n",
      "Train: 0.959500 \t \t Test: 0.933600\n",
      "Train: 0.961250 \t \t Test: 0.932800\n",
      "Train: 0.961650 \t \t Test: 0.926200\n",
      "Train: 0.961900 \t \t Test: 0.926600\n",
      "Train: 0.959850 \t \t Test: 0.930600\n",
      "Train: 0.962650 \t \t Test: 0.934600\n",
      "Train: 0.961750 \t \t Test: 0.928000\n",
      "Train: 0.962700 \t \t Test: 0.933000\n",
      "Train: 0.964300 \t \t Test: 0.931000\n",
      "Train: 0.965600 \t \t Test: 0.926000\n",
      "Train: 0.963950 \t \t Test: 0.935200\n",
      "Train: 0.966450 \t \t Test: 0.925000\n",
      "Train: 0.965850 \t \t Test: 0.934600\n",
      "Train: 0.964850 \t \t Test: 0.933200\n",
      "Train: 0.966150 \t \t Test: 0.932400\n",
      "Train: 0.965350 \t \t Test: 0.940600\n",
      "Train: 0.967000 \t \t Test: 0.936600\n",
      "Train: 0.966250 \t \t Test: 0.931800\n",
      "Train: 0.969450 \t \t Test: 0.936800\n",
      "Train: 0.967100 \t \t Test: 0.938200\n",
      "Train: 0.967200 \t \t Test: 0.927800\n",
      "Train: 0.968200 \t \t Test: 0.933400\n",
      "Train: 0.968300 \t \t Test: 0.940000\n",
      "Train: 0.971400 \t \t Test: 0.935200\n",
      "Train: 0.968550 \t \t Test: 0.943000\n",
      "\n"
     ]
    },
    {
     "data": {
      "application/vnd.jupyter.widget-view+json": {
       "model_id": "548db2cb463248f18e61d0bfa4884bc6",
       "version_major": 2,
       "version_minor": 0
      },
      "text/plain": [
       "HBox(children=(IntProgress(value=0, description='epochs', max=250, style=ProgressStyle(description_width='init…"
      ]
     },
     "metadata": {},
     "output_type": "display_data"
    },
    {
     "name": "stderr",
     "output_type": "stream",
     "text": [
      "Fitting with configuration: [('one_shot', 0), ('dropout', 0), ('lr', 0.037)] \n"
     ]
    },
    {
     "name": "stdout",
     "output_type": "stream",
     "text": [
      "Train: 0.885150 \t \t Test: 0.867200\n",
      "Train: 0.907500 \t \t Test: 0.869200\n",
      "Train: 0.918000 \t \t Test: 0.894000\n",
      "Train: 0.924800 \t \t Test: 0.874600\n",
      "Train: 0.929750 \t \t Test: 0.899400\n",
      "Train: 0.936100 \t \t Test: 0.909000\n",
      "Train: 0.934150 \t \t Test: 0.908800\n",
      "Train: 0.941050 \t \t Test: 0.919200\n",
      "Train: 0.940400 \t \t Test: 0.914600\n",
      "Train: 0.944200 \t \t Test: 0.911800\n",
      "Train: 0.945750 \t \t Test: 0.923800\n",
      "Train: 0.945750 \t \t Test: 0.909400\n",
      "Train: 0.947250 \t \t Test: 0.918400\n",
      "Train: 0.949450 \t \t Test: 0.912200\n",
      "Train: 0.952200 \t \t Test: 0.917400\n",
      "Train: 0.952200 \t \t Test: 0.915400\n",
      "Train: 0.954050 \t \t Test: 0.924400\n",
      "Train: 0.955950 \t \t Test: 0.925200\n",
      "Train: 0.953400 \t \t Test: 0.929800\n",
      "Train: 0.957200 \t \t Test: 0.930200\n",
      "Train: 0.955050 \t \t Test: 0.917200\n",
      "Train: 0.958300 \t \t Test: 0.931400\n",
      "Train: 0.956950 \t \t Test: 0.929800\n",
      "Train: 0.957500 \t \t Test: 0.932000\n",
      "Train: 0.960400 \t \t Test: 0.927200\n",
      "Train: 0.960200 \t \t Test: 0.922600\n",
      "Train: 0.959150 \t \t Test: 0.928800\n",
      "Train: 0.962200 \t \t Test: 0.932800\n",
      "Train: 0.962250 \t \t Test: 0.932200\n",
      "Train: 0.962000 \t \t Test: 0.929600\n",
      "Train: 0.963000 \t \t Test: 0.931200\n",
      "Train: 0.961900 \t \t Test: 0.935000\n",
      "Train: 0.962850 \t \t Test: 0.927800\n",
      "Train: 0.964450 \t \t Test: 0.940200\n",
      "Train: 0.962300 \t \t Test: 0.930800\n",
      "Train: 0.964850 \t \t Test: 0.936600\n",
      "Train: 0.965050 \t \t Test: 0.931200\n",
      "Train: 0.967450 \t \t Test: 0.935800\n",
      "Train: 0.967300 \t \t Test: 0.932400\n",
      "Train: 0.965250 \t \t Test: 0.938800\n",
      "Train: 0.966750 \t \t Test: 0.935000\n",
      "Train: 0.968250 \t \t Test: 0.936400\n",
      "Train: 0.966250 \t \t Test: 0.935000\n",
      "Train: 0.967350 \t \t Test: 0.930600\n",
      "Train: 0.967900 \t \t Test: 0.939800\n",
      "Train: 0.970050 \t \t Test: 0.928000\n",
      "Train: 0.968050 \t \t Test: 0.932400\n",
      "Train: 0.966600 \t \t Test: 0.932200\n",
      "Train: 0.969900 \t \t Test: 0.930400\n",
      "Train: 0.969200 \t \t Test: 0.934800\n",
      "\n"
     ]
    },
    {
     "data": {
      "application/vnd.jupyter.widget-view+json": {
       "model_id": "0e93ea423b994df2a27c04e430a95d85",
       "version_major": 2,
       "version_minor": 0
      },
      "text/plain": [
       "HBox(children=(IntProgress(value=0, description='epochs', max=250, style=ProgressStyle(description_width='init…"
      ]
     },
     "metadata": {},
     "output_type": "display_data"
    },
    {
     "name": "stderr",
     "output_type": "stream",
     "text": [
      "Fitting with configuration: [('one_shot', 0), ('dropout', 0), ('lr', 0.037)] \n"
     ]
    },
    {
     "name": "stdout",
     "output_type": "stream",
     "text": [
      "Train: 0.890450 \t \t Test: 0.886000\n",
      "Train: 0.910400 \t \t Test: 0.888000\n",
      "Train: 0.916150 \t \t Test: 0.890400\n",
      "Train: 0.923150 \t \t Test: 0.906800\n",
      "Train: 0.928500 \t \t Test: 0.909800\n",
      "Train: 0.933250 \t \t Test: 0.912200\n",
      "Train: 0.938750 \t \t Test: 0.904600\n",
      "Train: 0.938800 \t \t Test: 0.906400\n",
      "Train: 0.940900 \t \t Test: 0.918400\n",
      "Train: 0.941550 \t \t Test: 0.912000\n",
      "Train: 0.944650 \t \t Test: 0.929200\n",
      "Train: 0.948400 \t \t Test: 0.932000\n",
      "Train: 0.947650 \t \t Test: 0.910000\n",
      "Train: 0.951850 \t \t Test: 0.920200\n",
      "Train: 0.951200 \t \t Test: 0.919200\n",
      "Train: 0.953200 \t \t Test: 0.927200\n",
      "Train: 0.951150 \t \t Test: 0.920000\n",
      "Train: 0.953300 \t \t Test: 0.919400\n",
      "Train: 0.954250 \t \t Test: 0.928000\n",
      "Train: 0.955650 \t \t Test: 0.910400\n",
      "Train: 0.957650 \t \t Test: 0.934000\n",
      "Train: 0.956800 \t \t Test: 0.927800\n",
      "Train: 0.958950 \t \t Test: 0.929400\n",
      "Train: 0.959700 \t \t Test: 0.921600\n",
      "Train: 0.959500 \t \t Test: 0.938800\n",
      "Train: 0.960650 \t \t Test: 0.920400\n",
      "Train: 0.961500 \t \t Test: 0.936600\n",
      "Train: 0.960550 \t \t Test: 0.931000\n",
      "Train: 0.962200 \t \t Test: 0.929600\n",
      "Train: 0.960900 \t \t Test: 0.928200\n",
      "Train: 0.959400 \t \t Test: 0.922600\n",
      "Train: 0.964400 \t \t Test: 0.926400\n",
      "Train: 0.961200 \t \t Test: 0.936400\n",
      "Train: 0.963550 \t \t Test: 0.934800\n",
      "Train: 0.964200 \t \t Test: 0.937800\n",
      "Train: 0.965600 \t \t Test: 0.931200\n",
      "Train: 0.965300 \t \t Test: 0.932800\n",
      "Train: 0.966750 \t \t Test: 0.922400\n",
      "Train: 0.963600 \t \t Test: 0.939000\n",
      "Train: 0.965350 \t \t Test: 0.937600\n",
      "Train: 0.967200 \t \t Test: 0.921000\n",
      "Train: 0.967800 \t \t Test: 0.939000\n",
      "Train: 0.968800 \t \t Test: 0.933800\n",
      "Train: 0.968050 \t \t Test: 0.936800\n",
      "Train: 0.968950 \t \t Test: 0.928800\n",
      "Train: 0.968750 \t \t Test: 0.937800\n",
      "Train: 0.968600 \t \t Test: 0.931400\n",
      "Train: 0.967800 \t \t Test: 0.935200\n",
      "Train: 0.971650 \t \t Test: 0.935600\n",
      "Train: 0.968750 \t \t Test: 0.931600\n",
      "\n"
     ]
    },
    {
     "data": {
      "application/vnd.jupyter.widget-view+json": {
       "model_id": "f0d6bc3e58b34a6f8fe26ff5568744fa",
       "version_major": 2,
       "version_minor": 0
      },
      "text/plain": [
       "HBox(children=(IntProgress(value=0, description='epochs', max=250, style=ProgressStyle(description_width='init…"
      ]
     },
     "metadata": {},
     "output_type": "display_data"
    },
    {
     "name": "stderr",
     "output_type": "stream",
     "text": [
      "Fitting with configuration: [('one_shot', 0), ('dropout', 0), ('lr', 0.037)] \n"
     ]
    },
    {
     "name": "stdout",
     "output_type": "stream",
     "text": [
      "Train: 0.886750 \t \t Test: 0.875800\n",
      "Train: 0.909250 \t \t Test: 0.867600\n",
      "Train: 0.919200 \t \t Test: 0.898000\n",
      "Train: 0.923800 \t \t Test: 0.903600\n",
      "Train: 0.928200 \t \t Test: 0.900400\n",
      "Train: 0.932750 \t \t Test: 0.906600\n",
      "Train: 0.939600 \t \t Test: 0.917000\n",
      "Train: 0.938050 \t \t Test: 0.917400\n",
      "Train: 0.941000 \t \t Test: 0.916600\n",
      "Train: 0.944700 \t \t Test: 0.910600\n",
      "Train: 0.946150 \t \t Test: 0.923600\n",
      "Train: 0.947200 \t \t Test: 0.927800\n",
      "Train: 0.948400 \t \t Test: 0.923600\n",
      "Train: 0.950450 \t \t Test: 0.930800\n",
      "Train: 0.951800 \t \t Test: 0.917800\n",
      "Train: 0.953500 \t \t Test: 0.919400\n",
      "Train: 0.950050 \t \t Test: 0.932800\n",
      "Train: 0.953400 \t \t Test: 0.923000\n",
      "Train: 0.955550 \t \t Test: 0.921600\n",
      "Train: 0.956850 \t \t Test: 0.922400\n",
      "Train: 0.956550 \t \t Test: 0.924600\n",
      "Train: 0.957800 \t \t Test: 0.928400\n",
      "Train: 0.958000 \t \t Test: 0.930600\n",
      "Train: 0.958800 \t \t Test: 0.925600\n",
      "Train: 0.958650 \t \t Test: 0.932600\n",
      "Train: 0.960700 \t \t Test: 0.933400\n",
      "Train: 0.960450 \t \t Test: 0.927800\n",
      "Train: 0.962850 \t \t Test: 0.934200\n",
      "Train: 0.962700 \t \t Test: 0.935000\n",
      "Train: 0.961900 \t \t Test: 0.934800\n",
      "Train: 0.961900 \t \t Test: 0.924400\n",
      "Train: 0.961850 \t \t Test: 0.925600\n",
      "Train: 0.965350 \t \t Test: 0.935000\n",
      "Train: 0.964100 \t \t Test: 0.925000\n",
      "Train: 0.964400 \t \t Test: 0.933600\n",
      "Train: 0.964650 \t \t Test: 0.928400\n",
      "Train: 0.966400 \t \t Test: 0.929800\n",
      "Train: 0.966000 \t \t Test: 0.937000\n",
      "Train: 0.966500 \t \t Test: 0.934200\n",
      "Train: 0.967800 \t \t Test: 0.936000\n",
      "Train: 0.967550 \t \t Test: 0.931800\n",
      "Train: 0.965150 \t \t Test: 0.933200\n",
      "Train: 0.967100 \t \t Test: 0.930200\n",
      "Train: 0.967050 \t \t Test: 0.933600\n",
      "Train: 0.968350 \t \t Test: 0.926400\n",
      "Train: 0.966850 \t \t Test: 0.936800\n",
      "Train: 0.967950 \t \t Test: 0.931200\n",
      "Train: 0.970250 \t \t Test: 0.936200\n",
      "Train: 0.969400 \t \t Test: 0.936000\n",
      "Train: 0.968550 \t \t Test: 0.937400\n",
      "\n"
     ]
    },
    {
     "data": {
      "application/vnd.jupyter.widget-view+json": {
       "model_id": "03f84c8f725d4203a5e4ef47fca12553",
       "version_major": 2,
       "version_minor": 0
      },
      "text/plain": [
       "HBox(children=(IntProgress(value=0, description='epochs', max=250, style=ProgressStyle(description_width='init…"
      ]
     },
     "metadata": {},
     "output_type": "display_data"
    },
    {
     "name": "stderr",
     "output_type": "stream",
     "text": [
      "Fitting with configuration: [('one_shot', 0), ('dropout', 0), ('lr', 0.037)] \n"
     ]
    },
    {
     "name": "stdout",
     "output_type": "stream",
     "text": [
      "Train: 0.889850 \t \t Test: 0.880800\n",
      "Train: 0.910000 \t \t Test: 0.869400\n",
      "Train: 0.916000 \t \t Test: 0.899400\n",
      "Train: 0.923750 \t \t Test: 0.889000\n",
      "Train: 0.929050 \t \t Test: 0.903400\n",
      "Train: 0.933400 \t \t Test: 0.910800\n",
      "Train: 0.933900 \t \t Test: 0.921400\n",
      "Train: 0.940800 \t \t Test: 0.912400\n",
      "Train: 0.941850 \t \t Test: 0.909600\n",
      "Train: 0.943050 \t \t Test: 0.906600\n",
      "Train: 0.947900 \t \t Test: 0.906000\n",
      "Train: 0.946750 \t \t Test: 0.913800\n",
      "Train: 0.945400 \t \t Test: 0.924400\n",
      "Train: 0.946900 \t \t Test: 0.925000\n",
      "Train: 0.951700 \t \t Test: 0.910000\n",
      "Train: 0.951450 \t \t Test: 0.922200\n",
      "Train: 0.952350 \t \t Test: 0.920000\n",
      "Train: 0.954250 \t \t Test: 0.923200\n",
      "Train: 0.955750 \t \t Test: 0.930400\n",
      "Train: 0.956450 \t \t Test: 0.929800\n",
      "Train: 0.955150 \t \t Test: 0.928400\n",
      "Train: 0.956400 \t \t Test: 0.928400\n",
      "Train: 0.955600 \t \t Test: 0.934400\n",
      "Train: 0.957100 \t \t Test: 0.923200\n",
      "Train: 0.958300 \t \t Test: 0.928000\n",
      "Train: 0.960800 \t \t Test: 0.930800\n",
      "Train: 0.961050 \t \t Test: 0.924800\n",
      "Train: 0.961400 \t \t Test: 0.928800\n",
      "Train: 0.960850 \t \t Test: 0.928600\n",
      "Train: 0.962400 \t \t Test: 0.926800\n",
      "Train: 0.960550 \t \t Test: 0.931800\n",
      "Train: 0.964200 \t \t Test: 0.935600\n",
      "Train: 0.964150 \t \t Test: 0.929800\n",
      "Train: 0.966200 \t \t Test: 0.931200\n",
      "Train: 0.964400 \t \t Test: 0.929400\n",
      "Train: 0.966950 \t \t Test: 0.937200\n",
      "Train: 0.965550 \t \t Test: 0.935400\n",
      "Train: 0.965150 \t \t Test: 0.936200\n",
      "Train: 0.965700 \t \t Test: 0.927400\n",
      "Train: 0.965050 \t \t Test: 0.937800\n",
      "Train: 0.966600 \t \t Test: 0.937400\n",
      "Train: 0.966900 \t \t Test: 0.928800\n",
      "Train: 0.968000 \t \t Test: 0.939000\n",
      "Train: 0.967050 \t \t Test: 0.928000\n",
      "Train: 0.967750 \t \t Test: 0.931600\n",
      "Train: 0.967750 \t \t Test: 0.933400\n",
      "Train: 0.967200 \t \t Test: 0.937400\n",
      "Train: 0.968200 \t \t Test: 0.930600\n",
      "Train: 0.969450 \t \t Test: 0.927200\n",
      "Train: 0.968800 \t \t Test: 0.936200\n",
      "\n"
     ]
    },
    {
     "name": "stderr",
     "output_type": "stream",
     "text": [
      "Generating vanilla HD basis of shape... "
     ]
    },
    {
     "data": {
      "application/vnd.jupyter.widget-view+json": {
       "model_id": "6a816a4b62374391b61f8ea7d1291824",
       "version_major": 2,
       "version_minor": 0
      },
      "text/plain": [
       "HBox(children=(IntProgress(value=0, description='vectors', max=2500, style=ProgressStyle(description_width='in…"
      ]
     },
     "metadata": {},
     "output_type": "display_data"
    },
    {
     "name": "stdout",
     "output_type": "stream",
     "text": [
      "\n",
      "6682\n"
     ]
    },
    {
     "name": "stderr",
     "output_type": "stream",
     "text": [
      "(2500, 30)\n",
      "Encoding time: 0.03590250015258789 \n",
      "Dumping basis into file: base_6682.pkl \n",
      "Encoding data of shape (20000, 30)\n"
     ]
    },
    {
     "data": {
      "application/vnd.jupyter.widget-view+json": {
       "model_id": "01896c3810684d49a7fc4e2aefb5c000",
       "version_major": 2,
       "version_minor": 0
      },
      "text/plain": [
       "HBox(children=(IntProgress(value=0, description='samples encoded', max=20000, style=ProgressStyle(description_…"
      ]
     },
     "metadata": {},
     "output_type": "display_data"
    },
    {
     "name": "stdout",
     "output_type": "stream",
     "text": [
      "\n"
     ]
    },
    {
     "name": "stderr",
     "output_type": "stream",
     "text": [
      "Time spent: 283 sec\n",
      "Dumping data into encoded_6682_train.pkl \n",
      "Encoding data of shape (5000, 30)\n"
     ]
    },
    {
     "data": {
      "application/vnd.jupyter.widget-view+json": {
       "model_id": "b113c2a18e9c4470a0f6ee0d30753b70",
       "version_major": 2,
       "version_minor": 0
      },
      "text/plain": [
       "HBox(children=(IntProgress(value=0, description='samples encoded', max=5000, style=ProgressStyle(description_w…"
      ]
     },
     "metadata": {},
     "output_type": "display_data"
    },
    {
     "name": "stdout",
     "output_type": "stream",
     "text": [
      "\n"
     ]
    },
    {
     "name": "stderr",
     "output_type": "stream",
     "text": [
      "Time spent: 74 sec\n",
      "Dumping data into encoded_6682_test.pkl \n"
     ]
    },
    {
     "data": {
      "application/vnd.jupyter.widget-view+json": {
       "model_id": "ac38428a82b04f8c9f530d142fcd7e34",
       "version_major": 2,
       "version_minor": 0
      },
      "text/plain": [
       "HBox(children=(IntProgress(value=0, description='epochs', max=250, style=ProgressStyle(description_width='init…"
      ]
     },
     "metadata": {},
     "output_type": "display_data"
    },
    {
     "name": "stderr",
     "output_type": "stream",
     "text": [
      "Fitting with configuration: [('one_shot', 0), ('dropout', 0), ('lr', 0.037)] \n"
     ]
    },
    {
     "name": "stdout",
     "output_type": "stream",
     "text": [
      "Train: 0.888450 \t \t Test: 0.859800\n",
      "Train: 0.907600 \t \t Test: 0.876000\n",
      "Train: 0.916850 \t \t Test: 0.891800\n",
      "Train: 0.925150 \t \t Test: 0.891600\n",
      "Train: 0.930950 \t \t Test: 0.894600\n",
      "Train: 0.934700 \t \t Test: 0.908000\n",
      "Train: 0.934200 \t \t Test: 0.895600\n",
      "Train: 0.940500 \t \t Test: 0.922000\n",
      "Train: 0.940850 \t \t Test: 0.910000\n",
      "Train: 0.944400 \t \t Test: 0.909600\n",
      "Train: 0.944500 \t \t Test: 0.921600\n",
      "Train: 0.946700 \t \t Test: 0.927200\n",
      "Train: 0.948450 \t \t Test: 0.917600\n",
      "Train: 0.949650 \t \t Test: 0.927400\n",
      "Train: 0.951300 \t \t Test: 0.925400\n",
      "Train: 0.952200 \t \t Test: 0.914600\n",
      "Train: 0.955050 \t \t Test: 0.921600\n",
      "Train: 0.956000 \t \t Test: 0.928400\n",
      "Train: 0.954650 \t \t Test: 0.930000\n",
      "Train: 0.956450 \t \t Test: 0.935000\n",
      "Train: 0.956700 \t \t Test: 0.931800\n",
      "Train: 0.958350 \t \t Test: 0.921000\n",
      "Train: 0.957450 \t \t Test: 0.927000\n",
      "Train: 0.959050 \t \t Test: 0.921000\n",
      "Train: 0.960000 \t \t Test: 0.932200\n",
      "Train: 0.960250 \t \t Test: 0.924600\n",
      "Train: 0.963800 \t \t Test: 0.928200\n",
      "Train: 0.959950 \t \t Test: 0.934400\n",
      "Train: 0.960150 \t \t Test: 0.933800\n",
      "Train: 0.962450 \t \t Test: 0.936600\n",
      "Train: 0.962400 \t \t Test: 0.924800\n",
      "Train: 0.963700 \t \t Test: 0.935400\n",
      "Train: 0.964550 \t \t Test: 0.931800\n",
      "Train: 0.963800 \t \t Test: 0.923200\n",
      "Train: 0.965650 \t \t Test: 0.940600\n",
      "Train: 0.967900 \t \t Test: 0.932200\n",
      "Train: 0.965450 \t \t Test: 0.931200\n",
      "Train: 0.966400 \t \t Test: 0.933400\n",
      "Train: 0.966250 \t \t Test: 0.930200\n",
      "Train: 0.965050 \t \t Test: 0.929200\n",
      "Train: 0.967950 \t \t Test: 0.941600\n",
      "Train: 0.968150 \t \t Test: 0.936800\n",
      "Train: 0.969100 \t \t Test: 0.938800\n",
      "Train: 0.968950 \t \t Test: 0.940800\n",
      "Train: 0.971150 \t \t Test: 0.928400\n",
      "Train: 0.969600 \t \t Test: 0.934000\n",
      "Train: 0.969650 \t \t Test: 0.934800\n",
      "Train: 0.970600 \t \t Test: 0.931200\n",
      "Train: 0.969600 \t \t Test: 0.939000\n",
      "Train: 0.970100 \t \t Test: 0.938000\n",
      "\n"
     ]
    },
    {
     "data": {
      "application/vnd.jupyter.widget-view+json": {
       "model_id": "57694ca2c33a4aa58ddd85b13e18f800",
       "version_major": 2,
       "version_minor": 0
      },
      "text/plain": [
       "HBox(children=(IntProgress(value=0, description='epochs', max=250, style=ProgressStyle(description_width='init…"
      ]
     },
     "metadata": {},
     "output_type": "display_data"
    },
    {
     "name": "stderr",
     "output_type": "stream",
     "text": [
      "Fitting with configuration: [('one_shot', 0), ('dropout', 0), ('lr', 0.037)] \n"
     ]
    },
    {
     "name": "stdout",
     "output_type": "stream",
     "text": [
      "Train: 0.889950 \t \t Test: 0.872000\n",
      "Train: 0.906400 \t \t Test: 0.886800\n",
      "Train: 0.915600 \t \t Test: 0.873000\n",
      "Train: 0.927750 \t \t Test: 0.901600\n",
      "Train: 0.929650 \t \t Test: 0.908400\n",
      "Train: 0.932700 \t \t Test: 0.910000\n",
      "Train: 0.937200 \t \t Test: 0.898200\n",
      "Train: 0.937550 \t \t Test: 0.916600\n",
      "Train: 0.941850 \t \t Test: 0.917200\n",
      "Train: 0.943600 \t \t Test: 0.920800\n",
      "Train: 0.945000 \t \t Test: 0.927200\n",
      "Train: 0.949050 \t \t Test: 0.923200\n",
      "Train: 0.949150 \t \t Test: 0.925800\n",
      "Train: 0.948650 \t \t Test: 0.918800\n",
      "Train: 0.951400 \t \t Test: 0.918600\n",
      "Train: 0.950100 \t \t Test: 0.921200\n",
      "Train: 0.953400 \t \t Test: 0.929800\n",
      "Train: 0.953600 \t \t Test: 0.916800\n",
      "Train: 0.955900 \t \t Test: 0.934400\n",
      "Train: 0.958850 \t \t Test: 0.921200\n",
      "Train: 0.955700 \t \t Test: 0.924600\n"
     ]
    }
   ],
   "source": [
    "for i in range(param[\"iter_per_trial\"]):\n",
    "\n",
    "    # Run manifolding learning data\n",
    "    # Random sampling for manifold \n",
    "\n",
    "    manifoldlist = skr.sample_without_replacement(len(traindata), 2000)\n",
    "    manifolddata = np.asfarray(traindata[np.asarray(manifoldlist)])\n",
    "    n_neighbors = 100\n",
    "    n_components  = 30\n",
    "    param[\"nFeatures\"] = n_components\n",
    "    #param[\"manifold\"] = \"isomap\"\n",
    "    param[\"manifold\"] = \"modified\"\n",
    "    #traintrans, testtrans, prep_time, trans_time = iso_wrapper(n_neighbors, n_components)\n",
    "    traintrans, testtrans, prep_time, trans_time = lle_wrapper(n_neighbors, n_components)\n",
    "\n",
    "    for jj in [100, 200, 500, 1000, 1500, 2000, 2500, 5000]:\n",
    "        param[\"D\"] = jj\n",
    "        train_accs, test_accs = vanilla_train(param)\n",
    "        \"\"\"\n",
    "        param[\"nFeatures\"] = nFeatures\n",
    "        param[\"manifold\"] = \"baseline\" \n",
    "        traintrans, testtrans, prep_time, trans_time = traindata, testdata, 0, 0 \n",
    "        train_accs, test_accs = vanilla_train(param)\n",
    "        \"\"\"\n",
    "\n",
    "        #filename = \"./logfile/\" + param[\"manifold\"] + \"_\" +str(param[\"D\"])+\"_\"+str(param[\"id\"])\n",
    "        filename = \"./logfile/\" + param[\"manifold\"] + \"_\" +str(param[\"D\"])+\"_\"+ \\\n",
    "            str(n_components) + \"_\" + str(n_neighbors) + \"_\" + str(param[\"id\"])\n",
    "        file = open(filename+\"_time.txt\",\"w\")\n",
    "        file.write(\"Preparation time: \"+str(prep_time)+\" Transform time: \"+str(trans_time)+\"\\n\")\n",
    "        file.close()\n",
    "\n",
    "        for i in range(len(train_accs)):\n",
    "            dump_log(param, train_accs[i], test_accs[i], filename)\n"
   ]
  },
  {
   "cell_type": "code",
   "execution_count": null,
   "metadata": {},
   "outputs": [],
   "source": []
  },
  {
   "cell_type": "code",
   "execution_count": null,
   "metadata": {},
   "outputs": [],
   "source": []
  },
  {
   "cell_type": "code",
   "execution_count": null,
   "metadata": {},
   "outputs": [],
   "source": []
  },
  {
   "cell_type": "code",
   "execution_count": null,
   "metadata": {},
   "outputs": [],
   "source": []
  }
 ],
 "metadata": {
  "kernelspec": {
   "display_name": "Python 3",
   "language": "python",
   "name": "python3"
  },
  "language_info": {
   "codemirror_mode": {
    "name": "ipython",
    "version": 3
   },
   "file_extension": ".py",
   "mimetype": "text/x-python",
   "name": "python",
   "nbconvert_exporter": "python",
   "pygments_lexer": "ipython3",
   "version": "3.7.4"
  }
 },
 "nbformat": 4,
 "nbformat_minor": 1
}
