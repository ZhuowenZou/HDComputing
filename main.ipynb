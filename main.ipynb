{
 "cells": [
  {
   "cell_type": "code",
   "execution_count": 18,
   "metadata": {},
   "outputs": [
    {
     "name": "stdout",
     "output_type": "stream",
     "text": [
      "The autoreload extension is already loaded. To reload it, use:\n",
      "  %reload_ext autoreload\n"
     ]
    }
   ],
   "source": [
    "%load_ext autoreload\n",
    "%autoreload 2"
   ]
  },
  {
   "cell_type": "code",
   "execution_count": 19,
   "metadata": {},
   "outputs": [],
   "source": [
    "import sklearn\n",
    "from sklearn.discriminant_analysis import LinearDiscriminantAnalysis\n",
    "from sklearn.decomposition import PCA\n",
    "import time\n",
    "import sys\n",
    "import math\n",
    "import numpy as np\n",
    "import random\n",
    "import joblib\n",
    "from tqdm import tqdm_notebook\n",
    "\n",
    "import Config\n",
    "import Dataloader as DL\n",
    "import HD_basis as HDB\n",
    "import HD_encoder as HDE\n",
    "import HD_classifier as HDC\n"
   ]
  },
  {
   "cell_type": "code",
   "execution_count": 6,
   "metadata": {},
   "outputs": [
    {
     "name": "stderr",
     "output_type": "stream",
     "text": [
      "Loading dataset MNIST from MNIST\n",
      "Loading train data... train data of shape (60000, 784) loaded\n",
      "Loading test data...  test  data of shape (10000, 784) loaded\n",
      "Data Loaded. Num of features = 784 Num of Classes = 10"
     ]
    }
   ],
   "source": [
    "dl = DL.Dataloader()\n",
    "nFeatures, nClasses, traindata, trainlabels, testdata, testlabels = dl.getParam()"
   ]
  },
  {
   "cell_type": "code",
   "execution_count": 7,
   "metadata": {},
   "outputs": [],
   "source": [
    "param = Config.config\n",
    "param[\"nFeatures\"] = nFeatures\n",
    "param[\"nClasses\"] = nClasses"
   ]
  },
  {
   "cell_type": "code",
   "execution_count": 8,
   "metadata": {},
   "outputs": [
    {
     "name": "stderr",
     "output_type": "stream",
     "text": [
      "Generated vanilla HD basis of shape... "
     ]
    },
    {
     "data": {
      "application/vnd.jupyter.widget-view+json": {
       "model_id": "9af1c82c65b14075a20151b045591f0d",
       "version_major": 2,
       "version_minor": 0
      },
      "text/plain": [
       "HBox(children=(IntProgress(value=0, description='vectors', max=2500, style=ProgressStyle(description_width='in…"
      ]
     },
     "metadata": {},
     "output_type": "display_data"
    },
    {
     "name": "stderr",
     "output_type": "stream",
     "text": [
      "(2500, 784)\n",
      "Encoding time: 0.11469411849975586 \n",
      "Dumping basis into file: base_7896.pkl \n"
     ]
    },
    {
     "name": "stdout",
     "output_type": "stream",
     "text": [
      "\n",
      "7896\n"
     ]
    }
   ],
   "source": [
    "hdb = HDB.HD_basis(HDB.Generator.Vanilla, param)\n",
    "basis = hdb.getBasis()\n",
    "bid = hdb.getParam()[\"id\"]\n",
    "print(bid)"
   ]
  },
  {
   "cell_type": "code",
   "execution_count": null,
   "metadata": {},
   "outputs": [],
   "source": [
    "# Retrieve info upto basis generator, given correct bid\n",
    "#bid = 6679\n",
    "#basis, param = HDB.loadBasis(\"base_%d.pkl\"%bid)"
   ]
  },
  {
   "cell_type": "code",
   "execution_count": 9,
   "metadata": {},
   "outputs": [
    {
     "name": "stderr",
     "output_type": "stream",
     "text": [
      "Encoding data of shape (60000, 784)\n"
     ]
    },
    {
     "data": {
      "application/vnd.jupyter.widget-view+json": {
       "model_id": "c1145de91a894db7b9e304a6bbfbf792",
       "version_major": 2,
       "version_minor": 0
      },
      "text/plain": [
       "HBox(children=(IntProgress(value=0, description='samples encoded', max=60000, style=ProgressStyle(description_…"
      ]
     },
     "metadata": {},
     "output_type": "display_data"
    },
    {
     "name": "stdout",
     "output_type": "stream",
     "text": [
      "\n"
     ]
    },
    {
     "name": "stderr",
     "output_type": "stream",
     "text": [
      "Time spent: 889 sec\n",
      "Dumping data into encoded_7896_train.pkl \n",
      "Encoding data of shape (10000, 784)\n"
     ]
    },
    {
     "data": {
      "application/vnd.jupyter.widget-view+json": {
       "model_id": "b8da783e81bc4ddea513972e321bfc74",
       "version_major": 2,
       "version_minor": 0
      },
      "text/plain": [
       "HBox(children=(IntProgress(value=0, description='samples encoded', max=10000, style=ProgressStyle(description_…"
      ]
     },
     "metadata": {},
     "output_type": "display_data"
    },
    {
     "name": "stdout",
     "output_type": "stream",
     "text": [
      "\n"
     ]
    },
    {
     "name": "stderr",
     "output_type": "stream",
     "text": [
      "Time spent: 144 sec\n",
      "Dumping data into encoded_7896_test.pkl \n"
     ]
    },
    {
     "data": {
      "text/plain": [
       "'encoded_7896_test.pkl'"
      ]
     },
     "execution_count": 9,
     "metadata": {},
     "output_type": "execute_result"
    }
   ],
   "source": [
    "hde = HDE.HD_encoder(basis)\n",
    "\n",
    "trainencoded = hde.encodeData(traindata)\n",
    "HDE.saveEncoded(trainencoded, trainlabels, bid, \"train\")\n",
    "\n",
    "testencoded = hde.encodeData(testdata)\n",
    "HDE.saveEncoded(testencoded, testlabels, bid, \"test\")"
   ]
  },
  {
   "cell_type": "code",
   "execution_count": null,
   "metadata": {},
   "outputs": [],
   "source": [
    "# Retrieve info upto encoder, given correct bid\n",
    "#bid = 6679\n",
    "#basis, param = HDB.loadBasis(\"base_%d.pkl\"%bid)\n",
    "#trainencoded, trainlabels = HDE.loadEncoded(\"encoded_%d_train.pkl\"%bid)\n",
    "#testencoded, testlabels = HDE.loadEncoded(\"encoded_%d_test.pkl\"%bid)"
   ]
  },
  {
   "cell_type": "code",
   "execution_count": 16,
   "metadata": {},
   "outputs": [],
   "source": [
    "# train data \n",
    "def train(hdc, traindata, trainlabels, testdata, testlabels, param = Config.config):\n",
    "    train_acc = []\n",
    "    test_acc = []\n",
    "    for _ in tqdm_notebook(range(param[\"epochs\"]), desc='epochs'):\n",
    "        train_acc.append(hdc.fit(traindata, trainlabels, param))\n",
    "        test_acc.append(hdc.test(testdata, testlabels))\n",
    "        if len(train_acc) % 5 == 0:\n",
    "            print(\"Train: %f \\t \\t Test: %f\"%(train_acc[-1], test_acc[-1]))\n",
    "        if train_acc[-1] == 1:\n",
    "            print(\"Train: %f \\t \\t Test: %f\"%(train_acc[-1], test_acc[-1]))\n",
    "            break\n",
    "    return np.asarray(train_acc), np.asarray(test_acc)"
   ]
  },
  {
   "cell_type": "code",
   "execution_count": null,
   "metadata": {},
   "outputs": [],
   "source": [
    "def log(param, train_acc, test_acc, filename):\n",
    "    "
   ]
  },
  {
   "cell_type": "code",
   "execution_count": 17,
   "metadata": {
    "scrolled": true
   },
   "outputs": [
    {
     "name": "stderr",
     "output_type": "stream",
     "text": [
      "c:\\program files (x86)\\microsoft visual studio\\shared\\python37_64\\lib\\site-packages\\ipykernel_launcher.py:5: TqdmDeprecationWarning: This function will be removed in tqdm==5.0.0\n",
      "Please use `tqdm.notebook.tqdm` instead of `tqdm.tqdm_notebook`\n",
      "  \"\"\"\n"
     ]
    },
    {
     "data": {
      "application/vnd.jupyter.widget-view+json": {
       "model_id": "75421054662545988e3ee121dfc06e8b",
       "version_major": 2,
       "version_minor": 0
      },
      "text/plain": [
       "HBox(children=(IntProgress(value=0, description='epochs', max=300, style=ProgressStyle(description_width='init…"
      ]
     },
     "metadata": {},
     "output_type": "display_data"
    },
    {
     "name": "stderr",
     "output_type": "stream",
     "text": [
      "Fitting with configuration: [('one_shot', 0), ('dropout', 0), ('lr', 0.037)] \n"
     ]
    },
    {
     "name": "stdout",
     "output_type": "stream",
     "text": [
      "Train: 0.978150 \t \t Test: 0.958500\n",
      "Train: 0.990767 \t \t Test: 0.962400\n",
      "Train: 0.995783 \t \t Test: 0.963500\n",
      "Train: 0.997317 \t \t Test: 0.964000\n",
      "Train: 0.998667 \t \t Test: 0.960300\n",
      "Train: 0.999283 \t \t Test: 0.963400\n",
      "Train: 1.000000 \t \t Test: 0.963300\n",
      "Train: 1.000000 \t \t Test: 0.963300\n"
     ]
    }
   ],
   "source": [
    "# Should have 90%\n",
    "hdc = HDC.HD_classifier(param[\"D\"], param[\"nClasses\"], bid)\n",
    "train_acc, test_acc = train(hdc, trainencoded, trainlabels, testencoded, testlabels)"
   ]
  },
  {
   "cell_type": "code",
   "execution_count": 12,
   "metadata": {},
   "outputs": [
    {
     "data": {
      "text/plain": [
       "(10, 2500)"
      ]
     },
     "execution_count": 12,
     "metadata": {},
     "output_type": "execute_result"
    }
   ],
   "source": []
  },
  {
   "cell_type": "code",
   "execution_count": null,
   "metadata": {},
   "outputs": [],
   "source": []
  }
 ],
 "metadata": {
  "kernelspec": {
   "display_name": "Python 3",
   "language": "python",
   "name": "python3"
  },
  "language_info": {
   "codemirror_mode": {
    "name": "ipython",
    "version": 3
   },
   "file_extension": ".py",
   "mimetype": "text/x-python",
   "name": "python",
   "nbconvert_exporter": "python",
   "pygments_lexer": "ipython3",
   "version": "3.7.4"
  }
 },
 "nbformat": 4,
 "nbformat_minor": 1
}
