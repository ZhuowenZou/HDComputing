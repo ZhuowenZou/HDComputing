{
 "cells": [
  {
   "cell_type": "code",
   "execution_count": 1,
   "metadata": {},
   "outputs": [],
   "source": [
    "%load_ext autoreload\n",
    "%autoreload 2"
   ]
  },
  {
   "cell_type": "code",
   "execution_count": 2,
   "metadata": {},
   "outputs": [],
   "source": [
    "import sklearn\n",
    "from sklearn.discriminant_analysis import LinearDiscriminantAnalysis\n",
    "from sklearn.decomposition import PCA\n",
    "import time\n",
    "import sys\n",
    "import math\n",
    "import numpy as np\n",
    "import random\n",
    "import joblib\n",
    "from tqdm import tqdm_notebook\n",
    "\n",
    "import Config\n",
    "import Dataloader as DL\n",
    "import HD_basis as HDB\n",
    "import HD_encoder as HDE\n",
    "import HD_classifier as HDC\n"
   ]
  },
  {
   "cell_type": "code",
   "execution_count": 3,
   "metadata": {},
   "outputs": [
    {
     "name": "stderr",
     "output_type": "stream",
     "text": [
      "Loading dataset UCIHAR from UCIHAR\n",
      "Loading train data... train data of shape (6213, 561) loaded\n",
      "Loading test data...  test  data of shape (1554, 561) loaded\n",
      "Data Loaded. Num of features = 561 Num of Classes = 12"
     ]
    }
   ],
   "source": [
    "dl = DL.Dataloader()\n",
    "nFeatures, nClasses, traindata, trainlabels, testdata, testlabels = dl.getParam()"
   ]
  },
  {
   "cell_type": "code",
   "execution_count": 4,
   "metadata": {},
   "outputs": [],
   "source": [
    "param = Config.config\n",
    "param[\"nFeatures\"] = nFeatures\n",
    "param[\"nClasses\"] = nClasses"
   ]
  },
  {
   "cell_type": "code",
   "execution_count": 5,
   "metadata": {},
   "outputs": [
    {
     "name": "stderr",
     "output_type": "stream",
     "text": [
      "Generated vanilla HD basis of shape... "
     ]
    },
    {
     "data": {
      "application/vnd.jupyter.widget-view+json": {
       "model_id": "baf959d0cbe74be48720e9aa4293109e",
       "version_major": 2,
       "version_minor": 0
      },
      "text/plain": [
       "HBox(children=(IntProgress(value=0, description='vectors', max=2500, style=ProgressStyle(description_width='in…"
      ]
     },
     "metadata": {},
     "output_type": "display_data"
    },
    {
     "name": "stderr",
     "output_type": "stream",
     "text": [
      "(2500, 561)\n",
      "Encoding time: 0.08776378631591797 \n",
      "Dumping basis into file: base_1773.pkl \n"
     ]
    },
    {
     "name": "stdout",
     "output_type": "stream",
     "text": [
      "\n",
      "1773\n"
     ]
    }
   ],
   "source": [
    "hdb = HDB.HD_basis(HDB.Generator.Vanilla, param)\n",
    "basis = hdb.getBasis()\n",
    "bid = hdb.getParam()[\"id\"]\n",
    "print(bid)"
   ]
  },
  {
   "cell_type": "code",
   "execution_count": 6,
   "metadata": {},
   "outputs": [
    {
     "name": "stderr",
     "output_type": "stream",
     "text": [
      "Encoding data of shape (6213, 561)\n"
     ]
    },
    {
     "data": {
      "application/vnd.jupyter.widget-view+json": {
       "model_id": "a3f9dfeac63e46ada19370a188f23942",
       "version_major": 2,
       "version_minor": 0
      },
      "text/plain": [
       "HBox(children=(IntProgress(value=0, description='samples encoded', max=6213, style=ProgressStyle(description_w…"
      ]
     },
     "metadata": {},
     "output_type": "display_data"
    },
    {
     "name": "stdout",
     "output_type": "stream",
     "text": [
      "\n"
     ]
    },
    {
     "name": "stderr",
     "output_type": "stream",
     "text": [
      "Time spent: 88 sec\n",
      "Dumping data into encoded_1773_train.pkl \n",
      "Encoding data of shape (1554, 561)\n"
     ]
    },
    {
     "data": {
      "application/vnd.jupyter.widget-view+json": {
       "model_id": "7c10ec6394d34bf2ad28c254a7ea0567",
       "version_major": 2,
       "version_minor": 0
      },
      "text/plain": [
       "HBox(children=(IntProgress(value=0, description='samples encoded', max=1554, style=ProgressStyle(description_w…"
      ]
     },
     "metadata": {},
     "output_type": "display_data"
    },
    {
     "name": "stdout",
     "output_type": "stream",
     "text": [
      "\n"
     ]
    },
    {
     "name": "stderr",
     "output_type": "stream",
     "text": [
      "Time spent: 22 sec\n",
      "Dumping data into encoded_1773_test.pkl \n"
     ]
    },
    {
     "data": {
      "text/plain": [
       "'encoded_1773_test.pkl'"
      ]
     },
     "execution_count": 6,
     "metadata": {},
     "output_type": "execute_result"
    }
   ],
   "source": [
    "trainencoded = HDE.encodeData(traindata, basis)\n",
    "HDE.saveEncoded(trainencoded, trainlabels, bid, \"train\")\n",
    "\n",
    "testencoded = HDE.encodeData(testdata, basis)\n",
    "HDE.saveEncoded(testencoded, testlabels, bid, \"test\")"
   ]
  },
  {
   "cell_type": "code",
   "execution_count": 9,
   "metadata": {},
   "outputs": [],
   "source": [
    "# Load sth \n",
    "# bid = 1773\n",
    "basis, param = HDB.loadBasis(\"base_%d.pkl\"%bid)\n",
    "trainencoded, trainlabels = HDE.loadEncoded(\"encoded_%d_train.pkl\"%bid)\n",
    "testencoded, testlabels = HDE.loadEncoded(\"encoded_%d_train.pkl\"%bid)"
   ]
  },
  {
   "cell_type": "code",
   "execution_count": 7,
   "metadata": {},
   "outputs": [],
   "source": [
    "# train data \n",
    "def train(hdc, traindata, trainlabels, testdata, testlabels, param = Config.config):\n",
    "    train_acc = []\n",
    "    test_acc = []\n",
    "    for _ in tqdm_notebook(range(param[\"epochs\"]), desc='epochs'):\n",
    "        train_acc.append(hdc.fit(traindata, trainlabels, param))\n",
    "        test_acc.append(hdc.test(testdata, testlabels))\n",
    "        print(\"Train: %f \\t \\t Test: %f\"%(train_acc[-1], test_acc[-1]))\n",
    "        if train_acc[-1] == 1:\n",
    "            break\n",
    "    return np.asarray(train_acc), np.asarray(test_acc)"
   ]
  },
  {
   "cell_type": "code",
   "execution_count": 8,
   "metadata": {
    "scrolled": false
   },
   "outputs": [
    {
     "name": "stderr",
     "output_type": "stream",
     "text": [
      "c:\\program files (x86)\\microsoft visual studio\\shared\\python37_64\\lib\\site-packages\\ipykernel_launcher.py:5: TqdmDeprecationWarning: This function will be removed in tqdm==5.0.0\n",
      "Please use `tqdm.notebook.tqdm` instead of `tqdm.tqdm_notebook`\n",
      "  \"\"\"\n"
     ]
    },
    {
     "data": {
      "application/vnd.jupyter.widget-view+json": {
       "model_id": "69175091fc644cf8be90a1683e1ddcd7",
       "version_major": 2,
       "version_minor": 0
      },
      "text/plain": [
       "HBox(children=(IntProgress(value=0, description='epochs', max=300, style=ProgressStyle(description_width='init…"
      ]
     },
     "metadata": {},
     "output_type": "display_data"
    },
    {
     "name": "stderr",
     "output_type": "stream",
     "text": [
      "Fitting with configuration: [('one_shot', 0), ('dropout', 0), ('lr', 0.037)] \n"
     ]
    },
    {
     "name": "stdout",
     "output_type": "stream",
     "text": [
      "Train: 0.146306 \t \t Test: 0.175032\n",
      "Train: 0.285047 \t \t Test: 0.176963\n",
      "Train: 0.368099 \t \t Test: 0.167954\n",
      "Train: 0.422340 \t \t Test: 0.169241\n",
      "Train: 0.459038 \t \t Test: 0.169884\n",
      "Train: 0.493481 \t \t Test: 0.166023\n",
      "Train: 0.522292 \t \t Test: 0.173745\n",
      "Train: 0.525833 \t \t Test: 0.168597\n",
      "Train: 0.548527 \t \t Test: 0.164093\n",
      "Train: 0.573636 \t \t Test: 0.166667\n",
      "Train: 0.580557 \t \t Test: 0.171171\n",
      "Train: 0.596652 \t \t Test: 0.162806\n",
      "Train: 0.600515 \t \t Test: 0.159588\n",
      "Train: 0.617737 \t \t Test: 0.166667\n",
      "Train: 0.621600 \t \t Test: 0.165380\n",
      "Train: 0.644777 \t \t Test: 0.157014\n",
      "Train: 0.652181 \t \t Test: 0.158945\n",
      "Train: 0.668759 \t \t Test: 0.154440\n",
      "Train: 0.672783 \t \t Test: 0.157658\n",
      "Train: 0.676163 \t \t Test: 0.164093\n",
      "Train: 0.686464 \t \t Test: 0.162162\n",
      "Train: 0.688556 \t \t Test: 0.166667\n",
      "Train: 0.704008 \t \t Test: 0.166667\n",
      "Train: 0.702076 \t \t Test: 0.165380\n",
      "Train: 0.711090 \t \t Test: 0.164736\n",
      "Train: 0.714631 \t \t Test: 0.165380\n",
      "Train: 0.724288 \t \t Test: 0.162806\n",
      "Train: 0.727990 \t \t Test: 0.170528\n",
      "Train: 0.739256 \t \t Test: 0.166023\n",
      "Train: 0.739417 \t \t Test: 0.169241\n",
      "Train: 0.735394 \t \t Test: 0.172458\n",
      "Train: 0.749879 \t \t Test: 0.167310\n",
      "Train: 0.760985 \t \t Test: 0.160875\n",
      "Train: 0.763882 \t \t Test: 0.162162\n",
      "Train: 0.756317 \t \t Test: 0.156371\n",
      "Train: 0.769194 \t \t Test: 0.163449\n",
      "Train: 0.774022 \t \t Test: 0.160875\n",
      "Train: 0.787381 \t \t Test: 0.160875\n",
      "Train: 0.793176 \t \t Test: 0.163449\n",
      "Train: 0.791405 \t \t Test: 0.164093\n",
      "Train: 0.791083 \t \t Test: 0.159588\n",
      "Train: 0.800258 \t \t Test: 0.154440\n",
      "Train: 0.804120 \t \t Test: 0.155084\n",
      "Train: 0.809915 \t \t Test: 0.154440\n",
      "Train: 0.817962 \t \t Test: 0.159588\n",
      "Train: 0.813295 \t \t Test: 0.159588\n",
      "Train: 0.825527 \t \t Test: 0.158301\n",
      "Train: 0.827137 \t \t Test: 0.158301\n",
      "Train: 0.841622 \t \t Test: 0.161519\n",
      "Train: 0.841300 \t \t Test: 0.160232\n",
      "Train: 0.841300 \t \t Test: 0.162162\n",
      "Train: 0.847256 \t \t Test: 0.157014\n",
      "Train: 0.867697 \t \t Test: 0.158945\n",
      "Train: 0.867697 \t \t Test: 0.156371\n",
      "Train: 0.861742 \t \t Test: 0.157014\n",
      "Train: 0.853694 \t \t Test: 0.158945\n",
      "Train: 0.865926 \t \t Test: 0.159588\n",
      "Train: 0.869145 \t \t Test: 0.161519\n",
      "Train: 0.866570 \t \t Test: 0.156371\n",
      "Train: 0.891518 \t \t Test: 0.158945\n",
      "Train: 0.878320 \t \t Test: 0.160232\n",
      "Train: 0.897473 \t \t Test: 0.157014\n",
      "Train: 0.885723 \t \t Test: 0.157658\n",
      "Train: 0.886850 \t \t Test: 0.158945\n",
      "Train: 0.894415 \t \t Test: 0.153797\n",
      "Train: 0.907130 \t \t Test: 0.157658\n",
      "Train: 0.896024 \t \t Test: 0.159588\n",
      "Train: 0.897312 \t \t Test: 0.158301\n",
      "Train: 0.896507 \t \t Test: 0.162162\n",
      "Train: 0.883792 \t \t Test: 0.160875\n",
      "Train: 0.907291 \t \t Test: 0.162162\n",
      "Train: 0.926766 \t \t Test: 0.162162\n",
      "Train: 0.914373 \t \t Test: 0.161519\n",
      "Train: 0.920811 \t \t Test: 0.157014\n",
      "Train: 0.907452 \t \t Test: 0.157014\n",
      "Train: 0.915822 \t \t Test: 0.162806\n",
      "Train: 0.929020 \t \t Test: 0.159588\n",
      "Train: 0.936424 \t \t Test: 0.160232\n",
      "Train: 0.940447 \t \t Test: 0.156371\n",
      "Train: 0.938194 \t \t Test: 0.155727\n",
      "Train: 0.933366 \t \t Test: 0.157658\n",
      "Train: 0.928859 \t \t Test: 0.160875\n",
      "Train: 0.931917 \t \t Test: 0.159588\n",
      "Train: 0.937872 \t \t Test: 0.153797\n",
      "Train: 0.936424 \t \t Test: 0.155084\n",
      "Train: 0.925801 \t \t Test: 0.155727\n",
      "Train: 0.937550 \t \t Test: 0.155727\n",
      "Train: 0.955255 \t \t Test: 0.156371\n",
      "Train: 0.950105 \t \t Test: 0.157014\n",
      "Train: 0.944149 \t \t Test: 0.158301\n",
      "Train: 0.936746 \t \t Test: 0.158301\n",
      "Train: 0.948656 \t \t Test: 0.158301\n",
      "Train: 0.952036 \t \t Test: 0.159588\n",
      "Train: 0.944149 \t \t Test: 0.156371\n",
      "Train: 0.947851 \t \t Test: 0.154440\n",
      "Train: 0.949944 \t \t Test: 0.157658\n",
      "Train: 0.950266 \t \t Test: 0.157658\n",
      "Train: 0.952036 \t \t Test: 0.160875\n",
      "Train: 0.966039 \t \t Test: 0.155727\n",
      "Train: 0.960728 \t \t Test: 0.157014\n",
      "Train: 0.957991 \t \t Test: 0.156371\n",
      "Train: 0.953163 \t \t Test: 0.157014\n",
      "Train: 0.952841 \t \t Test: 0.155084\n",
      "Train: 0.958474 \t \t Test: 0.154440\n",
      "Train: 0.951553 \t \t Test: 0.151866\n",
      "Train: 0.961532 \t \t Test: 0.152510\n",
      "Train: 0.964590 \t \t Test: 0.151866\n",
      "Train: 0.960245 \t \t Test: 0.155084\n",
      "Train: 0.966039 \t \t Test: 0.151223\n",
      "Train: 0.978754 \t \t Test: 0.157658\n",
      "Train: 0.981490 \t \t Test: 0.157014\n",
      "Train: 0.983261 \t \t Test: 0.155727\n",
      "Train: 0.965556 \t \t Test: 0.155727\n",
      "Train: 0.968453 \t \t Test: 0.155727\n",
      "Train: 0.959279 \t \t Test: 0.157658\n",
      "Train: 0.949783 \t \t Test: 0.159588\n",
      "Train: 0.955899 \t \t Test: 0.157658\n",
      "Train: 0.956543 \t \t Test: 0.157658\n",
      "Train: 0.958796 \t \t Test: 0.158301\n",
      "Train: 0.965234 \t \t Test: 0.158945\n",
      "Train: 0.966844 \t \t Test: 0.157014\n",
      "Train: 0.970707 \t \t Test: 0.158945\n",
      "Train: 0.965395 \t \t Test: 0.156371\n",
      "Train: 0.971672 \t \t Test: 0.157658\n",
      "Train: 0.967488 \t \t Test: 0.155084\n",
      "Train: 0.964429 \t \t Test: 0.157658\n",
      "Train: 0.966361 \t \t Test: 0.151866\n",
      "Train: 0.972155 \t \t Test: 0.152510\n",
      "Train: 0.975535 \t \t Test: 0.151223\n",
      "Train: 0.979720 \t \t Test: 0.148649\n",
      "Train: 0.980525 \t \t Test: 0.151866\n",
      "Train: 0.971350 \t \t Test: 0.154440\n",
      "Train: 0.974087 \t \t Test: 0.156371\n",
      "Train: 0.980203 \t \t Test: 0.157014\n",
      "Train: 0.978915 \t \t Test: 0.156371\n",
      "Train: 0.981651 \t \t Test: 0.154440\n",
      "Train: 0.972638 \t \t Test: 0.157014\n",
      "Train: 0.989055 \t \t Test: 0.157658\n",
      "Train: 0.975696 \t \t Test: 0.154440\n",
      "Train: 0.989860 \t \t Test: 0.154440\n",
      "Train: 0.982778 \t \t Test: 0.155084\n",
      "Train: 0.972316 \t \t Test: 0.153153\n",
      "Train: 0.975374 \t \t Test: 0.156371\n",
      "Train: 0.974408 \t \t Test: 0.155727\n",
      "Train: 0.984227 \t \t Test: 0.153797\n",
      "Train: 0.984227 \t \t Test: 0.157658\n",
      "Train: 0.992757 \t \t Test: 0.158945\n",
      "Train: 0.986319 \t \t Test: 0.160232\n",
      "Train: 0.978110 \t \t Test: 0.157658\n",
      "Train: 0.984066 \t \t Test: 0.158945\n",
      "Train: 0.990504 \t \t Test: 0.157014\n",
      "Train: 0.988411 \t \t Test: 0.157014\n",
      "Train: 0.982456 \t \t Test: 0.158301\n",
      "Train: 0.973926 \t \t Test: 0.160875\n",
      "Train: 0.977306 \t \t Test: 0.157014\n",
      "Train: 0.981490 \t \t Test: 0.158945\n",
      "Train: 0.990987 \t \t Test: 0.162162\n",
      "Train: 0.994850 \t \t Test: 0.158301\n",
      "Train: 0.997103 \t \t Test: 0.159588\n",
      "Train: 0.999195 \t \t Test: 0.158945\n",
      "Train: 0.993401 \t \t Test: 0.160232\n",
      "Train: 0.981490 \t \t Test: 0.158301\n",
      "Train: 0.987446 \t \t Test: 0.158945\n",
      "Train: 0.986319 \t \t Test: 0.160232\n",
      "Train: 0.988089 \t \t Test: 0.160875\n",
      "Train: 0.990987 \t \t Test: 0.159588\n",
      "Train: 0.980686 \t \t Test: 0.158301\n",
      "Train: 0.983422 \t \t Test: 0.157658\n",
      "Train: 0.981812 \t \t Test: 0.158945\n",
      "Train: 0.993240 \t \t Test: 0.157658\n",
      "Train: 0.986480 \t \t Test: 0.159588\n",
      "Train: 0.985836 \t \t Test: 0.160232\n",
      "Train: 0.984870 \t \t Test: 0.159588\n",
      "Train: 0.988411 \t \t Test: 0.160875\n",
      "Train: 0.996298 \t \t Test: 0.160875\n",
      "Train: 0.998712 \t \t Test: 0.159588\n",
      "Train: 0.998230 \t \t Test: 0.161519\n",
      "Train: 0.999517 \t \t Test: 0.160875\n",
      "Train: 1.000000 \t \t Test: 0.160875\n"
     ]
    },
    {
     "data": {
      "text/plain": [
       "(array([0.14630613, 0.28504748, 0.36809915, 0.42234025, 0.4590375 ,\n",
       "        0.49348141, 0.52229197, 0.52583293, 0.54852728, 0.57363592,\n",
       "        0.5805569 , 0.59665218, 0.60051505, 0.617737  , 0.62159987,\n",
       "        0.64477708, 0.65218091, 0.66875905, 0.67278287, 0.67616288,\n",
       "        0.68646387, 0.68855625, 0.70400773, 0.70207629, 0.71108965,\n",
       "        0.71463061, 0.72428778, 0.7279897 , 0.7392564 , 0.73941735,\n",
       "        0.73539353, 0.74987929, 0.76098503, 0.76388218, 0.7563174 ,\n",
       "        0.76919363, 0.77402221, 0.7873813 , 0.7931756 , 0.79140512,\n",
       "        0.79108321, 0.80025752, 0.80412039, 0.80991469, 0.81796234,\n",
       "        0.8132947 , 0.82552712, 0.82713665, 0.8416224 , 0.8413005 ,\n",
       "        0.8413005 , 0.84725575, 0.86769676, 0.86769676, 0.86174151,\n",
       "        0.85369387, 0.86592628, 0.86914534, 0.86657009, 0.89151779,\n",
       "        0.87831965, 0.89747304, 0.88572348, 0.88685015, 0.89441494,\n",
       "        0.90713021, 0.89602446, 0.89731209, 0.89650732, 0.88379205,\n",
       "        0.90729116, 0.92676646, 0.91437309, 0.9208112 , 0.90745212,\n",
       "        0.91582166, 0.9290198 , 0.93642363, 0.94044745, 0.93819411,\n",
       "        0.93336552, 0.92885884, 0.93191695, 0.9378722 , 0.93642363,\n",
       "        0.92580074, 0.9375503 , 0.95525511, 0.95010462, 0.94414936,\n",
       "        0.93674553, 0.94865604, 0.95203605, 0.94414936, 0.94785128,\n",
       "        0.94994367, 0.95026557, 0.95203605, 0.96603895, 0.96072751,\n",
       "        0.95799131, 0.95316272, 0.95284082, 0.95847417, 0.95155319,\n",
       "        0.96153227, 0.96459038, 0.96024465, 0.96603895, 0.97875423,\n",
       "        0.98149042, 0.9832609 , 0.96555609, 0.96845324, 0.95927893,\n",
       "        0.94978271, 0.95589892, 0.95654273, 0.95879607, 0.96523419,\n",
       "        0.96684371, 0.97070658, 0.96539514, 0.9716723 , 0.96748753,\n",
       "        0.96442942, 0.96636086, 0.97215516, 0.97553517, 0.97971994,\n",
       "        0.98052471, 0.97135039, 0.97408659, 0.9802028 , 0.97891518,\n",
       "        0.98165138, 0.97263802, 0.98905521, 0.97569612, 0.98985997,\n",
       "        0.98277805, 0.97231611, 0.97537422, 0.9744085 , 0.98422662,\n",
       "        0.98422662, 0.99275712, 0.98631901, 0.97811041, 0.98406567,\n",
       "        0.99050378, 0.9884114 , 0.98245614, 0.97392564, 0.97730565,\n",
       "        0.98149042, 0.99098664, 0.99484951, 0.99710285, 0.99919524,\n",
       "        0.99340093, 0.98149042, 0.98744568, 0.98631901, 0.98808949,\n",
       "        0.99098664, 0.98068566, 0.98342186, 0.98181233, 0.99323998,\n",
       "        0.98647996, 0.98583615, 0.98487043, 0.9884114 , 0.99629808,\n",
       "        0.99871238, 0.99822952, 0.99951714, 1.        ]),\n",
       " array([0.17503218, 0.17696268, 0.16795367, 0.16924067, 0.16988417,\n",
       "        0.16602317, 0.17374517, 0.16859717, 0.16409266, 0.16666667,\n",
       "        0.17117117, 0.16280566, 0.15958816, 0.16666667, 0.16537967,\n",
       "        0.15701416, 0.15894466, 0.15444015, 0.15765766, 0.16409266,\n",
       "        0.16216216, 0.16666667, 0.16666667, 0.16537967, 0.16473616,\n",
       "        0.16537967, 0.16280566, 0.17052767, 0.16602317, 0.16924067,\n",
       "        0.17245817, 0.16731017, 0.16087516, 0.16216216, 0.15637066,\n",
       "        0.16344916, 0.16087516, 0.16087516, 0.16344916, 0.16409266,\n",
       "        0.15958816, 0.15444015, 0.15508366, 0.15444015, 0.15958816,\n",
       "        0.15958816, 0.15830116, 0.15830116, 0.16151866, 0.16023166,\n",
       "        0.16216216, 0.15701416, 0.15894466, 0.15637066, 0.15701416,\n",
       "        0.15894466, 0.15958816, 0.16151866, 0.15637066, 0.15894466,\n",
       "        0.16023166, 0.15701416, 0.15765766, 0.15894466, 0.15379665,\n",
       "        0.15765766, 0.15958816, 0.15830116, 0.16216216, 0.16087516,\n",
       "        0.16216216, 0.16216216, 0.16151866, 0.15701416, 0.15701416,\n",
       "        0.16280566, 0.15958816, 0.16023166, 0.15637066, 0.15572716,\n",
       "        0.15765766, 0.16087516, 0.15958816, 0.15379665, 0.15508366,\n",
       "        0.15572716, 0.15572716, 0.15637066, 0.15701416, 0.15830116,\n",
       "        0.15830116, 0.15830116, 0.15958816, 0.15637066, 0.15444015,\n",
       "        0.15765766, 0.15765766, 0.16087516, 0.15572716, 0.15701416,\n",
       "        0.15637066, 0.15701416, 0.15508366, 0.15444015, 0.15186615,\n",
       "        0.15250965, 0.15186615, 0.15508366, 0.15122265, 0.15765766,\n",
       "        0.15701416, 0.15572716, 0.15572716, 0.15572716, 0.15765766,\n",
       "        0.15958816, 0.15765766, 0.15765766, 0.15830116, 0.15894466,\n",
       "        0.15701416, 0.15894466, 0.15637066, 0.15765766, 0.15508366,\n",
       "        0.15765766, 0.15186615, 0.15250965, 0.15122265, 0.14864865,\n",
       "        0.15186615, 0.15444015, 0.15637066, 0.15701416, 0.15637066,\n",
       "        0.15444015, 0.15701416, 0.15765766, 0.15444015, 0.15444015,\n",
       "        0.15508366, 0.15315315, 0.15637066, 0.15572716, 0.15379665,\n",
       "        0.15765766, 0.15894466, 0.16023166, 0.15765766, 0.15894466,\n",
       "        0.15701416, 0.15701416, 0.15830116, 0.16087516, 0.15701416,\n",
       "        0.15894466, 0.16216216, 0.15830116, 0.15958816, 0.15894466,\n",
       "        0.16023166, 0.15830116, 0.15894466, 0.16023166, 0.16087516,\n",
       "        0.15958816, 0.15830116, 0.15765766, 0.15894466, 0.15765766,\n",
       "        0.15958816, 0.16023166, 0.15958816, 0.16087516, 0.16087516,\n",
       "        0.15958816, 0.16151866, 0.16087516, 0.16087516]))"
      ]
     },
     "execution_count": 8,
     "metadata": {},
     "output_type": "execute_result"
    }
   ],
   "source": [
    "# Should have 90%\n",
    "hdc = HDC.HD_classifier(param[\"D\"], param[\"nClasses\"], bid)\n",
    "train_acc, test_acc = train(hdc, trainencoded, trainlabels, testencoded, testlabels)"
   ]
  },
  {
   "cell_type": "code",
   "execution_count": 11,
   "metadata": {},
   "outputs": [
    {
     "data": {
      "text/plain": [
       "array([[ 1.45059652,  1.85823268,  4.3838977 , ...,  0.68960764,\n",
       "         3.6772887 , -2.03289408],\n",
       "       [ 3.98379697, -0.36273483,  3.25583002, ...,  0.41377529,\n",
       "         2.2391842 ,  2.58729642],\n",
       "       [-0.61166525, -2.44437767,  1.52885108, ...,  0.4762864 ,\n",
       "        -3.14459339,  3.03743057],\n",
       "       ...,\n",
       "       [-0.77595269,  2.08645182, -0.84871152, ..., -1.17205222,\n",
       "         0.46915273, -0.54478451],\n",
       "       [-0.36785616, -1.58836243, -0.14255617, ...,  0.6666144 ,\n",
       "        -1.47677186, -0.24973132],\n",
       "       [ 0.44009013, -0.55716497,  0.93944921, ...,  1.31044942,\n",
       "         0.43441994, -0.11208485]])"
      ]
     },
     "execution_count": 11,
     "metadata": {},
     "output_type": "execute_result"
    }
   ],
   "source": [
    "hdc.classes"
   ]
  },
  {
   "cell_type": "code",
   "execution_count": null,
   "metadata": {},
   "outputs": [],
   "source": []
  }
 ],
 "metadata": {
  "kernelspec": {
   "display_name": "Python 3",
   "language": "python",
   "name": "python3"
  },
  "language_info": {
   "codemirror_mode": {
    "name": "ipython",
    "version": 3
   },
   "file_extension": ".py",
   "mimetype": "text/x-python",
   "name": "python",
   "nbconvert_exporter": "python",
   "pygments_lexer": "ipython3",
   "version": "3.7.4"
  }
 },
 "nbformat": 4,
 "nbformat_minor": 1
}
