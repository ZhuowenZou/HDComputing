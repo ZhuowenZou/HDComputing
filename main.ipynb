{
 "cells": [
  {
   "cell_type": "code",
   "execution_count": 1,
   "metadata": {},
   "outputs": [],
   "source": [
    "# Changed code relative to others:\n",
    "# encoding no longer use cos sin (no noise)\n",
    "# dump log now dump both pickle and txt"
   ]
  },
  {
   "cell_type": "code",
   "execution_count": 2,
   "metadata": {},
   "outputs": [],
   "source": [
    "%load_ext autoreload\n",
    "%autoreload 2"
   ]
  },
  {
   "cell_type": "code",
   "execution_count": 3,
   "metadata": {},
   "outputs": [],
   "source": [
    "import sklearn\n",
    "from sklearn.discriminant_analysis import LinearDiscriminantAnalysis\n",
    "from sklearn.decomposition import PCA\n",
    "import time\n",
    "import sys\n",
    "import math\n",
    "import numpy as np\n",
    "import random\n",
    "import joblib\n",
    "from scipy import stats\n",
    "from tqdm import tqdm_notebook\n",
    "\n",
    "import Config\n",
    "from Config import *\n",
    "import Dataloader as DL\n",
    "import HD_basis as HDB\n",
    "import HD_encoder as HDE\n",
    "import HD_classifier as HDC\n"
   ]
  },
  {
   "cell_type": "code",
   "execution_count": 4,
   "metadata": {},
   "outputs": [],
   "source": [
    "# train data once. This is without retraining so beware!\n",
    "def onepass_train(hdc, traindata, trainlabels, testdata, testlabels, param = Config.config):\n",
    "    train_acc = hdc.fit_once(traindata, trainlabels, param)\n",
    "    test_acc = hdc.test(testdata, testlabels)\n",
    "    print(\"Train: %f \\t \\t Test: %f\"%(train_acc, test_acc))\n",
    "    return train_acc, test_acc"
   ]
  },
  {
   "cell_type": "code",
   "execution_count": 5,
   "metadata": {},
   "outputs": [],
   "source": [
    "# train data. with retrain\n",
    "def train(hdc, traindata, trainlabels, testdata, testlabels, param = Config.config):\n",
    "    train_accs = []\n",
    "    test_accs = []\n",
    "    for _ in tqdm_notebook(range(param[\"epochs\"]), desc='epochs'):\n",
    "        train_accs.append(hdc.fit(traindata, trainlabels, param))\n",
    "        test_accs.append(hdc.test(testdata, testlabels, param[\"kernel\"]))\n",
    "        if len(train_accs) % 5 == 1:\n",
    "            print(\"Train: %f \\t \\t Test: %f\"%(train_accs[-1], test_accs[-1]))\n",
    "        if train_accs[-1] == 1:\n",
    "            print(\"Train: %f \\t \\t Test: %f\"%(train_accs[-1], test_accs[-1]))\n",
    "            break\n",
    "    return np.asarray(train_accs), np.asarray(test_accs)"
   ]
  },
  {
   "cell_type": "code",
   "execution_count": 6,
   "metadata": {},
   "outputs": [],
   "source": [
    "# train data once via batch\n",
    "def train_batch(hdc, traindata, trainlabels, testdata, testlabels, param = Config.config, batch = 50):\n",
    "    train_accs = []\n",
    "    for i in range(len(traindata)//batch):\n",
    "        train_accs.append(hdc.fit_sep(traindata[i*batch: (i+1)*batch], trainlabels[i*batch: (i+1)*batch], param))\n",
    "    train_acc = np.mean(np.asarray(train_accs))\n",
    "    test_acc = hdc.test(testdata, testlabels, param[\"kernel\"])\n",
    "    #print(\"Train: %f \\t \\t Test: %f\"%(train_acc, test_acc))\n",
    "    return train_acc, test_acc"
   ]
  },
  {
   "cell_type": "code",
   "execution_count": 7,
   "metadata": {},
   "outputs": [],
   "source": [
    "# train data via batch, with retrain\n",
    "def batched_train(hdc, traindata, trainlabels, testdata, testlabels, param = Config.config, batch = 50):\n",
    "    train_accs = []\n",
    "    test_accs = []\n",
    "    for _ in tqdm_notebook(range(param[\"epochs\"]), desc='epochs'):\n",
    "        train_acc, test_acc = train_batch(hdc, traindata, trainlabels, testdata, testlabels, param, batch)\n",
    "        train_accs.append(train_acc)\n",
    "        test_accs.append(test_acc)\n",
    "        if len(train_accs) % 5 == 1:\n",
    "            print(\"Train: %f \\t \\t Test: %f\"%(train_accs[-1], test_accs[-1]))\n",
    "        if train_accs[-1] == 1:\n",
    "            print(\"Train: %f \\t \\t Test: %f\"%(train_accs[-1], test_accs[-1]))\n",
    "            break\n",
    "    return np.asarray(train_accs), np.asarray(test_accs)"
   ]
  },
  {
   "cell_type": "code",
   "execution_count": 8,
   "metadata": {},
   "outputs": [],
   "source": [
    "def dump_log(param, train_acc, test_acc, filename):\n",
    "    joblib.dump((param, train_acc, test_acc), open(filename+\".pkl\", \"wb\"), compress=True)\n",
    "    file = open(filename+\".txt\", \"w\")\n",
    "    file.write(\"Max train: %.2f \\tMax test: %.2f \\n\"%(train_acc*100, test_acc*100))\n",
    "    file.write(str(param))\n",
    "    file.close()"
   ]
  },
  {
   "cell_type": "code",
   "execution_count": 9,
   "metadata": {},
   "outputs": [
    {
     "name": "stderr",
     "output_type": "stream",
     "text": [
      "Loading dataset MNIST from MNIST\n",
      "Loading train data... train data of shape (60000, 784) loaded\n",
      "Loading test data...  test  data of shape (10000, 784) loaded\n",
      "Data Loaded. Num of features = 784 Num of Classes = 10"
     ]
    }
   ],
   "source": [
    "dl = DL.Dataloader()\n",
    "nFeatures, nClasses, traindata, trainlabels, testdata, testlabels = dl.getParam()\n"
   ]
  },
  {
   "cell_type": "code",
   "execution_count": 10,
   "metadata": {},
   "outputs": [],
   "source": [
    "#Data shuffling \n",
    "shuf_train = np.random.permutation(len(traindata))\n",
    "traindata = traindata[shuf_train]\n",
    "trainlabels = trainlabels[shuf_train]\n",
    "\n",
    "shuf_test = np.random.permutation(len(testdata))\n",
    "testdata = testdata[shuf_test]\n",
    "testlabels = testlabels[shuf_test]"
   ]
  },
  {
   "cell_type": "code",
   "execution_count": 11,
   "metadata": {},
   "outputs": [],
   "source": [
    "traindata = traindata[:10000]\n",
    "testdata = testdata[:5000]"
   ]
  },
  {
   "cell_type": "code",
   "execution_count": 12,
   "metadata": {},
   "outputs": [
    {
     "name": "stdout",
     "output_type": "stream",
     "text": [
      "{'data_location': '../dataset/', 'directory': 'MNIST', 'dataset': 'MNIST', 'D': 2000, 'vector': 'Gaussian', 'mu': 0, 'sigma': 1, 'binarize': 0, 'lr': 0.037, 'sparse': 0, 's': 0.1, 'binaryModel': 0, 'checkpoints': False, 'kernel': <Kernel_T.DOT: 0>, 'width': None, 'height': None, 'nLayers': 5, 'uniform_dim': 1, 'uniform_ker': 1, 'dArr': None, 'k': 3, 'kArr': None, 'one_shot': 0, 'data_percentages': [1.0, 0.01, 0.02, 0.05, 0.1, 0.2, 0.5], 'train_percent': 1, 'dropout': 0, 'drop_percentages': [0, 0.1, 0.2, 0.5], 'dropout_rate': 0, 'update_type': <Update_T.FULL: 1>, 'iter_per_trial': 3, 'iter_per_encoding': 5, 'epochs': 80, 'nFeatures': 784, 'nClasses': 10}\n"
     ]
    }
   ],
   "source": [
    "param = Config.config\n",
    "param[\"nFeatures\"] = nFeatures\n",
    "param[\"nClasses\"] = nClasses\n",
    "print(param)"
   ]
  },
  {
   "cell_type": "code",
   "execution_count": null,
   "metadata": {},
   "outputs": [],
   "source": []
  },
  {
   "cell_type": "code",
   "execution_count": 13,
   "metadata": {},
   "outputs": [
    {
     "name": "stderr",
     "output_type": "stream",
     "text": [
      "Generating vanilla HD basis of shape... "
     ]
    },
    {
     "data": {
      "application/vnd.jupyter.widget-view+json": {
       "model_id": "3596b17b3dee4f399031b34820321a6e",
       "version_major": 2,
       "version_minor": 0
      },
      "text/plain": [
       "HBox(children=(IntProgress(value=0, description='vectors', max=2000, style=ProgressStyle(description_width='in…"
      ]
     },
     "metadata": {},
     "output_type": "display_data"
    },
    {
     "name": "stdout",
     "output_type": "stream",
     "text": [
      "\n",
      "6310\n"
     ]
    },
    {
     "name": "stderr",
     "output_type": "stream",
     "text": [
      "(2000, 784)\n",
      "Encoding time: 0.10472846031188965 \n"
     ]
    }
   ],
   "source": [
    "################# VANILLA #################\n",
    "hdb = HDB.HD_basis(Config.Generator_T.Vanilla, param)\n",
    "basis = hdb.getBasis()\n",
    "bid = hdb.getParam()[\"id\"]\n",
    "# Update param with bid\n",
    "param = hdb.getParam()\n",
    "print(bid)"
   ]
  },
  {
   "cell_type": "code",
   "execution_count": 14,
   "metadata": {},
   "outputs": [],
   "source": [
    "# Retrieve info upto basis generator, given correct bid\n",
    "#bid = 6679\n",
    "#basis, param = HDB.loadBasis(\"base_%d.pkl\"%bid)"
   ]
  },
  {
   "cell_type": "code",
   "execution_count": 15,
   "metadata": {},
   "outputs": [
    {
     "name": "stderr",
     "output_type": "stream",
     "text": [
      "Encoding data of shape (10000, 784)\n"
     ]
    },
    {
     "data": {
      "application/vnd.jupyter.widget-view+json": {
       "model_id": "cd984a4d224f4cc595cae636941b983b",
       "version_major": 2,
       "version_minor": 0
      },
      "text/plain": [
       "HBox(children=(IntProgress(value=0, description='samples encoded', max=10000, style=ProgressStyle(description_…"
      ]
     },
     "metadata": {},
     "output_type": "display_data"
    },
    {
     "name": "stdout",
     "output_type": "stream",
     "text": [
      "\n"
     ]
    },
    {
     "name": "stderr",
     "output_type": "stream",
     "text": [
      "Time spent: 4 sec\n",
      "Encoding data of shape (5000, 784)\n"
     ]
    },
    {
     "data": {
      "application/vnd.jupyter.widget-view+json": {
       "model_id": "bd82435bb7754eb7b3b6ba06ccc1f63a",
       "version_major": 2,
       "version_minor": 0
      },
      "text/plain": [
       "HBox(children=(IntProgress(value=0, description='samples encoded', max=5000, style=ProgressStyle(description_w…"
      ]
     },
     "metadata": {},
     "output_type": "display_data"
    },
    {
     "name": "stdout",
     "output_type": "stream",
     "text": [
      "\n"
     ]
    },
    {
     "name": "stderr",
     "output_type": "stream",
     "text": [
      "Time spent: 2 sec\n"
     ]
    }
   ],
   "source": [
    "hde = HDE.HD_encoder(basis)\n",
    "\n",
    "trainencoded = hde.encodeData(traindata)\n",
    "#HDE.saveEncoded(trainencoded, trainlabels, bid, \"train\")\n",
    "\n",
    "testencoded = hde.encodeData(testdata)\n",
    "#HDE.saveEncoded(testencoded, testlabels, bid, \"test\")"
   ]
  },
  {
   "cell_type": "code",
   "execution_count": 16,
   "metadata": {},
   "outputs": [],
   "source": [
    "# Retrieve info upto encoder, given correct bid\n",
    "#bid = 6679\n",
    "#basis, param = HDB.loadBasis(\"base_%d.pkl\"%bid)\n",
    "#trainencoded, trainlabels = HDE.loadEncoded(\"encoded_%d_train.pkl\"%bid)\n",
    "#testencoded, testlabels = HDE.loadEncoded(\"encoded_%d_test.pkl\"%bid)"
   ]
  },
  {
   "cell_type": "markdown",
   "metadata": {},
   "source": [
    "# Onepass - train"
   ]
  },
  {
   "cell_type": "code",
   "execution_count": 17,
   "metadata": {},
   "outputs": [
    {
     "name": "stderr",
     "output_type": "stream",
     "text": [
      "Fitting with configuration: [('one_shot', 0), ('dropout', 0), ('lr', 0.037), ('kernel', <Kernel_T.DOT: 0>)] \n"
     ]
    },
    {
     "name": "stdout",
     "output_type": "stream",
     "text": [
      "Train: -1.000000 \t \t Test: 0.869147\n"
     ]
    }
   ],
   "source": [
    "# Should have 90%\n",
    "one_hdc = HDC.HD_classifier(param[\"D\"], param[\"nClasses\"], bid)\n",
    "train_acc, test_acc = onepass_train(one_hdc, trainencoded, trainlabels, testencoded, testlabels)"
   ]
  },
  {
   "cell_type": "code",
   "execution_count": 18,
   "metadata": {},
   "outputs": [],
   "source": [
    "accs = dict()\n",
    "for k in Kernel_T:\n",
    "    accs[k]= one_hdc.test(testencoded, testlabels, k)"
   ]
  },
  {
   "cell_type": "code",
   "execution_count": 19,
   "metadata": {},
   "outputs": [
    {
     "name": "stdout",
     "output_type": "stream",
     "text": [
      "Kernel_T.DOT 0.851\n",
      "Kernel_T.COS 0.851\n",
      "Kernel_T.PL1 0.7984\n",
      "Kernel_T.PL3 0.8524\n",
      "Kernel_T.PL4 0.852\n",
      "Kernel_T.BT1 0.8346\n",
      "Kernel_T.BT3 0.8534\n",
      "Kernel_T.BT4 0.8538\n"
     ]
    }
   ],
   "source": [
    "for k in Kernel_T:\n",
    "    print(k, accs[k])"
   ]
  },
  {
   "cell_type": "markdown",
   "metadata": {},
   "source": [
    "# Onepass - train - automation"
   ]
  },
  {
   "cell_type": "code",
   "execution_count": 18,
   "metadata": {},
   "outputs": [],
   "source": [
    "def onepass_automation(param):\n",
    "    \n",
    "    hdb = HDB.HD_basis(Config.Generator_T.Vanilla, param)\n",
    "    basis = hdb.getBasis()\n",
    "    bid = hdb.getParam()[\"id\"]\n",
    "    param = hdb.getParam() # Update param with bid\n",
    "    \n",
    "    hde = HDE.HD_encoder(basis)\n",
    "    trainencoded = hde.encodeData(traindata)\n",
    "    testencoded = hde.encodeData(testdata)\n",
    "    \n",
    "    # Should have 90%\n",
    "    one_hdc = HDC.HD_classifier(param[\"D\"], param[\"nClasses\"], bid)\n",
    "    train_acc, test_acc = onepass_train(one_hdc, trainencoded, trainlabels, testencoded, testlabels)\n",
    "    \n",
    "    accs = dict()\n",
    "    for k in Kernel_T:\n",
    "        accs[k]= one_hdc.test(testencoded, testlabels, k)\n",
    "        print(k, accs[k])\n",
    "    return accs"
   ]
  },
  {
   "cell_type": "code",
   "execution_count": 19,
   "metadata": {},
   "outputs": [
    {
     "name": "stderr",
     "output_type": "stream",
     "text": [
      "Generating vanilla HD basis of shape... "
     ]
    },
    {
     "data": {
      "application/vnd.jupyter.widget-view+json": {
       "model_id": "68da7d2a0afe4980ac076c38fdcd5ea0",
       "version_major": 2,
       "version_minor": 0
      },
      "text/plain": [
       "HBox(children=(IntProgress(value=0, description='vectors', max=500, style=ProgressStyle(description_width='ini…"
      ]
     },
     "metadata": {},
     "output_type": "display_data"
    },
    {
     "name": "stdout",
     "output_type": "stream",
     "text": [
      "\n"
     ]
    },
    {
     "name": "stderr",
     "output_type": "stream",
     "text": [
      "(500, 617)\n",
      "Encoding time: 0.037902116775512695 \n",
      "Encoding data of shape (6238, 617)\n"
     ]
    },
    {
     "data": {
      "application/vnd.jupyter.widget-view+json": {
       "model_id": "aa771fd52b76434aa3eecce37b35c75f",
       "version_major": 2,
       "version_minor": 0
      },
      "text/plain": [
       "HBox(children=(IntProgress(value=0, description='samples encoded', max=6238, style=ProgressStyle(description_w…"
      ]
     },
     "metadata": {},
     "output_type": "display_data"
    },
    {
     "name": "stdout",
     "output_type": "stream",
     "text": [
      "\n"
     ]
    },
    {
     "name": "stderr",
     "output_type": "stream",
     "text": [
      "Time spent: 0 sec\n",
      "Encoding data of shape (1559, 617)\n"
     ]
    },
    {
     "data": {
      "application/vnd.jupyter.widget-view+json": {
       "model_id": "4c8c348df0a24795aa40dc9f709ee1e3",
       "version_major": 2,
       "version_minor": 0
      },
      "text/plain": [
       "HBox(children=(IntProgress(value=0, description='samples encoded', max=1559, style=ProgressStyle(description_w…"
      ]
     },
     "metadata": {},
     "output_type": "display_data"
    },
    {
     "name": "stdout",
     "output_type": "stream",
     "text": [
      "\n"
     ]
    },
    {
     "name": "stderr",
     "output_type": "stream",
     "text": [
      "Time spent: 0 sec\n",
      "Fitting with configuration: [('one_shot', 0), ('dropout', 0), ('lr', 1), ('kernel', <Kernel_T.DOT: 0>)] \n"
     ]
    },
    {
     "name": "stdout",
     "output_type": "stream",
     "text": [
      "Train: -1.000000 \t \t Test: 0.865298\n",
      "Kernel_T.DOT 0.8652982681205901\n",
      "Kernel_T.COS 0.8652982681205901\n",
      "Kernel_T.PL1 0.742142398973701\n",
      "Kernel_T.PL3 0.8441308531109686\n",
      "Kernel_T.PL4 0.8524695317511225\n",
      "Kernel_T.BT1 0.7761385503527902\n",
      "Kernel_T.BT3 0.8550352790250161\n",
      "Kernel_T.BT4 0.8543938422065427\n"
     ]
    },
    {
     "name": "stderr",
     "output_type": "stream",
     "text": [
      "Generating vanilla HD basis of shape... "
     ]
    },
    {
     "data": {
      "application/vnd.jupyter.widget-view+json": {
       "model_id": "744fe382864e4cb0bc936765bb0f36bf",
       "version_major": 2,
       "version_minor": 0
      },
      "text/plain": [
       "HBox(children=(IntProgress(value=0, description='vectors', max=1000, style=ProgressStyle(description_width='in…"
      ]
     },
     "metadata": {},
     "output_type": "display_data"
    },
    {
     "name": "stdout",
     "output_type": "stream",
     "text": [
      "\n"
     ]
    },
    {
     "name": "stderr",
     "output_type": "stream",
     "text": [
      "(1000, 617)\n",
      "Encoding time: 0.0578463077545166 \n",
      "Encoding data of shape (6238, 617)\n"
     ]
    },
    {
     "data": {
      "application/vnd.jupyter.widget-view+json": {
       "model_id": "7453cce86389488e809ca4c108081192",
       "version_major": 2,
       "version_minor": 0
      },
      "text/plain": [
       "HBox(children=(IntProgress(value=0, description='samples encoded', max=6238, style=ProgressStyle(description_w…"
      ]
     },
     "metadata": {},
     "output_type": "display_data"
    },
    {
     "name": "stdout",
     "output_type": "stream",
     "text": [
      "\n"
     ]
    },
    {
     "name": "stderr",
     "output_type": "stream",
     "text": [
      "Time spent: 0 sec\n",
      "Encoding data of shape (1559, 617)\n"
     ]
    },
    {
     "data": {
      "application/vnd.jupyter.widget-view+json": {
       "model_id": "ba5341f786d748fd89d06fc4227e60f6",
       "version_major": 2,
       "version_minor": 0
      },
      "text/plain": [
       "HBox(children=(IntProgress(value=0, description='samples encoded', max=1559, style=ProgressStyle(description_w…"
      ]
     },
     "metadata": {},
     "output_type": "display_data"
    },
    {
     "name": "stdout",
     "output_type": "stream",
     "text": [
      "\n"
     ]
    },
    {
     "name": "stderr",
     "output_type": "stream",
     "text": [
      "Time spent: 0 sec\n",
      "Fitting with configuration: [('one_shot', 0), ('dropout', 0), ('lr', 1), ('kernel', <Kernel_T.DOT: 0>)] \n"
     ]
    },
    {
     "name": "stdout",
     "output_type": "stream",
     "text": [
      "Train: -1.000000 \t \t Test: 0.877486\n",
      "Kernel_T.DOT 0.8774855676715844\n",
      "Kernel_T.COS 0.8774855676715844\n",
      "Kernel_T.PL1 0.8120590121872996\n",
      "Kernel_T.PL3 0.8691468890314304\n",
      "Kernel_T.PL4 0.8659397049390635\n",
      "Kernel_T.BT1 0.8364336112892881\n",
      "Kernel_T.BT3 0.8736369467607441\n",
      "Kernel_T.BT4 0.8736369467607441\n"
     ]
    },
    {
     "name": "stderr",
     "output_type": "stream",
     "text": [
      "Generating vanilla HD basis of shape... "
     ]
    },
    {
     "data": {
      "application/vnd.jupyter.widget-view+json": {
       "model_id": "d0f5038c2abc4cb78e8b7f7a33a76888",
       "version_major": 2,
       "version_minor": 0
      },
      "text/plain": [
       "HBox(children=(IntProgress(value=0, description='vectors', max=2000, style=ProgressStyle(description_width='in…"
      ]
     },
     "metadata": {},
     "output_type": "display_data"
    },
    {
     "name": "stdout",
     "output_type": "stream",
     "text": [
      "\n"
     ]
    },
    {
     "name": "stderr",
     "output_type": "stream",
     "text": [
      "(2000, 617)\n",
      "Encoding time: 0.08876538276672363 \n",
      "Encoding data of shape (6238, 617)\n"
     ]
    },
    {
     "data": {
      "application/vnd.jupyter.widget-view+json": {
       "model_id": "2eab06c52b094083b30a1839ded43f9a",
       "version_major": 2,
       "version_minor": 0
      },
      "text/plain": [
       "HBox(children=(IntProgress(value=0, description='samples encoded', max=6238, style=ProgressStyle(description_w…"
      ]
     },
     "metadata": {},
     "output_type": "display_data"
    },
    {
     "name": "stdout",
     "output_type": "stream",
     "text": [
      "\n"
     ]
    },
    {
     "name": "stderr",
     "output_type": "stream",
     "text": [
      "Time spent: 2 sec\n",
      "Encoding data of shape (1559, 617)\n"
     ]
    },
    {
     "data": {
      "application/vnd.jupyter.widget-view+json": {
       "model_id": "e02b9cc9a3644d88b71649e922c82700",
       "version_major": 2,
       "version_minor": 0
      },
      "text/plain": [
       "HBox(children=(IntProgress(value=0, description='samples encoded', max=1559, style=ProgressStyle(description_w…"
      ]
     },
     "metadata": {},
     "output_type": "display_data"
    },
    {
     "name": "stdout",
     "output_type": "stream",
     "text": [
      "\n"
     ]
    },
    {
     "name": "stderr",
     "output_type": "stream",
     "text": [
      "Time spent: 0 sec\n",
      "Fitting with configuration: [('one_shot', 0), ('dropout', 0), ('lr', 1), ('kernel', <Kernel_T.DOT: 0>)] \n"
     ]
    },
    {
     "name": "stdout",
     "output_type": "stream",
     "text": [
      "Train: -1.000000 \t \t Test: 0.869147\n",
      "Kernel_T.DOT 0.8691468890314304\n",
      "Kernel_T.COS 0.8691468890314304\n",
      "Kernel_T.PL1 0.8402822322001283\n",
      "Kernel_T.PL3 0.8659397049390635\n",
      "Kernel_T.PL4 0.8608082103912764\n",
      "Kernel_T.BT1 0.8377164849262347\n",
      "Kernel_T.BT3 0.8697883258499037\n",
      "Kernel_T.BT4 0.8672225785760103\n"
     ]
    },
    {
     "name": "stderr",
     "output_type": "stream",
     "text": [
      "Generating vanilla HD basis of shape... "
     ]
    },
    {
     "data": {
      "application/vnd.jupyter.widget-view+json": {
       "model_id": "9240d6ab35914d64af15010f0397c59a",
       "version_major": 2,
       "version_minor": 0
      },
      "text/plain": [
       "HBox(children=(IntProgress(value=0, description='vectors', max=3000, style=ProgressStyle(description_width='in…"
      ]
     },
     "metadata": {},
     "output_type": "display_data"
    },
    {
     "name": "stdout",
     "output_type": "stream",
     "text": [
      "\n"
     ]
    },
    {
     "name": "stderr",
     "output_type": "stream",
     "text": [
      "(3000, 617)\n",
      "Encoding time: 0.11465287208557129 \n",
      "Encoding data of shape (6238, 617)\n"
     ]
    },
    {
     "data": {
      "application/vnd.jupyter.widget-view+json": {
       "model_id": "6ac5112ccfe54abca21ef03e6f1f5b65",
       "version_major": 2,
       "version_minor": 0
      },
      "text/plain": [
       "HBox(children=(IntProgress(value=0, description='samples encoded', max=6238, style=ProgressStyle(description_w…"
      ]
     },
     "metadata": {},
     "output_type": "display_data"
    },
    {
     "name": "stdout",
     "output_type": "stream",
     "text": [
      "\n"
     ]
    },
    {
     "name": "stderr",
     "output_type": "stream",
     "text": [
      "Time spent: 4 sec\n",
      "Encoding data of shape (1559, 617)\n"
     ]
    },
    {
     "data": {
      "application/vnd.jupyter.widget-view+json": {
       "model_id": "6049275c85bf4c769a326c85a4feabbb",
       "version_major": 2,
       "version_minor": 0
      },
      "text/plain": [
       "HBox(children=(IntProgress(value=0, description='samples encoded', max=1559, style=ProgressStyle(description_w…"
      ]
     },
     "metadata": {},
     "output_type": "display_data"
    },
    {
     "name": "stdout",
     "output_type": "stream",
     "text": [
      "\n"
     ]
    },
    {
     "name": "stderr",
     "output_type": "stream",
     "text": [
      "Time spent: 1 sec\n",
      "Fitting with configuration: [('one_shot', 0), ('dropout', 0), ('lr', 1), ('kernel', <Kernel_T.DOT: 0>)] \n"
     ]
    },
    {
     "name": "stdout",
     "output_type": "stream",
     "text": [
      "Train: -1.000000 \t \t Test: 0.876844\n",
      "Kernel_T.DOT 0.876844130853111\n",
      "Kernel_T.COS 0.876844130853111\n",
      "Kernel_T.PL1 0.844772289929442\n",
      "Kernel_T.PL3 0.8762026940346376\n",
      "Kernel_T.PL4 0.8762026940346376\n",
      "Kernel_T.BT1 0.8678640153944837\n",
      "Kernel_T.BT3 0.8742783835792175\n",
      "Kernel_T.BT4 0.876844130853111\n"
     ]
    },
    {
     "name": "stderr",
     "output_type": "stream",
     "text": [
      "Generating vanilla HD basis of shape... "
     ]
    },
    {
     "data": {
      "application/vnd.jupyter.widget-view+json": {
       "model_id": "21129b141909445ab312ce77b0adc712",
       "version_major": 2,
       "version_minor": 0
      },
      "text/plain": [
       "HBox(children=(IntProgress(value=0, description='vectors', max=4000, style=ProgressStyle(description_width='in…"
      ]
     },
     "metadata": {},
     "output_type": "display_data"
    },
    {
     "name": "stdout",
     "output_type": "stream",
     "text": [
      "\n"
     ]
    },
    {
     "name": "stderr",
     "output_type": "stream",
     "text": [
      "(4000, 617)\n",
      "Encoding time: 0.14914989471435547 \n",
      "Encoding data of shape (6238, 617)\n"
     ]
    },
    {
     "data": {
      "application/vnd.jupyter.widget-view+json": {
       "model_id": "ad86eaf5d5f447c881b953e4bfd49546",
       "version_major": 2,
       "version_minor": 0
      },
      "text/plain": [
       "HBox(children=(IntProgress(value=0, description='samples encoded', max=6238, style=ProgressStyle(description_w…"
      ]
     },
     "metadata": {},
     "output_type": "display_data"
    },
    {
     "name": "stdout",
     "output_type": "stream",
     "text": [
      "\n"
     ]
    },
    {
     "name": "stderr",
     "output_type": "stream",
     "text": [
      "Time spent: 5 sec\n",
      "Encoding data of shape (1559, 617)\n"
     ]
    },
    {
     "data": {
      "application/vnd.jupyter.widget-view+json": {
       "model_id": "d111f4f1126947949908861f01ae4c4e",
       "version_major": 2,
       "version_minor": 0
      },
      "text/plain": [
       "HBox(children=(IntProgress(value=0, description='samples encoded', max=1559, style=ProgressStyle(description_w…"
      ]
     },
     "metadata": {},
     "output_type": "display_data"
    },
    {
     "name": "stdout",
     "output_type": "stream",
     "text": [
      "\n"
     ]
    },
    {
     "name": "stderr",
     "output_type": "stream",
     "text": [
      "Time spent: 1 sec\n",
      "Fitting with configuration: [('one_shot', 0), ('dropout', 0), ('lr', 1), ('kernel', <Kernel_T.DOT: 0>)] \n"
     ]
    },
    {
     "name": "stdout",
     "output_type": "stream",
     "text": [
      "Train: -1.000000 \t \t Test: 0.880051\n",
      "Kernel_T.DOT 0.8800513149454778\n",
      "Kernel_T.COS 0.8800513149454778\n",
      "Kernel_T.PL1 0.8640153944836434\n",
      "Kernel_T.PL3 0.8787684413085312\n",
      "Kernel_T.PL4 0.8774855676715844\n",
      "Kernel_T.BT1 0.8774855676715844\n",
      "Kernel_T.BT3 0.876844130853111\n",
      "Kernel_T.BT4 0.876844130853111\n"
     ]
    },
    {
     "name": "stderr",
     "output_type": "stream",
     "text": [
      "Generating vanilla HD basis of shape... "
     ]
    },
    {
     "data": {
      "application/vnd.jupyter.widget-view+json": {
       "model_id": "5d488ceea0104139902324470f37ef7f",
       "version_major": 2,
       "version_minor": 0
      },
      "text/plain": [
       "HBox(children=(IntProgress(value=0, description='vectors', max=5000, style=ProgressStyle(description_width='in…"
      ]
     },
     "metadata": {},
     "output_type": "display_data"
    },
    {
     "name": "stdout",
     "output_type": "stream",
     "text": [
      "\n"
     ]
    },
    {
     "name": "stderr",
     "output_type": "stream",
     "text": [
      "(5000, 617)\n",
      "Encoding time: 0.17552947998046875 \n",
      "Encoding data of shape (6238, 617)\n"
     ]
    },
    {
     "data": {
      "application/vnd.jupyter.widget-view+json": {
       "model_id": "d72cd7042a174f66b0eaca7b91190bc4",
       "version_major": 2,
       "version_minor": 0
      },
      "text/plain": [
       "HBox(children=(IntProgress(value=0, description='samples encoded', max=6238, style=ProgressStyle(description_w…"
      ]
     },
     "metadata": {},
     "output_type": "display_data"
    },
    {
     "name": "stdout",
     "output_type": "stream",
     "text": [
      "\n"
     ]
    },
    {
     "name": "stderr",
     "output_type": "stream",
     "text": [
      "Time spent: 7 sec\n",
      "Encoding data of shape (1559, 617)\n"
     ]
    },
    {
     "data": {
      "application/vnd.jupyter.widget-view+json": {
       "model_id": "7ba3629e85454f36be07df82319173d8",
       "version_major": 2,
       "version_minor": 0
      },
      "text/plain": [
       "HBox(children=(IntProgress(value=0, description='samples encoded', max=1559, style=ProgressStyle(description_w…"
      ]
     },
     "metadata": {},
     "output_type": "display_data"
    },
    {
     "name": "stdout",
     "output_type": "stream",
     "text": [
      "\n"
     ]
    },
    {
     "name": "stderr",
     "output_type": "stream",
     "text": [
      "Time spent: 1 sec\n",
      "Fitting with configuration: [('one_shot', 0), ('dropout', 0), ('lr', 1), ('kernel', <Kernel_T.DOT: 0>)] \n"
     ]
    },
    {
     "name": "stdout",
     "output_type": "stream",
     "text": [
      "Train: -1.000000 \t \t Test: 0.878768\n",
      "Kernel_T.DOT 0.8787684413085312\n",
      "Kernel_T.COS 0.8787684413085312\n",
      "Kernel_T.PL1 0.8588838999358563\n",
      "Kernel_T.PL3 0.8723540731237973\n",
      "Kernel_T.PL4 0.8717126363053239\n",
      "Kernel_T.BT1 0.8524695317511225\n",
      "Kernel_T.BT3 0.8742783835792175\n",
      "Kernel_T.BT4 0.8723540731237973\n"
     ]
    }
   ],
   "source": [
    "accs_D = dict()\n",
    "for D in [500, 1000, 2000, 3000, 4000, 5000]:\n",
    "    param[\"D\"] = D\n",
    "    accs_D[D] = onepass_automation(param)"
   ]
  },
  {
   "cell_type": "code",
   "execution_count": 20,
   "metadata": {},
   "outputs": [
    {
     "name": "stdout",
     "output_type": "stream",
     "text": [
      "500\n",
      "0.8652982681205901\n",
      "0.8652982681205901\n",
      "0.742142398973701\n",
      "0.8441308531109686\n",
      "0.8524695317511225\n",
      "0.7761385503527902\n",
      "0.8550352790250161\n",
      "0.8543938422065427\n",
      "1000\n",
      "0.8774855676715844\n",
      "0.8774855676715844\n",
      "0.8120590121872996\n",
      "0.8691468890314304\n",
      "0.8659397049390635\n",
      "0.8364336112892881\n",
      "0.8736369467607441\n",
      "0.8736369467607441\n",
      "2000\n",
      "0.8691468890314304\n",
      "0.8691468890314304\n",
      "0.8402822322001283\n",
      "0.8659397049390635\n",
      "0.8608082103912764\n",
      "0.8377164849262347\n",
      "0.8697883258499037\n",
      "0.8672225785760103\n",
      "3000\n",
      "0.876844130853111\n",
      "0.876844130853111\n",
      "0.844772289929442\n",
      "0.8762026940346376\n",
      "0.8762026940346376\n",
      "0.8678640153944837\n",
      "0.8742783835792175\n",
      "0.876844130853111\n",
      "4000\n",
      "0.8800513149454778\n",
      "0.8800513149454778\n",
      "0.8640153944836434\n",
      "0.8787684413085312\n",
      "0.8774855676715844\n",
      "0.8774855676715844\n",
      "0.876844130853111\n",
      "0.876844130853111\n",
      "5000\n",
      "0.8787684413085312\n",
      "0.8787684413085312\n",
      "0.8588838999358563\n",
      "0.8723540731237973\n",
      "0.8717126363053239\n",
      "0.8524695317511225\n",
      "0.8742783835792175\n",
      "0.8723540731237973\n"
     ]
    }
   ],
   "source": [
    "for D in accs_D.keys():\n",
    "    print(D)\n",
    "    for k in accs_D[D]:\n",
    "        print(accs_D[D][k])"
   ]
  },
  {
   "cell_type": "markdown",
   "metadata": {},
   "source": [
    "# Comparing test results - retrain"
   ]
  },
  {
   "cell_type": "code",
   "execution_count": 32,
   "metadata": {},
   "outputs": [],
   "source": [
    "hdcs = dict()\n",
    "accs = dict()"
   ]
  },
  {
   "cell_type": "code",
   "execution_count": 18,
   "metadata": {},
   "outputs": [
    {
     "name": "stderr",
     "output_type": "stream",
     "text": [
      "c:\\program files (x86)\\microsoft visual studio\\shared\\python37_64\\lib\\site-packages\\ipykernel_launcher.py:5: TqdmDeprecationWarning: This function will be removed in tqdm==5.0.0\n",
      "Please use `tqdm.notebook.tqdm` instead of `tqdm.tqdm_notebook`\n",
      "  \"\"\"\n"
     ]
    },
    {
     "data": {
      "application/vnd.jupyter.widget-view+json": {
       "model_id": "edb092a46d344dd1a02108794f7ddd84",
       "version_major": 2,
       "version_minor": 0
      },
      "text/plain": [
       "HBox(children=(IntProgress(value=0, description='epochs', max=200, style=ProgressStyle(description_width='init…"
      ]
     },
     "metadata": {},
     "output_type": "display_data"
    },
    {
     "name": "stderr",
     "output_type": "stream",
     "text": [
      "Sep Fitting with configuration: [('one_shot', 0), ('dropout', 0), ('lr', 0.037), ('kernel', <Kernel_T.DOT: 0>)] \n"
     ]
    },
    {
     "name": "stdout",
     "output_type": "stream",
     "text": [
      "Train: 0.676200 \t \t Test: 0.869600\n",
      "Train: 0.925100 \t \t Test: 0.935400\n",
      "Train: 0.962800 \t \t Test: 0.887600\n",
      "Train: 0.959800 \t \t Test: 0.950200\n",
      "Train: 0.982100 \t \t Test: 0.943400\n",
      "Train: 0.985800 \t \t Test: 0.905000\n",
      "Train: 0.992400 \t \t Test: 0.937200\n",
      "Train: 0.989700 \t \t Test: 0.952000\n",
      "Train: 0.958600 \t \t Test: 0.951800\n",
      "Train: 0.995000 \t \t Test: 0.943400\n",
      "Train: 0.997700 \t \t Test: 0.955400\n",
      "Train: 0.998400 \t \t Test: 0.955200\n",
      "Train: 0.997900 \t \t Test: 0.955400\n",
      "Train: 0.998700 \t \t Test: 0.939400\n",
      "Train: 0.998500 \t \t Test: 0.934800\n",
      "Train: 0.997800 \t \t Test: 0.956800\n",
      "Train: 0.999200 \t \t Test: 0.955800\n",
      "Train: 0.999000 \t \t Test: 0.955800\n",
      "Train: 0.998800 \t \t Test: 0.956000\n",
      "Train: 1.000000 \t \t Test: 0.955400\n",
      "Train: 1.000000 \t \t Test: 0.955400\n"
     ]
    }
   ],
   "source": [
    "\n",
    "param[\"kernel\"] = k = Kernel_T.DOT\n",
    "hdcs[k] = hdc = HDC.HD_classifier(param[\"D\"], param[\"nClasses\"], bid)\n",
    "train_acc, test_acc = batched_train(hdc, trainencoded, trainlabels, testencoded, testlabels, param)\n",
    "accs[k] = hdc.test(testencoded, testlabels, k)"
   ]
  },
  {
   "cell_type": "code",
   "execution_count": 19,
   "metadata": {},
   "outputs": [
    {
     "name": "stderr",
     "output_type": "stream",
     "text": [
      "c:\\program files (x86)\\microsoft visual studio\\shared\\python37_64\\lib\\site-packages\\ipykernel_launcher.py:5: TqdmDeprecationWarning: This function will be removed in tqdm==5.0.0\n",
      "Please use `tqdm.notebook.tqdm` instead of `tqdm.tqdm_notebook`\n",
      "  \"\"\"\n"
     ]
    },
    {
     "data": {
      "application/vnd.jupyter.widget-view+json": {
       "model_id": "ac7c17a7715847a7b3890022f18171e6",
       "version_major": 2,
       "version_minor": 0
      },
      "text/plain": [
       "HBox(children=(IntProgress(value=0, description='epochs', max=50, style=ProgressStyle(description_width='initi…"
      ]
     },
     "metadata": {},
     "output_type": "display_data"
    },
    {
     "name": "stderr",
     "output_type": "stream",
     "text": [
      "Sep Fitting with configuration: [('one_shot', 0), ('dropout', 0), ('lr', 0.037), ('kernel', <Kernel_T.PL1: 2>)] \n"
     ]
    },
    {
     "name": "stdout",
     "output_type": "stream",
     "text": [
      "Train: 0.598100 \t \t Test: 0.853000\n",
      "Train: 0.844400 \t \t Test: 0.662000\n",
      "Train: 0.849800 \t \t Test: 0.830400\n",
      "Train: 0.879000 \t \t Test: 0.913400\n",
      "Train: 0.869700 \t \t Test: 0.876000\n",
      "Train: 0.854600 \t \t Test: 0.756600\n",
      "Train: 0.901500 \t \t Test: 0.896800\n",
      "Train: 0.852600 \t \t Test: 0.888400\n",
      "Train: 0.904900 \t \t Test: 0.883400\n",
      "Train: 0.852400 \t \t Test: 0.911000\n",
      "\n"
     ]
    }
   ],
   "source": [
    "\n",
    "param[\"kernel\"] = k = Kernel_T.PL1\n",
    "hdcs[k] = hdc = HDC.HD_classifier(param[\"D\"], param[\"nClasses\"], bid)\n",
    "train_acc, test_acc = batched_train(hdc, trainencoded, trainlabels, testencoded, testlabels, param)\n",
    "accs[k] = hdc.test(testencoded, testlabels, k)"
   ]
  },
  {
   "cell_type": "code",
   "execution_count": 20,
   "metadata": {},
   "outputs": [
    {
     "name": "stderr",
     "output_type": "stream",
     "text": [
      "c:\\program files (x86)\\microsoft visual studio\\shared\\python37_64\\lib\\site-packages\\ipykernel_launcher.py:5: TqdmDeprecationWarning: This function will be removed in tqdm==5.0.0\n",
      "Please use `tqdm.notebook.tqdm` instead of `tqdm.tqdm_notebook`\n",
      "  \"\"\"\n"
     ]
    },
    {
     "data": {
      "application/vnd.jupyter.widget-view+json": {
       "model_id": "f02d245af7c74426a987ef1daaa7eb9a",
       "version_major": 2,
       "version_minor": 0
      },
      "text/plain": [
       "HBox(children=(IntProgress(value=0, description='epochs', max=50, style=ProgressStyle(description_width='initi…"
      ]
     },
     "metadata": {},
     "output_type": "display_data"
    },
    {
     "name": "stderr",
     "output_type": "stream",
     "text": [
      "Sep Fitting with configuration: [('one_shot', 0), ('dropout', 0), ('lr', 0.037), ('kernel', <Kernel_T.PL3: 3>)] \n"
     ]
    },
    {
     "name": "stdout",
     "output_type": "stream",
     "text": [
      "Train: 0.803300 \t \t Test: 0.872600\n",
      "Train: 0.962400 \t \t Test: 0.884600\n",
      "Train: 0.978500 \t \t Test: 0.940000\n",
      "Train: 0.973300 \t \t Test: 0.944600\n",
      "Train: 0.992100 \t \t Test: 0.949000\n",
      "Train: 0.993200 \t \t Test: 0.948400\n",
      "Train: 0.996800 \t \t Test: 0.948400\n",
      "Train: 0.997700 \t \t Test: 0.951600\n",
      "Train: 0.998300 \t \t Test: 0.948800\n",
      "Train: 0.995900 \t \t Test: 0.944200\n",
      "\n"
     ]
    }
   ],
   "source": [
    "\n",
    "param[\"kernel\"] = k = Kernel_T.PL3\n",
    "hdcs[k] = hdc = HDC.HD_classifier(param[\"D\"], param[\"nClasses\"], bid)\n",
    "train_acc, test_acc = batched_train(hdc, trainencoded, trainlabels, testencoded, testlabels, param)\n",
    "accs[k] = hdc.test(testencoded, testlabels, k)"
   ]
  },
  {
   "cell_type": "code",
   "execution_count": 21,
   "metadata": {},
   "outputs": [
    {
     "name": "stderr",
     "output_type": "stream",
     "text": [
      "c:\\program files (x86)\\microsoft visual studio\\shared\\python37_64\\lib\\site-packages\\ipykernel_launcher.py:5: TqdmDeprecationWarning: This function will be removed in tqdm==5.0.0\n",
      "Please use `tqdm.notebook.tqdm` instead of `tqdm.tqdm_notebook`\n",
      "  \"\"\"\n"
     ]
    },
    {
     "data": {
      "application/vnd.jupyter.widget-view+json": {
       "model_id": "bc152dec93834768bf66292162d66173",
       "version_major": 2,
       "version_minor": 0
      },
      "text/plain": [
       "HBox(children=(IntProgress(value=0, description='epochs', max=50, style=ProgressStyle(description_width='initi…"
      ]
     },
     "metadata": {},
     "output_type": "display_data"
    },
    {
     "name": "stderr",
     "output_type": "stream",
     "text": [
      "Sep Fitting with configuration: [('one_shot', 0), ('dropout', 0), ('lr', 0.037), ('kernel', <Kernel_T.PL4: 4>)] \n"
     ]
    },
    {
     "name": "stdout",
     "output_type": "stream",
     "text": [
      "Train: 0.790800 \t \t Test: 0.888200\n",
      "Train: 0.969200 \t \t Test: 0.934200\n",
      "Train: 0.985700 \t \t Test: 0.935400\n",
      "Train: 0.990000 \t \t Test: 0.947800\n",
      "Train: 0.992500 \t \t Test: 0.946600\n",
      "Train: 0.989000 \t \t Test: 0.942200\n",
      "Train: 0.998300 \t \t Test: 0.942200\n",
      "Train: 0.999400 \t \t Test: 0.949600\n",
      "Train: 0.998200 \t \t Test: 0.951800\n",
      "Train: 0.986300 \t \t Test: 0.949000\n",
      "\n"
     ]
    }
   ],
   "source": [
    "\n",
    "param[\"kernel\"] = k = Kernel_T.PL4\n",
    "hdcs[k] = hdc = HDC.HD_classifier(param[\"D\"], param[\"nClasses\"], bid)\n",
    "train_acc, test_acc = batched_train(hdc, trainencoded, trainlabels, testencoded, testlabels, param)\n",
    "accs[k] = hdc.test(testencoded, testlabels, k)"
   ]
  },
  {
   "cell_type": "code",
   "execution_count": null,
   "metadata": {
    "scrolled": true
   },
   "outputs": [
    {
     "name": "stderr",
     "output_type": "stream",
     "text": [
      "c:\\program files (x86)\\microsoft visual studio\\shared\\python37_64\\lib\\site-packages\\ipykernel_launcher.py:5: TqdmDeprecationWarning: This function will be removed in tqdm==5.0.0\n",
      "Please use `tqdm.notebook.tqdm` instead of `tqdm.tqdm_notebook`\n",
      "  \"\"\"\n"
     ]
    },
    {
     "data": {
      "application/vnd.jupyter.widget-view+json": {
       "model_id": "f5b14aa1b1404d1a85329e4593d3db20",
       "version_major": 2,
       "version_minor": 0
      },
      "text/plain": [
       "HBox(children=(IntProgress(value=0, description='epochs', max=200, style=ProgressStyle(description_width='init…"
      ]
     },
     "metadata": {},
     "output_type": "display_data"
    },
    {
     "name": "stderr",
     "output_type": "stream",
     "text": [
      "Sep Fitting with configuration: [('one_shot', 0), ('dropout', 0), ('lr', 0.037), ('kernel', <Kernel_T.BT1: 5>)] \n"
     ]
    },
    {
     "name": "stdout",
     "output_type": "stream",
     "text": [
      "Train: 0.795500 \t \t Test: 0.847000\n",
      "Train: 0.918200 \t \t Test: 0.897400\n",
      "Train: 0.935900 \t \t Test: 0.902400\n",
      "Train: 0.936700 \t \t Test: 0.724400\n",
      "Train: 0.938300 \t \t Test: 0.897000\n",
      "Train: 0.937400 \t \t Test: 0.893600\n",
      "Train: 0.947300 \t \t Test: 0.904600\n",
      "Train: 0.949300 \t \t Test: 0.899600\n",
      "Train: 0.946700 \t \t Test: 0.889400\n",
      "Train: 0.947900 \t \t Test: 0.886600\n",
      "Train: 0.937000 \t \t Test: 0.896400\n"
     ]
    }
   ],
   "source": [
    "param[\"kernel\"] = k = Kernel_T.BT1\n",
    "hdcs[k] = hdc = HDC.HD_classifier(param[\"D\"], param[\"nClasses\"], bid)\n",
    "\n",
    "# preprocess data every epoch is not every time economic\n",
    "trainprocessed = hdc.preprocess_data(trainencoded, k)\n",
    "testprocessed = hdc.preprocess_data(testencoded, k)\n",
    "\n",
    "train_acc, test_acc = batched_train(hdc, trainprocessed, trainlabels, testprocessed, testlabels, param)\n",
    "accs[k] = hdc.test(testencoded, testlabels, k)"
   ]
  },
  {
   "cell_type": "code",
   "execution_count": 31,
   "metadata": {},
   "outputs": [
    {
     "name": "stderr",
     "output_type": "stream",
     "text": [
      "c:\\program files (x86)\\microsoft visual studio\\shared\\python37_64\\lib\\site-packages\\ipykernel_launcher.py:5: TqdmDeprecationWarning: This function will be removed in tqdm==5.0.0\n",
      "Please use `tqdm.notebook.tqdm` instead of `tqdm.tqdm_notebook`\n",
      "  \"\"\"\n"
     ]
    },
    {
     "data": {
      "application/vnd.jupyter.widget-view+json": {
       "model_id": "0e2c85175c2948128ec86f3e4f03427c",
       "version_major": 2,
       "version_minor": 0
      },
      "text/plain": [
       "HBox(children=(IntProgress(value=0, description='epochs', max=200, style=ProgressStyle(description_width='init…"
      ]
     },
     "metadata": {},
     "output_type": "display_data"
    },
    {
     "ename": "AssertionError",
     "evalue": "",
     "output_type": "error",
     "traceback": [
      "\u001b[1;31m---------------------------------------------------------------------------\u001b[0m",
      "\u001b[1;31mAssertionError\u001b[0m                            Traceback (most recent call last)",
      "\u001b[1;32m<ipython-input-31-87e789458a94>\u001b[0m in \u001b[0;36m<module>\u001b[1;34m\u001b[0m\n\u001b[0;32m      1\u001b[0m \u001b[0mparam\u001b[0m\u001b[1;33m[\u001b[0m\u001b[1;34m\"kernel\"\u001b[0m\u001b[1;33m]\u001b[0m \u001b[1;33m=\u001b[0m \u001b[0mk\u001b[0m \u001b[1;33m=\u001b[0m \u001b[0mKernel_T\u001b[0m\u001b[1;33m.\u001b[0m\u001b[0mBT3\u001b[0m\u001b[1;33m\u001b[0m\u001b[1;33m\u001b[0m\u001b[0m\n\u001b[0;32m      2\u001b[0m \u001b[0mhdcs\u001b[0m\u001b[1;33m[\u001b[0m\u001b[0mk\u001b[0m\u001b[1;33m]\u001b[0m \u001b[1;33m=\u001b[0m \u001b[0mhdc\u001b[0m \u001b[1;33m=\u001b[0m \u001b[0mHDC\u001b[0m\u001b[1;33m.\u001b[0m\u001b[0mHD_classifier\u001b[0m\u001b[1;33m(\u001b[0m\u001b[0mparam\u001b[0m\u001b[1;33m[\u001b[0m\u001b[1;34m\"D\"\u001b[0m\u001b[1;33m]\u001b[0m\u001b[1;33m,\u001b[0m \u001b[0mparam\u001b[0m\u001b[1;33m[\u001b[0m\u001b[1;34m\"nClasses\"\u001b[0m\u001b[1;33m]\u001b[0m\u001b[1;33m,\u001b[0m \u001b[0mbid\u001b[0m\u001b[1;33m)\u001b[0m\u001b[1;33m\u001b[0m\u001b[1;33m\u001b[0m\u001b[0m\n\u001b[1;32m----> 3\u001b[1;33m \u001b[0mtrain_acc\u001b[0m\u001b[1;33m,\u001b[0m \u001b[0mtest_acc\u001b[0m \u001b[1;33m=\u001b[0m \u001b[0mbatched_train\u001b[0m\u001b[1;33m(\u001b[0m\u001b[0mhdc\u001b[0m\u001b[1;33m,\u001b[0m \u001b[0mtrainencoded\u001b[0m\u001b[1;33m,\u001b[0m \u001b[0mtrainlabels\u001b[0m\u001b[1;33m,\u001b[0m \u001b[0mtestencoded\u001b[0m\u001b[1;33m,\u001b[0m \u001b[0mtestlabels\u001b[0m\u001b[1;33m,\u001b[0m \u001b[0mparam\u001b[0m\u001b[1;33m)\u001b[0m\u001b[1;33m\u001b[0m\u001b[1;33m\u001b[0m\u001b[0m\n\u001b[0m\u001b[0;32m      4\u001b[0m \u001b[0maccs\u001b[0m\u001b[1;33m[\u001b[0m\u001b[0mk\u001b[0m\u001b[1;33m]\u001b[0m \u001b[1;33m=\u001b[0m \u001b[0mhdc\u001b[0m\u001b[1;33m.\u001b[0m\u001b[0mtest\u001b[0m\u001b[1;33m(\u001b[0m\u001b[0mtestencoded\u001b[0m\u001b[1;33m,\u001b[0m \u001b[0mtestlabels\u001b[0m\u001b[1;33m,\u001b[0m \u001b[0mk\u001b[0m\u001b[1;33m)\u001b[0m\u001b[1;33m\u001b[0m\u001b[1;33m\u001b[0m\u001b[0m\n",
      "\u001b[1;32m<ipython-input-7-ec93cf53e408>\u001b[0m in \u001b[0;36mbatched_train\u001b[1;34m(hdc, traindata, trainlabels, testdata, testlabels, param, batch)\u001b[0m\n\u001b[0;32m      4\u001b[0m     \u001b[0mtest_accs\u001b[0m \u001b[1;33m=\u001b[0m \u001b[1;33m[\u001b[0m\u001b[1;33m]\u001b[0m\u001b[1;33m\u001b[0m\u001b[1;33m\u001b[0m\u001b[0m\n\u001b[0;32m      5\u001b[0m     \u001b[1;32mfor\u001b[0m \u001b[0m_\u001b[0m \u001b[1;32min\u001b[0m \u001b[0mtqdm_notebook\u001b[0m\u001b[1;33m(\u001b[0m\u001b[0mrange\u001b[0m\u001b[1;33m(\u001b[0m\u001b[0mparam\u001b[0m\u001b[1;33m[\u001b[0m\u001b[1;34m\"epochs\"\u001b[0m\u001b[1;33m]\u001b[0m\u001b[1;33m)\u001b[0m\u001b[1;33m,\u001b[0m \u001b[0mdesc\u001b[0m\u001b[1;33m=\u001b[0m\u001b[1;34m'epochs'\u001b[0m\u001b[1;33m)\u001b[0m\u001b[1;33m:\u001b[0m\u001b[1;33m\u001b[0m\u001b[1;33m\u001b[0m\u001b[0m\n\u001b[1;32m----> 6\u001b[1;33m         \u001b[0mtrain_acc\u001b[0m\u001b[1;33m,\u001b[0m \u001b[0mtest_acc\u001b[0m \u001b[1;33m=\u001b[0m \u001b[0mtrain_batch\u001b[0m\u001b[1;33m(\u001b[0m\u001b[0mhdc\u001b[0m\u001b[1;33m,\u001b[0m \u001b[0mtraindata\u001b[0m\u001b[1;33m,\u001b[0m \u001b[0mtrainlabels\u001b[0m\u001b[1;33m,\u001b[0m \u001b[0mtestdata\u001b[0m\u001b[1;33m,\u001b[0m \u001b[0mtestlabels\u001b[0m\u001b[1;33m,\u001b[0m \u001b[0mparam\u001b[0m\u001b[1;33m,\u001b[0m \u001b[0mbatch\u001b[0m\u001b[1;33m)\u001b[0m\u001b[1;33m\u001b[0m\u001b[1;33m\u001b[0m\u001b[0m\n\u001b[0m\u001b[0;32m      7\u001b[0m         \u001b[0mtrain_accs\u001b[0m\u001b[1;33m.\u001b[0m\u001b[0mappend\u001b[0m\u001b[1;33m(\u001b[0m\u001b[0mtrain_acc\u001b[0m\u001b[1;33m)\u001b[0m\u001b[1;33m\u001b[0m\u001b[1;33m\u001b[0m\u001b[0m\n\u001b[0;32m      8\u001b[0m         \u001b[0mtest_accs\u001b[0m\u001b[1;33m.\u001b[0m\u001b[0mappend\u001b[0m\u001b[1;33m(\u001b[0m\u001b[0mtest_acc\u001b[0m\u001b[1;33m)\u001b[0m\u001b[1;33m\u001b[0m\u001b[1;33m\u001b[0m\u001b[0m\n",
      "\u001b[1;32m<ipython-input-6-b9b1d5f01583>\u001b[0m in \u001b[0;36mtrain_batch\u001b[1;34m(hdc, traindata, trainlabels, testdata, testlabels, param, batch)\u001b[0m\n\u001b[0;32m      3\u001b[0m     \u001b[0mtrain_accs\u001b[0m \u001b[1;33m=\u001b[0m \u001b[1;33m[\u001b[0m\u001b[1;33m]\u001b[0m\u001b[1;33m\u001b[0m\u001b[1;33m\u001b[0m\u001b[0m\n\u001b[0;32m      4\u001b[0m     \u001b[1;32mfor\u001b[0m \u001b[0mi\u001b[0m \u001b[1;32min\u001b[0m \u001b[0mrange\u001b[0m\u001b[1;33m(\u001b[0m\u001b[0mlen\u001b[0m\u001b[1;33m(\u001b[0m\u001b[0mtraindata\u001b[0m\u001b[1;33m)\u001b[0m\u001b[1;33m//\u001b[0m\u001b[0mbatch\u001b[0m\u001b[1;33m)\u001b[0m\u001b[1;33m:\u001b[0m\u001b[1;33m\u001b[0m\u001b[1;33m\u001b[0m\u001b[0m\n\u001b[1;32m----> 5\u001b[1;33m         \u001b[0mtrain_accs\u001b[0m\u001b[1;33m.\u001b[0m\u001b[0mappend\u001b[0m\u001b[1;33m(\u001b[0m\u001b[0mhdc\u001b[0m\u001b[1;33m.\u001b[0m\u001b[0mfit_sep\u001b[0m\u001b[1;33m(\u001b[0m\u001b[0mtraindata\u001b[0m\u001b[1;33m[\u001b[0m\u001b[0mi\u001b[0m\u001b[1;33m*\u001b[0m\u001b[0mbatch\u001b[0m\u001b[1;33m:\u001b[0m \u001b[1;33m(\u001b[0m\u001b[0mi\u001b[0m\u001b[1;33m+\u001b[0m\u001b[1;36m1\u001b[0m\u001b[1;33m)\u001b[0m\u001b[1;33m*\u001b[0m\u001b[0mbatch\u001b[0m\u001b[1;33m]\u001b[0m\u001b[1;33m,\u001b[0m \u001b[0mtrainlabels\u001b[0m\u001b[1;33m[\u001b[0m\u001b[0mi\u001b[0m\u001b[1;33m*\u001b[0m\u001b[0mbatch\u001b[0m\u001b[1;33m:\u001b[0m \u001b[1;33m(\u001b[0m\u001b[0mi\u001b[0m\u001b[1;33m+\u001b[0m\u001b[1;36m1\u001b[0m\u001b[1;33m)\u001b[0m\u001b[1;33m*\u001b[0m\u001b[0mbatch\u001b[0m\u001b[1;33m]\u001b[0m\u001b[1;33m,\u001b[0m \u001b[0mparam\u001b[0m\u001b[1;33m)\u001b[0m\u001b[1;33m)\u001b[0m\u001b[1;33m\u001b[0m\u001b[1;33m\u001b[0m\u001b[0m\n\u001b[0m\u001b[0;32m      6\u001b[0m     \u001b[0mtrain_acc\u001b[0m \u001b[1;33m=\u001b[0m \u001b[0mnp\u001b[0m\u001b[1;33m.\u001b[0m\u001b[0mmean\u001b[0m\u001b[1;33m(\u001b[0m\u001b[0mnp\u001b[0m\u001b[1;33m.\u001b[0m\u001b[0masarray\u001b[0m\u001b[1;33m(\u001b[0m\u001b[0mtrain_accs\u001b[0m\u001b[1;33m)\u001b[0m\u001b[1;33m)\u001b[0m\u001b[1;33m\u001b[0m\u001b[1;33m\u001b[0m\u001b[0m\n\u001b[0;32m      7\u001b[0m     \u001b[0mtest_acc\u001b[0m \u001b[1;33m=\u001b[0m \u001b[0mhdc\u001b[0m\u001b[1;33m.\u001b[0m\u001b[0mtest\u001b[0m\u001b[1;33m(\u001b[0m\u001b[0mtestdata\u001b[0m\u001b[1;33m,\u001b[0m \u001b[0mtestlabels\u001b[0m\u001b[1;33m,\u001b[0m \u001b[0mparam\u001b[0m\u001b[1;33m[\u001b[0m\u001b[1;34m\"kernel\"\u001b[0m\u001b[1;33m]\u001b[0m\u001b[1;33m)\u001b[0m\u001b[1;33m\u001b[0m\u001b[1;33m\u001b[0m\u001b[0m\n",
      "\u001b[1;32mC:\\HDComputing\\HDwithMetric\\HD_classifier.py\u001b[0m in \u001b[0;36mfit_sep\u001b[1;34m(self, data, label, param)\u001b[0m\n\u001b[0;32m    185\u001b[0m     \u001b[1;32mdef\u001b[0m \u001b[0mfit_sep\u001b[0m\u001b[1;33m(\u001b[0m\u001b[0mself\u001b[0m\u001b[1;33m,\u001b[0m \u001b[0mdata\u001b[0m\u001b[1;33m,\u001b[0m \u001b[0mlabel\u001b[0m\u001b[1;33m,\u001b[0m \u001b[0mparam\u001b[0m \u001b[1;33m=\u001b[0m \u001b[0mConfig\u001b[0m\u001b[1;33m.\u001b[0m\u001b[0mconfig\u001b[0m\u001b[1;33m)\u001b[0m\u001b[1;33m:\u001b[0m\u001b[1;33m\u001b[0m\u001b[1;33m\u001b[0m\u001b[0m\n\u001b[0;32m    186\u001b[0m \u001b[1;33m\u001b[0m\u001b[0m\n\u001b[1;32m--> 187\u001b[1;33m         \u001b[1;32massert\u001b[0m \u001b[0mself\u001b[0m\u001b[1;33m.\u001b[0m\u001b[0mD\u001b[0m \u001b[1;33m==\u001b[0m \u001b[0mdata\u001b[0m\u001b[1;33m.\u001b[0m\u001b[0mshape\u001b[0m\u001b[1;33m[\u001b[0m\u001b[1;36m1\u001b[0m\u001b[1;33m]\u001b[0m\u001b[1;33m\u001b[0m\u001b[1;33m\u001b[0m\u001b[0m\n\u001b[0m\u001b[0;32m    188\u001b[0m \u001b[1;33m\u001b[0m\u001b[0m\n\u001b[0;32m    189\u001b[0m         \u001b[1;31m# Default parameter\u001b[0m\u001b[1;33m\u001b[0m\u001b[1;33m\u001b[0m\u001b[1;33m\u001b[0m\u001b[0m\n",
      "\u001b[1;31mAssertionError\u001b[0m: "
     ]
    }
   ],
   "source": [
    "param[\"kernel\"] = k = Kernel_T.BT3\n",
    "hdcs[k] = hdc = HDC.HD_classifier(param[\"D\"], param[\"nClasses\"], bid)\n",
    "train_acc, test_acc = batched_train(hdc, trainencoded, trainlabels, testencoded, testlabels, param)\n",
    "accs[k] = hdc.test(testencoded, testlabels, k)"
   ]
  },
  {
   "cell_type": "code",
   "execution_count": null,
   "metadata": {},
   "outputs": [],
   "source": [
    "param[\"kernel\"] = k = Kernel_T.BT4\n",
    "hdcs[k] = hdc = HDC.HD_classifier(param[\"D\"], param[\"nClasses\"], bid)\n",
    "train_acc, test_acc = batched_train(hdc, trainencoded, trainlabels, testencoded, testlabels, param)\n",
    "accs[k] = hdc.test(testencoded, testlabels, k)"
   ]
  },
  {
   "cell_type": "code",
   "execution_count": null,
   "metadata": {},
   "outputs": [],
   "source": [
    "np.set_printoptions(threshold=sys.maxsize)"
   ]
  },
  {
   "cell_type": "code",
   "execution_count": null,
   "metadata": {},
   "outputs": [],
   "source": []
  },
  {
   "cell_type": "markdown",
   "metadata": {},
   "source": [
    "# Retrained - automation"
   ]
  },
  {
   "cell_type": "code",
   "execution_count": 17,
   "metadata": {},
   "outputs": [],
   "source": [
    "def retrain_type(param, kernel_t, trainencoded, trainlabels, testencoded, testlabels):\n",
    "    \n",
    "    param[\"kernel\"] = k = kernel_t\n",
    "    hdc = HDC.HD_classifier(param[\"D\"], param[\"nClasses\"], bid)\n",
    "\n",
    "    # preprocess data every epoch is not every time economic\n",
    "    trainprocessed = hdc.preprocess_data(trainencoded, k)\n",
    "    testprocessed = hdc.preprocess_data(testencoded, k)\n",
    "\n",
    "    train_acc, test_acc = batched_train(hdc, trainprocessed, trainlabels, testprocessed, testlabels, param)\n",
    "    \n",
    "    return max(test_acc), hdc.test(testencoded, testlabels, k)"
   ]
  },
  {
   "cell_type": "code",
   "execution_count": 19,
   "metadata": {},
   "outputs": [],
   "source": [
    "def retrain_automation(param):\n",
    "    \n",
    "    hdb = HDB.HD_basis(Config.Generator_T.Vanilla, param)\n",
    "    basis = hdb.getBasis()\n",
    "    bid = hdb.getParam()[\"id\"]\n",
    "    param = hdb.getParam() # Update param with bid\n",
    "    \n",
    "    hde = HDE.HD_encoder(basis)\n",
    "    trainencoded = hde.encodeData(traindata)\n",
    "    testencoded = hde.encodeData(testdata)\n",
    "    \n",
    "    accs = dict()\n",
    "    for k in [Kernel_T.BT1, Kernel_T.BT3, Kernel_T.BT4]: #Kernel_T: #\n",
    "        accs[k] = retrain_type(param, k, trainencoded, trainlabels, testencoded, testlabels)\n",
    "        print(k, accs[k])\n",
    "    return accs"
   ]
  },
  {
   "cell_type": "code",
   "execution_count": null,
   "metadata": {
    "scrolled": false
   },
   "outputs": [
    {
     "name": "stderr",
     "output_type": "stream",
     "text": [
      "Generating vanilla HD basis of shape... "
     ]
    },
    {
     "data": {
      "application/vnd.jupyter.widget-view+json": {
       "model_id": "96c81c4260c84a338c1bb88821842e4f",
       "version_major": 2,
       "version_minor": 0
      },
      "text/plain": [
       "HBox(children=(IntProgress(value=0, description='vectors', max=500, style=ProgressStyle(description_width='ini…"
      ]
     },
     "metadata": {},
     "output_type": "display_data"
    },
    {
     "name": "stdout",
     "output_type": "stream",
     "text": [
      "\n"
     ]
    },
    {
     "name": "stderr",
     "output_type": "stream",
     "text": [
      "(500, 784)\n",
      "Encoding time: 0.04891347885131836 \n",
      "Encoding data of shape (10000, 784)\n"
     ]
    },
    {
     "data": {
      "application/vnd.jupyter.widget-view+json": {
       "model_id": "35b610af60194224a07ce3f865cfb412",
       "version_major": 2,
       "version_minor": 0
      },
      "text/plain": [
       "HBox(children=(IntProgress(value=0, description='samples encoded', max=10000, style=ProgressStyle(description_…"
      ]
     },
     "metadata": {},
     "output_type": "display_data"
    },
    {
     "name": "stdout",
     "output_type": "stream",
     "text": [
      "\n"
     ]
    },
    {
     "name": "stderr",
     "output_type": "stream",
     "text": [
      "Time spent: 1 sec\n",
      "Encoding data of shape (5000, 784)\n"
     ]
    },
    {
     "data": {
      "application/vnd.jupyter.widget-view+json": {
       "model_id": "14f14713c4c6487e9d9b37a699e3a855",
       "version_major": 2,
       "version_minor": 0
      },
      "text/plain": [
       "HBox(children=(IntProgress(value=0, description='samples encoded', max=5000, style=ProgressStyle(description_w…"
      ]
     },
     "metadata": {},
     "output_type": "display_data"
    },
    {
     "name": "stdout",
     "output_type": "stream",
     "text": [
      "\n"
     ]
    },
    {
     "name": "stderr",
     "output_type": "stream",
     "text": [
      "Time spent: 0 sec\n",
      "c:\\program files (x86)\\microsoft visual studio\\shared\\python37_64\\lib\\site-packages\\ipykernel_launcher.py:5: TqdmDeprecationWarning: This function will be removed in tqdm==5.0.0\n",
      "Please use `tqdm.notebook.tqdm` instead of `tqdm.tqdm_notebook`\n",
      "  \"\"\"\n"
     ]
    },
    {
     "data": {
      "application/vnd.jupyter.widget-view+json": {
       "model_id": "f48f021a4284477dba07303e421ec5a3",
       "version_major": 2,
       "version_minor": 0
      },
      "text/plain": [
       "HBox(children=(IntProgress(value=0, description='epochs', max=80, style=ProgressStyle(description_width='initi…"
      ]
     },
     "metadata": {},
     "output_type": "display_data"
    },
    {
     "name": "stderr",
     "output_type": "stream",
     "text": [
      "Sep Fitting with configuration: [('one_shot', 0), ('dropout', 0), ('lr', 0.037), ('kernel', <Kernel_T.BT1: 5>)] \n"
     ]
    },
    {
     "name": "stdout",
     "output_type": "stream",
     "text": [
      "Train: 0.701900 \t \t Test: 0.781000\n",
      "Train: 0.852100 \t \t Test: 0.822000\n",
      "Train: 0.859900 \t \t Test: 0.802000\n",
      "Train: 0.857200 \t \t Test: 0.835000\n",
      "Train: 0.857700 \t \t Test: 0.807400\n",
      "Train: 0.853900 \t \t Test: 0.824400\n",
      "Train: 0.856500 \t \t Test: 0.842000\n",
      "Train: 0.857000 \t \t Test: 0.837000\n",
      "Train: 0.851400 \t \t Test: 0.838200\n",
      "Train: 0.853300 \t \t Test: 0.833800\n",
      "Train: 0.851700 \t \t Test: 0.822200\n",
      "Train: 0.852700 \t \t Test: 0.823800\n",
      "Train: 0.850200 \t \t Test: 0.843800\n",
      "Train: 0.854000 \t \t Test: 0.825200\n",
      "Train: 0.856100 \t \t Test: 0.825400\n",
      "Train: 0.855500 \t \t Test: 0.835000\n",
      "\n",
      "Kernel_T.BT1 (0.8438, 0.8654)\n"
     ]
    },
    {
     "data": {
      "application/vnd.jupyter.widget-view+json": {
       "model_id": "bdb17d9fb42e4165afef437f79fe3386",
       "version_major": 2,
       "version_minor": 0
      },
      "text/plain": [
       "HBox(children=(IntProgress(value=0, description='epochs', max=80, style=ProgressStyle(description_width='initi…"
      ]
     },
     "metadata": {},
     "output_type": "display_data"
    },
    {
     "name": "stderr",
     "output_type": "stream",
     "text": [
      "Sep Fitting with configuration: [('one_shot', 0), ('dropout', 0), ('lr', 0.037), ('kernel', <Kernel_T.BT3: 6>)] \n"
     ]
    },
    {
     "name": "stdout",
     "output_type": "stream",
     "text": [
      "Train: 0.822300 \t \t Test: 0.895600\n",
      "Train: 0.933900 \t \t Test: 0.899000\n",
      "Train: 0.952000 \t \t Test: 0.889400\n",
      "Train: 0.959200 \t \t Test: 0.892000\n",
      "Train: 0.963700 \t \t Test: 0.893800\n",
      "Train: 0.971100 \t \t Test: 0.890600\n",
      "Train: 0.974900 \t \t Test: 0.891600\n",
      "Train: 0.976500 \t \t Test: 0.894200\n",
      "Train: 0.980700 \t \t Test: 0.892000\n",
      "Train: 0.981500 \t \t Test: 0.892600\n",
      "Train: 0.980400 \t \t Test: 0.887200\n",
      "Train: 0.981600 \t \t Test: 0.893200\n",
      "Train: 0.984300 \t \t Test: 0.890800\n",
      "Train: 0.983700 \t \t Test: 0.896600\n",
      "Train: 0.981400 \t \t Test: 0.888800\n",
      "Train: 0.985200 \t \t Test: 0.890200\n",
      "\n",
      "Kernel_T.BT3 (0.9008, 0.8612)\n"
     ]
    },
    {
     "data": {
      "application/vnd.jupyter.widget-view+json": {
       "model_id": "b6531dde2ffb423e9763b30b9b9b4901",
       "version_major": 2,
       "version_minor": 0
      },
      "text/plain": [
       "HBox(children=(IntProgress(value=0, description='epochs', max=80, style=ProgressStyle(description_width='initi…"
      ]
     },
     "metadata": {},
     "output_type": "display_data"
    },
    {
     "name": "stderr",
     "output_type": "stream",
     "text": [
      "Sep Fitting with configuration: [('one_shot', 0), ('dropout', 0), ('lr', 0.037), ('kernel', <Kernel_T.BT4: 7>)] \n"
     ]
    },
    {
     "name": "stdout",
     "output_type": "stream",
     "text": [
      "Train: 0.830200 \t \t Test: 0.881200\n",
      "Train: 0.941400 \t \t Test: 0.901000\n",
      "Train: 0.961800 \t \t Test: 0.888400\n",
      "Train: 0.973700 \t \t Test: 0.897000\n",
      "Train: 0.976700 \t \t Test: 0.889000\n",
      "Train: 0.982800 \t \t Test: 0.884000\n",
      "Train: 0.988100 \t \t Test: 0.891200\n",
      "Train: 0.985500 \t \t Test: 0.892400\n",
      "Train: 0.990500 \t \t Test: 0.894400\n",
      "Train: 0.991200 \t \t Test: 0.901200\n",
      "Train: 0.993700 \t \t Test: 0.894600\n",
      "Train: 0.994300 \t \t Test: 0.897400\n",
      "Train: 0.995100 \t \t Test: 0.897600\n",
      "Train: 0.995600 \t \t Test: 0.895800\n",
      "Train: 0.994700 \t \t Test: 0.891200\n",
      "Train: 0.994900 \t \t Test: 0.893800\n",
      "\n",
      "Kernel_T.BT4 (0.902, 0.8928)\n"
     ]
    },
    {
     "name": "stderr",
     "output_type": "stream",
     "text": [
      "Generating vanilla HD basis of shape... "
     ]
    },
    {
     "data": {
      "application/vnd.jupyter.widget-view+json": {
       "model_id": "e5c8733437234b82a4b85923fe32d52a",
       "version_major": 2,
       "version_minor": 0
      },
      "text/plain": [
       "HBox(children=(IntProgress(value=0, description='vectors', max=1000, style=ProgressStyle(description_width='in…"
      ]
     },
     "metadata": {},
     "output_type": "display_data"
    },
    {
     "name": "stdout",
     "output_type": "stream",
     "text": [
      "\n"
     ]
    },
    {
     "name": "stderr",
     "output_type": "stream",
     "text": [
      "(1000, 784)\n",
      "Encoding time: 0.06410861015319824 \n",
      "Encoding data of shape (10000, 784)\n"
     ]
    },
    {
     "data": {
      "application/vnd.jupyter.widget-view+json": {
       "model_id": "9f84b81d225142cc8a669519dc25431a",
       "version_major": 2,
       "version_minor": 0
      },
      "text/plain": [
       "HBox(children=(IntProgress(value=0, description='samples encoded', max=10000, style=ProgressStyle(description_…"
      ]
     },
     "metadata": {},
     "output_type": "display_data"
    },
    {
     "name": "stdout",
     "output_type": "stream",
     "text": [
      "\n"
     ]
    },
    {
     "name": "stderr",
     "output_type": "stream",
     "text": [
      "Time spent: 1 sec\n",
      "Encoding data of shape (5000, 784)\n"
     ]
    },
    {
     "data": {
      "application/vnd.jupyter.widget-view+json": {
       "model_id": "228f1f558b2747509be48c78424864ed",
       "version_major": 2,
       "version_minor": 0
      },
      "text/plain": [
       "HBox(children=(IntProgress(value=0, description='samples encoded', max=5000, style=ProgressStyle(description_w…"
      ]
     },
     "metadata": {},
     "output_type": "display_data"
    },
    {
     "name": "stdout",
     "output_type": "stream",
     "text": [
      "\n"
     ]
    },
    {
     "name": "stderr",
     "output_type": "stream",
     "text": [
      "Time spent: 0 sec\n"
     ]
    },
    {
     "data": {
      "application/vnd.jupyter.widget-view+json": {
       "model_id": "ef5b6812b33b46c981e82ba964452625",
       "version_major": 2,
       "version_minor": 0
      },
      "text/plain": [
       "HBox(children=(IntProgress(value=0, description='epochs', max=80, style=ProgressStyle(description_width='initi…"
      ]
     },
     "metadata": {},
     "output_type": "display_data"
    },
    {
     "name": "stderr",
     "output_type": "stream",
     "text": [
      "Sep Fitting with configuration: [('one_shot', 0), ('dropout', 0), ('lr', 0.037), ('kernel', <Kernel_T.BT1: 5>)] \n"
     ]
    },
    {
     "name": "stdout",
     "output_type": "stream",
     "text": [
      "Train: 0.734400 \t \t Test: 0.836200\n",
      "Train: 0.914300 \t \t Test: 0.863200\n",
      "Train: 0.930000 \t \t Test: 0.875600\n",
      "Train: 0.936900 \t \t Test: 0.871000\n",
      "Train: 0.938900 \t \t Test: 0.883200\n",
      "Train: 0.941000 \t \t Test: 0.882400\n",
      "Train: 0.943400 \t \t Test: 0.875200\n",
      "Train: 0.946400 \t \t Test: 0.891600\n",
      "Train: 0.945700 \t \t Test: 0.881400\n",
      "Train: 0.950100 \t \t Test: 0.886000\n",
      "Train: 0.947700 \t \t Test: 0.869000\n",
      "Train: 0.947400 \t \t Test: 0.882400\n",
      "Train: 0.946200 \t \t Test: 0.860400\n",
      "Train: 0.946800 \t \t Test: 0.863800\n",
      "Train: 0.948000 \t \t Test: 0.876600\n",
      "Train: 0.946400 \t \t Test: 0.884800\n",
      "\n",
      "Kernel_T.BT1 (0.8928, 0.8874)\n"
     ]
    },
    {
     "data": {
      "application/vnd.jupyter.widget-view+json": {
       "model_id": "391dec5f59064bf093b8f352129c34d1",
       "version_major": 2,
       "version_minor": 0
      },
      "text/plain": [
       "HBox(children=(IntProgress(value=0, description='epochs', max=80, style=ProgressStyle(description_width='initi…"
      ]
     },
     "metadata": {},
     "output_type": "display_data"
    },
    {
     "name": "stderr",
     "output_type": "stream",
     "text": [
      "Sep Fitting with configuration: [('one_shot', 0), ('dropout', 0), ('lr', 0.037), ('kernel', <Kernel_T.BT3: 6>)] \n"
     ]
    },
    {
     "name": "stdout",
     "output_type": "stream",
     "text": [
      "Train: 0.840500 \t \t Test: 0.901800\n",
      "Train: 0.975700 \t \t Test: 0.918400\n",
      "Train: 0.990000 \t \t Test: 0.925800\n"
     ]
    }
   ],
   "source": [
    "accs_D = dict()\n",
    "for D in [500, 1000, 2000]:\n",
    "    param[\"D\"] = D\n",
    "    accs_D[D] = retrain_automation(param)"
   ]
  },
  {
   "cell_type": "code",
   "execution_count": null,
   "metadata": {},
   "outputs": [],
   "source": [
    "for D in accs_D.keys():\n",
    "    print(D)\n",
    "    for k in accs_D[D]:\n",
    "        x, y = accs_D[D][k]\n",
    "        print(y)"
   ]
  },
  {
   "cell_type": "code",
   "execution_count": null,
   "metadata": {},
   "outputs": [],
   "source": []
  },
  {
   "cell_type": "code",
   "execution_count": null,
   "metadata": {},
   "outputs": [],
   "source": []
  }
 ],
 "metadata": {
  "kernelspec": {
   "display_name": "Python 3",
   "language": "python",
   "name": "python3"
  },
  "language_info": {
   "codemirror_mode": {
    "name": "ipython",
    "version": 3
   },
   "file_extension": ".py",
   "mimetype": "text/x-python",
   "name": "python",
   "nbconvert_exporter": "python",
   "pygments_lexer": "ipython3",
   "version": "3.7.4"
  }
 },
 "nbformat": 4,
 "nbformat_minor": 1
}
