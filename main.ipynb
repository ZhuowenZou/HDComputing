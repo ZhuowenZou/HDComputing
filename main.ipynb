{
 "cells": [
  {
   "cell_type": "code",
   "execution_count": 1,
   "metadata": {},
   "outputs": [],
   "source": [
    "# Changed code relative to others:\n",
    "# encoding no longer use cos sin (no noise)\n",
    "# dump log now dump both pickle and txt"
   ]
  },
  {
   "cell_type": "code",
   "execution_count": 2,
   "metadata": {},
   "outputs": [],
   "source": [
    "%load_ext autoreload\n",
    "%autoreload 2"
   ]
  },
  {
   "cell_type": "code",
   "execution_count": 3,
   "metadata": {},
   "outputs": [],
   "source": [
    "import sklearn\n",
    "from sklearn.discriminant_analysis import LinearDiscriminantAnalysis\n",
    "from sklearn.decomposition import PCA\n",
    "import time\n",
    "import sys\n",
    "import math\n",
    "import numpy as np\n",
    "import random\n",
    "import joblib\n",
    "from tqdm import tqdm_notebook\n",
    "\n",
    "import Config\n",
    "import Dataloader as DL\n",
    "import HD_basis as HDB\n",
    "import HD_encoder as HDE\n",
    "import HD_classifier as HDC\n"
   ]
  },
  {
   "cell_type": "code",
   "execution_count": 4,
   "metadata": {},
   "outputs": [],
   "source": [
    "# train data \n",
    "def train(hdc, traindata, trainlabels, testdata, testlabels, param = Config.config):\n",
    "    train_acc = []\n",
    "    test_acc = []\n",
    "    for _ in tqdm_notebook(range(param[\"epochs\"]), desc='epochs'):\n",
    "        train_acc.append(hdc.fit(traindata, trainlabels, param))\n",
    "        test_acc.append(hdc.test(testdata, testlabels))\n",
    "        if len(train_acc) % 5 == 0:\n",
    "            print(\"Train: %f \\t \\t Test: %f\"%(train_acc[-1], test_acc[-1]))\n",
    "        if train_acc[-1] == 1:\n",
    "            print(\"Train: %f \\t \\t Test: %f\"%(train_acc[-1], test_acc[-1]))\n",
    "            break\n",
    "    return np.asarray(train_acc), np.asarray(test_acc)"
   ]
  },
  {
   "cell_type": "code",
   "execution_count": 34,
   "metadata": {},
   "outputs": [],
   "source": [
    "def dump_log(param, train_acc, test_acc, filename):\n",
    "    joblib.dump((param, train_acc, test_acc), open(filename+\".pkl\", \"wb\"), compress=True)\n",
    "    file = open(filename+\".txt\", \"w\")\n",
    "    file.write(\"Max train: %.2f \\tMax test: %.2f \\n\"%(train_acc*100, test_acc*100))\n",
    "    file.write(str(param))\n",
    "    file.close()"
   ]
  },
  {
   "cell_type": "code",
   "execution_count": 6,
   "metadata": {},
   "outputs": [
    {
     "name": "stderr",
     "output_type": "stream",
     "text": [
      "Loading dataset MNIST from MNIST\n",
      "Loading train data... train data of shape (60000, 784) loaded\n",
      "Loading test data...  test  data of shape (10000, 784) loaded\n",
      "Data Loaded. Num of features = 784 Num of Classes = 10"
     ]
    }
   ],
   "source": [
    "dl = DL.Dataloader()\n",
    "nFeatures, nClasses, traindata, trainlabels, testdata, testlabels = dl.getParam()\n",
    "traindata = traindata[:20000]"
   ]
  },
  {
   "cell_type": "code",
   "execution_count": 7,
   "metadata": {},
   "outputs": [
    {
     "name": "stdout",
     "output_type": "stream",
     "text": [
      "{'data_location': '../dataset/', 'directory': 'MNIST', 'dataset': 'MNIST', 'D': 5000, 'vector': 'Gaussian', 'mu': 0, 'sigma': 1, 'binarize': 0, 'lr': 0.037, 'sparse': 0, 's': 0.1, 'binaryModel': 0, 'width': None, 'height': None, 'nLayers': 5, 'uniform_dim': 1, 'uniform_ker': 1, 'dArr': None, 'k': 3, 'kArr': None, 'one_shot': 0, 'data_percentages': [1.0, 0.01, 0.02, 0.05, 0.1, 0.2, 0.5], 'train_percent': 1, 'dropout': 0, 'drop_percentages': [0, 0.1, 0.2, 0.5], 'dropout_rate': 0, 'update_type': <Update_T.FULL: 1>, 'iter_per_trial': 3, 'iter_per_encoding': 5, 'epochs': 100, 'nFeatures': 784, 'nClasses': 10}\n"
     ]
    }
   ],
   "source": [
    "param = Config.config\n",
    "param[\"nFeatures\"] = nFeatures\n",
    "param[\"nClasses\"] = nClasses\n",
    "print(param)"
   ]
  },
  {
   "cell_type": "code",
   "execution_count": null,
   "metadata": {},
   "outputs": [],
   "source": []
  },
  {
   "cell_type": "code",
   "execution_count": null,
   "metadata": {},
   "outputs": [],
   "source": [
    "################# VANILLA #################\n",
    "hdb = HDB.HD_basis(HDB.Generator.Vanilla, param)\n",
    "basis = hdb.getBasis()\n",
    "bid = hdb.getParam()[\"id\"]\n",
    "# Update param with bid\n",
    "param = hdb.getParam()\n",
    "print(bid)"
   ]
  },
  {
   "cell_type": "code",
   "execution_count": null,
   "metadata": {},
   "outputs": [],
   "source": [
    "# Retrieve info upto basis generator, given correct bid\n",
    "#bid = 6679\n",
    "#basis, param = HDB.loadBasis(\"base_%d.pkl\"%bid)"
   ]
  },
  {
   "cell_type": "code",
   "execution_count": null,
   "metadata": {},
   "outputs": [],
   "source": [
    "hde = HDE.HD_encoder(basis)\n",
    "\n",
    "trainencoded = hde.encodeData(traindata)\n",
    "#HDE.saveEncoded(trainencoded, trainlabels, bid, \"train\")\n",
    "\n",
    "testencoded = hde.encodeData(testdata)\n",
    "#HDE.saveEncoded(testencoded, testlabels, bid, \"test\")"
   ]
  },
  {
   "cell_type": "code",
   "execution_count": null,
   "metadata": {},
   "outputs": [],
   "source": [
    "# Retrieve info upto encoder, given correct bid\n",
    "#bid = 6679\n",
    "#basis, param = HDB.loadBasis(\"base_%d.pkl\"%bid)\n",
    "#trainencoded, trainlabels = HDE.loadEncoded(\"encoded_%d_train.pkl\"%bid)\n",
    "#testencoded, testlabels = HDE.loadEncoded(\"encoded_%d_test.pkl\"%bid)"
   ]
  },
  {
   "cell_type": "code",
   "execution_count": null,
   "metadata": {
    "scrolled": true
   },
   "outputs": [],
   "source": [
    "# Should have 90%\n",
    "hdc = HDC.HD_classifier(param[\"D\"], param[\"nClasses\"], bid)\n",
    "train_acc, test_acc = train(hdc, trainencoded, trainlabels, testencoded, testlabels)\n",
    "dump_log(param, max(train_acc), max(test_acc), \"Baseline_\"+param[\"id\"])"
   ]
  },
  {
   "cell_type": "code",
   "execution_count": 8,
   "metadata": {},
   "outputs": [
    {
     "name": "stdout",
     "output_type": "stream",
     "text": [
      "{'data_location': '../dataset/', 'directory': 'MNIST', 'dataset': 'MNIST', 'D': 5000, 'vector': 'Gaussian', 'mu': 0, 'sigma': 1, 'binarize': 0, 'lr': 0.037, 'sparse': 0, 's': 0.1, 'binaryModel': 0, 'width': None, 'height': None, 'nLayers': 5, 'uniform_dim': 1, 'uniform_ker': 1, 'dArr': None, 'k': 3, 'kArr': None, 'one_shot': 0, 'data_percentages': [1.0, 0.01, 0.02, 0.05, 0.1, 0.2, 0.5], 'train_percent': 1, 'dropout': 0, 'drop_percentages': [0, 0.1, 0.2, 0.5], 'dropout_rate': 0, 'update_type': <Update_T.FULL: 1>, 'iter_per_trial': 3, 'iter_per_encoding': 5, 'epochs': 100, 'nFeatures': 784, 'nClasses': 10}\n"
     ]
    }
   ],
   "source": [
    "################# BAKLAVA #################\n",
    "\n",
    "# Some manuel tweaking \n",
    "print(param)"
   ]
  },
  {
   "cell_type": "code",
   "execution_count": 9,
   "metadata": {
    "scrolled": false
   },
   "outputs": [
    {
     "name": "stderr",
     "output_type": "stream",
     "text": [
      "Configuring baklava HD basis of 5 layers:\n"
     ]
    },
    {
     "name": "stdout",
     "output_type": "stream",
     "text": [
      "(28, 28, 1000)\n",
      "(28, 28, 1000)\n",
      "(28, 28, 1000)\n"
     ]
    },
    {
     "name": "stderr",
     "output_type": "stream",
     "text": [
      "Layer No.0: \t 1000 dimension vector with kernel of size 3\n",
      "Layer No.1: \t 1000 dimension vector with kernel of size 3\n",
      "Layer No.2: \t 1000 dimension vector with kernel of size 3\n",
      "Layer No.3: \t 1000 dimension vector with kernel of size 3\n",
      "Layer No.4: \t 1000 dimension vector with kernel of size 3\n"
     ]
    },
    {
     "name": "stdout",
     "output_type": "stream",
     "text": [
      "(28, 28, 1000)\n",
      "(28, 28, 1000)\n"
     ]
    },
    {
     "name": "stderr",
     "output_type": "stream",
     "text": [
      "Encoding time: 0.2333240509033203 \n",
      "Dumping basis into file: base_8353.pkl \n"
     ]
    },
    {
     "name": "stdout",
     "output_type": "stream",
     "text": [
      "8353\n"
     ]
    }
   ],
   "source": [
    "#param = Config.config\n",
    "#param[\"nFeatures\"] = nFeatures\n",
    "#param[\"nClasses\"] = nClasses\n",
    "\n",
    "hdb = HDB.HD_basis(HDB.Generator.Baklava, param)\n",
    "basis = hdb.getBasis()\n",
    "bid = hdb.getParam()[\"id\"]\n",
    "# Update param with bid\n",
    "param = hdb.getParam()\n",
    "print(bid)"
   ]
  },
  {
   "cell_type": "code",
   "execution_count": 10,
   "metadata": {},
   "outputs": [],
   "source": [
    "# Retrieve info upto basis generator, given correct bid\n",
    "#bid = 2775\n",
    "#basis, param = HDB.loadBasis(\"base_%d.pkl\"%bid)"
   ]
  },
  {
   "cell_type": "code",
   "execution_count": 11,
   "metadata": {},
   "outputs": [
    {
     "name": "stderr",
     "output_type": "stream",
     "text": [
      "Encoding data of shape (20000, 784)\n"
     ]
    },
    {
     "data": {
      "application/vnd.jupyter.widget-view+json": {
       "model_id": "8baebcd8f5734409adb0c6504baef772",
       "version_major": 2,
       "version_minor": 0
      },
      "text/plain": [
       "HBox(children=(IntProgress(value=0, description='samples encoded', max=20000, style=ProgressStyle(description_…"
      ]
     },
     "metadata": {},
     "output_type": "display_data"
    },
    {
     "name": "stdout",
     "output_type": "stream",
     "text": [
      "\n"
     ]
    },
    {
     "name": "stderr",
     "output_type": "stream",
     "text": [
      "Time spent: 31 sec\n",
      "Encoding data of shape (10000, 784)\n"
     ]
    },
    {
     "data": {
      "application/vnd.jupyter.widget-view+json": {
       "model_id": "c14af99c7ded479ea71b74e40046aabd",
       "version_major": 2,
       "version_minor": 0
      },
      "text/plain": [
       "HBox(children=(IntProgress(value=0, description='samples encoded', max=10000, style=ProgressStyle(description_…"
      ]
     },
     "metadata": {},
     "output_type": "display_data"
    },
    {
     "name": "stdout",
     "output_type": "stream",
     "text": [
      "\n"
     ]
    },
    {
     "name": "stderr",
     "output_type": "stream",
     "text": [
      "Time spent: 15 sec\n"
     ]
    }
   ],
   "source": [
    "hde = HDE.HD_encoder(basis, False)\n",
    "\n",
    "trainencoded = hde.encodeData(traindata)\n",
    "#DE.saveEncoded(trainencoded, trainlabels, bid, \"train\")\n",
    "\n",
    "testencoded = hde.encodeData(testdata)\n",
    "#HDE.saveEncoded(testencoded, testlabels, bid, \"test\")"
   ]
  },
  {
   "cell_type": "code",
   "execution_count": 12,
   "metadata": {},
   "outputs": [
    {
     "name": "stderr",
     "output_type": "stream",
     "text": [
      "c:\\program files (x86)\\microsoft visual studio\\shared\\python37_64\\lib\\site-packages\\ipykernel_launcher.py:5: TqdmDeprecationWarning: This function will be removed in tqdm==5.0.0\n",
      "Please use `tqdm.notebook.tqdm` instead of `tqdm.tqdm_notebook`\n",
      "  \"\"\"\n"
     ]
    },
    {
     "data": {
      "application/vnd.jupyter.widget-view+json": {
       "model_id": "dcd7b86fd9c743b2984795bf4ed4e7b0",
       "version_major": 2,
       "version_minor": 0
      },
      "text/plain": [
       "HBox(children=(IntProgress(value=0, description='epochs', style=ProgressStyle(description_width='initial')), H…"
      ]
     },
     "metadata": {},
     "output_type": "display_data"
    },
    {
     "name": "stderr",
     "output_type": "stream",
     "text": [
      "Fitting with configuration: [('one_shot', 0), ('dropout', 0), ('lr', 0.037)] \n"
     ]
    },
    {
     "name": "stdout",
     "output_type": "stream",
     "text": [
      "Train: 0.995300 \t \t Test: 0.966600\n",
      "Train: 0.999150 \t \t Test: 0.969600\n",
      "Train: 0.999650 \t \t Test: 0.968900\n",
      "Train: 1.000000 \t \t Test: 0.970400\n"
     ]
    }
   ],
   "source": [
    "# Should have 96%\n",
    "hdc = HDC.HD_classifier(param[\"D\"], param[\"nClasses\"], bid)\n",
    "train_acc, test_acc = train(hdc, trainencoded, trainlabels, testencoded, testlabels)"
   ]
  },
  {
   "cell_type": "code",
   "execution_count": 13,
   "metadata": {},
   "outputs": [],
   "source": [
    "param_to_save = dict()\n",
    "param_to_save[\"D\"] = param[\"D\"]\n",
    "param_to_save[\"nLayers\"] = param[\"nLayers\"]\n",
    "param_to_save[\"uniform_dim\"] = param[\"uniform_dim\"]\n",
    "param_to_save[\"uniform_ker\"] = param[\"uniform_ker\"]\n",
    "param_to_save['dArr'] = param['dArr']\n",
    "param_to_save['k'] = param['k']\n",
    "param_to_save['kArr'] = param['kArr'] \n",
    "dump_log(param_to_save, max(train_acc), max(test_acc), \"ConvHD_\"+param[\"id\"])"
   ]
  },
  {
   "cell_type": "code",
   "execution_count": 8,
   "metadata": {},
   "outputs": [],
   "source": [
    "################# BAKLAVA, but in Suit #################"
   ]
  },
  {
   "cell_type": "code",
   "execution_count": 13,
   "metadata": {},
   "outputs": [],
   "source": [
    "def Baklava_suit(param):\n",
    "    \n",
    "    hdb = HDB.HD_basis(HDB.Generator.Baklava, param)\n",
    "    basis = hdb.getBasis()\n",
    "    bid = hdb.getParam()[\"id\"]\n",
    "    # Update param with bid\n",
    "    param = hdb.getParam()\n",
    "    print(\"Assigned BID: \", bid)\n",
    "\n",
    "    hde = HDE.HD_encoder(basis, False)\n",
    "\n",
    "    trainencoded = hde.encodeData(traindata)\n",
    "    testencoded = hde.encodeData(testdata)\n",
    "\n",
    "    hdc = HDC.HD_classifier(param[\"D\"], param[\"nClasses\"], bid)\n",
    "    train_acc, test_acc = train(hdc, trainencoded, trainlabels, testencoded, testlabels)\n",
    "\n",
    "    return train_acc, test_acc"
   ]
  },
  {
   "cell_type": "code",
   "execution_count": 14,
   "metadata": {},
   "outputs": [],
   "source": [
    "def extract_bak_param(param):\n",
    "    param_to_save = dict()\n",
    "    param_to_save[\"D\"] = param[\"D\"]\n",
    "    param_to_save[\"nLayers\"] = param[\"nLayers\"]\n",
    "    param_to_save[\"uniform_dim\"] = param[\"uniform_dim\"]\n",
    "    param_to_save[\"uniform_ker\"] = param[\"uniform_ker\"]\n",
    "    param_to_save['dArr'] = param['dArr']\n",
    "    param_to_save['k'] = param['k']\n",
    "    param_to_save['kArr'] = param['kArr'] \n",
    "    return param_to_save"
   ]
  },
  {
   "cell_type": "code",
   "execution_count": 43,
   "metadata": {},
   "outputs": [],
   "source": [
    "# l_, r_ : min (inclusive) and max (exclusive)\n",
    "# n: number of layer; k: kernel size; d: layer dimension; \n",
    "# k_dist: probability distribution, length should be r_k - l_k\n",
    "# Dimension are evenly distributed towards nLayers \n",
    "\n",
    "# Return randomized number of layer and array of kernel size \n",
    "def Bak_config_randomizer(l_n, r_n, l_k, r_k, k_dist = None):\n",
    "    nLayers = np.random.randint(r_n - l_n) + l_n\n",
    "    if k_dist is None:\n",
    "        kArr = np.random.randint(r_k - l_k, size = nLayers) + l_k\n",
    "    else:\n",
    "        kArr = np.random.choice(r_k - l_k, size = nLayers, p = k_dist) + l_k\n",
    "    return nLayers, kArr\n",
    "    "
   ]
  },
  {
   "cell_type": "code",
   "execution_count": 44,
   "metadata": {},
   "outputs": [],
   "source": [
    "param[\"uniform_dim\"] = 1\n",
    "param['dArr'] = None\n",
    "param[\"uniform_ker\"] = 0"
   ]
  },
  {
   "cell_type": "code",
   "execution_count": 45,
   "metadata": {
    "scrolled": false
   },
   "outputs": [
    {
     "name": "stdout",
     "output_type": "stream",
     "text": [
      "{'D': 5000, 'nLayers': 4, 'uniform_dim': 1, 'uniform_ker': 0, 'dArr': None, 'k': array([8, 7, 3, 6, 7, 4, 1, 4, 3]), 'kArr': array([6, 3, 4, 5])}\n",
      "(28, 28, 1250)\n",
      "(28, 28, 1250)\n",
      "(28, 28, 1250)\n",
      "(28, 28, 1250)\n"
     ]
    },
    {
     "name": "stderr",
     "output_type": "stream",
     "text": [
      "Configuring baklava HD basis of 4 layers:\n",
      "Layer No.0: \t 1250 dimension vector with kernel of size 6\n",
      "Layer No.1: \t 1250 dimension vector with kernel of size 3\n",
      "Layer No.2: \t 1250 dimension vector with kernel of size 4\n",
      "Layer No.3: \t 1250 dimension vector with kernel of size 5\n",
      "Encoding time: 0.20990490913391113 \n",
      "Dumping basis into file: base_3591.pkl \n"
     ]
    },
    {
     "name": "stdout",
     "output_type": "stream",
     "text": [
      "Assigned BID:  3591\n"
     ]
    },
    {
     "name": "stderr",
     "output_type": "stream",
     "text": [
      "Encoding data of shape (20000, 784)\n"
     ]
    },
    {
     "data": {
      "application/vnd.jupyter.widget-view+json": {
       "model_id": "2457a4addf854daca6da3a828daa2538",
       "version_major": 2,
       "version_minor": 0
      },
      "text/plain": [
       "HBox(children=(IntProgress(value=0, description='samples encoded', max=20000, style=ProgressStyle(description_…"
      ]
     },
     "metadata": {},
     "output_type": "display_data"
    },
    {
     "name": "stdout",
     "output_type": "stream",
     "text": [
      "\n"
     ]
    },
    {
     "name": "stderr",
     "output_type": "stream",
     "text": [
      "Time spent: 30 sec\n",
      "Encoding data of shape (10000, 784)\n"
     ]
    },
    {
     "data": {
      "application/vnd.jupyter.widget-view+json": {
       "model_id": "797558f0e4394988bb0c8df7339ff270",
       "version_major": 2,
       "version_minor": 0
      },
      "text/plain": [
       "HBox(children=(IntProgress(value=0, description='samples encoded', max=10000, style=ProgressStyle(description_…"
      ]
     },
     "metadata": {},
     "output_type": "display_data"
    },
    {
     "name": "stdout",
     "output_type": "stream",
     "text": [
      "\n"
     ]
    },
    {
     "name": "stderr",
     "output_type": "stream",
     "text": [
      "Time spent: 14 sec\n",
      "c:\\program files (x86)\\microsoft visual studio\\shared\\python37_64\\lib\\site-packages\\ipykernel_launcher.py:5: TqdmDeprecationWarning: This function will be removed in tqdm==5.0.0\n",
      "Please use `tqdm.notebook.tqdm` instead of `tqdm.tqdm_notebook`\n",
      "  \"\"\"\n"
     ]
    },
    {
     "data": {
      "application/vnd.jupyter.widget-view+json": {
       "model_id": "e406562d261b4a41817b12cbb9471313",
       "version_major": 2,
       "version_minor": 0
      },
      "text/plain": [
       "HBox(children=(IntProgress(value=0, description='epochs', style=ProgressStyle(description_width='initial')), H…"
      ]
     },
     "metadata": {},
     "output_type": "display_data"
    },
    {
     "name": "stderr",
     "output_type": "stream",
     "text": [
      "Fitting with configuration: [('one_shot', 0), ('dropout', 0), ('lr', 0.037)] \n"
     ]
    },
    {
     "name": "stdout",
     "output_type": "stream",
     "text": [
      "Train: 0.994750 \t \t Test: 0.969400\n",
      "Train: 0.999600 \t \t Test: 0.972400\n",
      "Train: 1.000000 \t \t Test: 0.972300\n",
      "(28, 28, 1250)\n",
      "(28, 28, 1250)\n",
      "(28, 28, 1250)\n",
      "(28, 28, 1250)\n"
     ]
    },
    {
     "name": "stderr",
     "output_type": "stream",
     "text": [
      "Configuring baklava HD basis of 4 layers:\n",
      "Layer No.0: \t 1250 dimension vector with kernel of size 6\n",
      "Layer No.1: \t 1250 dimension vector with kernel of size 3\n",
      "Layer No.2: \t 1250 dimension vector with kernel of size 4\n",
      "Layer No.3: \t 1250 dimension vector with kernel of size 5\n",
      "Encoding time: 0.20844078063964844 \n",
      "Dumping basis into file: base_3655.pkl \n"
     ]
    },
    {
     "name": "stdout",
     "output_type": "stream",
     "text": [
      "Assigned BID:  3655\n"
     ]
    },
    {
     "name": "stderr",
     "output_type": "stream",
     "text": [
      "Encoding data of shape (20000, 784)\n"
     ]
    },
    {
     "data": {
      "application/vnd.jupyter.widget-view+json": {
       "model_id": "7ef945d40a574f7692c2f14ba325b054",
       "version_major": 2,
       "version_minor": 0
      },
      "text/plain": [
       "HBox(children=(IntProgress(value=0, description='samples encoded', max=20000, style=ProgressStyle(description_…"
      ]
     },
     "metadata": {},
     "output_type": "display_data"
    },
    {
     "name": "stdout",
     "output_type": "stream",
     "text": [
      "\n"
     ]
    },
    {
     "name": "stderr",
     "output_type": "stream",
     "text": [
      "Time spent: 30 sec\n",
      "Encoding data of shape (10000, 784)\n"
     ]
    },
    {
     "data": {
      "application/vnd.jupyter.widget-view+json": {
       "model_id": "07e595bf083b4936bf301ad6dac67244",
       "version_major": 2,
       "version_minor": 0
      },
      "text/plain": [
       "HBox(children=(IntProgress(value=0, description='samples encoded', max=10000, style=ProgressStyle(description_…"
      ]
     },
     "metadata": {},
     "output_type": "display_data"
    },
    {
     "name": "stdout",
     "output_type": "stream",
     "text": [
      "\n"
     ]
    },
    {
     "name": "stderr",
     "output_type": "stream",
     "text": [
      "Time spent: 16 sec\n"
     ]
    },
    {
     "data": {
      "application/vnd.jupyter.widget-view+json": {
       "model_id": "a639486f293242e3947fb783be16151f",
       "version_major": 2,
       "version_minor": 0
      },
      "text/plain": [
       "HBox(children=(IntProgress(value=0, description='epochs', style=ProgressStyle(description_width='initial')), H…"
      ]
     },
     "metadata": {},
     "output_type": "display_data"
    },
    {
     "name": "stderr",
     "output_type": "stream",
     "text": [
      "Fitting with configuration: [('one_shot', 0), ('dropout', 0), ('lr', 0.037)] \n"
     ]
    },
    {
     "name": "stdout",
     "output_type": "stream",
     "text": [
      "Train: 0.995550 \t \t Test: 0.966800\n",
      "Train: 0.998950 \t \t Test: 0.972800\n",
      "Train: 0.999900 \t \t Test: 0.971700\n",
      "Train: 1.000000 \t \t Test: 0.972200\n",
      "(28, 28, 1250)\n",
      "(28, 28, 1250)\n",
      "(28, 28, 1250)\n"
     ]
    },
    {
     "name": "stderr",
     "output_type": "stream",
     "text": [
      "Configuring baklava HD basis of 4 layers:\n",
      "Layer No.0: \t 1250 dimension vector with kernel of size 6\n",
      "Layer No.1: \t 1250 dimension vector with kernel of size 3\n",
      "Layer No.2: \t 1250 dimension vector with kernel of size 4\n",
      "Layer No.3: \t 1250 dimension vector with kernel of size 5\n"
     ]
    },
    {
     "name": "stdout",
     "output_type": "stream",
     "text": [
      "(28, 28, 1250)\n"
     ]
    },
    {
     "name": "stderr",
     "output_type": "stream",
     "text": [
      "Encoding time: 0.22293710708618164 \n",
      "Dumping basis into file: base_3726.pkl \n"
     ]
    },
    {
     "name": "stdout",
     "output_type": "stream",
     "text": [
      "Assigned BID:  3726\n"
     ]
    },
    {
     "name": "stderr",
     "output_type": "stream",
     "text": [
      "Encoding data of shape (20000, 784)\n"
     ]
    },
    {
     "data": {
      "application/vnd.jupyter.widget-view+json": {
       "model_id": "2e39e59841e94c51b849173df8f63f02",
       "version_major": 2,
       "version_minor": 0
      },
      "text/plain": [
       "HBox(children=(IntProgress(value=0, description='samples encoded', max=20000, style=ProgressStyle(description_…"
      ]
     },
     "metadata": {},
     "output_type": "display_data"
    },
    {
     "name": "stdout",
     "output_type": "stream",
     "text": [
      "\n"
     ]
    },
    {
     "name": "stderr",
     "output_type": "stream",
     "text": [
      "Time spent: 30 sec\n",
      "Encoding data of shape (10000, 784)\n"
     ]
    },
    {
     "data": {
      "application/vnd.jupyter.widget-view+json": {
       "model_id": "4225e7a523b148548431c6a20b4f13b4",
       "version_major": 2,
       "version_minor": 0
      },
      "text/plain": [
       "HBox(children=(IntProgress(value=0, description='samples encoded', max=10000, style=ProgressStyle(description_…"
      ]
     },
     "metadata": {},
     "output_type": "display_data"
    },
    {
     "name": "stdout",
     "output_type": "stream",
     "text": [
      "\n"
     ]
    },
    {
     "name": "stderr",
     "output_type": "stream",
     "text": [
      "Time spent: 15 sec\n"
     ]
    },
    {
     "data": {
      "application/vnd.jupyter.widget-view+json": {
       "model_id": "ead920b4ac7b4a808f70d87989e07ccb",
       "version_major": 2,
       "version_minor": 0
      },
      "text/plain": [
       "HBox(children=(IntProgress(value=0, description='epochs', style=ProgressStyle(description_width='initial')), H…"
      ]
     },
     "metadata": {},
     "output_type": "display_data"
    },
    {
     "name": "stderr",
     "output_type": "stream",
     "text": [
      "Fitting with configuration: [('one_shot', 0), ('dropout', 0), ('lr', 0.037)] \n"
     ]
    },
    {
     "name": "stdout",
     "output_type": "stream",
     "text": [
      "Train: 0.995100 \t \t Test: 0.969900\n",
      "Train: 0.999100 \t \t Test: 0.970500\n",
      "Train: 0.999700 \t \t Test: 0.971700\n",
      "Train: 1.000000 \t \t Test: 0.972500\n",
      "{'D': 5000, 'nLayers': 5, 'uniform_dim': 1, 'uniform_ker': 0, 'dArr': [1250, 1250, 1250, 1250], 'k': array([8, 7, 3, 6, 7, 4, 1, 4, 3]), 'kArr': array([1, 5, 6, 6, 3])}\n",
      "(28, 28, 1000)\n",
      "(28, 28, 1000)\n"
     ]
    },
    {
     "name": "stderr",
     "output_type": "stream",
     "text": [
      "Configuring baklava HD basis of 5 layers:\n",
      "Layer No.0: \t 1000 dimension vector with kernel of size 1\n",
      "Layer No.1: \t 1000 dimension vector with kernel of size 5\n",
      "Layer No.2: \t 1000 dimension vector with kernel of size 6\n"
     ]
    },
    {
     "name": "stdout",
     "output_type": "stream",
     "text": [
      "(28, 28, 1000)\n",
      "(28, 28, 1000)\n",
      "(28, 28, 1000)\n"
     ]
    },
    {
     "name": "stderr",
     "output_type": "stream",
     "text": [
      "Layer No.3: \t 1000 dimension vector with kernel of size 6\n",
      "Layer No.4: \t 1000 dimension vector with kernel of size 3\n",
      "Encoding time: 0.3067450523376465 \n",
      "Dumping basis into file: base_3799.pkl \n"
     ]
    },
    {
     "name": "stdout",
     "output_type": "stream",
     "text": [
      "Assigned BID:  3799\n"
     ]
    },
    {
     "name": "stderr",
     "output_type": "stream",
     "text": [
      "Encoding data of shape (20000, 784)\n"
     ]
    },
    {
     "data": {
      "application/vnd.jupyter.widget-view+json": {
       "model_id": "62d99e5331ea43f6abcb80ad9e66b958",
       "version_major": 2,
       "version_minor": 0
      },
      "text/plain": [
       "HBox(children=(IntProgress(value=0, description='samples encoded', max=20000, style=ProgressStyle(description_…"
      ]
     },
     "metadata": {},
     "output_type": "display_data"
    },
    {
     "name": "stdout",
     "output_type": "stream",
     "text": [
      "\n"
     ]
    },
    {
     "name": "stderr",
     "output_type": "stream",
     "text": [
      "Time spent: 30 sec\n",
      "Encoding data of shape (10000, 784)\n"
     ]
    },
    {
     "data": {
      "application/vnd.jupyter.widget-view+json": {
       "model_id": "e093b7b96cbc408d9339f98fbc9dc8ac",
       "version_major": 2,
       "version_minor": 0
      },
      "text/plain": [
       "HBox(children=(IntProgress(value=0, description='samples encoded', max=10000, style=ProgressStyle(description_…"
      ]
     },
     "metadata": {},
     "output_type": "display_data"
    },
    {
     "name": "stdout",
     "output_type": "stream",
     "text": [
      "\n"
     ]
    },
    {
     "name": "stderr",
     "output_type": "stream",
     "text": [
      "Time spent: 16 sec\n"
     ]
    },
    {
     "data": {
      "application/vnd.jupyter.widget-view+json": {
       "model_id": "27e18da16d344cc2aef45ba2e9e20fa4",
       "version_major": 2,
       "version_minor": 0
      },
      "text/plain": [
       "HBox(children=(IntProgress(value=0, description='epochs', style=ProgressStyle(description_width='initial')), H…"
      ]
     },
     "metadata": {},
     "output_type": "display_data"
    },
    {
     "name": "stderr",
     "output_type": "stream",
     "text": [
      "Fitting with configuration: [('one_shot', 0), ('dropout', 0), ('lr', 0.037)] \n"
     ]
    },
    {
     "name": "stdout",
     "output_type": "stream",
     "text": [
      "Train: 0.993250 \t \t Test: 0.964900\n",
      "Train: 0.998200 \t \t Test: 0.968800\n",
      "Train: 0.999900 \t \t Test: 0.968400\n",
      "Train: 1.000000 \t \t Test: 0.968200\n",
      "(28, 28, 1000)\n",
      "(28, 28, 1000)\n"
     ]
    },
    {
     "name": "stderr",
     "output_type": "stream",
     "text": [
      "Configuring baklava HD basis of 5 layers:\n",
      "Layer No.0: \t 1000 dimension vector with kernel of size 1\n",
      "Layer No.1: \t 1000 dimension vector with kernel of size 5\n",
      "Layer No.2: \t 1000 dimension vector with kernel of size 6\n"
     ]
    },
    {
     "name": "stdout",
     "output_type": "stream",
     "text": [
      "(28, 28, 1000)\n",
      "(28, 28, 1000)\n",
      "(28, 28, 1000)\n"
     ]
    },
    {
     "name": "stderr",
     "output_type": "stream",
     "text": [
      "Layer No.3: \t 1000 dimension vector with kernel of size 6\n",
      "Layer No.4: \t 1000 dimension vector with kernel of size 3\n",
      "Encoding time: 0.29143643379211426 \n",
      "Dumping basis into file: base_3870.pkl \n"
     ]
    },
    {
     "name": "stdout",
     "output_type": "stream",
     "text": [
      "Assigned BID:  3870\n"
     ]
    },
    {
     "name": "stderr",
     "output_type": "stream",
     "text": [
      "Encoding data of shape (20000, 784)\n"
     ]
    },
    {
     "data": {
      "application/vnd.jupyter.widget-view+json": {
       "model_id": "a4c1dddcb9a14a209f8686330bf70488",
       "version_major": 2,
       "version_minor": 0
      },
      "text/plain": [
       "HBox(children=(IntProgress(value=0, description='samples encoded', max=20000, style=ProgressStyle(description_…"
      ]
     },
     "metadata": {},
     "output_type": "display_data"
    },
    {
     "name": "stdout",
     "output_type": "stream",
     "text": [
      "\n"
     ]
    },
    {
     "name": "stderr",
     "output_type": "stream",
     "text": [
      "Time spent: 30 sec\n",
      "Encoding data of shape (10000, 784)\n"
     ]
    },
    {
     "data": {
      "application/vnd.jupyter.widget-view+json": {
       "model_id": "a0a3ab524de74faa9c98d61b8d70bc8a",
       "version_major": 2,
       "version_minor": 0
      },
      "text/plain": [
       "HBox(children=(IntProgress(value=0, description='samples encoded', max=10000, style=ProgressStyle(description_…"
      ]
     },
     "metadata": {},
     "output_type": "display_data"
    },
    {
     "name": "stdout",
     "output_type": "stream",
     "text": [
      "\n"
     ]
    },
    {
     "name": "stderr",
     "output_type": "stream",
     "text": [
      "Time spent: 14 sec\n"
     ]
    },
    {
     "data": {
      "application/vnd.jupyter.widget-view+json": {
       "model_id": "b19b6b039bb640d4892aefd6833840a4",
       "version_major": 2,
       "version_minor": 0
      },
      "text/plain": [
       "HBox(children=(IntProgress(value=0, description='epochs', style=ProgressStyle(description_width='initial')), H…"
      ]
     },
     "metadata": {},
     "output_type": "display_data"
    },
    {
     "name": "stderr",
     "output_type": "stream",
     "text": [
      "Fitting with configuration: [('one_shot', 0), ('dropout', 0), ('lr', 0.037)] \n"
     ]
    },
    {
     "name": "stdout",
     "output_type": "stream",
     "text": [
      "Train: 0.993550 \t \t Test: 0.964800\n",
      "Train: 0.998400 \t \t Test: 0.969200\n",
      "Train: 0.999200 \t \t Test: 0.970900\n",
      "Train: 1.000000 \t \t Test: 0.971800\n",
      "Train: 1.000000 \t \t Test: 0.971800\n",
      "(28, 28, 1000)\n",
      "(28, 28, 1000)\n",
      "(28, 28, 1000)\n"
     ]
    },
    {
     "name": "stderr",
     "output_type": "stream",
     "text": [
      "Configuring baklava HD basis of 5 layers:\n",
      "Layer No.0: \t 1000 dimension vector with kernel of size 1\n",
      "Layer No.1: \t 1000 dimension vector with kernel of size 5\n",
      "Layer No.2: \t 1000 dimension vector with kernel of size 6\n",
      "Layer No.3: \t 1000 dimension vector with kernel of size 6\n"
     ]
    },
    {
     "name": "stdout",
     "output_type": "stream",
     "text": [
      "(28, 28, 1000)\n",
      "(28, 28, 1000)\n"
     ]
    },
    {
     "name": "stderr",
     "output_type": "stream",
     "text": [
      "Layer No.4: \t 1000 dimension vector with kernel of size 3\n",
      "Encoding time: 0.2922086715698242 \n",
      "Dumping basis into file: base_3942.pkl \n"
     ]
    },
    {
     "name": "stdout",
     "output_type": "stream",
     "text": [
      "Assigned BID:  3942\n"
     ]
    },
    {
     "name": "stderr",
     "output_type": "stream",
     "text": [
      "Encoding data of shape (20000, 784)\n"
     ]
    },
    {
     "data": {
      "application/vnd.jupyter.widget-view+json": {
       "model_id": "22162ecb50b448f5aad1acbdbadc1177",
       "version_major": 2,
       "version_minor": 0
      },
      "text/plain": [
       "HBox(children=(IntProgress(value=0, description='samples encoded', max=20000, style=ProgressStyle(description_…"
      ]
     },
     "metadata": {},
     "output_type": "display_data"
    },
    {
     "name": "stdout",
     "output_type": "stream",
     "text": [
      "\n"
     ]
    },
    {
     "name": "stderr",
     "output_type": "stream",
     "text": [
      "Time spent: 29 sec\n",
      "Encoding data of shape (10000, 784)\n"
     ]
    },
    {
     "data": {
      "application/vnd.jupyter.widget-view+json": {
       "model_id": "e31bfd7272de4dfe90bf7a9f4b502080",
       "version_major": 2,
       "version_minor": 0
      },
      "text/plain": [
       "HBox(children=(IntProgress(value=0, description='samples encoded', max=10000, style=ProgressStyle(description_…"
      ]
     },
     "metadata": {},
     "output_type": "display_data"
    },
    {
     "name": "stdout",
     "output_type": "stream",
     "text": [
      "\n"
     ]
    },
    {
     "name": "stderr",
     "output_type": "stream",
     "text": [
      "Time spent: 14 sec\n"
     ]
    },
    {
     "data": {
      "application/vnd.jupyter.widget-view+json": {
       "model_id": "332ae21061e542a2ab4c31ef5988029f",
       "version_major": 2,
       "version_minor": 0
      },
      "text/plain": [
       "HBox(children=(IntProgress(value=0, description='epochs', style=ProgressStyle(description_width='initial')), H…"
      ]
     },
     "metadata": {},
     "output_type": "display_data"
    },
    {
     "name": "stderr",
     "output_type": "stream",
     "text": [
      "Fitting with configuration: [('one_shot', 0), ('dropout', 0), ('lr', 0.037)] \n"
     ]
    },
    {
     "name": "stdout",
     "output_type": "stream",
     "text": [
      "Train: 0.993000 \t \t Test: 0.967700\n",
      "Train: 0.998950 \t \t Test: 0.970100\n",
      "Train: 0.998650 \t \t Test: 0.970200\n",
      "Train: 0.999550 \t \t Test: 0.969500\n",
      "Train: 1.000000 \t \t Test: 0.971100\n",
      "{'D': 5000, 'nLayers': 7, 'uniform_dim': 1, 'uniform_ker': 0, 'dArr': [1000, 1000, 1000, 1000, 1000], 'k': array([8, 7, 3, 6, 7, 4, 1, 4, 3]), 'kArr': array([8, 9, 7, 9, 7, 6, 8])}\n",
      "(28, 28, 714)\n",
      "(28, 28, 714)\n",
      "(28, 28, 714)\n",
      "(28, 28, 714)\n",
      "(28, 28, 714)\n",
      "(28, 28, 714)\n",
      "(28, 28, 716)\n"
     ]
    },
    {
     "name": "stderr",
     "output_type": "stream",
     "text": [
      "Configuring baklava HD basis of 7 layers:\n",
      "Layer No.0: \t 714 dimension vector with kernel of size 8\n",
      "Layer No.1: \t 714 dimension vector with kernel of size 9\n",
      "Layer No.2: \t 714 dimension vector with kernel of size 7\n",
      "Layer No.3: \t 714 dimension vector with kernel of size 9\n",
      "Layer No.4: \t 714 dimension vector with kernel of size 7\n",
      "Layer No.5: \t 714 dimension vector with kernel of size 6\n",
      "Layer No.6: \t 716 dimension vector with kernel of size 8\n",
      "Encoding time: 0.16957664489746094 \n",
      "Dumping basis into file: base_4017.pkl \n"
     ]
    },
    {
     "name": "stdout",
     "output_type": "stream",
     "text": [
      "Assigned BID:  4017\n"
     ]
    },
    {
     "name": "stderr",
     "output_type": "stream",
     "text": [
      "Encoding data of shape (20000, 784)\n"
     ]
    },
    {
     "data": {
      "application/vnd.jupyter.widget-view+json": {
       "model_id": "17a71d7cb48c4893aa9566c675e85f2f",
       "version_major": 2,
       "version_minor": 0
      },
      "text/plain": [
       "HBox(children=(IntProgress(value=0, description='samples encoded', max=20000, style=ProgressStyle(description_…"
      ]
     },
     "metadata": {},
     "output_type": "display_data"
    },
    {
     "name": "stdout",
     "output_type": "stream",
     "text": [
      "\n"
     ]
    },
    {
     "name": "stderr",
     "output_type": "stream",
     "text": [
      "Time spent: 29 sec\n",
      "Encoding data of shape (10000, 784)\n"
     ]
    },
    {
     "data": {
      "application/vnd.jupyter.widget-view+json": {
       "model_id": "05d37eaccb9d40219381b82b7a813353",
       "version_major": 2,
       "version_minor": 0
      },
      "text/plain": [
       "HBox(children=(IntProgress(value=0, description='samples encoded', max=10000, style=ProgressStyle(description_…"
      ]
     },
     "metadata": {},
     "output_type": "display_data"
    },
    {
     "name": "stdout",
     "output_type": "stream",
     "text": [
      "\n"
     ]
    },
    {
     "name": "stderr",
     "output_type": "stream",
     "text": [
      "Time spent: 14 sec\n"
     ]
    },
    {
     "data": {
      "application/vnd.jupyter.widget-view+json": {
       "model_id": "bc22d1a62f074b3fab6b85f50a14701e",
       "version_major": 2,
       "version_minor": 0
      },
      "text/plain": [
       "HBox(children=(IntProgress(value=0, description='epochs', style=ProgressStyle(description_width='initial')), H…"
      ]
     },
     "metadata": {},
     "output_type": "display_data"
    },
    {
     "name": "stderr",
     "output_type": "stream",
     "text": [
      "Fitting with configuration: [('one_shot', 0), ('dropout', 0), ('lr', 0.037)] \n"
     ]
    },
    {
     "name": "stdout",
     "output_type": "stream",
     "text": [
      "Train: 0.989650 \t \t Test: 0.959300\n",
      "Train: 0.996250 \t \t Test: 0.961900\n",
      "Train: 0.998100 \t \t Test: 0.961100\n",
      "Train: 0.999350 \t \t Test: 0.963400\n",
      "Train: 0.999600 \t \t Test: 0.963500\n",
      "Train: 1.000000 \t \t Test: 0.962700\n",
      "(28, 28, 714)\n",
      "(28, 28, 714)\n",
      "(28, 28, 714)\n",
      "(28, 28, 714)\n",
      "(28, 28, 714)\n",
      "(28, 28, 714)\n",
      "(28, 28, 716)\n"
     ]
    },
    {
     "name": "stderr",
     "output_type": "stream",
     "text": [
      "Configuring baklava HD basis of 7 layers:\n",
      "Layer No.0: \t 714 dimension vector with kernel of size 8\n",
      "Layer No.1: \t 714 dimension vector with kernel of size 9\n",
      "Layer No.2: \t 714 dimension vector with kernel of size 7\n",
      "Layer No.3: \t 714 dimension vector with kernel of size 9\n",
      "Layer No.4: \t 714 dimension vector with kernel of size 7\n",
      "Layer No.5: \t 714 dimension vector with kernel of size 6\n",
      "Layer No.6: \t 716 dimension vector with kernel of size 8\n",
      "Encoding time: 0.17452168464660645 \n",
      "Dumping basis into file: base_4096.pkl \n"
     ]
    },
    {
     "name": "stdout",
     "output_type": "stream",
     "text": [
      "Assigned BID:  4096\n"
     ]
    },
    {
     "name": "stderr",
     "output_type": "stream",
     "text": [
      "Encoding data of shape (20000, 784)\n"
     ]
    },
    {
     "data": {
      "application/vnd.jupyter.widget-view+json": {
       "model_id": "33cee27157124f05bbdeb08574ce5970",
       "version_major": 2,
       "version_minor": 0
      },
      "text/plain": [
       "HBox(children=(IntProgress(value=0, description='samples encoded', max=20000, style=ProgressStyle(description_…"
      ]
     },
     "metadata": {},
     "output_type": "display_data"
    },
    {
     "name": "stdout",
     "output_type": "stream",
     "text": [
      "\n"
     ]
    },
    {
     "name": "stderr",
     "output_type": "stream",
     "text": [
      "Time spent: 30 sec\n",
      "Encoding data of shape (10000, 784)\n"
     ]
    },
    {
     "data": {
      "application/vnd.jupyter.widget-view+json": {
       "model_id": "01582bdf7af54832950a692539ff09fb",
       "version_major": 2,
       "version_minor": 0
      },
      "text/plain": [
       "HBox(children=(IntProgress(value=0, description='samples encoded', max=10000, style=ProgressStyle(description_…"
      ]
     },
     "metadata": {},
     "output_type": "display_data"
    },
    {
     "name": "stdout",
     "output_type": "stream",
     "text": [
      "\n"
     ]
    },
    {
     "name": "stderr",
     "output_type": "stream",
     "text": [
      "Time spent: 14 sec\n"
     ]
    },
    {
     "data": {
      "application/vnd.jupyter.widget-view+json": {
       "model_id": "f4d8c48f801a492782cc29f25624fb13",
       "version_major": 2,
       "version_minor": 0
      },
      "text/plain": [
       "HBox(children=(IntProgress(value=0, description='epochs', style=ProgressStyle(description_width='initial')), H…"
      ]
     },
     "metadata": {},
     "output_type": "display_data"
    },
    {
     "name": "stderr",
     "output_type": "stream",
     "text": [
      "Fitting with configuration: [('one_shot', 0), ('dropout', 0), ('lr', 0.037)] \n"
     ]
    },
    {
     "name": "stdout",
     "output_type": "stream",
     "text": [
      "Train: 0.988550 \t \t Test: 0.961900\n",
      "Train: 0.996000 \t \t Test: 0.958500\n",
      "Train: 0.998650 \t \t Test: 0.963400\n",
      "Train: 0.999650 \t \t Test: 0.966300\n",
      "Train: 0.999650 \t \t Test: 0.962100\n",
      "Train: 0.999950 \t \t Test: 0.964800\n",
      "Train: 1.000000 \t \t Test: 0.964800\n",
      "(28, 28, 714)\n",
      "(28, 28, 714)\n",
      "(28, 28, 714)\n",
      "(28, 28, 714)\n",
      "(28, 28, 714)\n",
      "(28, 28, 714)\n",
      "(28, 28, 716)\n"
     ]
    },
    {
     "name": "stderr",
     "output_type": "stream",
     "text": [
      "Configuring baklava HD basis of 7 layers:\n",
      "Layer No.0: \t 714 dimension vector with kernel of size 8\n",
      "Layer No.1: \t 714 dimension vector with kernel of size 9\n",
      "Layer No.2: \t 714 dimension vector with kernel of size 7\n",
      "Layer No.3: \t 714 dimension vector with kernel of size 9\n",
      "Layer No.4: \t 714 dimension vector with kernel of size 7\n",
      "Layer No.5: \t 714 dimension vector with kernel of size 6\n",
      "Layer No.6: \t 716 dimension vector with kernel of size 8\n",
      "Encoding time: 0.17151498794555664 \n",
      "Dumping basis into file: base_4182.pkl \n"
     ]
    },
    {
     "name": "stdout",
     "output_type": "stream",
     "text": [
      "Assigned BID:  4182\n"
     ]
    },
    {
     "name": "stderr",
     "output_type": "stream",
     "text": [
      "Encoding data of shape (20000, 784)\n"
     ]
    },
    {
     "data": {
      "application/vnd.jupyter.widget-view+json": {
       "model_id": "e388b5a76eb948be8648826cf9a36334",
       "version_major": 2,
       "version_minor": 0
      },
      "text/plain": [
       "HBox(children=(IntProgress(value=0, description='samples encoded', max=20000, style=ProgressStyle(description_…"
      ]
     },
     "metadata": {},
     "output_type": "display_data"
    },
    {
     "name": "stdout",
     "output_type": "stream",
     "text": [
      "\n"
     ]
    },
    {
     "name": "stderr",
     "output_type": "stream",
     "text": [
      "Time spent: 29 sec\n",
      "Encoding data of shape (10000, 784)\n"
     ]
    },
    {
     "data": {
      "application/vnd.jupyter.widget-view+json": {
       "model_id": "953de8f341fb45ff94deb44ee93d79f2",
       "version_major": 2,
       "version_minor": 0
      },
      "text/plain": [
       "HBox(children=(IntProgress(value=0, description='samples encoded', max=10000, style=ProgressStyle(description_…"
      ]
     },
     "metadata": {},
     "output_type": "display_data"
    },
    {
     "name": "stdout",
     "output_type": "stream",
     "text": [
      "\n"
     ]
    },
    {
     "name": "stderr",
     "output_type": "stream",
     "text": [
      "Time spent: 15 sec\n"
     ]
    },
    {
     "data": {
      "application/vnd.jupyter.widget-view+json": {
       "model_id": "22f64fae1f8a4f739a09f290337827e2",
       "version_major": 2,
       "version_minor": 0
      },
      "text/plain": [
       "HBox(children=(IntProgress(value=0, description='epochs', style=ProgressStyle(description_width='initial')), H…"
      ]
     },
     "metadata": {},
     "output_type": "display_data"
    },
    {
     "name": "stderr",
     "output_type": "stream",
     "text": [
      "Fitting with configuration: [('one_shot', 0), ('dropout', 0), ('lr', 0.037)] \n"
     ]
    },
    {
     "name": "stdout",
     "output_type": "stream",
     "text": [
      "Train: 0.989600 \t \t Test: 0.957500\n",
      "Train: 0.996850 \t \t Test: 0.960100\n",
      "Train: 0.998650 \t \t Test: 0.963500\n",
      "Train: 0.998900 \t \t Test: 0.962700\n",
      "Train: 0.999050 \t \t Test: 0.960200\n",
      "Train: 0.999850 \t \t Test: 0.964200\n",
      "Train: 1.000000 \t \t Test: 0.964200\n",
      "{'D': 5000, 'nLayers': 7, 'uniform_dim': 1, 'uniform_ker': 0, 'dArr': [714, 714, 714, 714, 714, 714, 716], 'k': array([8, 7, 3, 6, 7, 4, 1, 4, 3]), 'kArr': array([9, 1, 8, 7, 9, 3, 2])}\n",
      "(28, 28, 714)\n"
     ]
    },
    {
     "name": "stderr",
     "output_type": "stream",
     "text": [
      "Configuring baklava HD basis of 7 layers:\n",
      "Layer No.0: \t 714 dimension vector with kernel of size 9\n",
      "Layer No.1: \t 714 dimension vector with kernel of size 1\n",
      "Layer No.2: \t 714 dimension vector with kernel of size 8\n",
      "Layer No.3: \t 714 dimension vector with kernel of size 7\n"
     ]
    },
    {
     "name": "stdout",
     "output_type": "stream",
     "text": [
      "(28, 28, 714)\n",
      "(28, 28, 714)\n",
      "(28, 28, 714)\n",
      "(28, 28, 714)\n",
      "(28, 28, 714)\n",
      "(28, 28, 716)\n"
     ]
    },
    {
     "name": "stderr",
     "output_type": "stream",
     "text": [
      "Layer No.4: \t 714 dimension vector with kernel of size 9\n",
      "Layer No.5: \t 714 dimension vector with kernel of size 3\n",
      "Layer No.6: \t 716 dimension vector with kernel of size 2\n",
      "Encoding time: 0.31020689010620117 \n",
      "Dumping basis into file: base_4268.pkl \n"
     ]
    },
    {
     "name": "stdout",
     "output_type": "stream",
     "text": [
      "Assigned BID:  4268\n"
     ]
    },
    {
     "name": "stderr",
     "output_type": "stream",
     "text": [
      "Encoding data of shape (20000, 784)\n"
     ]
    },
    {
     "data": {
      "application/vnd.jupyter.widget-view+json": {
       "model_id": "1748d9e291854495a455a340a25642d4",
       "version_major": 2,
       "version_minor": 0
      },
      "text/plain": [
       "HBox(children=(IntProgress(value=0, description='samples encoded', max=20000, style=ProgressStyle(description_…"
      ]
     },
     "metadata": {},
     "output_type": "display_data"
    },
    {
     "name": "stdout",
     "output_type": "stream",
     "text": [
      "\n"
     ]
    },
    {
     "name": "stderr",
     "output_type": "stream",
     "text": [
      "Time spent: 28 sec\n",
      "Encoding data of shape (10000, 784)\n"
     ]
    },
    {
     "data": {
      "application/vnd.jupyter.widget-view+json": {
       "model_id": "6effa640a06f4e3999363eca27226024",
       "version_major": 2,
       "version_minor": 0
      },
      "text/plain": [
       "HBox(children=(IntProgress(value=0, description='samples encoded', max=10000, style=ProgressStyle(description_…"
      ]
     },
     "metadata": {},
     "output_type": "display_data"
    },
    {
     "name": "stdout",
     "output_type": "stream",
     "text": [
      "\n"
     ]
    },
    {
     "name": "stderr",
     "output_type": "stream",
     "text": [
      "Time spent: 14 sec\n"
     ]
    },
    {
     "data": {
      "application/vnd.jupyter.widget-view+json": {
       "model_id": "777598cfb696493894ae37eaa8fde997",
       "version_major": 2,
       "version_minor": 0
      },
      "text/plain": [
       "HBox(children=(IntProgress(value=0, description='epochs', style=ProgressStyle(description_width='initial')), H…"
      ]
     },
     "metadata": {},
     "output_type": "display_data"
    },
    {
     "name": "stderr",
     "output_type": "stream",
     "text": [
      "Fitting with configuration: [('one_shot', 0), ('dropout', 0), ('lr', 0.037)] \n"
     ]
    },
    {
     "name": "stdout",
     "output_type": "stream",
     "text": [
      "Train: 0.992800 \t \t Test: 0.964100\n",
      "Train: 0.998300 \t \t Test: 0.968500\n",
      "Train: 0.998950 \t \t Test: 0.970800\n",
      "Train: 0.999750 \t \t Test: 0.970800\n",
      "Train: 1.000000 \t \t Test: 0.971300\n",
      "Train: 1.000000 \t \t Test: 0.971300\n",
      "(28, 28, 714)\n",
      "(28, 28, 714)\n",
      "(28, 28, 714)\n",
      "(28, 28, 714)\n",
      "(28, 28, 714)\n"
     ]
    },
    {
     "name": "stderr",
     "output_type": "stream",
     "text": [
      "Configuring baklava HD basis of 7 layers:\n",
      "Layer No.0: \t 714 dimension vector with kernel of size 9\n",
      "Layer No.1: \t 714 dimension vector with kernel of size 1\n",
      "Layer No.2: \t 714 dimension vector with kernel of size 8\n",
      "Layer No.3: \t 714 dimension vector with kernel of size 7\n",
      "Layer No.4: \t 714 dimension vector with kernel of size 9\n",
      "Layer No.5: \t 714 dimension vector with kernel of size 3\n"
     ]
    },
    {
     "name": "stdout",
     "output_type": "stream",
     "text": [
      "(28, 28, 714)\n",
      "(28, 28, 716)\n"
     ]
    },
    {
     "name": "stderr",
     "output_type": "stream",
     "text": [
      "Layer No.6: \t 716 dimension vector with kernel of size 2\n",
      "Encoding time: 0.280261754989624 \n",
      "Dumping basis into file: base_4344.pkl \n"
     ]
    },
    {
     "name": "stdout",
     "output_type": "stream",
     "text": [
      "Assigned BID:  4344\n"
     ]
    },
    {
     "name": "stderr",
     "output_type": "stream",
     "text": [
      "Encoding data of shape (20000, 784)\n"
     ]
    },
    {
     "data": {
      "application/vnd.jupyter.widget-view+json": {
       "model_id": "9729c6ee09f64b6a9bc58db62a7730dd",
       "version_major": 2,
       "version_minor": 0
      },
      "text/plain": [
       "HBox(children=(IntProgress(value=0, description='samples encoded', max=20000, style=ProgressStyle(description_…"
      ]
     },
     "metadata": {},
     "output_type": "display_data"
    },
    {
     "name": "stdout",
     "output_type": "stream",
     "text": [
      "\n"
     ]
    },
    {
     "name": "stderr",
     "output_type": "stream",
     "text": [
      "Time spent: 28 sec\n",
      "Encoding data of shape (10000, 784)\n"
     ]
    },
    {
     "data": {
      "application/vnd.jupyter.widget-view+json": {
       "model_id": "9c12dab5531c4149b0c096ff18424f52",
       "version_major": 2,
       "version_minor": 0
      },
      "text/plain": [
       "HBox(children=(IntProgress(value=0, description='samples encoded', max=10000, style=ProgressStyle(description_…"
      ]
     },
     "metadata": {},
     "output_type": "display_data"
    },
    {
     "name": "stdout",
     "output_type": "stream",
     "text": [
      "\n"
     ]
    },
    {
     "name": "stderr",
     "output_type": "stream",
     "text": [
      "Time spent: 14 sec\n"
     ]
    },
    {
     "data": {
      "application/vnd.jupyter.widget-view+json": {
       "model_id": "be6f77993d034a109bdf283fa8c0de02",
       "version_major": 2,
       "version_minor": 0
      },
      "text/plain": [
       "HBox(children=(IntProgress(value=0, description='epochs', style=ProgressStyle(description_width='initial')), H…"
      ]
     },
     "metadata": {},
     "output_type": "display_data"
    },
    {
     "name": "stderr",
     "output_type": "stream",
     "text": [
      "Fitting with configuration: [('one_shot', 0), ('dropout', 0), ('lr', 0.037)] \n"
     ]
    },
    {
     "name": "stdout",
     "output_type": "stream",
     "text": [
      "Train: 0.991450 \t \t Test: 0.965100\n",
      "Train: 0.997800 \t \t Test: 0.965900\n",
      "Train: 0.999150 \t \t Test: 0.969000\n",
      "Train: 0.999550 \t \t Test: 0.969500\n",
      "Train: 0.999600 \t \t Test: 0.970300\n",
      "Train: 0.999700 \t \t Test: 0.970200\n",
      "Train: 1.000000 \t \t Test: 0.970800\n",
      "(28, 28, 714)\n",
      "(28, 28, 714)\n",
      "(28, 28, 714)\n",
      "(28, 28, 714)\n",
      "(28, 28, 714)\n"
     ]
    },
    {
     "name": "stderr",
     "output_type": "stream",
     "text": [
      "Configuring baklava HD basis of 7 layers:\n",
      "Layer No.0: \t 714 dimension vector with kernel of size 9\n",
      "Layer No.1: \t 714 dimension vector with kernel of size 1\n",
      "Layer No.2: \t 714 dimension vector with kernel of size 8\n",
      "Layer No.3: \t 714 dimension vector with kernel of size 7\n",
      "Layer No.4: \t 714 dimension vector with kernel of size 9\n",
      "Layer No.5: \t 714 dimension vector with kernel of size 3\n"
     ]
    },
    {
     "name": "stdout",
     "output_type": "stream",
     "text": [
      "(28, 28, 714)\n",
      "(28, 28, 716)\n"
     ]
    },
    {
     "name": "stderr",
     "output_type": "stream",
     "text": [
      "Layer No.6: \t 716 dimension vector with kernel of size 2\n",
      "Encoding time: 0.27426600456237793 \n",
      "Dumping basis into file: base_4429.pkl \n"
     ]
    },
    {
     "name": "stdout",
     "output_type": "stream",
     "text": [
      "Assigned BID:  4429\n"
     ]
    },
    {
     "name": "stderr",
     "output_type": "stream",
     "text": [
      "Encoding data of shape (20000, 784)\n"
     ]
    },
    {
     "data": {
      "application/vnd.jupyter.widget-view+json": {
       "model_id": "d3b8d6205aba41e298f5d8e3af7bc8ae",
       "version_major": 2,
       "version_minor": 0
      },
      "text/plain": [
       "HBox(children=(IntProgress(value=0, description='samples encoded', max=20000, style=ProgressStyle(description_…"
      ]
     },
     "metadata": {},
     "output_type": "display_data"
    },
    {
     "name": "stdout",
     "output_type": "stream",
     "text": [
      "\n"
     ]
    },
    {
     "name": "stderr",
     "output_type": "stream",
     "text": [
      "Time spent: 28 sec\n",
      "Encoding data of shape (10000, 784)\n"
     ]
    },
    {
     "data": {
      "application/vnd.jupyter.widget-view+json": {
       "model_id": "8471e91ed82545768794e3e2db938846",
       "version_major": 2,
       "version_minor": 0
      },
      "text/plain": [
       "HBox(children=(IntProgress(value=0, description='samples encoded', max=10000, style=ProgressStyle(description_…"
      ]
     },
     "metadata": {},
     "output_type": "display_data"
    },
    {
     "name": "stdout",
     "output_type": "stream",
     "text": [
      "\n"
     ]
    },
    {
     "name": "stderr",
     "output_type": "stream",
     "text": [
      "Time spent: 14 sec\n"
     ]
    },
    {
     "data": {
      "application/vnd.jupyter.widget-view+json": {
       "model_id": "46230a9aa869434ba4dba21cdcbedf02",
       "version_major": 2,
       "version_minor": 0
      },
      "text/plain": [
       "HBox(children=(IntProgress(value=0, description='epochs', style=ProgressStyle(description_width='initial')), H…"
      ]
     },
     "metadata": {},
     "output_type": "display_data"
    },
    {
     "name": "stderr",
     "output_type": "stream",
     "text": [
      "Fitting with configuration: [('one_shot', 0), ('dropout', 0), ('lr', 0.037)] \n"
     ]
    },
    {
     "name": "stdout",
     "output_type": "stream",
     "text": [
      "Train: 0.991250 \t \t Test: 0.958100\n",
      "Train: 0.997450 \t \t Test: 0.968900\n",
      "Train: 0.999100 \t \t Test: 0.968100\n",
      "Train: 0.999750 \t \t Test: 0.968900\n",
      "Train: 1.000000 \t \t Test: 0.970200\n",
      "{'D': 5000, 'nLayers': 9, 'uniform_dim': 1, 'uniform_ker': 0, 'dArr': [714, 714, 714, 714, 714, 714, 716], 'k': array([8, 7, 3, 6, 7, 4, 1, 4, 3]), 'kArr': array([1, 1, 1, 7, 9, 5, 2, 2, 1])}\n",
      "(28, 28, 555)\n",
      "(28, 28, 555)\n"
     ]
    },
    {
     "name": "stderr",
     "output_type": "stream",
     "text": [
      "Configuring baklava HD basis of 9 layers:\n",
      "Layer No.0: \t 555 dimension vector with kernel of size 1\n",
      "Layer No.1: \t 555 dimension vector with kernel of size 1\n",
      "Layer No.2: \t 555 dimension vector with kernel of size 1\n"
     ]
    },
    {
     "name": "stdout",
     "output_type": "stream",
     "text": [
      "(28, 28, 555)\n",
      "(28, 28, 555)\n",
      "(28, 28, 555)\n",
      "(28, 28, 555)\n",
      "(28, 28, 555)\n",
      "(28, 28, 555)\n"
     ]
    },
    {
     "name": "stderr",
     "output_type": "stream",
     "text": [
      "Layer No.3: \t 555 dimension vector with kernel of size 7\n",
      "Layer No.4: \t 555 dimension vector with kernel of size 9\n",
      "Layer No.5: \t 555 dimension vector with kernel of size 5\n",
      "Layer No.6: \t 555 dimension vector with kernel of size 2\n",
      "Layer No.7: \t 555 dimension vector with kernel of size 2\n",
      "Layer No.8: \t 560 dimension vector with kernel of size 1\n"
     ]
    },
    {
     "name": "stdout",
     "output_type": "stream",
     "text": [
      "(28, 28, 560)\n"
     ]
    },
    {
     "name": "stderr",
     "output_type": "stream",
     "text": [
      "Encoding time: 0.4856874942779541 \n",
      "Dumping basis into file: base_4504.pkl \n"
     ]
    },
    {
     "name": "stdout",
     "output_type": "stream",
     "text": [
      "Assigned BID:  4504\n"
     ]
    },
    {
     "name": "stderr",
     "output_type": "stream",
     "text": [
      "Encoding data of shape (20000, 784)\n"
     ]
    },
    {
     "data": {
      "application/vnd.jupyter.widget-view+json": {
       "model_id": "2eb684e0366c4bfc895dc4d3dd38be25",
       "version_major": 2,
       "version_minor": 0
      },
      "text/plain": [
       "HBox(children=(IntProgress(value=0, description='samples encoded', max=20000, style=ProgressStyle(description_…"
      ]
     },
     "metadata": {},
     "output_type": "display_data"
    },
    {
     "name": "stdout",
     "output_type": "stream",
     "text": [
      "\n"
     ]
    },
    {
     "name": "stderr",
     "output_type": "stream",
     "text": [
      "Time spent: 33 sec\n",
      "Encoding data of shape (10000, 784)\n"
     ]
    },
    {
     "data": {
      "application/vnd.jupyter.widget-view+json": {
       "model_id": "b18aacd16d8a4a5fb5d3081348967f7f",
       "version_major": 2,
       "version_minor": 0
      },
      "text/plain": [
       "HBox(children=(IntProgress(value=0, description='samples encoded', max=10000, style=ProgressStyle(description_…"
      ]
     },
     "metadata": {},
     "output_type": "display_data"
    },
    {
     "name": "stdout",
     "output_type": "stream",
     "text": [
      "\n"
     ]
    },
    {
     "name": "stderr",
     "output_type": "stream",
     "text": [
      "Time spent: 16 sec\n"
     ]
    },
    {
     "data": {
      "application/vnd.jupyter.widget-view+json": {
       "model_id": "56ac29ad9dab41bbb3714bddbae68b97",
       "version_major": 2,
       "version_minor": 0
      },
      "text/plain": [
       "HBox(children=(IntProgress(value=0, description='epochs', style=ProgressStyle(description_width='initial')), H…"
      ]
     },
     "metadata": {},
     "output_type": "display_data"
    },
    {
     "name": "stderr",
     "output_type": "stream",
     "text": [
      "Fitting with configuration: [('one_shot', 0), ('dropout', 0), ('lr', 0.037)] \n"
     ]
    },
    {
     "name": "stdout",
     "output_type": "stream",
     "text": [
      "Train: 0.987650 \t \t Test: 0.967200\n",
      "Train: 0.996550 \t \t Test: 0.967800\n",
      "Train: 0.997950 \t \t Test: 0.972400\n",
      "Train: 1.000000 \t \t Test: 0.970700\n",
      "Train: 1.000000 \t \t Test: 0.970700\n",
      "(28, 28, 555)\n",
      "(28, 28, 555)\n"
     ]
    },
    {
     "name": "stderr",
     "output_type": "stream",
     "text": [
      "Configuring baklava HD basis of 9 layers:\n",
      "Layer No.0: \t 555 dimension vector with kernel of size 1\n",
      "Layer No.1: \t 555 dimension vector with kernel of size 1\n",
      "Layer No.2: \t 555 dimension vector with kernel of size 1\n"
     ]
    },
    {
     "name": "stdout",
     "output_type": "stream",
     "text": [
      "(28, 28, 555)\n",
      "(28, 28, 555)\n",
      "(28, 28, 555)\n",
      "(28, 28, 555)\n",
      "(28, 28, 555)\n",
      "(28, 28, 555)\n"
     ]
    },
    {
     "name": "stderr",
     "output_type": "stream",
     "text": [
      "Layer No.3: \t 555 dimension vector with kernel of size 7\n",
      "Layer No.4: \t 555 dimension vector with kernel of size 9\n",
      "Layer No.5: \t 555 dimension vector with kernel of size 5\n",
      "Layer No.6: \t 555 dimension vector with kernel of size 2\n",
      "Layer No.7: \t 555 dimension vector with kernel of size 2\n",
      "Layer No.8: \t 560 dimension vector with kernel of size 1\n"
     ]
    },
    {
     "name": "stdout",
     "output_type": "stream",
     "text": [
      "(28, 28, 560)\n"
     ]
    },
    {
     "name": "stderr",
     "output_type": "stream",
     "text": [
      "Encoding time: 0.48628735542297363 \n",
      "Dumping basis into file: base_4582.pkl \n"
     ]
    },
    {
     "name": "stdout",
     "output_type": "stream",
     "text": [
      "Assigned BID:  4582\n"
     ]
    },
    {
     "name": "stderr",
     "output_type": "stream",
     "text": [
      "Encoding data of shape (20000, 784)\n"
     ]
    },
    {
     "data": {
      "application/vnd.jupyter.widget-view+json": {
       "model_id": "578872e48dd748ed9d908f0dc87dcaf1",
       "version_major": 2,
       "version_minor": 0
      },
      "text/plain": [
       "HBox(children=(IntProgress(value=0, description='samples encoded', max=20000, style=ProgressStyle(description_…"
      ]
     },
     "metadata": {},
     "output_type": "display_data"
    },
    {
     "name": "stdout",
     "output_type": "stream",
     "text": [
      "\n"
     ]
    },
    {
     "name": "stderr",
     "output_type": "stream",
     "text": [
      "Time spent: 30 sec\n",
      "Encoding data of shape (10000, 784)\n"
     ]
    },
    {
     "data": {
      "application/vnd.jupyter.widget-view+json": {
       "model_id": "cf29d088832e4321ab4590946eb4ffb8",
       "version_major": 2,
       "version_minor": 0
      },
      "text/plain": [
       "HBox(children=(IntProgress(value=0, description='samples encoded', max=10000, style=ProgressStyle(description_…"
      ]
     },
     "metadata": {},
     "output_type": "display_data"
    },
    {
     "name": "stdout",
     "output_type": "stream",
     "text": [
      "\n"
     ]
    },
    {
     "name": "stderr",
     "output_type": "stream",
     "text": [
      "Time spent: 15 sec\n"
     ]
    },
    {
     "data": {
      "application/vnd.jupyter.widget-view+json": {
       "model_id": "fcce5e4301ce44bf9c593c08fb1288d0",
       "version_major": 2,
       "version_minor": 0
      },
      "text/plain": [
       "HBox(children=(IntProgress(value=0, description='epochs', style=ProgressStyle(description_width='initial')), H…"
      ]
     },
     "metadata": {},
     "output_type": "display_data"
    },
    {
     "name": "stderr",
     "output_type": "stream",
     "text": [
      "Fitting with configuration: [('one_shot', 0), ('dropout', 0), ('lr', 0.037)] \n"
     ]
    },
    {
     "name": "stdout",
     "output_type": "stream",
     "text": [
      "Train: 0.989600 \t \t Test: 0.961700\n",
      "Train: 0.995550 \t \t Test: 0.966100\n",
      "Train: 0.998600 \t \t Test: 0.968500\n",
      "Train: 0.999450 \t \t Test: 0.969100\n",
      "Train: 0.999700 \t \t Test: 0.969300\n",
      "Train: 1.000000 \t \t Test: 0.971400\n",
      "(28, 28, 555)\n",
      "(28, 28, 555)\n"
     ]
    },
    {
     "name": "stderr",
     "output_type": "stream",
     "text": [
      "Configuring baklava HD basis of 9 layers:\n",
      "Layer No.0: \t 555 dimension vector with kernel of size 1\n",
      "Layer No.1: \t 555 dimension vector with kernel of size 1\n",
      "Layer No.2: \t 555 dimension vector with kernel of size 1\n"
     ]
    },
    {
     "name": "stdout",
     "output_type": "stream",
     "text": [
      "(28, 28, 555)\n",
      "(28, 28, 555)\n",
      "(28, 28, 555)\n",
      "(28, 28, 555)\n",
      "(28, 28, 555)\n",
      "(28, 28, 555)\n"
     ]
    },
    {
     "name": "stderr",
     "output_type": "stream",
     "text": [
      "Layer No.3: \t 555 dimension vector with kernel of size 7\n",
      "Layer No.4: \t 555 dimension vector with kernel of size 9\n",
      "Layer No.5: \t 555 dimension vector with kernel of size 5\n",
      "Layer No.6: \t 555 dimension vector with kernel of size 2\n",
      "Layer No.7: \t 555 dimension vector with kernel of size 2\n",
      "Layer No.8: \t 560 dimension vector with kernel of size 1\n"
     ]
    },
    {
     "name": "stdout",
     "output_type": "stream",
     "text": [
      "(28, 28, 560)\n"
     ]
    },
    {
     "name": "stderr",
     "output_type": "stream",
     "text": [
      "Encoding time: 0.4816880226135254 \n",
      "Dumping basis into file: base_4665.pkl \n"
     ]
    },
    {
     "name": "stdout",
     "output_type": "stream",
     "text": [
      "Assigned BID:  4665\n"
     ]
    },
    {
     "name": "stderr",
     "output_type": "stream",
     "text": [
      "Encoding data of shape (20000, 784)\n"
     ]
    },
    {
     "data": {
      "application/vnd.jupyter.widget-view+json": {
       "model_id": "a8300bb1485f4e5182d6cdb3c45407fa",
       "version_major": 2,
       "version_minor": 0
      },
      "text/plain": [
       "HBox(children=(IntProgress(value=0, description='samples encoded', max=20000, style=ProgressStyle(description_…"
      ]
     },
     "metadata": {},
     "output_type": "display_data"
    },
    {
     "name": "stdout",
     "output_type": "stream",
     "text": [
      "\n"
     ]
    },
    {
     "name": "stderr",
     "output_type": "stream",
     "text": [
      "Time spent: 31 sec\n",
      "Encoding data of shape (10000, 784)\n"
     ]
    },
    {
     "data": {
      "application/vnd.jupyter.widget-view+json": {
       "model_id": "927ac0c7d3a44d4c99f24dd966e12f82",
       "version_major": 2,
       "version_minor": 0
      },
      "text/plain": [
       "HBox(children=(IntProgress(value=0, description='samples encoded', max=10000, style=ProgressStyle(description_…"
      ]
     },
     "metadata": {},
     "output_type": "display_data"
    },
    {
     "name": "stdout",
     "output_type": "stream",
     "text": [
      "\n"
     ]
    },
    {
     "name": "stderr",
     "output_type": "stream",
     "text": [
      "Time spent: 14 sec\n"
     ]
    },
    {
     "data": {
      "application/vnd.jupyter.widget-view+json": {
       "model_id": "6271bd1cd0354986acdbb41de8256277",
       "version_major": 2,
       "version_minor": 0
      },
      "text/plain": [
       "HBox(children=(IntProgress(value=0, description='epochs', style=ProgressStyle(description_width='initial')), H…"
      ]
     },
     "metadata": {},
     "output_type": "display_data"
    },
    {
     "name": "stderr",
     "output_type": "stream",
     "text": [
      "Fitting with configuration: [('one_shot', 0), ('dropout', 0), ('lr', 0.037)] \n"
     ]
    },
    {
     "name": "stdout",
     "output_type": "stream",
     "text": [
      "Train: 0.989900 \t \t Test: 0.967600\n",
      "Train: 0.997100 \t \t Test: 0.968000\n",
      "Train: 0.999150 \t \t Test: 0.970300\n",
      "Train: 1.000000 \t \t Test: 0.970200\n",
      "Train: 1.000000 \t \t Test: 0.970200\n",
      "{'D': 5000, 'nLayers': 5, 'uniform_dim': 1, 'uniform_ker': 0, 'dArr': [555, 555, 555, 555, 555, 555, 555, 555, 560], 'k': array([8, 7, 3, 6, 7, 4, 1, 4, 3]), 'kArr': array([7, 4, 9, 3, 1])}\n",
      "(28, 28, 1000)\n",
      "(28, 28, 1000)\n",
      "(28, 28, 1000)\n",
      "(28, 28, 1000)\n"
     ]
    },
    {
     "name": "stderr",
     "output_type": "stream",
     "text": [
      "Configuring baklava HD basis of 5 layers:\n",
      "Layer No.0: \t 1000 dimension vector with kernel of size 7\n",
      "Layer No.1: \t 1000 dimension vector with kernel of size 4\n",
      "Layer No.2: \t 1000 dimension vector with kernel of size 9\n",
      "Layer No.3: \t 1000 dimension vector with kernel of size 3\n",
      "Layer No.4: \t 1000 dimension vector with kernel of size 1\n"
     ]
    },
    {
     "name": "stdout",
     "output_type": "stream",
     "text": [
      "(28, 28, 1000)\n"
     ]
    },
    {
     "name": "stderr",
     "output_type": "stream",
     "text": [
      "Encoding time: 0.3061811923980713 \n",
      "Dumping basis into file: base_4739.pkl \n"
     ]
    },
    {
     "name": "stdout",
     "output_type": "stream",
     "text": [
      "Assigned BID:  4739\n"
     ]
    },
    {
     "name": "stderr",
     "output_type": "stream",
     "text": [
      "Encoding data of shape (20000, 784)\n"
     ]
    },
    {
     "data": {
      "application/vnd.jupyter.widget-view+json": {
       "model_id": "20ff28e24b80482aa2373e5a0bd41873",
       "version_major": 2,
       "version_minor": 0
      },
      "text/plain": [
       "HBox(children=(IntProgress(value=0, description='samples encoded', max=20000, style=ProgressStyle(description_…"
      ]
     },
     "metadata": {},
     "output_type": "display_data"
    },
    {
     "name": "stdout",
     "output_type": "stream",
     "text": [
      "\n"
     ]
    },
    {
     "name": "stderr",
     "output_type": "stream",
     "text": [
      "Time spent: 30 sec\n",
      "Encoding data of shape (10000, 784)\n"
     ]
    },
    {
     "data": {
      "application/vnd.jupyter.widget-view+json": {
       "model_id": "22a08fa71bc540d8a6363852acedce5f",
       "version_major": 2,
       "version_minor": 0
      },
      "text/plain": [
       "HBox(children=(IntProgress(value=0, description='samples encoded', max=10000, style=ProgressStyle(description_…"
      ]
     },
     "metadata": {},
     "output_type": "display_data"
    },
    {
     "name": "stdout",
     "output_type": "stream",
     "text": [
      "\n"
     ]
    },
    {
     "name": "stderr",
     "output_type": "stream",
     "text": [
      "Time spent: 16 sec\n"
     ]
    },
    {
     "data": {
      "application/vnd.jupyter.widget-view+json": {
       "model_id": "22882070c4384fefa2f1020493cfe8f4",
       "version_major": 2,
       "version_minor": 0
      },
      "text/plain": [
       "HBox(children=(IntProgress(value=0, description='epochs', style=ProgressStyle(description_width='initial')), H…"
      ]
     },
     "metadata": {},
     "output_type": "display_data"
    },
    {
     "name": "stderr",
     "output_type": "stream",
     "text": [
      "Fitting with configuration: [('one_shot', 0), ('dropout', 0), ('lr', 0.037)] \n"
     ]
    },
    {
     "name": "stdout",
     "output_type": "stream",
     "text": [
      "Train: 0.991750 \t \t Test: 0.968400\n",
      "Train: 0.998050 \t \t Test: 0.972000\n",
      "Train: 0.999350 \t \t Test: 0.971400\n",
      "Train: 0.999400 \t \t Test: 0.970500\n",
      "Train: 0.999850 \t \t Test: 0.973000\n",
      "Train: 1.000000 \t \t Test: 0.973100\n",
      "(28, 28, 1000)\n",
      "(28, 28, 1000)\n",
      "(28, 28, 1000)\n",
      "(28, 28, 1000)\n"
     ]
    },
    {
     "name": "stderr",
     "output_type": "stream",
     "text": [
      "Configuring baklava HD basis of 5 layers:\n",
      "Layer No.0: \t 1000 dimension vector with kernel of size 7\n",
      "Layer No.1: \t 1000 dimension vector with kernel of size 4\n",
      "Layer No.2: \t 1000 dimension vector with kernel of size 9\n",
      "Layer No.3: \t 1000 dimension vector with kernel of size 3\n",
      "Layer No.4: \t 1000 dimension vector with kernel of size 1\n"
     ]
    },
    {
     "name": "stdout",
     "output_type": "stream",
     "text": [
      "(28, 28, 1000)\n"
     ]
    },
    {
     "name": "stderr",
     "output_type": "stream",
     "text": [
      "Encoding time: 0.30817604064941406 \n",
      "Dumping basis into file: base_4824.pkl \n"
     ]
    },
    {
     "name": "stdout",
     "output_type": "stream",
     "text": [
      "Assigned BID:  4824\n"
     ]
    },
    {
     "name": "stderr",
     "output_type": "stream",
     "text": [
      "Encoding data of shape (20000, 784)\n"
     ]
    },
    {
     "data": {
      "application/vnd.jupyter.widget-view+json": {
       "model_id": "a334999399614cfda9d9ccb8ec61e51d",
       "version_major": 2,
       "version_minor": 0
      },
      "text/plain": [
       "HBox(children=(IntProgress(value=0, description='samples encoded', max=20000, style=ProgressStyle(description_…"
      ]
     },
     "metadata": {},
     "output_type": "display_data"
    },
    {
     "name": "stdout",
     "output_type": "stream",
     "text": [
      "\n"
     ]
    },
    {
     "name": "stderr",
     "output_type": "stream",
     "text": [
      "Time spent: 30 sec\n",
      "Encoding data of shape (10000, 784)\n"
     ]
    },
    {
     "data": {
      "application/vnd.jupyter.widget-view+json": {
       "model_id": "dccaec82a8584537a4684d93ecd25d35",
       "version_major": 2,
       "version_minor": 0
      },
      "text/plain": [
       "HBox(children=(IntProgress(value=0, description='samples encoded', max=10000, style=ProgressStyle(description_…"
      ]
     },
     "metadata": {},
     "output_type": "display_data"
    },
    {
     "name": "stdout",
     "output_type": "stream",
     "text": [
      "\n"
     ]
    },
    {
     "name": "stderr",
     "output_type": "stream",
     "text": [
      "Time spent: 15 sec\n"
     ]
    },
    {
     "data": {
      "application/vnd.jupyter.widget-view+json": {
       "model_id": "4011e7b04f0e49bf83698b7c81256499",
       "version_major": 2,
       "version_minor": 0
      },
      "text/plain": [
       "HBox(children=(IntProgress(value=0, description='epochs', style=ProgressStyle(description_width='initial')), H…"
      ]
     },
     "metadata": {},
     "output_type": "display_data"
    },
    {
     "name": "stderr",
     "output_type": "stream",
     "text": [
      "Fitting with configuration: [('one_shot', 0), ('dropout', 0), ('lr', 0.037)] \n"
     ]
    },
    {
     "name": "stdout",
     "output_type": "stream",
     "text": [
      "Train: 0.992700 \t \t Test: 0.971300\n",
      "Train: 0.998150 \t \t Test: 0.972000\n",
      "Train: 0.999200 \t \t Test: 0.972300\n",
      "Train: 0.999550 \t \t Test: 0.970800\n",
      "Train: 0.999600 \t \t Test: 0.972800\n",
      "Train: 1.000000 \t \t Test: 0.972600\n",
      "(28, 28, 1000)\n",
      "(28, 28, 1000)\n",
      "(28, 28, 1000)\n",
      "(28, 28, 1000)\n"
     ]
    },
    {
     "name": "stderr",
     "output_type": "stream",
     "text": [
      "Configuring baklava HD basis of 5 layers:\n",
      "Layer No.0: \t 1000 dimension vector with kernel of size 7\n",
      "Layer No.1: \t 1000 dimension vector with kernel of size 4\n",
      "Layer No.2: \t 1000 dimension vector with kernel of size 9\n",
      "Layer No.3: \t 1000 dimension vector with kernel of size 3\n",
      "Layer No.4: \t 1000 dimension vector with kernel of size 1\n"
     ]
    },
    {
     "name": "stdout",
     "output_type": "stream",
     "text": [
      "(28, 28, 1000)\n"
     ]
    },
    {
     "name": "stderr",
     "output_type": "stream",
     "text": [
      "Encoding time: 0.29920053482055664 \n",
      "Dumping basis into file: base_4906.pkl \n"
     ]
    },
    {
     "name": "stdout",
     "output_type": "stream",
     "text": [
      "Assigned BID:  4906\n"
     ]
    },
    {
     "name": "stderr",
     "output_type": "stream",
     "text": [
      "Encoding data of shape (20000, 784)\n"
     ]
    },
    {
     "data": {
      "application/vnd.jupyter.widget-view+json": {
       "model_id": "3efe3672e49f41298ed98b9ffaa64aa4",
       "version_major": 2,
       "version_minor": 0
      },
      "text/plain": [
       "HBox(children=(IntProgress(value=0, description='samples encoded', max=20000, style=ProgressStyle(description_…"
      ]
     },
     "metadata": {},
     "output_type": "display_data"
    },
    {
     "name": "stdout",
     "output_type": "stream",
     "text": [
      "\n"
     ]
    },
    {
     "name": "stderr",
     "output_type": "stream",
     "text": [
      "Time spent: 32 sec\n",
      "Encoding data of shape (10000, 784)\n"
     ]
    },
    {
     "data": {
      "application/vnd.jupyter.widget-view+json": {
       "model_id": "fd5a809a82e344f98cc33031e6bb5d26",
       "version_major": 2,
       "version_minor": 0
      },
      "text/plain": [
       "HBox(children=(IntProgress(value=0, description='samples encoded', max=10000, style=ProgressStyle(description_…"
      ]
     },
     "metadata": {},
     "output_type": "display_data"
    },
    {
     "name": "stdout",
     "output_type": "stream",
     "text": [
      "\n"
     ]
    },
    {
     "name": "stderr",
     "output_type": "stream",
     "text": [
      "Time spent: 15 sec\n"
     ]
    },
    {
     "data": {
      "application/vnd.jupyter.widget-view+json": {
       "model_id": "9a0f2de434d5483fa5e7424f6b24b11d",
       "version_major": 2,
       "version_minor": 0
      },
      "text/plain": [
       "HBox(children=(IntProgress(value=0, description='epochs', style=ProgressStyle(description_width='initial')), H…"
      ]
     },
     "metadata": {},
     "output_type": "display_data"
    },
    {
     "name": "stderr",
     "output_type": "stream",
     "text": [
      "Fitting with configuration: [('one_shot', 0), ('dropout', 0), ('lr', 0.037)] \n"
     ]
    },
    {
     "name": "stdout",
     "output_type": "stream",
     "text": [
      "Train: 0.993150 \t \t Test: 0.966600\n",
      "Train: 0.998150 \t \t Test: 0.967100\n",
      "Train: 0.999700 \t \t Test: 0.972400\n",
      "Train: 0.999550 \t \t Test: 0.971700\n",
      "Train: 1.000000 \t \t Test: 0.973300\n",
      "Train: 1.000000 \t \t Test: 0.973300\n",
      "{'D': 5000, 'nLayers': 4, 'uniform_dim': 1, 'uniform_ker': 0, 'dArr': [1000, 1000, 1000, 1000, 1000], 'k': array([8, 7, 3, 6, 7, 4, 1, 4, 3]), 'kArr': array([8, 1, 5, 4])}\n",
      "(28, 28, 1250)\n",
      "(28, 28, 1250)\n"
     ]
    },
    {
     "name": "stderr",
     "output_type": "stream",
     "text": [
      "Configuring baklava HD basis of 4 layers:\n",
      "Layer No.0: \t 1250 dimension vector with kernel of size 8\n",
      "Layer No.1: \t 1250 dimension vector with kernel of size 1\n",
      "Layer No.2: \t 1250 dimension vector with kernel of size 5\n"
     ]
    },
    {
     "name": "stdout",
     "output_type": "stream",
     "text": [
      "(28, 28, 1250)\n",
      "(28, 28, 1250)\n"
     ]
    },
    {
     "name": "stderr",
     "output_type": "stream",
     "text": [
      "Layer No.3: \t 1250 dimension vector with kernel of size 4\n",
      "Encoding time: 0.30428051948547363 \n",
      "Dumping basis into file: base_4989.pkl \n"
     ]
    },
    {
     "name": "stdout",
     "output_type": "stream",
     "text": [
      "Assigned BID:  4989\n"
     ]
    },
    {
     "name": "stderr",
     "output_type": "stream",
     "text": [
      "Encoding data of shape (20000, 784)\n"
     ]
    },
    {
     "data": {
      "application/vnd.jupyter.widget-view+json": {
       "model_id": "331cee52516f4fdbbba54a0b44b6eced",
       "version_major": 2,
       "version_minor": 0
      },
      "text/plain": [
       "HBox(children=(IntProgress(value=0, description='samples encoded', max=20000, style=ProgressStyle(description_…"
      ]
     },
     "metadata": {},
     "output_type": "display_data"
    },
    {
     "name": "stdout",
     "output_type": "stream",
     "text": [
      "\n"
     ]
    },
    {
     "name": "stderr",
     "output_type": "stream",
     "text": [
      "Time spent: 30 sec\n",
      "Encoding data of shape (10000, 784)\n"
     ]
    },
    {
     "data": {
      "application/vnd.jupyter.widget-view+json": {
       "model_id": "2b7edd77222f40d692ad89d26b06163c",
       "version_major": 2,
       "version_minor": 0
      },
      "text/plain": [
       "HBox(children=(IntProgress(value=0, description='samples encoded', max=10000, style=ProgressStyle(description_…"
      ]
     },
     "metadata": {},
     "output_type": "display_data"
    },
    {
     "name": "stdout",
     "output_type": "stream",
     "text": [
      "\n"
     ]
    },
    {
     "name": "stderr",
     "output_type": "stream",
     "text": [
      "Time spent: 15 sec\n"
     ]
    },
    {
     "data": {
      "application/vnd.jupyter.widget-view+json": {
       "model_id": "c7c81289e65447049d8845946e096507",
       "version_major": 2,
       "version_minor": 0
      },
      "text/plain": [
       "HBox(children=(IntProgress(value=0, description='epochs', style=ProgressStyle(description_width='initial')), H…"
      ]
     },
     "metadata": {},
     "output_type": "display_data"
    },
    {
     "name": "stderr",
     "output_type": "stream",
     "text": [
      "Fitting with configuration: [('one_shot', 0), ('dropout', 0), ('lr', 0.037)] \n"
     ]
    },
    {
     "name": "stdout",
     "output_type": "stream",
     "text": [
      "Train: 0.993000 \t \t Test: 0.968800\n",
      "Train: 0.998300 \t \t Test: 0.966600\n",
      "Train: 0.999350 \t \t Test: 0.968400\n",
      "Train: 0.999550 \t \t Test: 0.973500\n",
      "Train: 1.000000 \t \t Test: 0.972300\n",
      "(28, 28, 1250)\n",
      "(28, 28, 1250)\n"
     ]
    },
    {
     "name": "stderr",
     "output_type": "stream",
     "text": [
      "Configuring baklava HD basis of 4 layers:\n",
      "Layer No.0: \t 1250 dimension vector with kernel of size 8\n",
      "Layer No.1: \t 1250 dimension vector with kernel of size 1\n",
      "Layer No.2: \t 1250 dimension vector with kernel of size 5\n"
     ]
    },
    {
     "name": "stdout",
     "output_type": "stream",
     "text": [
      "(28, 28, 1250)\n",
      "(28, 28, 1250)\n"
     ]
    },
    {
     "name": "stderr",
     "output_type": "stream",
     "text": [
      "Layer No.3: \t 1250 dimension vector with kernel of size 4\n",
      "Encoding time: 0.3031890392303467 \n",
      "Dumping basis into file: base_5065.pkl \n"
     ]
    },
    {
     "name": "stdout",
     "output_type": "stream",
     "text": [
      "Assigned BID:  5065\n"
     ]
    },
    {
     "name": "stderr",
     "output_type": "stream",
     "text": [
      "Encoding data of shape (20000, 784)\n"
     ]
    },
    {
     "data": {
      "application/vnd.jupyter.widget-view+json": {
       "model_id": "52de10f0bce24cf4ba93f67d20cc7f4c",
       "version_major": 2,
       "version_minor": 0
      },
      "text/plain": [
       "HBox(children=(IntProgress(value=0, description='samples encoded', max=20000, style=ProgressStyle(description_…"
      ]
     },
     "metadata": {},
     "output_type": "display_data"
    },
    {
     "name": "stdout",
     "output_type": "stream",
     "text": [
      "\n"
     ]
    },
    {
     "name": "stderr",
     "output_type": "stream",
     "text": [
      "Time spent: 30 sec\n",
      "Encoding data of shape (10000, 784)\n"
     ]
    },
    {
     "data": {
      "application/vnd.jupyter.widget-view+json": {
       "model_id": "e107f8bba1864ecbba5b6c05e5fd9bdc",
       "version_major": 2,
       "version_minor": 0
      },
      "text/plain": [
       "HBox(children=(IntProgress(value=0, description='samples encoded', max=10000, style=ProgressStyle(description_…"
      ]
     },
     "metadata": {},
     "output_type": "display_data"
    },
    {
     "name": "stdout",
     "output_type": "stream",
     "text": [
      "\n"
     ]
    },
    {
     "name": "stderr",
     "output_type": "stream",
     "text": [
      "Time spent: 15 sec\n"
     ]
    },
    {
     "data": {
      "application/vnd.jupyter.widget-view+json": {
       "model_id": "58f1460c859a48aab487e96a10229025",
       "version_major": 2,
       "version_minor": 0
      },
      "text/plain": [
       "HBox(children=(IntProgress(value=0, description='epochs', style=ProgressStyle(description_width='initial')), H…"
      ]
     },
     "metadata": {},
     "output_type": "display_data"
    },
    {
     "name": "stderr",
     "output_type": "stream",
     "text": [
      "Fitting with configuration: [('one_shot', 0), ('dropout', 0), ('lr', 0.037)] \n"
     ]
    },
    {
     "name": "stdout",
     "output_type": "stream",
     "text": [
      "Train: 0.992700 \t \t Test: 0.965700\n",
      "Train: 0.998150 \t \t Test: 0.970300\n",
      "Train: 0.999800 \t \t Test: 0.972200\n",
      "Train: 0.999200 \t \t Test: 0.973400\n",
      "Train: 1.000000 \t \t Test: 0.973400\n",
      "(28, 28, 1250)\n"
     ]
    },
    {
     "name": "stderr",
     "output_type": "stream",
     "text": [
      "Configuring baklava HD basis of 4 layers:\n",
      "Layer No.0: \t 1250 dimension vector with kernel of size 8\n",
      "Layer No.1: \t 1250 dimension vector with kernel of size 1\n"
     ]
    },
    {
     "name": "stdout",
     "output_type": "stream",
     "text": [
      "(28, 28, 1250)\n",
      "(28, 28, 1250)\n",
      "(28, 28, 1250)\n"
     ]
    },
    {
     "name": "stderr",
     "output_type": "stream",
     "text": [
      "Layer No.2: \t 1250 dimension vector with kernel of size 5\n",
      "Layer No.3: \t 1250 dimension vector with kernel of size 4\n",
      "Encoding time: 0.3161187171936035 \n",
      "Dumping basis into file: base_5140.pkl \n"
     ]
    },
    {
     "name": "stdout",
     "output_type": "stream",
     "text": [
      "Assigned BID:  5140\n"
     ]
    },
    {
     "name": "stderr",
     "output_type": "stream",
     "text": [
      "Encoding data of shape (20000, 784)\n"
     ]
    },
    {
     "data": {
      "application/vnd.jupyter.widget-view+json": {
       "model_id": "ec089f1c85d7450c9256a5eb2cfa519b",
       "version_major": 2,
       "version_minor": 0
      },
      "text/plain": [
       "HBox(children=(IntProgress(value=0, description='samples encoded', max=20000, style=ProgressStyle(description_…"
      ]
     },
     "metadata": {},
     "output_type": "display_data"
    },
    {
     "name": "stdout",
     "output_type": "stream",
     "text": [
      "\n"
     ]
    },
    {
     "name": "stderr",
     "output_type": "stream",
     "text": [
      "Time spent: 30 sec\n",
      "Encoding data of shape (10000, 784)\n"
     ]
    },
    {
     "data": {
      "application/vnd.jupyter.widget-view+json": {
       "model_id": "cd959f09b5f946e6b06c29432537a7aa",
       "version_major": 2,
       "version_minor": 0
      },
      "text/plain": [
       "HBox(children=(IntProgress(value=0, description='samples encoded', max=10000, style=ProgressStyle(description_…"
      ]
     },
     "metadata": {},
     "output_type": "display_data"
    },
    {
     "name": "stdout",
     "output_type": "stream",
     "text": [
      "\n"
     ]
    },
    {
     "name": "stderr",
     "output_type": "stream",
     "text": [
      "Time spent: 14 sec\n"
     ]
    },
    {
     "data": {
      "application/vnd.jupyter.widget-view+json": {
       "model_id": "fb0cebfaf91e41e69e0e4079641ab66d",
       "version_major": 2,
       "version_minor": 0
      },
      "text/plain": [
       "HBox(children=(IntProgress(value=0, description='epochs', style=ProgressStyle(description_width='initial')), H…"
      ]
     },
     "metadata": {},
     "output_type": "display_data"
    },
    {
     "name": "stderr",
     "output_type": "stream",
     "text": [
      "Fitting with configuration: [('one_shot', 0), ('dropout', 0), ('lr', 0.037)] \n"
     ]
    },
    {
     "name": "stdout",
     "output_type": "stream",
     "text": [
      "Train: 0.993900 \t \t Test: 0.968800\n",
      "Train: 0.997900 \t \t Test: 0.974500\n",
      "Train: 0.999350 \t \t Test: 0.973100\n",
      "Train: 0.999600 \t \t Test: 0.971500\n",
      "Train: 1.000000 \t \t Test: 0.974500\n",
      "{'D': 5000, 'nLayers': 7, 'uniform_dim': 1, 'uniform_ker': 0, 'dArr': [1250, 1250, 1250, 1250], 'k': array([8, 7, 3, 6, 7, 4, 1, 4, 3]), 'kArr': array([3, 7, 3, 4, 5, 1, 6])}\n",
      "(28, 28, 714)\n",
      "(28, 28, 714)\n",
      "(28, 28, 714)\n",
      "(28, 28, 714)\n",
      "(28, 28, 714)\n"
     ]
    },
    {
     "name": "stderr",
     "output_type": "stream",
     "text": [
      "Configuring baklava HD basis of 7 layers:\n",
      "Layer No.0: \t 714 dimension vector with kernel of size 3\n",
      "Layer No.1: \t 714 dimension vector with kernel of size 7\n",
      "Layer No.2: \t 714 dimension vector with kernel of size 3\n",
      "Layer No.3: \t 714 dimension vector with kernel of size 4\n",
      "Layer No.4: \t 714 dimension vector with kernel of size 5\n",
      "Layer No.5: \t 714 dimension vector with kernel of size 1\n"
     ]
    },
    {
     "name": "stdout",
     "output_type": "stream",
     "text": [
      "(28, 28, 714)\n",
      "(28, 28, 716)\n"
     ]
    },
    {
     "name": "stderr",
     "output_type": "stream",
     "text": [
      "Layer No.6: \t 716 dimension vector with kernel of size 6\n",
      "Encoding time: 0.27725887298583984 \n",
      "Dumping basis into file: base_5214.pkl \n"
     ]
    },
    {
     "name": "stdout",
     "output_type": "stream",
     "text": [
      "Assigned BID:  5214\n"
     ]
    },
    {
     "name": "stderr",
     "output_type": "stream",
     "text": [
      "Encoding data of shape (20000, 784)\n"
     ]
    },
    {
     "data": {
      "application/vnd.jupyter.widget-view+json": {
       "model_id": "cbbec09920424bcaa6240d019821e61a",
       "version_major": 2,
       "version_minor": 0
      },
      "text/plain": [
       "HBox(children=(IntProgress(value=0, description='samples encoded', max=20000, style=ProgressStyle(description_…"
      ]
     },
     "metadata": {},
     "output_type": "display_data"
    },
    {
     "name": "stdout",
     "output_type": "stream",
     "text": [
      "\n"
     ]
    },
    {
     "name": "stderr",
     "output_type": "stream",
     "text": [
      "Time spent: 30 sec\n",
      "Encoding data of shape (10000, 784)\n"
     ]
    },
    {
     "data": {
      "application/vnd.jupyter.widget-view+json": {
       "model_id": "84747e6c7bfd40deaab3273d5ae3f466",
       "version_major": 2,
       "version_minor": 0
      },
      "text/plain": [
       "HBox(children=(IntProgress(value=0, description='samples encoded', max=10000, style=ProgressStyle(description_…"
      ]
     },
     "metadata": {},
     "output_type": "display_data"
    },
    {
     "name": "stdout",
     "output_type": "stream",
     "text": [
      "\n"
     ]
    },
    {
     "name": "stderr",
     "output_type": "stream",
     "text": [
      "Time spent: 15 sec\n"
     ]
    },
    {
     "data": {
      "application/vnd.jupyter.widget-view+json": {
       "model_id": "6464b1c5ba1c47b687676942ce2e8850",
       "version_major": 2,
       "version_minor": 0
      },
      "text/plain": [
       "HBox(children=(IntProgress(value=0, description='epochs', style=ProgressStyle(description_width='initial')), H…"
      ]
     },
     "metadata": {},
     "output_type": "display_data"
    },
    {
     "name": "stderr",
     "output_type": "stream",
     "text": [
      "Fitting with configuration: [('one_shot', 0), ('dropout', 0), ('lr', 0.037)] \n"
     ]
    },
    {
     "name": "stdout",
     "output_type": "stream",
     "text": [
      "Train: 0.993850 \t \t Test: 0.966500\n",
      "Train: 0.998600 \t \t Test: 0.973900\n",
      "Train: 1.000000 \t \t Test: 0.974200\n",
      "(28, 28, 714)\n",
      "(28, 28, 714)\n",
      "(28, 28, 714)\n",
      "(28, 28, 714)\n",
      "(28, 28, 714)\n"
     ]
    },
    {
     "name": "stderr",
     "output_type": "stream",
     "text": [
      "Configuring baklava HD basis of 7 layers:\n",
      "Layer No.0: \t 714 dimension vector with kernel of size 3\n",
      "Layer No.1: \t 714 dimension vector with kernel of size 7\n",
      "Layer No.2: \t 714 dimension vector with kernel of size 3\n",
      "Layer No.3: \t 714 dimension vector with kernel of size 4\n",
      "Layer No.4: \t 714 dimension vector with kernel of size 5\n",
      "Layer No.5: \t 714 dimension vector with kernel of size 1\n"
     ]
    },
    {
     "name": "stdout",
     "output_type": "stream",
     "text": [
      "(28, 28, 714)\n",
      "(28, 28, 716)\n"
     ]
    },
    {
     "name": "stderr",
     "output_type": "stream",
     "text": [
      "Layer No.6: \t 716 dimension vector with kernel of size 6\n",
      "Encoding time: 0.29720354080200195 \n",
      "Dumping basis into file: base_5280.pkl \n"
     ]
    },
    {
     "name": "stdout",
     "output_type": "stream",
     "text": [
      "Assigned BID:  5280\n"
     ]
    },
    {
     "name": "stderr",
     "output_type": "stream",
     "text": [
      "Encoding data of shape (20000, 784)\n"
     ]
    },
    {
     "data": {
      "application/vnd.jupyter.widget-view+json": {
       "model_id": "6fbe07e684174a8fb28e99a152e2c683",
       "version_major": 2,
       "version_minor": 0
      },
      "text/plain": [
       "HBox(children=(IntProgress(value=0, description='samples encoded', max=20000, style=ProgressStyle(description_…"
      ]
     },
     "metadata": {},
     "output_type": "display_data"
    },
    {
     "name": "stdout",
     "output_type": "stream",
     "text": [
      "\n"
     ]
    },
    {
     "name": "stderr",
     "output_type": "stream",
     "text": [
      "Time spent: 30 sec\n",
      "Encoding data of shape (10000, 784)\n"
     ]
    },
    {
     "data": {
      "application/vnd.jupyter.widget-view+json": {
       "model_id": "79cb3ec12a764fcda42e9bba8d5e8d77",
       "version_major": 2,
       "version_minor": 0
      },
      "text/plain": [
       "HBox(children=(IntProgress(value=0, description='samples encoded', max=10000, style=ProgressStyle(description_…"
      ]
     },
     "metadata": {},
     "output_type": "display_data"
    },
    {
     "name": "stdout",
     "output_type": "stream",
     "text": [
      "\n"
     ]
    },
    {
     "name": "stderr",
     "output_type": "stream",
     "text": [
      "Time spent: 15 sec\n"
     ]
    },
    {
     "data": {
      "application/vnd.jupyter.widget-view+json": {
       "model_id": "64a90f29fc1245ff939e5bb4f40f1ca6",
       "version_major": 2,
       "version_minor": 0
      },
      "text/plain": [
       "HBox(children=(IntProgress(value=0, description='epochs', style=ProgressStyle(description_width='initial')), H…"
      ]
     },
     "metadata": {},
     "output_type": "display_data"
    },
    {
     "name": "stderr",
     "output_type": "stream",
     "text": [
      "Fitting with configuration: [('one_shot', 0), ('dropout', 0), ('lr', 0.037)] \n"
     ]
    },
    {
     "name": "stdout",
     "output_type": "stream",
     "text": [
      "Train: 0.994600 \t \t Test: 0.967400\n",
      "Train: 0.998750 \t \t Test: 0.971800\n",
      "Train: 0.998850 \t \t Test: 0.973100\n",
      "Train: 0.999650 \t \t Test: 0.971200\n",
      "Train: 0.999850 \t \t Test: 0.973900\n",
      "Train: 1.000000 \t \t Test: 0.973900\n",
      "(28, 28, 714)\n",
      "(28, 28, 714)\n",
      "(28, 28, 714)\n",
      "(28, 28, 714)\n",
      "(28, 28, 714)\n"
     ]
    },
    {
     "name": "stderr",
     "output_type": "stream",
     "text": [
      "Configuring baklava HD basis of 7 layers:\n",
      "Layer No.0: \t 714 dimension vector with kernel of size 3\n",
      "Layer No.1: \t 714 dimension vector with kernel of size 7\n",
      "Layer No.2: \t 714 dimension vector with kernel of size 3\n",
      "Layer No.3: \t 714 dimension vector with kernel of size 4\n",
      "Layer No.4: \t 714 dimension vector with kernel of size 5\n",
      "Layer No.5: \t 714 dimension vector with kernel of size 1\n"
     ]
    },
    {
     "name": "stdout",
     "output_type": "stream",
     "text": [
      "(28, 28, 714)\n",
      "(28, 28, 716)\n"
     ]
    },
    {
     "name": "stderr",
     "output_type": "stream",
     "text": [
      "Layer No.6: \t 716 dimension vector with kernel of size 6\n",
      "Encoding time: 0.28324460983276367 \n",
      "Dumping basis into file: base_5361.pkl \n"
     ]
    },
    {
     "name": "stdout",
     "output_type": "stream",
     "text": [
      "Assigned BID:  5361\n"
     ]
    },
    {
     "name": "stderr",
     "output_type": "stream",
     "text": [
      "Encoding data of shape (20000, 784)\n"
     ]
    },
    {
     "data": {
      "application/vnd.jupyter.widget-view+json": {
       "model_id": "4260c58094e948a48427199da4a32a7a",
       "version_major": 2,
       "version_minor": 0
      },
      "text/plain": [
       "HBox(children=(IntProgress(value=0, description='samples encoded', max=20000, style=ProgressStyle(description_…"
      ]
     },
     "metadata": {},
     "output_type": "display_data"
    },
    {
     "name": "stdout",
     "output_type": "stream",
     "text": [
      "\n"
     ]
    },
    {
     "name": "stderr",
     "output_type": "stream",
     "text": [
      "Time spent: 30 sec\n",
      "Encoding data of shape (10000, 784)\n"
     ]
    },
    {
     "data": {
      "application/vnd.jupyter.widget-view+json": {
       "model_id": "dbf9826dc4204bbda7731848b229245b",
       "version_major": 2,
       "version_minor": 0
      },
      "text/plain": [
       "HBox(children=(IntProgress(value=0, description='samples encoded', max=10000, style=ProgressStyle(description_…"
      ]
     },
     "metadata": {},
     "output_type": "display_data"
    },
    {
     "name": "stdout",
     "output_type": "stream",
     "text": [
      "\n"
     ]
    },
    {
     "name": "stderr",
     "output_type": "stream",
     "text": [
      "Time spent: 15 sec\n"
     ]
    },
    {
     "data": {
      "application/vnd.jupyter.widget-view+json": {
       "model_id": "182e225bbae04685ab56a8c81c1360c2",
       "version_major": 2,
       "version_minor": 0
      },
      "text/plain": [
       "HBox(children=(IntProgress(value=0, description='epochs', style=ProgressStyle(description_width='initial')), H…"
      ]
     },
     "metadata": {},
     "output_type": "display_data"
    },
    {
     "name": "stderr",
     "output_type": "stream",
     "text": [
      "Fitting with configuration: [('one_shot', 0), ('dropout', 0), ('lr', 0.037)] \n"
     ]
    },
    {
     "name": "stdout",
     "output_type": "stream",
     "text": [
      "Train: 0.994700 \t \t Test: 0.968100\n",
      "Train: 0.998450 \t \t Test: 0.969600\n",
      "Train: 0.999200 \t \t Test: 0.971900\n",
      "Train: 1.000000 \t \t Test: 0.973700\n",
      "{'D': 5000, 'nLayers': 5, 'uniform_dim': 1, 'uniform_ker': 0, 'dArr': [714, 714, 714, 714, 714, 714, 716], 'k': array([8, 7, 3, 6, 7, 4, 1, 4, 3]), 'kArr': array([7, 8, 4, 4, 3])}\n",
      "(28, 28, 1000)\n",
      "(28, 28, 1000)\n",
      "(28, 28, 1000)\n",
      "(28, 28, 1000)\n",
      "(28, 28, 1000)\n"
     ]
    },
    {
     "name": "stderr",
     "output_type": "stream",
     "text": [
      "Configuring baklava HD basis of 5 layers:\n",
      "Layer No.0: \t 1000 dimension vector with kernel of size 7\n",
      "Layer No.1: \t 1000 dimension vector with kernel of size 8\n",
      "Layer No.2: \t 1000 dimension vector with kernel of size 4\n",
      "Layer No.3: \t 1000 dimension vector with kernel of size 4\n",
      "Layer No.4: \t 1000 dimension vector with kernel of size 3\n",
      "Encoding time: 0.18849515914916992 \n",
      "Dumping basis into file: base_5432.pkl \n"
     ]
    },
    {
     "name": "stdout",
     "output_type": "stream",
     "text": [
      "Assigned BID:  5432\n"
     ]
    },
    {
     "name": "stderr",
     "output_type": "stream",
     "text": [
      "Encoding data of shape (20000, 784)\n"
     ]
    },
    {
     "data": {
      "application/vnd.jupyter.widget-view+json": {
       "model_id": "fa82e4750a7749aaa0b3e3b21032cd58",
       "version_major": 2,
       "version_minor": 0
      },
      "text/plain": [
       "HBox(children=(IntProgress(value=0, description='samples encoded', max=20000, style=ProgressStyle(description_…"
      ]
     },
     "metadata": {},
     "output_type": "display_data"
    },
    {
     "name": "stdout",
     "output_type": "stream",
     "text": [
      "\n"
     ]
    },
    {
     "name": "stderr",
     "output_type": "stream",
     "text": [
      "Time spent: 31 sec\n",
      "Encoding data of shape (10000, 784)\n"
     ]
    },
    {
     "data": {
      "application/vnd.jupyter.widget-view+json": {
       "model_id": "a98da8d2bc474558a1a3ea4219744fb6",
       "version_major": 2,
       "version_minor": 0
      },
      "text/plain": [
       "HBox(children=(IntProgress(value=0, description='samples encoded', max=10000, style=ProgressStyle(description_…"
      ]
     },
     "metadata": {},
     "output_type": "display_data"
    },
    {
     "name": "stdout",
     "output_type": "stream",
     "text": [
      "\n"
     ]
    },
    {
     "name": "stderr",
     "output_type": "stream",
     "text": [
      "Time spent: 16 sec\n"
     ]
    },
    {
     "data": {
      "application/vnd.jupyter.widget-view+json": {
       "model_id": "db0d920e4a474d5aa230e55d94376440",
       "version_major": 2,
       "version_minor": 0
      },
      "text/plain": [
       "HBox(children=(IntProgress(value=0, description='epochs', style=ProgressStyle(description_width='initial')), H…"
      ]
     },
     "metadata": {},
     "output_type": "display_data"
    },
    {
     "name": "stderr",
     "output_type": "stream",
     "text": [
      "Fitting with configuration: [('one_shot', 0), ('dropout', 0), ('lr', 0.037)] \n"
     ]
    },
    {
     "name": "stdout",
     "output_type": "stream",
     "text": [
      "Train: 0.995400 \t \t Test: 0.969200\n",
      "Train: 0.999200 \t \t Test: 0.971500\n",
      "Train: 0.999650 \t \t Test: 0.972200\n",
      "Train: 1.000000 \t \t Test: 0.974100\n",
      "(28, 28, 1000)\n",
      "(28, 28, 1000)\n",
      "(28, 28, 1000)\n",
      "(28, 28, 1000)\n",
      "(28, 28, 1000)\n"
     ]
    },
    {
     "name": "stderr",
     "output_type": "stream",
     "text": [
      "Configuring baklava HD basis of 5 layers:\n",
      "Layer No.0: \t 1000 dimension vector with kernel of size 7\n",
      "Layer No.1: \t 1000 dimension vector with kernel of size 8\n",
      "Layer No.2: \t 1000 dimension vector with kernel of size 4\n",
      "Layer No.3: \t 1000 dimension vector with kernel of size 4\n",
      "Layer No.4: \t 1000 dimension vector with kernel of size 3\n",
      "Encoding time: 0.18650126457214355 \n",
      "Dumping basis into file: base_5506.pkl \n"
     ]
    },
    {
     "name": "stdout",
     "output_type": "stream",
     "text": [
      "Assigned BID:  5506\n"
     ]
    },
    {
     "name": "stderr",
     "output_type": "stream",
     "text": [
      "Encoding data of shape (20000, 784)\n"
     ]
    },
    {
     "data": {
      "application/vnd.jupyter.widget-view+json": {
       "model_id": "d077f3e8b1a74d708c8676291fc067ac",
       "version_major": 2,
       "version_minor": 0
      },
      "text/plain": [
       "HBox(children=(IntProgress(value=0, description='samples encoded', max=20000, style=ProgressStyle(description_…"
      ]
     },
     "metadata": {},
     "output_type": "display_data"
    },
    {
     "name": "stdout",
     "output_type": "stream",
     "text": [
      "\n"
     ]
    },
    {
     "name": "stderr",
     "output_type": "stream",
     "text": [
      "Time spent: 31 sec\n",
      "Encoding data of shape (10000, 784)\n"
     ]
    },
    {
     "data": {
      "application/vnd.jupyter.widget-view+json": {
       "model_id": "f2d43ec1136a4c6fa7da3751622fc419",
       "version_major": 2,
       "version_minor": 0
      },
      "text/plain": [
       "HBox(children=(IntProgress(value=0, description='samples encoded', max=10000, style=ProgressStyle(description_…"
      ]
     },
     "metadata": {},
     "output_type": "display_data"
    },
    {
     "name": "stdout",
     "output_type": "stream",
     "text": [
      "\n"
     ]
    },
    {
     "name": "stderr",
     "output_type": "stream",
     "text": [
      "Time spent: 14 sec\n"
     ]
    },
    {
     "data": {
      "application/vnd.jupyter.widget-view+json": {
       "model_id": "995a9b984af04c21a7e0de931578341c",
       "version_major": 2,
       "version_minor": 0
      },
      "text/plain": [
       "HBox(children=(IntProgress(value=0, description='epochs', style=ProgressStyle(description_width='initial')), H…"
      ]
     },
     "metadata": {},
     "output_type": "display_data"
    },
    {
     "name": "stderr",
     "output_type": "stream",
     "text": [
      "Fitting with configuration: [('one_shot', 0), ('dropout', 0), ('lr', 0.037)] \n"
     ]
    },
    {
     "name": "stdout",
     "output_type": "stream",
     "text": [
      "Train: 0.995700 \t \t Test: 0.971500\n",
      "Train: 0.999500 \t \t Test: 0.972300\n",
      "Train: 0.999850 \t \t Test: 0.971800\n",
      "Train: 0.999550 \t \t Test: 0.970500\n",
      "Train: 1.000000 \t \t Test: 0.971500\n",
      "(28, 28, 1000)\n",
      "(28, 28, 1000)\n",
      "(28, 28, 1000)\n",
      "(28, 28, 1000)\n",
      "(28, 28, 1000)\n"
     ]
    },
    {
     "name": "stderr",
     "output_type": "stream",
     "text": [
      "Configuring baklava HD basis of 5 layers:\n",
      "Layer No.0: \t 1000 dimension vector with kernel of size 7\n",
      "Layer No.1: \t 1000 dimension vector with kernel of size 8\n",
      "Layer No.2: \t 1000 dimension vector with kernel of size 4\n",
      "Layer No.3: \t 1000 dimension vector with kernel of size 4\n",
      "Layer No.4: \t 1000 dimension vector with kernel of size 3\n",
      "Encoding time: 0.18648386001586914 \n",
      "Dumping basis into file: base_5584.pkl \n"
     ]
    },
    {
     "name": "stdout",
     "output_type": "stream",
     "text": [
      "Assigned BID:  5584\n"
     ]
    },
    {
     "name": "stderr",
     "output_type": "stream",
     "text": [
      "Encoding data of shape (20000, 784)\n"
     ]
    },
    {
     "data": {
      "application/vnd.jupyter.widget-view+json": {
       "model_id": "19526b3f9ebe405a9d98fe785eed845d",
       "version_major": 2,
       "version_minor": 0
      },
      "text/plain": [
       "HBox(children=(IntProgress(value=0, description='samples encoded', max=20000, style=ProgressStyle(description_…"
      ]
     },
     "metadata": {},
     "output_type": "display_data"
    },
    {
     "name": "stdout",
     "output_type": "stream",
     "text": [
      "\n"
     ]
    },
    {
     "name": "stderr",
     "output_type": "stream",
     "text": [
      "Time spent: 31 sec\n",
      "Encoding data of shape (10000, 784)\n"
     ]
    },
    {
     "data": {
      "application/vnd.jupyter.widget-view+json": {
       "model_id": "72a75f3b1607403eb93a914b3b3d9346",
       "version_major": 2,
       "version_minor": 0
      },
      "text/plain": [
       "HBox(children=(IntProgress(value=0, description='samples encoded', max=10000, style=ProgressStyle(description_…"
      ]
     },
     "metadata": {},
     "output_type": "display_data"
    },
    {
     "name": "stdout",
     "output_type": "stream",
     "text": [
      "\n"
     ]
    },
    {
     "name": "stderr",
     "output_type": "stream",
     "text": [
      "Time spent: 15 sec\n"
     ]
    },
    {
     "data": {
      "application/vnd.jupyter.widget-view+json": {
       "model_id": "e3595e8709a24b46a25a50567e121bc3",
       "version_major": 2,
       "version_minor": 0
      },
      "text/plain": [
       "HBox(children=(IntProgress(value=0, description='epochs', style=ProgressStyle(description_width='initial')), H…"
      ]
     },
     "metadata": {},
     "output_type": "display_data"
    },
    {
     "name": "stderr",
     "output_type": "stream",
     "text": [
      "Fitting with configuration: [('one_shot', 0), ('dropout', 0), ('lr', 0.037)] \n"
     ]
    },
    {
     "name": "stdout",
     "output_type": "stream",
     "text": [
      "Train: 0.994850 \t \t Test: 0.969400\n",
      "Train: 0.998900 \t \t Test: 0.972700\n",
      "Train: 0.999750 \t \t Test: 0.972400\n",
      "Train: 0.999900 \t \t Test: 0.972100\n",
      "Train: 1.000000 \t \t Test: 0.974200\n",
      "{'D': 5000, 'nLayers': 5, 'uniform_dim': 1, 'uniform_ker': 0, 'dArr': [1000, 1000, 1000, 1000, 1000], 'k': array([8, 7, 3, 6, 7, 4, 1, 4, 3]), 'kArr': array([3, 7, 8, 4, 9])}\n",
      "(28, 28, 1000)\n",
      "(28, 28, 1000)\n",
      "(28, 28, 1000)\n",
      "(28, 28, 1000)\n",
      "(28, 28, 1000)\n"
     ]
    },
    {
     "name": "stderr",
     "output_type": "stream",
     "text": [
      "Configuring baklava HD basis of 5 layers:\n",
      "Layer No.0: \t 1000 dimension vector with kernel of size 3\n",
      "Layer No.1: \t 1000 dimension vector with kernel of size 7\n",
      "Layer No.2: \t 1000 dimension vector with kernel of size 8\n",
      "Layer No.3: \t 1000 dimension vector with kernel of size 4\n",
      "Layer No.4: \t 1000 dimension vector with kernel of size 9\n",
      "Encoding time: 0.1844632625579834 \n",
      "Dumping basis into file: base_5662.pkl \n"
     ]
    },
    {
     "name": "stdout",
     "output_type": "stream",
     "text": [
      "Assigned BID:  5662\n"
     ]
    },
    {
     "name": "stderr",
     "output_type": "stream",
     "text": [
      "Encoding data of shape (20000, 784)\n"
     ]
    },
    {
     "data": {
      "application/vnd.jupyter.widget-view+json": {
       "model_id": "4a1ec9c3adcf4adbaa63a0717ee26293",
       "version_major": 2,
       "version_minor": 0
      },
      "text/plain": [
       "HBox(children=(IntProgress(value=0, description='samples encoded', max=20000, style=ProgressStyle(description_…"
      ]
     },
     "metadata": {},
     "output_type": "display_data"
    },
    {
     "name": "stdout",
     "output_type": "stream",
     "text": [
      "\n"
     ]
    },
    {
     "name": "stderr",
     "output_type": "stream",
     "text": [
      "Time spent: 29 sec\n",
      "Encoding data of shape (10000, 784)\n"
     ]
    },
    {
     "data": {
      "application/vnd.jupyter.widget-view+json": {
       "model_id": "07a430b47e6349e18e8e91163eba098e",
       "version_major": 2,
       "version_minor": 0
      },
      "text/plain": [
       "HBox(children=(IntProgress(value=0, description='samples encoded', max=10000, style=ProgressStyle(description_…"
      ]
     },
     "metadata": {},
     "output_type": "display_data"
    },
    {
     "name": "stdout",
     "output_type": "stream",
     "text": [
      "\n"
     ]
    },
    {
     "name": "stderr",
     "output_type": "stream",
     "text": [
      "Time spent: 14 sec\n"
     ]
    },
    {
     "data": {
      "application/vnd.jupyter.widget-view+json": {
       "model_id": "ccec3331020a437f99d47a7f0cf116ff",
       "version_major": 2,
       "version_minor": 0
      },
      "text/plain": [
       "HBox(children=(IntProgress(value=0, description='epochs', style=ProgressStyle(description_width='initial')), H…"
      ]
     },
     "metadata": {},
     "output_type": "display_data"
    },
    {
     "name": "stderr",
     "output_type": "stream",
     "text": [
      "Fitting with configuration: [('one_shot', 0), ('dropout', 0), ('lr', 0.037)] \n"
     ]
    },
    {
     "name": "stdout",
     "output_type": "stream",
     "text": [
      "Train: 0.992800 \t \t Test: 0.964100\n",
      "Train: 0.998300 \t \t Test: 0.969600\n",
      "Train: 0.999200 \t \t Test: 0.967800\n",
      "Train: 1.000000 \t \t Test: 0.969500\n",
      "Train: 1.000000 \t \t Test: 0.969500\n",
      "(28, 28, 1000)\n",
      "(28, 28, 1000)\n",
      "(28, 28, 1000)\n",
      "(28, 28, 1000)\n",
      "(28, 28, 1000)\n"
     ]
    },
    {
     "name": "stderr",
     "output_type": "stream",
     "text": [
      "Configuring baklava HD basis of 5 layers:\n",
      "Layer No.0: \t 1000 dimension vector with kernel of size 3\n",
      "Layer No.1: \t 1000 dimension vector with kernel of size 7\n",
      "Layer No.2: \t 1000 dimension vector with kernel of size 8\n",
      "Layer No.3: \t 1000 dimension vector with kernel of size 4\n",
      "Layer No.4: \t 1000 dimension vector with kernel of size 9\n",
      "Encoding time: 0.17056965827941895 \n",
      "Dumping basis into file: base_5734.pkl \n"
     ]
    },
    {
     "name": "stdout",
     "output_type": "stream",
     "text": [
      "Assigned BID:  5734\n"
     ]
    },
    {
     "name": "stderr",
     "output_type": "stream",
     "text": [
      "Encoding data of shape (20000, 784)\n"
     ]
    },
    {
     "data": {
      "application/vnd.jupyter.widget-view+json": {
       "model_id": "9a5f4e2356c64247881746dec7e622bf",
       "version_major": 2,
       "version_minor": 0
      },
      "text/plain": [
       "HBox(children=(IntProgress(value=0, description='samples encoded', max=20000, style=ProgressStyle(description_…"
      ]
     },
     "metadata": {},
     "output_type": "display_data"
    },
    {
     "name": "stdout",
     "output_type": "stream",
     "text": [
      "\n"
     ]
    },
    {
     "name": "stderr",
     "output_type": "stream",
     "text": [
      "Time spent: 29 sec\n",
      "Encoding data of shape (10000, 784)\n"
     ]
    },
    {
     "data": {
      "application/vnd.jupyter.widget-view+json": {
       "model_id": "3afb8e9e40af4fcf8c50e6cf2639b76d",
       "version_major": 2,
       "version_minor": 0
      },
      "text/plain": [
       "HBox(children=(IntProgress(value=0, description='samples encoded', max=10000, style=ProgressStyle(description_…"
      ]
     },
     "metadata": {},
     "output_type": "display_data"
    },
    {
     "name": "stdout",
     "output_type": "stream",
     "text": [
      "\n"
     ]
    },
    {
     "name": "stderr",
     "output_type": "stream",
     "text": [
      "Time spent: 14 sec\n"
     ]
    },
    {
     "data": {
      "application/vnd.jupyter.widget-view+json": {
       "model_id": "29c400a39863419285117a82ae1e6787",
       "version_major": 2,
       "version_minor": 0
      },
      "text/plain": [
       "HBox(children=(IntProgress(value=0, description='epochs', style=ProgressStyle(description_width='initial')), H…"
      ]
     },
     "metadata": {},
     "output_type": "display_data"
    },
    {
     "name": "stderr",
     "output_type": "stream",
     "text": [
      "Fitting with configuration: [('one_shot', 0), ('dropout', 0), ('lr', 0.037)] \n"
     ]
    },
    {
     "name": "stdout",
     "output_type": "stream",
     "text": [
      "Train: 0.994850 \t \t Test: 0.967900\n",
      "Train: 0.999000 \t \t Test: 0.968400\n",
      "Train: 0.999200 \t \t Test: 0.968200\n",
      "Train: 1.000000 \t \t Test: 0.968300\n",
      "(28, 28, 1000)\n",
      "(28, 28, 1000)\n",
      "(28, 28, 1000)\n",
      "(28, 28, 1000)\n",
      "(28, 28, 1000)\n"
     ]
    },
    {
     "name": "stderr",
     "output_type": "stream",
     "text": [
      "Configuring baklava HD basis of 5 layers:\n",
      "Layer No.0: \t 1000 dimension vector with kernel of size 3\n",
      "Layer No.1: \t 1000 dimension vector with kernel of size 7\n",
      "Layer No.2: \t 1000 dimension vector with kernel of size 8\n",
      "Layer No.3: \t 1000 dimension vector with kernel of size 4\n",
      "Layer No.4: \t 1000 dimension vector with kernel of size 9\n",
      "Encoding time: 0.1784219741821289 \n",
      "Dumping basis into file: base_5802.pkl \n"
     ]
    },
    {
     "name": "stdout",
     "output_type": "stream",
     "text": [
      "Assigned BID:  5802\n"
     ]
    },
    {
     "name": "stderr",
     "output_type": "stream",
     "text": [
      "Encoding data of shape (20000, 784)\n"
     ]
    },
    {
     "data": {
      "application/vnd.jupyter.widget-view+json": {
       "model_id": "8e826fd6fae942bb88e736396c1890ce",
       "version_major": 2,
       "version_minor": 0
      },
      "text/plain": [
       "HBox(children=(IntProgress(value=0, description='samples encoded', max=20000, style=ProgressStyle(description_…"
      ]
     },
     "metadata": {},
     "output_type": "display_data"
    },
    {
     "name": "stdout",
     "output_type": "stream",
     "text": [
      "\n"
     ]
    },
    {
     "name": "stderr",
     "output_type": "stream",
     "text": [
      "Time spent: 29 sec\n",
      "Encoding data of shape (10000, 784)\n"
     ]
    },
    {
     "data": {
      "application/vnd.jupyter.widget-view+json": {
       "model_id": "c0b7e27658d441f7bb2e2a95c76146f6",
       "version_major": 2,
       "version_minor": 0
      },
      "text/plain": [
       "HBox(children=(IntProgress(value=0, description='samples encoded', max=10000, style=ProgressStyle(description_…"
      ]
     },
     "metadata": {},
     "output_type": "display_data"
    },
    {
     "name": "stdout",
     "output_type": "stream",
     "text": [
      "\n"
     ]
    },
    {
     "name": "stderr",
     "output_type": "stream",
     "text": [
      "Time spent: 15 sec\n"
     ]
    },
    {
     "data": {
      "application/vnd.jupyter.widget-view+json": {
       "model_id": "10919ab928274049b8f5dd2f9b0ed9c3",
       "version_major": 2,
       "version_minor": 0
      },
      "text/plain": [
       "HBox(children=(IntProgress(value=0, description='epochs', style=ProgressStyle(description_width='initial')), H…"
      ]
     },
     "metadata": {},
     "output_type": "display_data"
    },
    {
     "name": "stderr",
     "output_type": "stream",
     "text": [
      "Fitting with configuration: [('one_shot', 0), ('dropout', 0), ('lr', 0.037)] \n"
     ]
    },
    {
     "name": "stdout",
     "output_type": "stream",
     "text": [
      "Train: 0.995250 \t \t Test: 0.967800\n",
      "Train: 0.998650 \t \t Test: 0.966800\n",
      "Train: 0.999350 \t \t Test: 0.968600\n",
      "Train: 0.999750 \t \t Test: 0.968100\n",
      "Train: 0.999650 \t \t Test: 0.967500\n",
      "Train: 0.999950 \t \t Test: 0.968400\n",
      "Train: 1.000000 \t \t Test: 0.968400\n",
      "{'D': 5000, 'nLayers': 4, 'uniform_dim': 1, 'uniform_ker': 0, 'dArr': [1000, 1000, 1000, 1000, 1000], 'k': array([8, 7, 3, 6, 7, 4, 1, 4, 3]), 'kArr': array([6, 2, 3, 9])}\n",
      "(28, 28, 1250)\n",
      "(28, 28, 1250)\n",
      "(28, 28, 1250)\n",
      "(28, 28, 1250)\n"
     ]
    },
    {
     "name": "stderr",
     "output_type": "stream",
     "text": [
      "Configuring baklava HD basis of 4 layers:\n",
      "Layer No.0: \t 1250 dimension vector with kernel of size 6\n",
      "Layer No.1: \t 1250 dimension vector with kernel of size 2\n",
      "Layer No.2: \t 1250 dimension vector with kernel of size 3\n",
      "Layer No.3: \t 1250 dimension vector with kernel of size 9\n",
      "Encoding time: 0.21043610572814941 \n",
      "Dumping basis into file: base_5888.pkl \n"
     ]
    },
    {
     "name": "stdout",
     "output_type": "stream",
     "text": [
      "Assigned BID:  5888\n"
     ]
    },
    {
     "name": "stderr",
     "output_type": "stream",
     "text": [
      "Encoding data of shape (20000, 784)\n"
     ]
    },
    {
     "data": {
      "application/vnd.jupyter.widget-view+json": {
       "model_id": "1b647c24828b4a688b8b61a4756bbcd5",
       "version_major": 2,
       "version_minor": 0
      },
      "text/plain": [
       "HBox(children=(IntProgress(value=0, description='samples encoded', max=20000, style=ProgressStyle(description_…"
      ]
     },
     "metadata": {},
     "output_type": "display_data"
    },
    {
     "name": "stdout",
     "output_type": "stream",
     "text": [
      "\n"
     ]
    },
    {
     "name": "stderr",
     "output_type": "stream",
     "text": [
      "Time spent: 28 sec\n",
      "Encoding data of shape (10000, 784)\n"
     ]
    },
    {
     "data": {
      "application/vnd.jupyter.widget-view+json": {
       "model_id": "fd70adb869d048d78203ddc7c8f78b22",
       "version_major": 2,
       "version_minor": 0
      },
      "text/plain": [
       "HBox(children=(IntProgress(value=0, description='samples encoded', max=10000, style=ProgressStyle(description_…"
      ]
     },
     "metadata": {},
     "output_type": "display_data"
    },
    {
     "name": "stdout",
     "output_type": "stream",
     "text": [
      "\n"
     ]
    },
    {
     "name": "stderr",
     "output_type": "stream",
     "text": [
      "Time spent: 14 sec\n"
     ]
    },
    {
     "data": {
      "application/vnd.jupyter.widget-view+json": {
       "model_id": "f0b6dbb6151a427cb3236de0687c6946",
       "version_major": 2,
       "version_minor": 0
      },
      "text/plain": [
       "HBox(children=(IntProgress(value=0, description='epochs', style=ProgressStyle(description_width='initial')), H…"
      ]
     },
     "metadata": {},
     "output_type": "display_data"
    },
    {
     "name": "stderr",
     "output_type": "stream",
     "text": [
      "Fitting with configuration: [('one_shot', 0), ('dropout', 0), ('lr', 0.037)] \n"
     ]
    },
    {
     "name": "stdout",
     "output_type": "stream",
     "text": [
      "Train: 0.993900 \t \t Test: 0.970500\n",
      "Train: 0.998400 \t \t Test: 0.971700\n",
      "Train: 0.999650 \t \t Test: 0.971900\n",
      "Train: 0.999550 \t \t Test: 0.973900\n",
      "Train: 1.000000 \t \t Test: 0.973900\n",
      "(28, 28, 1250)\n",
      "(28, 28, 1250)\n",
      "(28, 28, 1250)\n",
      "(28, 28, 1250)\n"
     ]
    },
    {
     "name": "stderr",
     "output_type": "stream",
     "text": [
      "Configuring baklava HD basis of 4 layers:\n",
      "Layer No.0: \t 1250 dimension vector with kernel of size 6\n",
      "Layer No.1: \t 1250 dimension vector with kernel of size 2\n",
      "Layer No.2: \t 1250 dimension vector with kernel of size 3\n",
      "Layer No.3: \t 1250 dimension vector with kernel of size 9\n",
      "Encoding time: 0.21143531799316406 \n",
      "Dumping basis into file: base_5961.pkl \n"
     ]
    },
    {
     "name": "stdout",
     "output_type": "stream",
     "text": [
      "Assigned BID:  5961\n"
     ]
    },
    {
     "name": "stderr",
     "output_type": "stream",
     "text": [
      "Encoding data of shape (20000, 784)\n"
     ]
    },
    {
     "data": {
      "application/vnd.jupyter.widget-view+json": {
       "model_id": "707f5264a58e4f2c95885054d3db4ccc",
       "version_major": 2,
       "version_minor": 0
      },
      "text/plain": [
       "HBox(children=(IntProgress(value=0, description='samples encoded', max=20000, style=ProgressStyle(description_…"
      ]
     },
     "metadata": {},
     "output_type": "display_data"
    },
    {
     "name": "stdout",
     "output_type": "stream",
     "text": [
      "\n"
     ]
    },
    {
     "name": "stderr",
     "output_type": "stream",
     "text": [
      "Time spent: 28 sec\n",
      "Encoding data of shape (10000, 784)\n"
     ]
    },
    {
     "data": {
      "application/vnd.jupyter.widget-view+json": {
       "model_id": "2070829225cf40c8a2f9f14cc2b0861b",
       "version_major": 2,
       "version_minor": 0
      },
      "text/plain": [
       "HBox(children=(IntProgress(value=0, description='samples encoded', max=10000, style=ProgressStyle(description_…"
      ]
     },
     "metadata": {},
     "output_type": "display_data"
    },
    {
     "name": "stdout",
     "output_type": "stream",
     "text": [
      "\n"
     ]
    },
    {
     "name": "stderr",
     "output_type": "stream",
     "text": [
      "Time spent: 14 sec\n"
     ]
    },
    {
     "data": {
      "application/vnd.jupyter.widget-view+json": {
       "model_id": "821f7de9762b4df5a5d6045135db90d1",
       "version_major": 2,
       "version_minor": 0
      },
      "text/plain": [
       "HBox(children=(IntProgress(value=0, description='epochs', style=ProgressStyle(description_width='initial')), H…"
      ]
     },
     "metadata": {},
     "output_type": "display_data"
    },
    {
     "name": "stderr",
     "output_type": "stream",
     "text": [
      "Fitting with configuration: [('one_shot', 0), ('dropout', 0), ('lr', 0.037)] \n"
     ]
    },
    {
     "name": "stdout",
     "output_type": "stream",
     "text": [
      "Train: 0.994450 \t \t Test: 0.970000\n",
      "Train: 0.998450 \t \t Test: 0.970700\n",
      "Train: 0.999600 \t \t Test: 0.972100\n",
      "Train: 1.000000 \t \t Test: 0.971700\n",
      "(28, 28, 1250)\n",
      "(28, 28, 1250)\n",
      "(28, 28, 1250)\n",
      "(28, 28, 1250)\n"
     ]
    },
    {
     "name": "stderr",
     "output_type": "stream",
     "text": [
      "Configuring baklava HD basis of 4 layers:\n",
      "Layer No.0: \t 1250 dimension vector with kernel of size 6\n",
      "Layer No.1: \t 1250 dimension vector with kernel of size 2\n",
      "Layer No.2: \t 1250 dimension vector with kernel of size 3\n",
      "Layer No.3: \t 1250 dimension vector with kernel of size 9\n",
      "Encoding time: 0.2064497470855713 \n",
      "Dumping basis into file: base_6027.pkl \n"
     ]
    },
    {
     "name": "stdout",
     "output_type": "stream",
     "text": [
      "Assigned BID:  6027\n"
     ]
    },
    {
     "name": "stderr",
     "output_type": "stream",
     "text": [
      "Encoding data of shape (20000, 784)\n"
     ]
    },
    {
     "data": {
      "application/vnd.jupyter.widget-view+json": {
       "model_id": "24ae7569d2bd4e188bd7bcfb3ced17e1",
       "version_major": 2,
       "version_minor": 0
      },
      "text/plain": [
       "HBox(children=(IntProgress(value=0, description='samples encoded', max=20000, style=ProgressStyle(description_…"
      ]
     },
     "metadata": {},
     "output_type": "display_data"
    },
    {
     "name": "stdout",
     "output_type": "stream",
     "text": [
      "\n"
     ]
    },
    {
     "name": "stderr",
     "output_type": "stream",
     "text": [
      "Time spent: 28 sec\n",
      "Encoding data of shape (10000, 784)\n"
     ]
    },
    {
     "data": {
      "application/vnd.jupyter.widget-view+json": {
       "model_id": "035f3f3ca3b6432095c7c16e2d639585",
       "version_major": 2,
       "version_minor": 0
      },
      "text/plain": [
       "HBox(children=(IntProgress(value=0, description='samples encoded', max=10000, style=ProgressStyle(description_…"
      ]
     },
     "metadata": {},
     "output_type": "display_data"
    },
    {
     "name": "stdout",
     "output_type": "stream",
     "text": [
      "\n"
     ]
    },
    {
     "name": "stderr",
     "output_type": "stream",
     "text": [
      "Time spent: 14 sec\n"
     ]
    },
    {
     "data": {
      "application/vnd.jupyter.widget-view+json": {
       "model_id": "7654cc1936764a5eb1c97080f4531b61",
       "version_major": 2,
       "version_minor": 0
      },
      "text/plain": [
       "HBox(children=(IntProgress(value=0, description='epochs', style=ProgressStyle(description_width='initial')), H…"
      ]
     },
     "metadata": {},
     "output_type": "display_data"
    },
    {
     "name": "stderr",
     "output_type": "stream",
     "text": [
      "Fitting with configuration: [('one_shot', 0), ('dropout', 0), ('lr', 0.037)] \n"
     ]
    },
    {
     "name": "stdout",
     "output_type": "stream",
     "text": [
      "Train: 0.994300 \t \t Test: 0.968500\n",
      "Train: 0.998650 \t \t Test: 0.971700\n",
      "Train: 0.999500 \t \t Test: 0.971600\n",
      "Train: 1.000000 \t \t Test: 0.971600\n",
      "{'D': 5000, 'nLayers': 4, 'uniform_dim': 1, 'uniform_ker': 0, 'dArr': [1250, 1250, 1250, 1250], 'k': array([8, 7, 3, 6, 7, 4, 1, 4, 3]), 'kArr': array([4, 6, 6, 4])}\n",
      "(28, 28, 1250)\n",
      "(28, 28, 1250)\n",
      "(28, 28, 1250)\n",
      "(28, 28, 1250)\n"
     ]
    },
    {
     "name": "stderr",
     "output_type": "stream",
     "text": [
      "Configuring baklava HD basis of 4 layers:\n",
      "Layer No.0: \t 1250 dimension vector with kernel of size 4\n",
      "Layer No.1: \t 1250 dimension vector with kernel of size 6\n",
      "Layer No.2: \t 1250 dimension vector with kernel of size 6\n",
      "Layer No.3: \t 1250 dimension vector with kernel of size 4\n",
      "Encoding time: 0.2044534683227539 \n",
      "Dumping basis into file: base_6093.pkl \n"
     ]
    },
    {
     "name": "stdout",
     "output_type": "stream",
     "text": [
      "Assigned BID:  6093\n"
     ]
    },
    {
     "name": "stderr",
     "output_type": "stream",
     "text": [
      "Encoding data of shape (20000, 784)\n"
     ]
    },
    {
     "data": {
      "application/vnd.jupyter.widget-view+json": {
       "model_id": "800acaa850d3401ea0677a9eed76f345",
       "version_major": 2,
       "version_minor": 0
      },
      "text/plain": [
       "HBox(children=(IntProgress(value=0, description='samples encoded', max=20000, style=ProgressStyle(description_…"
      ]
     },
     "metadata": {},
     "output_type": "display_data"
    },
    {
     "name": "stdout",
     "output_type": "stream",
     "text": [
      "\n"
     ]
    },
    {
     "name": "stderr",
     "output_type": "stream",
     "text": [
      "Time spent: 29 sec\n",
      "Encoding data of shape (10000, 784)\n"
     ]
    },
    {
     "data": {
      "application/vnd.jupyter.widget-view+json": {
       "model_id": "03b65ec887eb4f3c87575a73536f642d",
       "version_major": 2,
       "version_minor": 0
      },
      "text/plain": [
       "HBox(children=(IntProgress(value=0, description='samples encoded', max=10000, style=ProgressStyle(description_…"
      ]
     },
     "metadata": {},
     "output_type": "display_data"
    },
    {
     "name": "stdout",
     "output_type": "stream",
     "text": [
      "\n"
     ]
    },
    {
     "name": "stderr",
     "output_type": "stream",
     "text": [
      "Time spent: 14 sec\n"
     ]
    },
    {
     "data": {
      "application/vnd.jupyter.widget-view+json": {
       "model_id": "2e4634fe255b4c4382110428e7d09b5b",
       "version_major": 2,
       "version_minor": 0
      },
      "text/plain": [
       "HBox(children=(IntProgress(value=0, description='epochs', style=ProgressStyle(description_width='initial')), H…"
      ]
     },
     "metadata": {},
     "output_type": "display_data"
    },
    {
     "name": "stderr",
     "output_type": "stream",
     "text": [
      "Fitting with configuration: [('one_shot', 0), ('dropout', 0), ('lr', 0.037)] \n"
     ]
    },
    {
     "name": "stdout",
     "output_type": "stream",
     "text": [
      "Train: 0.996300 \t \t Test: 0.970300\n",
      "Train: 0.998300 \t \t Test: 0.972400\n",
      "Train: 0.999400 \t \t Test: 0.970700\n",
      "Train: 1.000000 \t \t Test: 0.970800\n",
      "Train: 1.000000 \t \t Test: 0.970800\n",
      "(28, 28, 1250)\n",
      "(28, 28, 1250)\n",
      "(28, 28, 1250)\n",
      "(28, 28, 1250)"
     ]
    },
    {
     "name": "stderr",
     "output_type": "stream",
     "text": [
      "Configuring baklava HD basis of 4 layers:\n",
      "Layer No.0: \t 1250 dimension vector with kernel of size 4\n",
      "Layer No.1: \t 1250 dimension vector with kernel of size 6\n",
      "Layer No.2: \t 1250 dimension vector with kernel of size 6\n",
      "Layer No.3: \t 1250 dimension vector with kernel of size 4\n"
     ]
    },
    {
     "name": "stdout",
     "output_type": "stream",
     "text": [
      "\n"
     ]
    },
    {
     "name": "stderr",
     "output_type": "stream",
     "text": [
      "Encoding time: 0.2084670066833496 \n",
      "Dumping basis into file: base_6164.pkl \n"
     ]
    },
    {
     "name": "stdout",
     "output_type": "stream",
     "text": [
      "Assigned BID:  6164\n"
     ]
    },
    {
     "name": "stderr",
     "output_type": "stream",
     "text": [
      "Encoding data of shape (20000, 784)\n"
     ]
    },
    {
     "data": {
      "application/vnd.jupyter.widget-view+json": {
       "model_id": "c552ff865dfc4767949ed23cabb5c04e",
       "version_major": 2,
       "version_minor": 0
      },
      "text/plain": [
       "HBox(children=(IntProgress(value=0, description='samples encoded', max=20000, style=ProgressStyle(description_…"
      ]
     },
     "metadata": {},
     "output_type": "display_data"
    },
    {
     "name": "stdout",
     "output_type": "stream",
     "text": [
      "\n"
     ]
    },
    {
     "name": "stderr",
     "output_type": "stream",
     "text": [
      "Time spent: 29 sec\n",
      "Encoding data of shape (10000, 784)\n"
     ]
    },
    {
     "data": {
      "application/vnd.jupyter.widget-view+json": {
       "model_id": "2d0a6339adbe4adab7d64eae34bebd42",
       "version_major": 2,
       "version_minor": 0
      },
      "text/plain": [
       "HBox(children=(IntProgress(value=0, description='samples encoded', max=10000, style=ProgressStyle(description_…"
      ]
     },
     "metadata": {},
     "output_type": "display_data"
    },
    {
     "name": "stdout",
     "output_type": "stream",
     "text": [
      "\n"
     ]
    },
    {
     "name": "stderr",
     "output_type": "stream",
     "text": [
      "Time spent: 14 sec\n"
     ]
    },
    {
     "data": {
      "application/vnd.jupyter.widget-view+json": {
       "model_id": "02a28b9f2d9a4ba9ae37f2513f226c74",
       "version_major": 2,
       "version_minor": 0
      },
      "text/plain": [
       "HBox(children=(IntProgress(value=0, description='epochs', style=ProgressStyle(description_width='initial')), H…"
      ]
     },
     "metadata": {},
     "output_type": "display_data"
    },
    {
     "name": "stderr",
     "output_type": "stream",
     "text": [
      "Fitting with configuration: [('one_shot', 0), ('dropout', 0), ('lr', 0.037)] \n"
     ]
    },
    {
     "name": "stdout",
     "output_type": "stream",
     "text": [
      "Train: 0.995800 \t \t Test: 0.968900\n",
      "Train: 0.998700 \t \t Test: 0.969000\n",
      "Train: 0.999700 \t \t Test: 0.969900\n",
      "Train: 1.000000 \t \t Test: 0.970100\n",
      "Train: 1.000000 \t \t Test: 0.970100\n",
      "(28, 28, 1250)\n",
      "(28, 28, 1250)\n",
      "(28, 28, 1250)\n",
      "(28, 28, 1250)\n"
     ]
    },
    {
     "name": "stderr",
     "output_type": "stream",
     "text": [
      "Configuring baklava HD basis of 4 layers:\n",
      "Layer No.0: \t 1250 dimension vector with kernel of size 4\n",
      "Layer No.1: \t 1250 dimension vector with kernel of size 6\n",
      "Layer No.2: \t 1250 dimension vector with kernel of size 6\n",
      "Layer No.3: \t 1250 dimension vector with kernel of size 4\n",
      "Encoding time: 0.18945813179016113 \n",
      "Dumping basis into file: base_6234.pkl \n"
     ]
    },
    {
     "name": "stdout",
     "output_type": "stream",
     "text": [
      "Assigned BID:  6234\n"
     ]
    },
    {
     "name": "stderr",
     "output_type": "stream",
     "text": [
      "Encoding data of shape (20000, 784)\n"
     ]
    },
    {
     "data": {
      "application/vnd.jupyter.widget-view+json": {
       "model_id": "20498afaa7dd4d1bbfc87fc9ce2f7854",
       "version_major": 2,
       "version_minor": 0
      },
      "text/plain": [
       "HBox(children=(IntProgress(value=0, description='samples encoded', max=20000, style=ProgressStyle(description_…"
      ]
     },
     "metadata": {},
     "output_type": "display_data"
    },
    {
     "name": "stdout",
     "output_type": "stream",
     "text": [
      "\n"
     ]
    },
    {
     "name": "stderr",
     "output_type": "stream",
     "text": [
      "Time spent: 29 sec\n",
      "Encoding data of shape (10000, 784)\n"
     ]
    },
    {
     "data": {
      "application/vnd.jupyter.widget-view+json": {
       "model_id": "7b6596a607494d768f5f4e7f14df051a",
       "version_major": 2,
       "version_minor": 0
      },
      "text/plain": [
       "HBox(children=(IntProgress(value=0, description='samples encoded', max=10000, style=ProgressStyle(description_…"
      ]
     },
     "metadata": {},
     "output_type": "display_data"
    },
    {
     "name": "stderr",
     "output_type": "stream",
     "text": [
      "Time spent: 15 sec\n"
     ]
    },
    {
     "name": "stdout",
     "output_type": "stream",
     "text": [
      "\n"
     ]
    },
    {
     "data": {
      "application/vnd.jupyter.widget-view+json": {
       "model_id": "da72eecea732473cbd70583d6fea6a3c",
       "version_major": 2,
       "version_minor": 0
      },
      "text/plain": [
       "HBox(children=(IntProgress(value=0, description='epochs', style=ProgressStyle(description_width='initial')), H…"
      ]
     },
     "metadata": {},
     "output_type": "display_data"
    },
    {
     "name": "stderr",
     "output_type": "stream",
     "text": [
      "Fitting with configuration: [('one_shot', 0), ('dropout', 0), ('lr', 0.037)] \n"
     ]
    },
    {
     "name": "stdout",
     "output_type": "stream",
     "text": [
      "Train: 0.995850 \t \t Test: 0.968000\n",
      "Train: 0.998300 \t \t Test: 0.968100\n",
      "Train: 0.999350 \t \t Test: 0.969100\n",
      "Train: 1.000000 \t \t Test: 0.970400\n",
      "Train: 1.000000 \t \t Test: 0.970400\n",
      "{'D': 5000, 'nLayers': 5, 'uniform_dim': 1, 'uniform_ker': 0, 'dArr': [1250, 1250, 1250, 1250], 'k': array([8, 7, 3, 6, 7, 4, 1, 4, 3]), 'kArr': array([3, 2, 3, 3, 2])}\n",
      "(28, 28, 1000)\n",
      "(28, 28, 1000)\n",
      "(28, 28, 1000)\n",
      "(28, 28, 1000)\n"
     ]
    },
    {
     "name": "stderr",
     "output_type": "stream",
     "text": [
      "Configuring baklava HD basis of 5 layers:\n",
      "Layer No.0: \t 1000 dimension vector with kernel of size 3\n",
      "Layer No.1: \t 1000 dimension vector with kernel of size 2\n",
      "Layer No.2: \t 1000 dimension vector with kernel of size 3\n",
      "Layer No.3: \t 1000 dimension vector with kernel of size 3\n",
      "Layer No.4: \t 1000 dimension vector with kernel of size 2\n"
     ]
    },
    {
     "name": "stdout",
     "output_type": "stream",
     "text": [
      "(28, 28, 1000)\n"
     ]
    },
    {
     "name": "stderr",
     "output_type": "stream",
     "text": [
      "Encoding time: 0.25232410430908203 \n",
      "Dumping basis into file: base_6307.pkl \n"
     ]
    },
    {
     "name": "stdout",
     "output_type": "stream",
     "text": [
      "Assigned BID:  6307\n"
     ]
    },
    {
     "name": "stderr",
     "output_type": "stream",
     "text": [
      "Encoding data of shape (20000, 784)\n"
     ]
    },
    {
     "data": {
      "application/vnd.jupyter.widget-view+json": {
       "model_id": "d5e30434ecb441c99a80cce51e1ca220",
       "version_major": 2,
       "version_minor": 0
      },
      "text/plain": [
       "HBox(children=(IntProgress(value=0, description='samples encoded', max=20000, style=ProgressStyle(description_…"
      ]
     },
     "metadata": {},
     "output_type": "display_data"
    },
    {
     "name": "stdout",
     "output_type": "stream",
     "text": [
      "\n"
     ]
    },
    {
     "name": "stderr",
     "output_type": "stream",
     "text": [
      "Time spent: 28 sec\n",
      "Encoding data of shape (10000, 784)\n"
     ]
    },
    {
     "data": {
      "application/vnd.jupyter.widget-view+json": {
       "model_id": "47753d28fbe740fab598fff3d5627b2f",
       "version_major": 2,
       "version_minor": 0
      },
      "text/plain": [
       "HBox(children=(IntProgress(value=0, description='samples encoded', max=10000, style=ProgressStyle(description_…"
      ]
     },
     "metadata": {},
     "output_type": "display_data"
    },
    {
     "name": "stdout",
     "output_type": "stream",
     "text": [
      "\n"
     ]
    },
    {
     "name": "stderr",
     "output_type": "stream",
     "text": [
      "Time spent: 14 sec\n"
     ]
    },
    {
     "data": {
      "application/vnd.jupyter.widget-view+json": {
       "model_id": "851a2fa55fec4b81bb31e848fef419f3",
       "version_major": 2,
       "version_minor": 0
      },
      "text/plain": [
       "HBox(children=(IntProgress(value=0, description='epochs', style=ProgressStyle(description_width='initial')), H…"
      ]
     },
     "metadata": {},
     "output_type": "display_data"
    },
    {
     "name": "stderr",
     "output_type": "stream",
     "text": [
      "Fitting with configuration: [('one_shot', 0), ('dropout', 0), ('lr', 0.037)] \n"
     ]
    },
    {
     "name": "stdout",
     "output_type": "stream",
     "text": [
      "Train: 0.994700 \t \t Test: 0.968800\n",
      "Train: 0.998800 \t \t Test: 0.970800\n",
      "Train: 0.999300 \t \t Test: 0.969600\n",
      "Train: 1.000000 \t \t Test: 0.973400\n",
      "Train: 1.000000 \t \t Test: 0.973400\n",
      "(28, 28, 1000)\n",
      "(28, 28, 1000)\n",
      "(28, 28, 1000)\n",
      "(28, 28, 1000)"
     ]
    },
    {
     "name": "stderr",
     "output_type": "stream",
     "text": [
      "Configuring baklava HD basis of 5 layers:\n",
      "Layer No.0: \t 1000 dimension vector with kernel of size 3\n",
      "Layer No.1: \t 1000 dimension vector with kernel of size 2\n",
      "Layer No.2: \t 1000 dimension vector with kernel of size 3\n",
      "Layer No.3: \t 1000 dimension vector with kernel of size 3\n"
     ]
    },
    {
     "name": "stdout",
     "output_type": "stream",
     "text": [
      "\n",
      "(28, 28, 1000)\n"
     ]
    },
    {
     "name": "stderr",
     "output_type": "stream",
     "text": [
      "Layer No.4: \t 1000 dimension vector with kernel of size 2\n",
      "Encoding time: 0.27227330207824707 \n",
      "Dumping basis into file: base_6378.pkl \n"
     ]
    },
    {
     "name": "stdout",
     "output_type": "stream",
     "text": [
      "Assigned BID:  6378\n"
     ]
    },
    {
     "name": "stderr",
     "output_type": "stream",
     "text": [
      "Encoding data of shape (20000, 784)\n"
     ]
    },
    {
     "data": {
      "application/vnd.jupyter.widget-view+json": {
       "model_id": "7ba6d10e18884b58a45089c5ead86a25",
       "version_major": 2,
       "version_minor": 0
      },
      "text/plain": [
       "HBox(children=(IntProgress(value=0, description='samples encoded', max=20000, style=ProgressStyle(description_…"
      ]
     },
     "metadata": {},
     "output_type": "display_data"
    },
    {
     "name": "stdout",
     "output_type": "stream",
     "text": [
      "\n"
     ]
    },
    {
     "name": "stderr",
     "output_type": "stream",
     "text": [
      "Time spent: 31 sec\n",
      "Encoding data of shape (10000, 784)\n"
     ]
    },
    {
     "data": {
      "application/vnd.jupyter.widget-view+json": {
       "model_id": "e12bb50e2a4d4e60baef84ee05672720",
       "version_major": 2,
       "version_minor": 0
      },
      "text/plain": [
       "HBox(children=(IntProgress(value=0, description='samples encoded', max=10000, style=ProgressStyle(description_…"
      ]
     },
     "metadata": {},
     "output_type": "display_data"
    },
    {
     "name": "stdout",
     "output_type": "stream",
     "text": [
      "\n"
     ]
    },
    {
     "name": "stderr",
     "output_type": "stream",
     "text": [
      "Time spent: 14 sec\n"
     ]
    },
    {
     "data": {
      "application/vnd.jupyter.widget-view+json": {
       "model_id": "98f3447468fa417caad28cce6432742f",
       "version_major": 2,
       "version_minor": 0
      },
      "text/plain": [
       "HBox(children=(IntProgress(value=0, description='epochs', style=ProgressStyle(description_width='initial')), H…"
      ]
     },
     "metadata": {},
     "output_type": "display_data"
    },
    {
     "name": "stderr",
     "output_type": "stream",
     "text": [
      "Fitting with configuration: [('one_shot', 0), ('dropout', 0), ('lr', 0.037)] \n"
     ]
    },
    {
     "name": "stdout",
     "output_type": "stream",
     "text": [
      "Train: 0.995750 \t \t Test: 0.968700\n",
      "Train: 0.998650 \t \t Test: 0.974200\n",
      "Train: 0.999700 \t \t Test: 0.972300\n",
      "Train: 0.999700 \t \t Test: 0.973500\n",
      "Train: 1.000000 \t \t Test: 0.973100\n",
      "(28, 28, 1000)\n",
      "(28, 28, 1000)\n",
      "(28, 28, 1000)\n",
      "(28, 28, 1000)\n"
     ]
    },
    {
     "name": "stderr",
     "output_type": "stream",
     "text": [
      "Configuring baklava HD basis of 5 layers:\n",
      "Layer No.0: \t 1000 dimension vector with kernel of size 3\n",
      "Layer No.1: \t 1000 dimension vector with kernel of size 2\n",
      "Layer No.2: \t 1000 dimension vector with kernel of size 3\n",
      "Layer No.3: \t 1000 dimension vector with kernel of size 3\n",
      "Layer No.4: \t 1000 dimension vector with kernel of size 2\n"
     ]
    },
    {
     "name": "stdout",
     "output_type": "stream",
     "text": [
      "(28, 28, 1000)\n"
     ]
    },
    {
     "name": "stderr",
     "output_type": "stream",
     "text": [
      "Encoding time: 0.25129270553588867 \n",
      "Dumping basis into file: base_6453.pkl \n"
     ]
    },
    {
     "name": "stdout",
     "output_type": "stream",
     "text": [
      "Assigned BID:  6453\n"
     ]
    },
    {
     "name": "stderr",
     "output_type": "stream",
     "text": [
      "Encoding data of shape (20000, 784)\n"
     ]
    },
    {
     "data": {
      "application/vnd.jupyter.widget-view+json": {
       "model_id": "2b7edd6d381f405188bf51f7e3fda71c",
       "version_major": 2,
       "version_minor": 0
      },
      "text/plain": [
       "HBox(children=(IntProgress(value=0, description='samples encoded', max=20000, style=ProgressStyle(description_…"
      ]
     },
     "metadata": {},
     "output_type": "display_data"
    },
    {
     "name": "stdout",
     "output_type": "stream",
     "text": [
      "\n"
     ]
    },
    {
     "name": "stderr",
     "output_type": "stream",
     "text": [
      "Time spent: 28 sec\n",
      "Encoding data of shape (10000, 784)\n"
     ]
    },
    {
     "data": {
      "application/vnd.jupyter.widget-view+json": {
       "model_id": "1cf531bc06b64c0db6902d872861003a",
       "version_major": 2,
       "version_minor": 0
      },
      "text/plain": [
       "HBox(children=(IntProgress(value=0, description='samples encoded', max=10000, style=ProgressStyle(description_…"
      ]
     },
     "metadata": {},
     "output_type": "display_data"
    },
    {
     "name": "stdout",
     "output_type": "stream",
     "text": [
      "\n"
     ]
    },
    {
     "name": "stderr",
     "output_type": "stream",
     "text": [
      "Time spent: 14 sec\n"
     ]
    },
    {
     "data": {
      "application/vnd.jupyter.widget-view+json": {
       "model_id": "c9d13a99f7ba4a3bb5cfef0acd48bdcf",
       "version_major": 2,
       "version_minor": 0
      },
      "text/plain": [
       "HBox(children=(IntProgress(value=0, description='epochs', style=ProgressStyle(description_width='initial')), H…"
      ]
     },
     "metadata": {},
     "output_type": "display_data"
    },
    {
     "name": "stderr",
     "output_type": "stream",
     "text": [
      "Fitting with configuration: [('one_shot', 0), ('dropout', 0), ('lr', 0.037)] \n"
     ]
    },
    {
     "name": "stdout",
     "output_type": "stream",
     "text": [
      "Train: 0.994950 \t \t Test: 0.964700\n",
      "Train: 0.999150 \t \t Test: 0.971600\n",
      "Train: 0.999350 \t \t Test: 0.972700\n",
      "Train: 1.000000 \t \t Test: 0.973100\n",
      "{'D': 5000, 'nLayers': 4, 'uniform_dim': 1, 'uniform_ker': 0, 'dArr': [1000, 1000, 1000, 1000, 1000], 'k': array([8, 7, 3, 6, 7, 4, 1, 4, 3]), 'kArr': array([4, 4, 8, 6])}\n",
      "(28, 28, 1250)\n",
      "(28, 28, 1250)\n",
      "(28, 28, 1250)\n",
      "(28, 28, 1250)\n"
     ]
    },
    {
     "name": "stderr",
     "output_type": "stream",
     "text": [
      "Configuring baklava HD basis of 4 layers:\n",
      "Layer No.0: \t 1250 dimension vector with kernel of size 4\n",
      "Layer No.1: \t 1250 dimension vector with kernel of size 4\n",
      "Layer No.2: \t 1250 dimension vector with kernel of size 8\n",
      "Layer No.3: \t 1250 dimension vector with kernel of size 6\n",
      "Encoding time: 0.19046640396118164 \n",
      "Dumping basis into file: base_6522.pkl \n"
     ]
    },
    {
     "name": "stdout",
     "output_type": "stream",
     "text": [
      "Assigned BID:  6522\n"
     ]
    },
    {
     "name": "stderr",
     "output_type": "stream",
     "text": [
      "Encoding data of shape (20000, 784)\n"
     ]
    },
    {
     "data": {
      "application/vnd.jupyter.widget-view+json": {
       "model_id": "54d90d74b94d4136821445af8fb89606",
       "version_major": 2,
       "version_minor": 0
      },
      "text/plain": [
       "HBox(children=(IntProgress(value=0, description='samples encoded', max=20000, style=ProgressStyle(description_…"
      ]
     },
     "metadata": {},
     "output_type": "display_data"
    },
    {
     "name": "stdout",
     "output_type": "stream",
     "text": [
      "\n"
     ]
    },
    {
     "name": "stderr",
     "output_type": "stream",
     "text": [
      "Time spent: 29 sec\n",
      "Encoding data of shape (10000, 784)\n"
     ]
    },
    {
     "data": {
      "application/vnd.jupyter.widget-view+json": {
       "model_id": "dcf4c35f1d4d466cbfe4ae6535b0a903",
       "version_major": 2,
       "version_minor": 0
      },
      "text/plain": [
       "HBox(children=(IntProgress(value=0, description='samples encoded', max=10000, style=ProgressStyle(description_…"
      ]
     },
     "metadata": {},
     "output_type": "display_data"
    },
    {
     "name": "stdout",
     "output_type": "stream",
     "text": [
      "\n"
     ]
    },
    {
     "name": "stderr",
     "output_type": "stream",
     "text": [
      "Time spent: 14 sec\n"
     ]
    },
    {
     "data": {
      "application/vnd.jupyter.widget-view+json": {
       "model_id": "5e70a6e92f174bc28a4a43055ba1f31c",
       "version_major": 2,
       "version_minor": 0
      },
      "text/plain": [
       "HBox(children=(IntProgress(value=0, description='epochs', style=ProgressStyle(description_width='initial')), H…"
      ]
     },
     "metadata": {},
     "output_type": "display_data"
    },
    {
     "name": "stderr",
     "output_type": "stream",
     "text": [
      "Fitting with configuration: [('one_shot', 0), ('dropout', 0), ('lr', 0.037)] \n"
     ]
    },
    {
     "name": "stdout",
     "output_type": "stream",
     "text": [
      "Train: 0.994850 \t \t Test: 0.969100\n",
      "Train: 0.998900 \t \t Test: 0.970400\n",
      "Train: 0.999450 \t \t Test: 0.971300\n",
      "Train: 1.000000 \t \t Test: 0.970500\n",
      "Train: 1.000000 \t \t Test: 0.970500\n",
      "(28, 28, 1250)\n",
      "(28, 28, 1250)\n",
      "(28, 28, 1250)\n",
      "(28, 28, 1250)\n"
     ]
    },
    {
     "name": "stderr",
     "output_type": "stream",
     "text": [
      "Configuring baklava HD basis of 4 layers:\n",
      "Layer No.0: \t 1250 dimension vector with kernel of size 4\n",
      "Layer No.1: \t 1250 dimension vector with kernel of size 4\n",
      "Layer No.2: \t 1250 dimension vector with kernel of size 8\n",
      "Layer No.3: \t 1250 dimension vector with kernel of size 6\n",
      "Encoding time: 0.18949508666992188 \n",
      "Dumping basis into file: base_6593.pkl \n"
     ]
    },
    {
     "name": "stdout",
     "output_type": "stream",
     "text": [
      "Assigned BID:  6593\n"
     ]
    },
    {
     "name": "stderr",
     "output_type": "stream",
     "text": [
      "Encoding data of shape (20000, 784)\n"
     ]
    },
    {
     "data": {
      "application/vnd.jupyter.widget-view+json": {
       "model_id": "987db26194cf492fb06aeeddc2607619",
       "version_major": 2,
       "version_minor": 0
      },
      "text/plain": [
       "HBox(children=(IntProgress(value=0, description='samples encoded', max=20000, style=ProgressStyle(description_…"
      ]
     },
     "metadata": {},
     "output_type": "display_data"
    },
    {
     "name": "stdout",
     "output_type": "stream",
     "text": [
      "\n"
     ]
    },
    {
     "name": "stderr",
     "output_type": "stream",
     "text": [
      "Time spent: 29 sec\n",
      "Encoding data of shape (10000, 784)\n"
     ]
    },
    {
     "data": {
      "application/vnd.jupyter.widget-view+json": {
       "model_id": "1f35b1f79aa244daa8e2806ffe458fde",
       "version_major": 2,
       "version_minor": 0
      },
      "text/plain": [
       "HBox(children=(IntProgress(value=0, description='samples encoded', max=10000, style=ProgressStyle(description_…"
      ]
     },
     "metadata": {},
     "output_type": "display_data"
    },
    {
     "name": "stdout",
     "output_type": "stream",
     "text": [
      "\n"
     ]
    },
    {
     "name": "stderr",
     "output_type": "stream",
     "text": [
      "Time spent: 14 sec\n"
     ]
    },
    {
     "data": {
      "application/vnd.jupyter.widget-view+json": {
       "model_id": "92738d7930364360bdbcc7aaf3f3e299",
       "version_major": 2,
       "version_minor": 0
      },
      "text/plain": [
       "HBox(children=(IntProgress(value=0, description='epochs', style=ProgressStyle(description_width='initial')), H…"
      ]
     },
     "metadata": {},
     "output_type": "display_data"
    },
    {
     "name": "stderr",
     "output_type": "stream",
     "text": [
      "Fitting with configuration: [('one_shot', 0), ('dropout', 0), ('lr', 0.037)] \n"
     ]
    },
    {
     "name": "stdout",
     "output_type": "stream",
     "text": [
      "Train: 0.995350 \t \t Test: 0.967600\n",
      "Train: 0.998650 \t \t Test: 0.970000\n",
      "Train: 0.999450 \t \t Test: 0.970400\n",
      "Train: 1.000000 \t \t Test: 0.970800\n",
      "(28, 28, 1250)\n",
      "(28, 28, 1250)\n",
      "(28, 28, 1250)\n",
      "(28, 28, 1250)\n"
     ]
    },
    {
     "name": "stderr",
     "output_type": "stream",
     "text": [
      "Configuring baklava HD basis of 4 layers:\n",
      "Layer No.0: \t 1250 dimension vector with kernel of size 4\n",
      "Layer No.1: \t 1250 dimension vector with kernel of size 4\n",
      "Layer No.2: \t 1250 dimension vector with kernel of size 8\n",
      "Layer No.3: \t 1250 dimension vector with kernel of size 6\n",
      "Encoding time: 0.19248485565185547 \n",
      "Dumping basis into file: base_6662.pkl \n"
     ]
    },
    {
     "name": "stdout",
     "output_type": "stream",
     "text": [
      "Assigned BID:  6662\n"
     ]
    },
    {
     "name": "stderr",
     "output_type": "stream",
     "text": [
      "Encoding data of shape (20000, 784)\n"
     ]
    },
    {
     "data": {
      "application/vnd.jupyter.widget-view+json": {
       "model_id": "59627e2b3c3f421ab97a2c27cdeb6143",
       "version_major": 2,
       "version_minor": 0
      },
      "text/plain": [
       "HBox(children=(IntProgress(value=0, description='samples encoded', max=20000, style=ProgressStyle(description_…"
      ]
     },
     "metadata": {},
     "output_type": "display_data"
    },
    {
     "name": "stdout",
     "output_type": "stream",
     "text": [
      "\n"
     ]
    },
    {
     "name": "stderr",
     "output_type": "stream",
     "text": [
      "Time spent: 29 sec\n",
      "Encoding data of shape (10000, 784)\n"
     ]
    },
    {
     "data": {
      "application/vnd.jupyter.widget-view+json": {
       "model_id": "40393c7d78e44cceba999ac2957a2c0d",
       "version_major": 2,
       "version_minor": 0
      },
      "text/plain": [
       "HBox(children=(IntProgress(value=0, description='samples encoded', max=10000, style=ProgressStyle(description_…"
      ]
     },
     "metadata": {},
     "output_type": "display_data"
    },
    {
     "name": "stdout",
     "output_type": "stream",
     "text": [
      "\n"
     ]
    },
    {
     "name": "stderr",
     "output_type": "stream",
     "text": [
      "Time spent: 14 sec\n"
     ]
    },
    {
     "data": {
      "application/vnd.jupyter.widget-view+json": {
       "model_id": "b0f9def035014d7e848a739b2f5e6d7b",
       "version_major": 2,
       "version_minor": 0
      },
      "text/plain": [
       "HBox(children=(IntProgress(value=0, description='epochs', style=ProgressStyle(description_width='initial')), H…"
      ]
     },
     "metadata": {},
     "output_type": "display_data"
    },
    {
     "name": "stderr",
     "output_type": "stream",
     "text": [
      "Fitting with configuration: [('one_shot', 0), ('dropout', 0), ('lr', 0.037)] \n"
     ]
    },
    {
     "name": "stdout",
     "output_type": "stream",
     "text": [
      "Train: 0.995450 \t \t Test: 0.966500\n",
      "Train: 0.998650 \t \t Test: 0.971100\n",
      "Train: 0.999650 \t \t Test: 0.970900\n",
      "Train: 0.999800 \t \t Test: 0.971700\n",
      "Train: 0.999700 \t \t Test: 0.969900\n",
      "Train: 1.000000 \t \t Test: 0.970000\n",
      "{'D': 5000, 'nLayers': 9, 'uniform_dim': 1, 'uniform_ker': 0, 'dArr': [1250, 1250, 1250, 1250], 'k': array([8, 7, 3, 6, 7, 4, 1, 4, 3]), 'kArr': array([7, 8, 3, 4, 3, 1, 7, 2, 2])}\n",
      "(28, 28, 555)\n",
      "(28, 28, 555)\n",
      "(28, 28, 555)\n",
      "(28, 28, 555)\n",
      "(28, 28, 555)\n"
     ]
    },
    {
     "name": "stderr",
     "output_type": "stream",
     "text": [
      "Configuring baklava HD basis of 9 layers:\n",
      "Layer No.0: \t 555 dimension vector with kernel of size 7\n",
      "Layer No.1: \t 555 dimension vector with kernel of size 8\n",
      "Layer No.2: \t 555 dimension vector with kernel of size 3\n",
      "Layer No.3: \t 555 dimension vector with kernel of size 4\n",
      "Layer No.4: \t 555 dimension vector with kernel of size 3\n",
      "Layer No.5: \t 555 dimension vector with kernel of size 1\n"
     ]
    },
    {
     "name": "stdout",
     "output_type": "stream",
     "text": [
      "(28, 28, 555)\n",
      "(28, 28, 555)\n",
      "(28, 28, 555)\n",
      "(28, 28, 560)\n"
     ]
    },
    {
     "name": "stderr",
     "output_type": "stream",
     "text": [
      "Layer No.6: \t 555 dimension vector with kernel of size 7\n",
      "Layer No.7: \t 555 dimension vector with kernel of size 2\n",
      "Layer No.8: \t 560 dimension vector with kernel of size 2\n",
      "Encoding time: 0.3071784973144531 \n",
      "Dumping basis into file: base_6742.pkl \n"
     ]
    },
    {
     "name": "stdout",
     "output_type": "stream",
     "text": [
      "Assigned BID:  6742\n"
     ]
    },
    {
     "name": "stderr",
     "output_type": "stream",
     "text": [
      "Encoding data of shape (20000, 784)\n"
     ]
    },
    {
     "data": {
      "application/vnd.jupyter.widget-view+json": {
       "model_id": "26c040344e1640578efc804438c9e6b7",
       "version_major": 2,
       "version_minor": 0
      },
      "text/plain": [
       "HBox(children=(IntProgress(value=0, description='samples encoded', max=20000, style=ProgressStyle(description_…"
      ]
     },
     "metadata": {},
     "output_type": "display_data"
    },
    {
     "name": "stdout",
     "output_type": "stream",
     "text": [
      "\n"
     ]
    },
    {
     "name": "stderr",
     "output_type": "stream",
     "text": [
      "Time spent: 29 sec\n",
      "Encoding data of shape (10000, 784)\n"
     ]
    },
    {
     "data": {
      "application/vnd.jupyter.widget-view+json": {
       "model_id": "c0045060beec4b00a8705200ddb16de9",
       "version_major": 2,
       "version_minor": 0
      },
      "text/plain": [
       "HBox(children=(IntProgress(value=0, description='samples encoded', max=10000, style=ProgressStyle(description_…"
      ]
     },
     "metadata": {},
     "output_type": "display_data"
    },
    {
     "name": "stdout",
     "output_type": "stream",
     "text": [
      "\n"
     ]
    },
    {
     "name": "stderr",
     "output_type": "stream",
     "text": [
      "Time spent: 14 sec\n"
     ]
    },
    {
     "data": {
      "application/vnd.jupyter.widget-view+json": {
       "model_id": "211d709beb0a4f73a6a7fa7b7b56ae75",
       "version_major": 2,
       "version_minor": 0
      },
      "text/plain": [
       "HBox(children=(IntProgress(value=0, description='epochs', style=ProgressStyle(description_width='initial')), H…"
      ]
     },
     "metadata": {},
     "output_type": "display_data"
    },
    {
     "name": "stderr",
     "output_type": "stream",
     "text": [
      "Fitting with configuration: [('one_shot', 0), ('dropout', 0), ('lr', 0.037)] \n"
     ]
    },
    {
     "name": "stdout",
     "output_type": "stream",
     "text": [
      "Train: 0.994100 \t \t Test: 0.965400\n",
      "Train: 0.998100 \t \t Test: 0.969000\n",
      "Train: 0.999300 \t \t Test: 0.972000\n",
      "Train: 0.999850 \t \t Test: 0.972000\n",
      "Train: 1.000000 \t \t Test: 0.973000\n",
      "Train: 1.000000 \t \t Test: 0.973000\n",
      "(28, 28, 555)\n",
      "(28, 28, 555)\n",
      "(28, 28, 555)\n",
      "(28, 28, 555)\n",
      "(28, 28, 555)\n",
      "(28, 28, 555)\n"
     ]
    },
    {
     "name": "stderr",
     "output_type": "stream",
     "text": [
      "Configuring baklava HD basis of 9 layers:\n",
      "Layer No.0: \t 555 dimension vector with kernel of size 7\n",
      "Layer No.1: \t 555 dimension vector with kernel of size 8\n",
      "Layer No.2: \t 555 dimension vector with kernel of size 3\n",
      "Layer No.3: \t 555 dimension vector with kernel of size 4\n",
      "Layer No.4: \t 555 dimension vector with kernel of size 3\n",
      "Layer No.5: \t 555 dimension vector with kernel of size 1\n",
      "Layer No.6: \t 555 dimension vector with kernel of size 7\n"
     ]
    },
    {
     "name": "stdout",
     "output_type": "stream",
     "text": [
      "(28, 28, 555)\n",
      "(28, 28, 555)\n",
      "(28, 28, 560)\n"
     ]
    },
    {
     "name": "stderr",
     "output_type": "stream",
     "text": [
      "Layer No.7: \t 555 dimension vector with kernel of size 2\n",
      "Layer No.8: \t 560 dimension vector with kernel of size 2\n",
      "Encoding time: 0.31219053268432617 \n",
      "Dumping basis into file: base_6818.pkl \n"
     ]
    },
    {
     "name": "stdout",
     "output_type": "stream",
     "text": [
      "Assigned BID:  6818\n"
     ]
    },
    {
     "name": "stderr",
     "output_type": "stream",
     "text": [
      "Encoding data of shape (20000, 784)\n"
     ]
    },
    {
     "data": {
      "application/vnd.jupyter.widget-view+json": {
       "model_id": "a3bae5c894c44577aee8aa0d9f38b541",
       "version_major": 2,
       "version_minor": 0
      },
      "text/plain": [
       "HBox(children=(IntProgress(value=0, description='samples encoded', max=20000, style=ProgressStyle(description_…"
      ]
     },
     "metadata": {},
     "output_type": "display_data"
    },
    {
     "name": "stdout",
     "output_type": "stream",
     "text": [
      "\n"
     ]
    },
    {
     "name": "stderr",
     "output_type": "stream",
     "text": [
      "Time spent: 30 sec\n",
      "Encoding data of shape (10000, 784)\n"
     ]
    },
    {
     "data": {
      "application/vnd.jupyter.widget-view+json": {
       "model_id": "30c44d21daaa477fb797ccb3557011ac",
       "version_major": 2,
       "version_minor": 0
      },
      "text/plain": [
       "HBox(children=(IntProgress(value=0, description='samples encoded', max=10000, style=ProgressStyle(description_…"
      ]
     },
     "metadata": {},
     "output_type": "display_data"
    },
    {
     "name": "stdout",
     "output_type": "stream",
     "text": [
      "\n"
     ]
    },
    {
     "name": "stderr",
     "output_type": "stream",
     "text": [
      "Time spent: 14 sec\n"
     ]
    },
    {
     "data": {
      "application/vnd.jupyter.widget-view+json": {
       "model_id": "234fd6a23b7a490ea280f55538b865fc",
       "version_major": 2,
       "version_minor": 0
      },
      "text/plain": [
       "HBox(children=(IntProgress(value=0, description='epochs', style=ProgressStyle(description_width='initial')), H…"
      ]
     },
     "metadata": {},
     "output_type": "display_data"
    },
    {
     "name": "stderr",
     "output_type": "stream",
     "text": [
      "Fitting with configuration: [('one_shot', 0), ('dropout', 0), ('lr', 0.037)] \n"
     ]
    },
    {
     "name": "stdout",
     "output_type": "stream",
     "text": [
      "Train: 0.994450 \t \t Test: 0.967900\n",
      "Train: 0.998700 \t \t Test: 0.972600\n",
      "Train: 0.999550 \t \t Test: 0.971800\n",
      "Train: 0.999900 \t \t Test: 0.971700\n",
      "Train: 1.000000 \t \t Test: 0.972300\n",
      "(28, 28, 555)\n",
      "(28, 28, 555)\n",
      "(28, 28, 555)\n",
      "(28, 28, 555)\n",
      "(28, 28, 555)\n",
      "(28, 28, 555)\n"
     ]
    },
    {
     "name": "stderr",
     "output_type": "stream",
     "text": [
      "Configuring baklava HD basis of 9 layers:\n",
      "Layer No.0: \t 555 dimension vector with kernel of size 7\n",
      "Layer No.1: \t 555 dimension vector with kernel of size 8\n",
      "Layer No.2: \t 555 dimension vector with kernel of size 3\n",
      "Layer No.3: \t 555 dimension vector with kernel of size 4\n",
      "Layer No.4: \t 555 dimension vector with kernel of size 3\n",
      "Layer No.5: \t 555 dimension vector with kernel of size 1\n",
      "Layer No.6: \t 555 dimension vector with kernel of size 7\n"
     ]
    },
    {
     "name": "stdout",
     "output_type": "stream",
     "text": [
      "(28, 28, 555)\n",
      "(28, 28, 555)\n",
      "(28, 28, 560)\n"
     ]
    },
    {
     "name": "stderr",
     "output_type": "stream",
     "text": [
      "Layer No.7: \t 555 dimension vector with kernel of size 2\n",
      "Layer No.8: \t 560 dimension vector with kernel of size 2\n",
      "Encoding time: 0.30875062942504883 \n",
      "Dumping basis into file: base_6895.pkl \n"
     ]
    },
    {
     "name": "stdout",
     "output_type": "stream",
     "text": [
      "Assigned BID:  6895\n"
     ]
    },
    {
     "name": "stderr",
     "output_type": "stream",
     "text": [
      "Encoding data of shape (20000, 784)\n"
     ]
    },
    {
     "data": {
      "application/vnd.jupyter.widget-view+json": {
       "model_id": "ac784443ee6544558f9d857fb5d61ddf",
       "version_major": 2,
       "version_minor": 0
      },
      "text/plain": [
       "HBox(children=(IntProgress(value=0, description='samples encoded', max=20000, style=ProgressStyle(description_…"
      ]
     },
     "metadata": {},
     "output_type": "display_data"
    },
    {
     "name": "stdout",
     "output_type": "stream",
     "text": [
      "\n"
     ]
    },
    {
     "name": "stderr",
     "output_type": "stream",
     "text": [
      "Time spent: 29 sec\n",
      "Encoding data of shape (10000, 784)\n"
     ]
    },
    {
     "data": {
      "application/vnd.jupyter.widget-view+json": {
       "model_id": "5535d4460c3348ed921aecaa48a6c6f0",
       "version_major": 2,
       "version_minor": 0
      },
      "text/plain": [
       "HBox(children=(IntProgress(value=0, description='samples encoded', max=10000, style=ProgressStyle(description_…"
      ]
     },
     "metadata": {},
     "output_type": "display_data"
    },
    {
     "name": "stdout",
     "output_type": "stream",
     "text": [
      "\n"
     ]
    },
    {
     "name": "stderr",
     "output_type": "stream",
     "text": [
      "Time spent: 15 sec\n"
     ]
    },
    {
     "data": {
      "application/vnd.jupyter.widget-view+json": {
       "model_id": "b70392c506c243178b3c5a4d69bb5e89",
       "version_major": 2,
       "version_minor": 0
      },
      "text/plain": [
       "HBox(children=(IntProgress(value=0, description='epochs', style=ProgressStyle(description_width='initial')), H…"
      ]
     },
     "metadata": {},
     "output_type": "display_data"
    },
    {
     "name": "stderr",
     "output_type": "stream",
     "text": [
      "Fitting with configuration: [('one_shot', 0), ('dropout', 0), ('lr', 0.037)] \n"
     ]
    },
    {
     "name": "stdout",
     "output_type": "stream",
     "text": [
      "Train: 0.993050 \t \t Test: 0.968800\n",
      "Train: 0.998050 \t \t Test: 0.973300\n",
      "Train: 0.999850 \t \t Test: 0.974900\n",
      "Train: 0.999950 \t \t Test: 0.974800\n",
      "Train: 1.000000 \t \t Test: 0.976500\n",
      "{'D': 5000, 'nLayers': 3, 'uniform_dim': 1, 'uniform_ker': 0, 'dArr': [555, 555, 555, 555, 555, 555, 555, 555, 560], 'k': array([8, 7, 3, 6, 7, 4, 1, 4, 3]), 'kArr': array([5, 1, 1])}\n",
      "(28, 28, 1666)\n"
     ]
    },
    {
     "name": "stderr",
     "output_type": "stream",
     "text": [
      "Configuring baklava HD basis of 3 layers:\n",
      "Layer No.0: \t 1666 dimension vector with kernel of size 5\n",
      "Layer No.1: \t 1666 dimension vector with kernel of size 1\n"
     ]
    },
    {
     "name": "stdout",
     "output_type": "stream",
     "text": [
      "(28, 28, 1666)\n",
      "(28, 28, 1668)\n"
     ]
    },
    {
     "name": "stderr",
     "output_type": "stream",
     "text": [
      "Layer No.2: \t 1668 dimension vector with kernel of size 1\n",
      "Encoding time: 0.4637601375579834 \n",
      "Dumping basis into file: base_6969.pkl \n"
     ]
    },
    {
     "name": "stdout",
     "output_type": "stream",
     "text": [
      "Assigned BID:  6969\n"
     ]
    },
    {
     "name": "stderr",
     "output_type": "stream",
     "text": [
      "Encoding data of shape (20000, 784)\n"
     ]
    },
    {
     "data": {
      "application/vnd.jupyter.widget-view+json": {
       "model_id": "34c3036df73947138ea53dc76deb02f2",
       "version_major": 2,
       "version_minor": 0
      },
      "text/plain": [
       "HBox(children=(IntProgress(value=0, description='samples encoded', max=20000, style=ProgressStyle(description_…"
      ]
     },
     "metadata": {},
     "output_type": "display_data"
    },
    {
     "name": "stdout",
     "output_type": "stream",
     "text": [
      "\n"
     ]
    },
    {
     "name": "stderr",
     "output_type": "stream",
     "text": [
      "Time spent: 30 sec\n",
      "Encoding data of shape (10000, 784)\n"
     ]
    },
    {
     "data": {
      "application/vnd.jupyter.widget-view+json": {
       "model_id": "6e5a7778ea554df1a996676790be9b51",
       "version_major": 2,
       "version_minor": 0
      },
      "text/plain": [
       "HBox(children=(IntProgress(value=0, description='samples encoded', max=10000, style=ProgressStyle(description_…"
      ]
     },
     "metadata": {},
     "output_type": "display_data"
    },
    {
     "name": "stdout",
     "output_type": "stream",
     "text": [
      "\n"
     ]
    },
    {
     "name": "stderr",
     "output_type": "stream",
     "text": [
      "Time spent: 14 sec\n"
     ]
    },
    {
     "data": {
      "application/vnd.jupyter.widget-view+json": {
       "model_id": "96412a6c5139490492b4cf146a1a8bde",
       "version_major": 2,
       "version_minor": 0
      },
      "text/plain": [
       "HBox(children=(IntProgress(value=0, description='epochs', style=ProgressStyle(description_width='initial')), H…"
      ]
     },
     "metadata": {},
     "output_type": "display_data"
    },
    {
     "name": "stderr",
     "output_type": "stream",
     "text": [
      "Fitting with configuration: [('one_shot', 0), ('dropout', 0), ('lr', 0.037)] \n"
     ]
    },
    {
     "name": "stdout",
     "output_type": "stream",
     "text": [
      "Train: 0.985050 \t \t Test: 0.963200\n",
      "Train: 0.995200 \t \t Test: 0.968800\n",
      "Train: 0.997800 \t \t Test: 0.966500\n",
      "Train: 0.998850 \t \t Test: 0.966100\n",
      "Train: 0.999900 \t \t Test: 0.971800\n",
      "Train: 1.000000 \t \t Test: 0.972100\n",
      "(28, 28, 1666)\n"
     ]
    },
    {
     "name": "stderr",
     "output_type": "stream",
     "text": [
      "Configuring baklava HD basis of 3 layers:\n",
      "Layer No.0: \t 1666 dimension vector with kernel of size 5\n",
      "Layer No.1: \t 1666 dimension vector with kernel of size 1\n"
     ]
    },
    {
     "name": "stdout",
     "output_type": "stream",
     "text": [
      "(28, 28, 1666)\n",
      "(28, 28, 1668)"
     ]
    },
    {
     "name": "stderr",
     "output_type": "stream",
     "text": [
      "Layer No.2: \t 1668 dimension vector with kernel of size 1\n"
     ]
    },
    {
     "name": "stdout",
     "output_type": "stream",
     "text": [
      "\n"
     ]
    },
    {
     "name": "stderr",
     "output_type": "stream",
     "text": [
      "Encoding time: 0.44878387451171875 \n",
      "Dumping basis into file: base_7051.pkl \n"
     ]
    },
    {
     "name": "stdout",
     "output_type": "stream",
     "text": [
      "Assigned BID:  7051\n"
     ]
    },
    {
     "name": "stderr",
     "output_type": "stream",
     "text": [
      "Encoding data of shape (20000, 784)\n"
     ]
    },
    {
     "data": {
      "application/vnd.jupyter.widget-view+json": {
       "model_id": "377ae1adf12e4469bf13ff95971bad2f",
       "version_major": 2,
       "version_minor": 0
      },
      "text/plain": [
       "HBox(children=(IntProgress(value=0, description='samples encoded', max=20000, style=ProgressStyle(description_…"
      ]
     },
     "metadata": {},
     "output_type": "display_data"
    },
    {
     "name": "stdout",
     "output_type": "stream",
     "text": [
      "\n"
     ]
    },
    {
     "name": "stderr",
     "output_type": "stream",
     "text": [
      "Time spent: 28 sec\n",
      "Encoding data of shape (10000, 784)\n"
     ]
    },
    {
     "data": {
      "application/vnd.jupyter.widget-view+json": {
       "model_id": "85f9f2a9019a446985fa18cad5259ddc",
       "version_major": 2,
       "version_minor": 0
      },
      "text/plain": [
       "HBox(children=(IntProgress(value=0, description='samples encoded', max=10000, style=ProgressStyle(description_…"
      ]
     },
     "metadata": {},
     "output_type": "display_data"
    },
    {
     "name": "stdout",
     "output_type": "stream",
     "text": [
      "\n"
     ]
    },
    {
     "name": "stderr",
     "output_type": "stream",
     "text": [
      "Time spent: 14 sec\n"
     ]
    },
    {
     "data": {
      "application/vnd.jupyter.widget-view+json": {
       "model_id": "be5b604ca6bd41a0a62ec86eca736e5d",
       "version_major": 2,
       "version_minor": 0
      },
      "text/plain": [
       "HBox(children=(IntProgress(value=0, description='epochs', style=ProgressStyle(description_width='initial')), H…"
      ]
     },
     "metadata": {},
     "output_type": "display_data"
    },
    {
     "name": "stderr",
     "output_type": "stream",
     "text": [
      "Fitting with configuration: [('one_shot', 0), ('dropout', 0), ('lr', 0.037)] \n"
     ]
    },
    {
     "name": "stdout",
     "output_type": "stream",
     "text": [
      "Train: 0.986750 \t \t Test: 0.955200\n",
      "Train: 0.996750 \t \t Test: 0.969600\n",
      "Train: 0.998300 \t \t Test: 0.969300\n",
      "Train: 1.000000 \t \t Test: 0.972300\n",
      "Train: 1.000000 \t \t Test: 0.972300\n",
      "(28, 28, 1666)\n"
     ]
    },
    {
     "name": "stderr",
     "output_type": "stream",
     "text": [
      "Configuring baklava HD basis of 3 layers:\n",
      "Layer No.0: \t 1666 dimension vector with kernel of size 5\n",
      "Layer No.1: \t 1666 dimension vector with kernel of size 1\n"
     ]
    },
    {
     "name": "stdout",
     "output_type": "stream",
     "text": [
      "(28, 28, 1666)\n",
      "(28, 28, 1668)"
     ]
    },
    {
     "name": "stderr",
     "output_type": "stream",
     "text": [
      "Layer No.2: \t 1668 dimension vector with kernel of size 1\n"
     ]
    },
    {
     "name": "stdout",
     "output_type": "stream",
     "text": [
      "\n"
     ]
    },
    {
     "name": "stderr",
     "output_type": "stream",
     "text": [
      "Encoding time: 0.46575474739074707 \n",
      "Dumping basis into file: base_7121.pkl \n"
     ]
    },
    {
     "name": "stdout",
     "output_type": "stream",
     "text": [
      "Assigned BID:  7121\n"
     ]
    },
    {
     "name": "stderr",
     "output_type": "stream",
     "text": [
      "Encoding data of shape (20000, 784)\n"
     ]
    },
    {
     "data": {
      "application/vnd.jupyter.widget-view+json": {
       "model_id": "132fb810cf1d480ba9e823b0200c6fd0",
       "version_major": 2,
       "version_minor": 0
      },
      "text/plain": [
       "HBox(children=(IntProgress(value=0, description='samples encoded', max=20000, style=ProgressStyle(description_…"
      ]
     },
     "metadata": {},
     "output_type": "display_data"
    },
    {
     "name": "stdout",
     "output_type": "stream",
     "text": [
      "\n"
     ]
    },
    {
     "name": "stderr",
     "output_type": "stream",
     "text": [
      "Time spent: 28 sec\n",
      "Encoding data of shape (10000, 784)\n"
     ]
    },
    {
     "data": {
      "application/vnd.jupyter.widget-view+json": {
       "model_id": "002c3d6ed69f419bafd38ca022928b60",
       "version_major": 2,
       "version_minor": 0
      },
      "text/plain": [
       "HBox(children=(IntProgress(value=0, description='samples encoded', max=10000, style=ProgressStyle(description_…"
      ]
     },
     "metadata": {},
     "output_type": "display_data"
    },
    {
     "name": "stdout",
     "output_type": "stream",
     "text": [
      "\n"
     ]
    },
    {
     "name": "stderr",
     "output_type": "stream",
     "text": [
      "Time spent: 14 sec\n"
     ]
    },
    {
     "data": {
      "application/vnd.jupyter.widget-view+json": {
       "model_id": "83e45e3079b94f2eb784a512c16a4551",
       "version_major": 2,
       "version_minor": 0
      },
      "text/plain": [
       "HBox(children=(IntProgress(value=0, description='epochs', style=ProgressStyle(description_width='initial')), H…"
      ]
     },
     "metadata": {},
     "output_type": "display_data"
    },
    {
     "name": "stderr",
     "output_type": "stream",
     "text": [
      "Fitting with configuration: [('one_shot', 0), ('dropout', 0), ('lr', 0.037)] \n"
     ]
    },
    {
     "name": "stdout",
     "output_type": "stream",
     "text": [
      "Train: 0.986550 \t \t Test: 0.957500\n",
      "Train: 0.995000 \t \t Test: 0.963900\n",
      "Train: 0.999100 \t \t Test: 0.968300\n",
      "Train: 0.999100 \t \t Test: 0.969600\n",
      "Train: 1.000000 \t \t Test: 0.969800\n",
      "Train: 1.000000 \t \t Test: 0.969800\n",
      "{'D': 5000, 'nLayers': 3, 'uniform_dim': 1, 'uniform_ker': 0, 'dArr': [1666, 1666, 1668], 'k': array([8, 7, 3, 6, 7, 4, 1, 4, 3]), 'kArr': array([1, 4, 4])}\n",
      "(28, 28, 1666)\n"
     ]
    },
    {
     "name": "stderr",
     "output_type": "stream",
     "text": [
      "Configuring baklava HD basis of 3 layers:\n",
      "Layer No.0: \t 1666 dimension vector with kernel of size 1\n",
      "Layer No.1: \t 1666 dimension vector with kernel of size 4\n"
     ]
    },
    {
     "name": "stdout",
     "output_type": "stream",
     "text": [
      "(28, 28, 1666)\n",
      "(28, 28, 1668)\n"
     ]
    },
    {
     "name": "stderr",
     "output_type": "stream",
     "text": [
      "Layer No.2: \t 1668 dimension vector with kernel of size 4\n",
      "Encoding time: 0.33408045768737793 \n",
      "Dumping basis into file: base_7198.pkl \n"
     ]
    },
    {
     "name": "stdout",
     "output_type": "stream",
     "text": [
      "Assigned BID:  7198\n"
     ]
    },
    {
     "name": "stderr",
     "output_type": "stream",
     "text": [
      "Encoding data of shape (20000, 784)\n"
     ]
    },
    {
     "data": {
      "application/vnd.jupyter.widget-view+json": {
       "model_id": "89307978cda74edb91ef3d5bd912a1ee",
       "version_major": 2,
       "version_minor": 0
      },
      "text/plain": [
       "HBox(children=(IntProgress(value=0, description='samples encoded', max=20000, style=ProgressStyle(description_…"
      ]
     },
     "metadata": {},
     "output_type": "display_data"
    },
    {
     "name": "stdout",
     "output_type": "stream",
     "text": [
      "\n"
     ]
    },
    {
     "name": "stderr",
     "output_type": "stream",
     "text": [
      "Time spent: 29 sec\n",
      "Encoding data of shape (10000, 784)\n"
     ]
    },
    {
     "data": {
      "application/vnd.jupyter.widget-view+json": {
       "model_id": "91c769b303d64d6f9361910e0566ce09",
       "version_major": 2,
       "version_minor": 0
      },
      "text/plain": [
       "HBox(children=(IntProgress(value=0, description='samples encoded', max=10000, style=ProgressStyle(description_…"
      ]
     },
     "metadata": {},
     "output_type": "display_data"
    },
    {
     "name": "stdout",
     "output_type": "stream",
     "text": [
      "\n"
     ]
    },
    {
     "name": "stderr",
     "output_type": "stream",
     "text": [
      "Time spent: 14 sec\n"
     ]
    },
    {
     "data": {
      "application/vnd.jupyter.widget-view+json": {
       "model_id": "61922d0d50974345805ecd9d2c729589",
       "version_major": 2,
       "version_minor": 0
      },
      "text/plain": [
       "HBox(children=(IntProgress(value=0, description='epochs', style=ProgressStyle(description_width='initial')), H…"
      ]
     },
     "metadata": {},
     "output_type": "display_data"
    },
    {
     "name": "stderr",
     "output_type": "stream",
     "text": [
      "Fitting with configuration: [('one_shot', 0), ('dropout', 0), ('lr', 0.037)] \n"
     ]
    },
    {
     "name": "stdout",
     "output_type": "stream",
     "text": [
      "Train: 0.994050 \t \t Test: 0.968600\n",
      "Train: 0.997950 \t \t Test: 0.971000\n",
      "Train: 0.999350 \t \t Test: 0.971100\n",
      "Train: 0.999850 \t \t Test: 0.973100\n",
      "Train: 1.000000 \t \t Test: 0.972500\n",
      "(28, 28, 1666)\n"
     ]
    },
    {
     "name": "stderr",
     "output_type": "stream",
     "text": [
      "Configuring baklava HD basis of 3 layers:\n",
      "Layer No.0: \t 1666 dimension vector with kernel of size 1\n"
     ]
    },
    {
     "name": "stdout",
     "output_type": "stream",
     "text": [
      "(28, 28, 1666)\n",
      "(28, 28, 1668)\n"
     ]
    },
    {
     "name": "stderr",
     "output_type": "stream",
     "text": [
      "Layer No.1: \t 1666 dimension vector with kernel of size 4\n",
      "Layer No.2: \t 1668 dimension vector with kernel of size 4\n",
      "Encoding time: 0.3370981216430664 \n",
      "Dumping basis into file: base_7271.pkl \n"
     ]
    },
    {
     "name": "stdout",
     "output_type": "stream",
     "text": [
      "Assigned BID:  7271\n"
     ]
    },
    {
     "name": "stderr",
     "output_type": "stream",
     "text": [
      "Encoding data of shape (20000, 784)\n"
     ]
    },
    {
     "data": {
      "application/vnd.jupyter.widget-view+json": {
       "model_id": "9d3990bf364f4c478a44eb7f1bedf833",
       "version_major": 2,
       "version_minor": 0
      },
      "text/plain": [
       "HBox(children=(IntProgress(value=0, description='samples encoded', max=20000, style=ProgressStyle(description_…"
      ]
     },
     "metadata": {},
     "output_type": "display_data"
    },
    {
     "name": "stdout",
     "output_type": "stream",
     "text": [
      "\n"
     ]
    },
    {
     "name": "stderr",
     "output_type": "stream",
     "text": [
      "Time spent: 29 sec\n",
      "Encoding data of shape (10000, 784)\n"
     ]
    },
    {
     "data": {
      "application/vnd.jupyter.widget-view+json": {
       "model_id": "a287415459ad46e1ac9d5960ba7ae6a6",
       "version_major": 2,
       "version_minor": 0
      },
      "text/plain": [
       "HBox(children=(IntProgress(value=0, description='samples encoded', max=10000, style=ProgressStyle(description_…"
      ]
     },
     "metadata": {},
     "output_type": "display_data"
    },
    {
     "name": "stdout",
     "output_type": "stream",
     "text": [
      "\n"
     ]
    },
    {
     "name": "stderr",
     "output_type": "stream",
     "text": [
      "Time spent: 14 sec\n"
     ]
    },
    {
     "data": {
      "application/vnd.jupyter.widget-view+json": {
       "model_id": "828a143145eb40ebb1c5cc4f377785b8",
       "version_major": 2,
       "version_minor": 0
      },
      "text/plain": [
       "HBox(children=(IntProgress(value=0, description='epochs', style=ProgressStyle(description_width='initial')), H…"
      ]
     },
     "metadata": {},
     "output_type": "display_data"
    },
    {
     "name": "stderr",
     "output_type": "stream",
     "text": [
      "Fitting with configuration: [('one_shot', 0), ('dropout', 0), ('lr', 0.037)] \n"
     ]
    },
    {
     "name": "stdout",
     "output_type": "stream",
     "text": [
      "Train: 0.994150 \t \t Test: 0.968900\n",
      "Train: 0.998950 \t \t Test: 0.969800\n",
      "Train: 0.999050 \t \t Test: 0.971900\n",
      "Train: 1.000000 \t \t Test: 0.972700\n"
     ]
    },
    {
     "name": "stderr",
     "output_type": "stream",
     "text": [
      "Configuring baklava HD basis of 3 layers:\n",
      "Layer No.0: \t 1666 dimension vector with kernel of size 1\n"
     ]
    },
    {
     "name": "stdout",
     "output_type": "stream",
     "text": [
      "(28, 28, 1666)\n",
      "(28, 28, 1666)\n",
      "(28, 28, 1668)\n"
     ]
    },
    {
     "name": "stderr",
     "output_type": "stream",
     "text": [
      "Layer No.1: \t 1666 dimension vector with kernel of size 4\n",
      "Layer No.2: \t 1668 dimension vector with kernel of size 4\n",
      "Encoding time: 0.3350491523742676 \n",
      "Dumping basis into file: base_7341.pkl \n"
     ]
    },
    {
     "name": "stdout",
     "output_type": "stream",
     "text": [
      "Assigned BID:  7341\n"
     ]
    },
    {
     "name": "stderr",
     "output_type": "stream",
     "text": [
      "Encoding data of shape (20000, 784)\n"
     ]
    },
    {
     "data": {
      "application/vnd.jupyter.widget-view+json": {
       "model_id": "b3e494476bdf4d95a52e062461ebfeba",
       "version_major": 2,
       "version_minor": 0
      },
      "text/plain": [
       "HBox(children=(IntProgress(value=0, description='samples encoded', max=20000, style=ProgressStyle(description_…"
      ]
     },
     "metadata": {},
     "output_type": "display_data"
    },
    {
     "name": "stdout",
     "output_type": "stream",
     "text": [
      "\n"
     ]
    },
    {
     "name": "stderr",
     "output_type": "stream",
     "text": [
      "Time spent: 28 sec\n",
      "Encoding data of shape (10000, 784)\n"
     ]
    },
    {
     "data": {
      "application/vnd.jupyter.widget-view+json": {
       "model_id": "f1e8ce03aa4f49868f114b1d2b016a77",
       "version_major": 2,
       "version_minor": 0
      },
      "text/plain": [
       "HBox(children=(IntProgress(value=0, description='samples encoded', max=10000, style=ProgressStyle(description_…"
      ]
     },
     "metadata": {},
     "output_type": "display_data"
    },
    {
     "name": "stdout",
     "output_type": "stream",
     "text": [
      "\n"
     ]
    },
    {
     "name": "stderr",
     "output_type": "stream",
     "text": [
      "Time spent: 14 sec\n"
     ]
    },
    {
     "data": {
      "application/vnd.jupyter.widget-view+json": {
       "model_id": "5e10faa35f7c48d387a5e878c6ebaac0",
       "version_major": 2,
       "version_minor": 0
      },
      "text/plain": [
       "HBox(children=(IntProgress(value=0, description='epochs', style=ProgressStyle(description_width='initial')), H…"
      ]
     },
     "metadata": {},
     "output_type": "display_data"
    },
    {
     "name": "stderr",
     "output_type": "stream",
     "text": [
      "Fitting with configuration: [('one_shot', 0), ('dropout', 0), ('lr', 0.037)] \n"
     ]
    },
    {
     "name": "stdout",
     "output_type": "stream",
     "text": [
      "Train: 0.993900 \t \t Test: 0.960300\n",
      "Train: 0.998350 \t \t Test: 0.970700\n",
      "Train: 0.999650 \t \t Test: 0.971300\n",
      "Train: 0.999450 \t \t Test: 0.971900\n",
      "Train: 1.000000 \t \t Test: 0.972300\n",
      "{'D': 5000, 'nLayers': 7, 'uniform_dim': 1, 'uniform_ker': 0, 'dArr': [1666, 1666, 1668], 'k': array([8, 7, 3, 6, 7, 4, 1, 4, 3]), 'kArr': array([7, 3, 5, 8, 1, 8, 5])}\n",
      "(28, 28, 714)\n",
      "(28, 28, 714)\n",
      "(28, 28, 714)\n",
      "(28, 28, 714)\n"
     ]
    },
    {
     "name": "stderr",
     "output_type": "stream",
     "text": [
      "Configuring baklava HD basis of 7 layers:\n",
      "Layer No.0: \t 714 dimension vector with kernel of size 7\n",
      "Layer No.1: \t 714 dimension vector with kernel of size 3\n",
      "Layer No.2: \t 714 dimension vector with kernel of size 5\n",
      "Layer No.3: \t 714 dimension vector with kernel of size 8\n",
      "Layer No.4: \t 714 dimension vector with kernel of size 1\n"
     ]
    },
    {
     "name": "stdout",
     "output_type": "stream",
     "text": [
      "(28, 28, 714)\n",
      "(28, 28, 714)\n",
      "(28, 28, 716)\n"
     ]
    },
    {
     "name": "stderr",
     "output_type": "stream",
     "text": [
      "Layer No.5: \t 714 dimension vector with kernel of size 8\n",
      "Layer No.6: \t 716 dimension vector with kernel of size 5\n",
      "Encoding time: 0.27825307846069336 \n",
      "Dumping basis into file: base_7416.pkl \n"
     ]
    },
    {
     "name": "stdout",
     "output_type": "stream",
     "text": [
      "Assigned BID:  7416\n"
     ]
    },
    {
     "name": "stderr",
     "output_type": "stream",
     "text": [
      "Encoding data of shape (20000, 784)\n"
     ]
    },
    {
     "data": {
      "application/vnd.jupyter.widget-view+json": {
       "model_id": "3fa4a060ff2d4708b1733550536aa4e5",
       "version_major": 2,
       "version_minor": 0
      },
      "text/plain": [
       "HBox(children=(IntProgress(value=0, description='samples encoded', max=20000, style=ProgressStyle(description_…"
      ]
     },
     "metadata": {},
     "output_type": "display_data"
    },
    {
     "name": "stdout",
     "output_type": "stream",
     "text": [
      "\n"
     ]
    },
    {
     "name": "stderr",
     "output_type": "stream",
     "text": [
      "Time spent: 32 sec\n",
      "Encoding data of shape (10000, 784)\n"
     ]
    },
    {
     "data": {
      "application/vnd.jupyter.widget-view+json": {
       "model_id": "a9c8eb3ea4b84f20a128198cc02128fd",
       "version_major": 2,
       "version_minor": 0
      },
      "text/plain": [
       "HBox(children=(IntProgress(value=0, description='samples encoded', max=10000, style=ProgressStyle(description_…"
      ]
     },
     "metadata": {},
     "output_type": "display_data"
    },
    {
     "name": "stdout",
     "output_type": "stream",
     "text": [
      "\n"
     ]
    },
    {
     "name": "stderr",
     "output_type": "stream",
     "text": [
      "Time spent: 16 sec\n"
     ]
    },
    {
     "data": {
      "application/vnd.jupyter.widget-view+json": {
       "model_id": "4647f965321044c3a7b676ee5134688a",
       "version_major": 2,
       "version_minor": 0
      },
      "text/plain": [
       "HBox(children=(IntProgress(value=0, description='epochs', style=ProgressStyle(description_width='initial')), H…"
      ]
     },
     "metadata": {},
     "output_type": "display_data"
    },
    {
     "name": "stderr",
     "output_type": "stream",
     "text": [
      "Fitting with configuration: [('one_shot', 0), ('dropout', 0), ('lr', 0.037)] \n"
     ]
    },
    {
     "name": "stdout",
     "output_type": "stream",
     "text": [
      "Train: 0.993100 \t \t Test: 0.968300\n",
      "Train: 0.998050 \t \t Test: 0.969600\n",
      "Train: 0.998250 \t \t Test: 0.966200\n",
      "Train: 0.999450 \t \t Test: 0.970300\n",
      "Train: 0.999750 \t \t Test: 0.971000\n",
      "Train: 1.000000 \t \t Test: 0.971000\n",
      "(28, 28, 714)\n",
      "(28, 28, 714)\n",
      "(28, 28, 714)\n",
      "(28, 28, 714)\n"
     ]
    },
    {
     "name": "stderr",
     "output_type": "stream",
     "text": [
      "Configuring baklava HD basis of 7 layers:\n",
      "Layer No.0: \t 714 dimension vector with kernel of size 7\n",
      "Layer No.1: \t 714 dimension vector with kernel of size 3\n",
      "Layer No.2: \t 714 dimension vector with kernel of size 5\n",
      "Layer No.3: \t 714 dimension vector with kernel of size 8\n",
      "Layer No.4: \t 714 dimension vector with kernel of size 1\n"
     ]
    },
    {
     "name": "stdout",
     "output_type": "stream",
     "text": [
      "(28, 28, 714)\n",
      "(28, 28, 714)\n",
      "(28, 28, 716)\n"
     ]
    },
    {
     "name": "stderr",
     "output_type": "stream",
     "text": [
      "Layer No.5: \t 714 dimension vector with kernel of size 8\n",
      "Layer No.6: \t 716 dimension vector with kernel of size 5\n",
      "Encoding time: 0.2762629985809326 \n",
      "Dumping basis into file: base_7504.pkl \n"
     ]
    },
    {
     "name": "stdout",
     "output_type": "stream",
     "text": [
      "Assigned BID:  7504\n"
     ]
    },
    {
     "name": "stderr",
     "output_type": "stream",
     "text": [
      "Encoding data of shape (20000, 784)\n"
     ]
    },
    {
     "data": {
      "application/vnd.jupyter.widget-view+json": {
       "model_id": "252281d24372493381343a23059c50d7",
       "version_major": 2,
       "version_minor": 0
      },
      "text/plain": [
       "HBox(children=(IntProgress(value=0, description='samples encoded', max=20000, style=ProgressStyle(description_…"
      ]
     },
     "metadata": {},
     "output_type": "display_data"
    },
    {
     "name": "stdout",
     "output_type": "stream",
     "text": [
      "\n"
     ]
    },
    {
     "name": "stderr",
     "output_type": "stream",
     "text": [
      "Time spent: 30 sec\n",
      "Encoding data of shape (10000, 784)\n"
     ]
    },
    {
     "data": {
      "application/vnd.jupyter.widget-view+json": {
       "model_id": "e23a39f52ea9417cb11f9e9fd8342307",
       "version_major": 2,
       "version_minor": 0
      },
      "text/plain": [
       "HBox(children=(IntProgress(value=0, description='samples encoded', max=10000, style=ProgressStyle(description_…"
      ]
     },
     "metadata": {},
     "output_type": "display_data"
    },
    {
     "name": "stdout",
     "output_type": "stream",
     "text": [
      "\n"
     ]
    },
    {
     "name": "stderr",
     "output_type": "stream",
     "text": [
      "Time spent: 14 sec\n"
     ]
    },
    {
     "data": {
      "application/vnd.jupyter.widget-view+json": {
       "model_id": "cc5ec1466962434db2fde5692a51a14d",
       "version_major": 2,
       "version_minor": 0
      },
      "text/plain": [
       "HBox(children=(IntProgress(value=0, description='epochs', style=ProgressStyle(description_width='initial')), H…"
      ]
     },
     "metadata": {},
     "output_type": "display_data"
    },
    {
     "name": "stderr",
     "output_type": "stream",
     "text": [
      "Fitting with configuration: [('one_shot', 0), ('dropout', 0), ('lr', 0.037)] \n"
     ]
    },
    {
     "name": "stdout",
     "output_type": "stream",
     "text": [
      "Train: 0.994100 \t \t Test: 0.966600\n",
      "Train: 0.997900 \t \t Test: 0.968200\n",
      "Train: 0.999450 \t \t Test: 0.969700\n",
      "Train: 0.999600 \t \t Test: 0.968900\n",
      "Train: 0.999500 \t \t Test: 0.968700\n",
      "Train: 0.999950 \t \t Test: 0.970900\n",
      "Train: 1.000000 \t \t Test: 0.970600\n",
      "Train: 1.000000 \t \t Test: 0.970600\n",
      "(28, 28, 714)\n",
      "(28, 28, 714)\n",
      "(28, 28, 714)\n",
      "(28, 28, 714)\n"
     ]
    },
    {
     "name": "stderr",
     "output_type": "stream",
     "text": [
      "Configuring baklava HD basis of 7 layers:\n",
      "Layer No.0: \t 714 dimension vector with kernel of size 7\n",
      "Layer No.1: \t 714 dimension vector with kernel of size 3\n",
      "Layer No.2: \t 714 dimension vector with kernel of size 5\n",
      "Layer No.3: \t 714 dimension vector with kernel of size 8\n",
      "Layer No.4: \t 714 dimension vector with kernel of size 1\n"
     ]
    },
    {
     "name": "stdout",
     "output_type": "stream",
     "text": [
      "(28, 28, 714)\n",
      "(28, 28, 714)\n",
      "(28, 28, 716)\n"
     ]
    },
    {
     "name": "stderr",
     "output_type": "stream",
     "text": [
      "Layer No.5: \t 714 dimension vector with kernel of size 8\n",
      "Layer No.6: \t 716 dimension vector with kernel of size 5\n",
      "Encoding time: 0.2578577995300293 \n",
      "Dumping basis into file: base_7593.pkl \n"
     ]
    },
    {
     "name": "stdout",
     "output_type": "stream",
     "text": [
      "Assigned BID:  7593\n"
     ]
    },
    {
     "name": "stderr",
     "output_type": "stream",
     "text": [
      "Encoding data of shape (20000, 784)\n"
     ]
    },
    {
     "data": {
      "application/vnd.jupyter.widget-view+json": {
       "model_id": "712710427a174d1d96fdc095cf891489",
       "version_major": 2,
       "version_minor": 0
      },
      "text/plain": [
       "HBox(children=(IntProgress(value=0, description='samples encoded', max=20000, style=ProgressStyle(description_…"
      ]
     },
     "metadata": {},
     "output_type": "display_data"
    },
    {
     "name": "stdout",
     "output_type": "stream",
     "text": [
      "\n"
     ]
    },
    {
     "name": "stderr",
     "output_type": "stream",
     "text": [
      "Time spent: 28 sec\n",
      "Encoding data of shape (10000, 784)\n"
     ]
    },
    {
     "data": {
      "application/vnd.jupyter.widget-view+json": {
       "model_id": "57c186ab3f234646b1f3d0cf57fb38d8",
       "version_major": 2,
       "version_minor": 0
      },
      "text/plain": [
       "HBox(children=(IntProgress(value=0, description='samples encoded', max=10000, style=ProgressStyle(description_…"
      ]
     },
     "metadata": {},
     "output_type": "display_data"
    },
    {
     "name": "stdout",
     "output_type": "stream",
     "text": [
      "\n"
     ]
    },
    {
     "name": "stderr",
     "output_type": "stream",
     "text": [
      "Time spent: 14 sec\n"
     ]
    },
    {
     "data": {
      "application/vnd.jupyter.widget-view+json": {
       "model_id": "f3254d16815c4f2e939be4a82e21132b",
       "version_major": 2,
       "version_minor": 0
      },
      "text/plain": [
       "HBox(children=(IntProgress(value=0, description='epochs', style=ProgressStyle(description_width='initial')), H…"
      ]
     },
     "metadata": {},
     "output_type": "display_data"
    },
    {
     "name": "stderr",
     "output_type": "stream",
     "text": [
      "Fitting with configuration: [('one_shot', 0), ('dropout', 0), ('lr', 0.037)] \n"
     ]
    },
    {
     "name": "stdout",
     "output_type": "stream",
     "text": [
      "Train: 0.992800 \t \t Test: 0.969000\n",
      "Train: 0.999300 \t \t Test: 0.970900\n",
      "Train: 0.998600 \t \t Test: 0.971000\n",
      "Train: 0.999500 \t \t Test: 0.972800\n",
      "Train: 1.000000 \t \t Test: 0.972100\n",
      "{'D': 5000, 'nLayers': 5, 'uniform_dim': 1, 'uniform_ker': 0, 'dArr': [714, 714, 714, 714, 714, 714, 716], 'k': array([8, 7, 3, 6, 7, 4, 1, 4, 3]), 'kArr': array([3, 9, 6, 6, 3])}\n",
      "(28, 28, 1000)\n",
      "(28, 28, 1000)\n",
      "(28, 28, 1000)\n",
      "(28, 28, 1000)\n",
      "(28, 28, 1000)\n"
     ]
    },
    {
     "name": "stderr",
     "output_type": "stream",
     "text": [
      "Configuring baklava HD basis of 5 layers:\n",
      "Layer No.0: \t 1000 dimension vector with kernel of size 3\n",
      "Layer No.1: \t 1000 dimension vector with kernel of size 9\n",
      "Layer No.2: \t 1000 dimension vector with kernel of size 6\n",
      "Layer No.3: \t 1000 dimension vector with kernel of size 6\n",
      "Layer No.4: \t 1000 dimension vector with kernel of size 3\n",
      "Encoding time: 0.18350434303283691 \n",
      "Dumping basis into file: base_7667.pkl \n"
     ]
    },
    {
     "name": "stdout",
     "output_type": "stream",
     "text": [
      "Assigned BID:  7667\n"
     ]
    },
    {
     "name": "stderr",
     "output_type": "stream",
     "text": [
      "Encoding data of shape (20000, 784)\n"
     ]
    },
    {
     "data": {
      "application/vnd.jupyter.widget-view+json": {
       "model_id": "d8f5ccc3679a4f5fa8dc30e3f83cf26a",
       "version_major": 2,
       "version_minor": 0
      },
      "text/plain": [
       "HBox(children=(IntProgress(value=0, description='samples encoded', max=20000, style=ProgressStyle(description_…"
      ]
     },
     "metadata": {},
     "output_type": "display_data"
    },
    {
     "name": "stdout",
     "output_type": "stream",
     "text": [
      "\n"
     ]
    },
    {
     "name": "stderr",
     "output_type": "stream",
     "text": [
      "Time spent: 29 sec\n",
      "Encoding data of shape (10000, 784)\n"
     ]
    },
    {
     "data": {
      "application/vnd.jupyter.widget-view+json": {
       "model_id": "7014c7b687424532b754765cff3b81fc",
       "version_major": 2,
       "version_minor": 0
      },
      "text/plain": [
       "HBox(children=(IntProgress(value=0, description='samples encoded', max=10000, style=ProgressStyle(description_…"
      ]
     },
     "metadata": {},
     "output_type": "display_data"
    },
    {
     "name": "stdout",
     "output_type": "stream",
     "text": [
      "\n"
     ]
    },
    {
     "name": "stderr",
     "output_type": "stream",
     "text": [
      "Time spent: 14 sec\n"
     ]
    },
    {
     "data": {
      "application/vnd.jupyter.widget-view+json": {
       "model_id": "a40ee21a7a194485973c4884140ada11",
       "version_major": 2,
       "version_minor": 0
      },
      "text/plain": [
       "HBox(children=(IntProgress(value=0, description='epochs', style=ProgressStyle(description_width='initial')), H…"
      ]
     },
     "metadata": {},
     "output_type": "display_data"
    },
    {
     "name": "stderr",
     "output_type": "stream",
     "text": [
      "Fitting with configuration: [('one_shot', 0), ('dropout', 0), ('lr', 0.037)] \n"
     ]
    },
    {
     "name": "stdout",
     "output_type": "stream",
     "text": [
      "Train: 0.995150 \t \t Test: 0.965800\n",
      "Train: 0.999200 \t \t Test: 0.969800\n",
      "Train: 0.999600 \t \t Test: 0.970300\n",
      "Train: 0.999850 \t \t Test: 0.970600\n",
      "Train: 1.000000 \t \t Test: 0.970600\n",
      "(28, 28, 1000)\n",
      "(28, 28, 1000)\n",
      "(28, 28, 1000)\n",
      "(28, 28, 1000)\n",
      "(28, 28, 1000)\n"
     ]
    },
    {
     "name": "stderr",
     "output_type": "stream",
     "text": [
      "Configuring baklava HD basis of 5 layers:\n",
      "Layer No.0: \t 1000 dimension vector with kernel of size 3\n",
      "Layer No.1: \t 1000 dimension vector with kernel of size 9\n",
      "Layer No.2: \t 1000 dimension vector with kernel of size 6\n",
      "Layer No.3: \t 1000 dimension vector with kernel of size 6\n",
      "Layer No.4: \t 1000 dimension vector with kernel of size 3\n",
      "Encoding time: 0.1844651699066162 \n"
     ]
    },
    {
     "name": "stdout",
     "output_type": "stream",
     "text": [
      "Assigned BID:  7740\n"
     ]
    },
    {
     "name": "stderr",
     "output_type": "stream",
     "text": [
      "Dumping basis into file: base_7740.pkl \n",
      "Encoding data of shape (20000, 784)\n"
     ]
    },
    {
     "data": {
      "application/vnd.jupyter.widget-view+json": {
       "model_id": "6a76d1b638034dc2ba44d14f173d5f96",
       "version_major": 2,
       "version_minor": 0
      },
      "text/plain": [
       "HBox(children=(IntProgress(value=0, description='samples encoded', max=20000, style=ProgressStyle(description_…"
      ]
     },
     "metadata": {},
     "output_type": "display_data"
    },
    {
     "name": "stdout",
     "output_type": "stream",
     "text": [
      "\n"
     ]
    },
    {
     "name": "stderr",
     "output_type": "stream",
     "text": [
      "Time spent: 29 sec\n",
      "Encoding data of shape (10000, 784)\n"
     ]
    },
    {
     "data": {
      "application/vnd.jupyter.widget-view+json": {
       "model_id": "652272caec304da3aff7ff40218cf091",
       "version_major": 2,
       "version_minor": 0
      },
      "text/plain": [
       "HBox(children=(IntProgress(value=0, description='samples encoded', max=10000, style=ProgressStyle(description_…"
      ]
     },
     "metadata": {},
     "output_type": "display_data"
    },
    {
     "name": "stdout",
     "output_type": "stream",
     "text": [
      "\n"
     ]
    },
    {
     "name": "stderr",
     "output_type": "stream",
     "text": [
      "Time spent: 15 sec\n"
     ]
    },
    {
     "data": {
      "application/vnd.jupyter.widget-view+json": {
       "model_id": "dfbd74d2d60e4d96bbd131d82dc71032",
       "version_major": 2,
       "version_minor": 0
      },
      "text/plain": [
       "HBox(children=(IntProgress(value=0, description='epochs', style=ProgressStyle(description_width='initial')), H…"
      ]
     },
     "metadata": {},
     "output_type": "display_data"
    },
    {
     "name": "stderr",
     "output_type": "stream",
     "text": [
      "Fitting with configuration: [('one_shot', 0), ('dropout', 0), ('lr', 0.037)] \n"
     ]
    },
    {
     "name": "stdout",
     "output_type": "stream",
     "text": [
      "Train: 0.995350 \t \t Test: 0.969300\n",
      "Train: 0.998300 \t \t Test: 0.970000\n",
      "Train: 0.999650 \t \t Test: 0.970400\n",
      "Train: 0.999800 \t \t Test: 0.970000\n",
      "Train: 1.000000 \t \t Test: 0.970000\n",
      "(28, 28, 1000)\n",
      "(28, 28, 1000)\n",
      "(28, 28, 1000)\n",
      "(28, 28, 1000)\n",
      "(28, 28, 1000)\n"
     ]
    },
    {
     "name": "stderr",
     "output_type": "stream",
     "text": [
      "Configuring baklava HD basis of 5 layers:\n",
      "Layer No.0: \t 1000 dimension vector with kernel of size 3\n",
      "Layer No.1: \t 1000 dimension vector with kernel of size 9\n",
      "Layer No.2: \t 1000 dimension vector with kernel of size 6\n",
      "Layer No.3: \t 1000 dimension vector with kernel of size 6\n",
      "Layer No.4: \t 1000 dimension vector with kernel of size 3\n",
      "Encoding time: 0.2044508457183838 \n",
      "Dumping basis into file: base_7814.pkl \n"
     ]
    },
    {
     "name": "stdout",
     "output_type": "stream",
     "text": [
      "Assigned BID:  7814\n"
     ]
    },
    {
     "name": "stderr",
     "output_type": "stream",
     "text": [
      "Encoding data of shape (20000, 784)\n"
     ]
    },
    {
     "data": {
      "application/vnd.jupyter.widget-view+json": {
       "model_id": "aebe6a95af3a4ed5b57d215f6e5bb6e0",
       "version_major": 2,
       "version_minor": 0
      },
      "text/plain": [
       "HBox(children=(IntProgress(value=0, description='samples encoded', max=20000, style=ProgressStyle(description_…"
      ]
     },
     "metadata": {},
     "output_type": "display_data"
    },
    {
     "name": "stdout",
     "output_type": "stream",
     "text": [
      "\n"
     ]
    },
    {
     "name": "stderr",
     "output_type": "stream",
     "text": [
      "Time spent: 33 sec\n",
      "Encoding data of shape (10000, 784)\n"
     ]
    },
    {
     "data": {
      "application/vnd.jupyter.widget-view+json": {
       "model_id": "207b426e43b5411eb5dcc424ffd28c78",
       "version_major": 2,
       "version_minor": 0
      },
      "text/plain": [
       "HBox(children=(IntProgress(value=0, description='samples encoded', max=10000, style=ProgressStyle(description_…"
      ]
     },
     "metadata": {},
     "output_type": "display_data"
    },
    {
     "name": "stdout",
     "output_type": "stream",
     "text": [
      "\n"
     ]
    },
    {
     "name": "stderr",
     "output_type": "stream",
     "text": [
      "Time spent: 15 sec\n"
     ]
    },
    {
     "data": {
      "application/vnd.jupyter.widget-view+json": {
       "model_id": "3b6a19615a8442968bf6fd0eecc73161",
       "version_major": 2,
       "version_minor": 0
      },
      "text/plain": [
       "HBox(children=(IntProgress(value=0, description='epochs', style=ProgressStyle(description_width='initial')), H…"
      ]
     },
     "metadata": {},
     "output_type": "display_data"
    },
    {
     "name": "stderr",
     "output_type": "stream",
     "text": [
      "Fitting with configuration: [('one_shot', 0), ('dropout', 0), ('lr', 0.037)] \n"
     ]
    },
    {
     "name": "stdout",
     "output_type": "stream",
     "text": [
      "Train: 0.994250 \t \t Test: 0.968900\n",
      "Train: 0.998750 \t \t Test: 0.970800\n",
      "Train: 0.999750 \t \t Test: 0.969800\n",
      "Train: 1.000000 \t \t Test: 0.970000\n",
      "{'D': 5000, 'nLayers': 4, 'uniform_dim': 1, 'uniform_ker': 0, 'dArr': [1000, 1000, 1000, 1000, 1000], 'k': array([8, 7, 3, 6, 7, 4, 1, 4, 3]), 'kArr': array([2, 3, 7, 2])}\n",
      "(28, 28, 1250)\n",
      "(28, 28, 1250)\n",
      "(28, 28, 1250)\n"
     ]
    },
    {
     "name": "stderr",
     "output_type": "stream",
     "text": [
      "Configuring baklava HD basis of 4 layers:\n",
      "Layer No.0: \t 1250 dimension vector with kernel of size 2\n",
      "Layer No.1: \t 1250 dimension vector with kernel of size 3\n",
      "Layer No.2: \t 1250 dimension vector with kernel of size 7\n",
      "Layer No.3: \t 1250 dimension vector with kernel of size 2\n"
     ]
    },
    {
     "name": "stdout",
     "output_type": "stream",
     "text": [
      "(28, 28, 1250)\n"
     ]
    },
    {
     "name": "stderr",
     "output_type": "stream",
     "text": [
      "Encoding time: 0.25830888748168945 \n",
      "Dumping basis into file: base_7887.pkl \n"
     ]
    },
    {
     "name": "stdout",
     "output_type": "stream",
     "text": [
      "Assigned BID:  7887\n"
     ]
    },
    {
     "name": "stderr",
     "output_type": "stream",
     "text": [
      "Encoding data of shape (20000, 784)\n"
     ]
    },
    {
     "data": {
      "application/vnd.jupyter.widget-view+json": {
       "model_id": "b850c1b119104b309232b82c6ef712a1",
       "version_major": 2,
       "version_minor": 0
      },
      "text/plain": [
       "HBox(children=(IntProgress(value=0, description='samples encoded', max=20000, style=ProgressStyle(description_…"
      ]
     },
     "metadata": {},
     "output_type": "display_data"
    },
    {
     "name": "stdout",
     "output_type": "stream",
     "text": [
      "\n"
     ]
    },
    {
     "name": "stderr",
     "output_type": "stream",
     "text": [
      "Time spent: 31 sec\n",
      "Encoding data of shape (10000, 784)\n"
     ]
    },
    {
     "data": {
      "application/vnd.jupyter.widget-view+json": {
       "model_id": "dd9810e49c9044df8b380247ca1dadb7",
       "version_major": 2,
       "version_minor": 0
      },
      "text/plain": [
       "HBox(children=(IntProgress(value=0, description='samples encoded', max=10000, style=ProgressStyle(description_…"
      ]
     },
     "metadata": {},
     "output_type": "display_data"
    },
    {
     "name": "stdout",
     "output_type": "stream",
     "text": [
      "\n"
     ]
    },
    {
     "name": "stderr",
     "output_type": "stream",
     "text": [
      "Time spent: 15 sec\n"
     ]
    },
    {
     "data": {
      "application/vnd.jupyter.widget-view+json": {
       "model_id": "d9332e2234fc4000bde3a651e7f7fd6c",
       "version_major": 2,
       "version_minor": 0
      },
      "text/plain": [
       "HBox(children=(IntProgress(value=0, description='epochs', style=ProgressStyle(description_width='initial')), H…"
      ]
     },
     "metadata": {},
     "output_type": "display_data"
    },
    {
     "name": "stderr",
     "output_type": "stream",
     "text": [
      "Fitting with configuration: [('one_shot', 0), ('dropout', 0), ('lr', 0.037)] \n"
     ]
    },
    {
     "name": "stdout",
     "output_type": "stream",
     "text": [
      "Train: 0.994450 \t \t Test: 0.969600\n",
      "Train: 0.998550 \t \t Test: 0.972000\n",
      "Train: 1.000000 \t \t Test: 0.972600\n",
      "(28, 28, 1250)\n",
      "(28, 28, 1250)\n",
      "(28, 28, 1250)\n"
     ]
    },
    {
     "name": "stderr",
     "output_type": "stream",
     "text": [
      "Configuring baklava HD basis of 4 layers:\n",
      "Layer No.0: \t 1250 dimension vector with kernel of size 2\n",
      "Layer No.1: \t 1250 dimension vector with kernel of size 3\n",
      "Layer No.2: \t 1250 dimension vector with kernel of size 7\n",
      "Layer No.3: \t 1250 dimension vector with kernel of size 2\n"
     ]
    },
    {
     "name": "stdout",
     "output_type": "stream",
     "text": [
      "(28, 28, 1250)\n"
     ]
    },
    {
     "name": "stderr",
     "output_type": "stream",
     "text": [
      "Encoding time: 0.2513279914855957 \n",
      "Dumping basis into file: base_7954.pkl \n"
     ]
    },
    {
     "name": "stdout",
     "output_type": "stream",
     "text": [
      "Assigned BID:  7954\n"
     ]
    },
    {
     "name": "stderr",
     "output_type": "stream",
     "text": [
      "Encoding data of shape (20000, 784)\n"
     ]
    },
    {
     "data": {
      "application/vnd.jupyter.widget-view+json": {
       "model_id": "47b269b8e52e46e5bf62bf7c261d1b5b",
       "version_major": 2,
       "version_minor": 0
      },
      "text/plain": [
       "HBox(children=(IntProgress(value=0, description='samples encoded', max=20000, style=ProgressStyle(description_…"
      ]
     },
     "metadata": {},
     "output_type": "display_data"
    },
    {
     "name": "stdout",
     "output_type": "stream",
     "text": [
      "\n"
     ]
    },
    {
     "name": "stderr",
     "output_type": "stream",
     "text": [
      "Time spent: 30 sec\n",
      "Encoding data of shape (10000, 784)\n"
     ]
    },
    {
     "data": {
      "application/vnd.jupyter.widget-view+json": {
       "model_id": "509d9ff6e94d4d688a499f31107325f8",
       "version_major": 2,
       "version_minor": 0
      },
      "text/plain": [
       "HBox(children=(IntProgress(value=0, description='samples encoded', max=10000, style=ProgressStyle(description_…"
      ]
     },
     "metadata": {},
     "output_type": "display_data"
    },
    {
     "name": "stdout",
     "output_type": "stream",
     "text": [
      "\n"
     ]
    },
    {
     "name": "stderr",
     "output_type": "stream",
     "text": [
      "Time spent: 16 sec\n"
     ]
    },
    {
     "data": {
      "application/vnd.jupyter.widget-view+json": {
       "model_id": "d45101107f6c4bc0927166868e44bef3",
       "version_major": 2,
       "version_minor": 0
      },
      "text/plain": [
       "HBox(children=(IntProgress(value=0, description='epochs', style=ProgressStyle(description_width='initial')), H…"
      ]
     },
     "metadata": {},
     "output_type": "display_data"
    },
    {
     "name": "stderr",
     "output_type": "stream",
     "text": [
      "Fitting with configuration: [('one_shot', 0), ('dropout', 0), ('lr', 0.037)] \n"
     ]
    },
    {
     "name": "stdout",
     "output_type": "stream",
     "text": [
      "Train: 0.995450 \t \t Test: 0.971800\n",
      "Train: 0.999500 \t \t Test: 0.972900\n",
      "Train: 0.998750 \t \t Test: 0.971200\n",
      "Train: 0.999950 \t \t Test: 0.971700\n",
      "Train: 1.000000 \t \t Test: 0.972500\n",
      "(28, 28, 1250)\n"
     ]
    },
    {
     "name": "stderr",
     "output_type": "stream",
     "text": [
      "Configuring baklava HD basis of 4 layers:\n",
      "Layer No.0: \t 1250 dimension vector with kernel of size 2\n",
      "Layer No.1: \t 1250 dimension vector with kernel of size 3\n",
      "Layer No.2: \t 1250 dimension vector with kernel of size 7\n",
      "Layer No.3: \t 1250 dimension vector with kernel of size 2\n"
     ]
    },
    {
     "name": "stdout",
     "output_type": "stream",
     "text": [
      "(28, 28, 1250)\n",
      "(28, 28, 1250)\n",
      "(28, 28, 1250)\n"
     ]
    },
    {
     "name": "stderr",
     "output_type": "stream",
     "text": [
      "Encoding time: 0.2463524341583252 \n",
      "Dumping basis into file: base_8031.pkl \n"
     ]
    },
    {
     "name": "stdout",
     "output_type": "stream",
     "text": [
      "Assigned BID:  8031\n"
     ]
    },
    {
     "name": "stderr",
     "output_type": "stream",
     "text": [
      "Encoding data of shape (20000, 784)\n"
     ]
    },
    {
     "data": {
      "application/vnd.jupyter.widget-view+json": {
       "model_id": "beb0c94e19734d30a8d4fbbb90e9f83e",
       "version_major": 2,
       "version_minor": 0
      },
      "text/plain": [
       "HBox(children=(IntProgress(value=0, description='samples encoded', max=20000, style=ProgressStyle(description_…"
      ]
     },
     "metadata": {},
     "output_type": "display_data"
    },
    {
     "name": "stdout",
     "output_type": "stream",
     "text": [
      "\n"
     ]
    },
    {
     "name": "stderr",
     "output_type": "stream",
     "text": [
      "Time spent: 30 sec\n",
      "Encoding data of shape (10000, 784)\n"
     ]
    },
    {
     "data": {
      "application/vnd.jupyter.widget-view+json": {
       "model_id": "cff3fc8d11a64a5baf6c1cd846553e43",
       "version_major": 2,
       "version_minor": 0
      },
      "text/plain": [
       "HBox(children=(IntProgress(value=0, description='samples encoded', max=10000, style=ProgressStyle(description_…"
      ]
     },
     "metadata": {},
     "output_type": "display_data"
    },
    {
     "name": "stdout",
     "output_type": "stream",
     "text": [
      "\n"
     ]
    },
    {
     "name": "stderr",
     "output_type": "stream",
     "text": [
      "Time spent: 16 sec\n"
     ]
    },
    {
     "data": {
      "application/vnd.jupyter.widget-view+json": {
       "model_id": "9a3487e86d094906be3248d942737009",
       "version_major": 2,
       "version_minor": 0
      },
      "text/plain": [
       "HBox(children=(IntProgress(value=0, description='epochs', style=ProgressStyle(description_width='initial')), H…"
      ]
     },
     "metadata": {},
     "output_type": "display_data"
    },
    {
     "name": "stderr",
     "output_type": "stream",
     "text": [
      "Fitting with configuration: [('one_shot', 0), ('dropout', 0), ('lr', 0.037)] \n"
     ]
    },
    {
     "name": "stdout",
     "output_type": "stream",
     "text": [
      "Train: 0.994650 \t \t Test: 0.965100\n",
      "Train: 0.998450 \t \t Test: 0.969300\n",
      "Train: 0.999700 \t \t Test: 0.971200\n",
      "Train: 1.000000 \t \t Test: 0.970600\n",
      "Train: 1.000000 \t \t Test: 0.970600\n"
     ]
    }
   ],
   "source": [
    "for i in range(20): \n",
    "    \n",
    "    nLayers, kArr = Bak_config_randomizer(3, 10, 1, 10)\n",
    "    param[\"nLayers\"] = nLayers\n",
    "    param[\"kArr\"] = kArr\n",
    "    param_to_save = extract_bak_param(param)\n",
    "    print(param_to_save)\n",
    "    \n",
    "    train_accs = []\n",
    "    test_accs = []\n",
    "    for i in range(param[\"iter_per_trial\"]):\n",
    "        train_acc, test_acc = Baklava_suit(param)\n",
    "        train_accs.append(max(train_acc))\n",
    "        test_accs.append(max(test_acc))\n",
    "    train_acc = np.mean(train_accs)\n",
    "    test_acc = np.mean(test_accs)\n",
    "    dump_log(param_to_save, train_acc, test_acc, \"ConvHD_\"+str(i))\n",
    "    "
   ]
  },
  {
   "cell_type": "code",
   "execution_count": 32,
   "metadata": {},
   "outputs": [
    {
     "name": "stdout",
     "output_type": "stream",
     "text": [
      "(3,)\n"
     ]
    }
   ],
   "source": [
    "print(np.array(train_accs).shape)"
   ]
  },
  {
   "cell_type": "code",
   "execution_count": null,
   "metadata": {},
   "outputs": [],
   "source": []
  },
  {
   "cell_type": "code",
   "execution_count": null,
   "metadata": {},
   "outputs": [],
   "source": []
  },
  {
   "cell_type": "code",
   "execution_count": null,
   "metadata": {},
   "outputs": [],
   "source": []
  },
  {
   "cell_type": "code",
   "execution_count": null,
   "metadata": {},
   "outputs": [],
   "source": [
    "np.set_printoptions(suppress=True)\n",
    "np.set_printoptions(threshold=sys.maxsize)\n",
    "hde_2 = HDB.HD_basis(HDB.Generator.Baklava, param)"
   ]
  }
 ],
 "metadata": {
  "kernelspec": {
   "display_name": "Python 3",
   "language": "python",
   "name": "python3"
  },
  "language_info": {
   "codemirror_mode": {
    "name": "ipython",
    "version": 3
   },
   "file_extension": ".py",
   "mimetype": "text/x-python",
   "name": "python",
   "nbconvert_exporter": "python",
   "pygments_lexer": "ipython3",
   "version": "3.7.4"
  }
 },
 "nbformat": 4,
 "nbformat_minor": 1
}
